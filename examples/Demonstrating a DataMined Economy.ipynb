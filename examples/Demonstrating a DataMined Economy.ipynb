{
 "cells": [
  {
   "cell_type": "markdown",
   "metadata": {},
   "source": [
    "## Demonstrating a DataMined Economy"
   ]
  },
  {
   "cell_type": "markdown",
   "metadata": {},
   "source": [
    "In this IPython notebook, we walk through construction of a DataMined economy. Recall the basic construction of DataMined: \"tokens\" are issued for addition of valid data to the network. Users who add data to the network are called \"miners.\" Miners are typically assumed to be consumers who'd like to contribute and safeguard their individual data, however they may be non-profits or businesses as well. Data contributed in to the network is stored on storage nodes within the network. For small datasets, miners can store data locally on their own machines.\n",
    "\n",
    "Note that since miners are rewarded for contributing data to the network via token issuance, there is a strong incentive to attack the network by contributing fake data. Consequently, network security is critically dependent on `Validator`s which can detect fraudulent data. Another interesting aspect of network design is that direct download of data off the network can't be permitted due to excessive risk of data leakage. As a result, computation must be performed on the network itself.\n",
    "\n",
    "The \"tokens\" used in this network are called `DataCoin`s. These tokens conform to the [ERC20](https://theethereum.wiki/w/index.php/ERC20_Token_Standard) for tokens issued on the Ethereum network. For those new to ethereum development, the token is a form of currency whose fidelity is guaranteed by Ethereum network miners (note the distinction; ethereum miners are *not* necessarily DataMined data miners). Customers who wish to perform computation on data in the network must pay both miners and compute nodes in tokens to request that computation be performed on interesting data.\n",
    "\n",
    "In this notebook, we introduce the core DataMined package `datamined` and demonstrate how to use `datamined` to construct an example data economy. Since this is an example economy, this code runs on a single local machine. In addition, tokens issued in this economy are run on a tiny, local instantiation of the Ethereum protocol. (The same code can be deployed onto larger Ethereum networks, but would take much longer to run to completion).\n",
    "\n",
    "Let's start by defining the number of participants in our economy."
   ]
  },
  {
   "cell_type": "code",
   "execution_count": 1,
   "metadata": {
    "collapsed": true
   },
   "outputs": [],
   "source": [
    "N_miners = 100\n",
    "N_compute_nodes = 10\n",
    "N_buyers = 5"
   ]
  },
  {
   "cell_type": "markdown",
   "metadata": {},
   "source": [
    "In this economy, we have `100` data miners who will contribute their data to the network. Each of these miners should be rewarded for their trouble with `DataCoin` tokens. In order for miner data to be accepted however, miners must pass the gauntlet of the validator. The submodule `datamined.valid` provides implementations of validators for different data-types.\n",
    "\n",
    "Let's see how miners join the network."
   ]
  },
  {
   "cell_type": "code",
   "execution_count": 2,
   "metadata": {},
   "outputs": [
    {
     "name": "stderr",
     "output_type": "stream",
     "text": [
      "/home/rbharath/anaconda3/envs/datamined/lib/python3.6/site-packages/populus/chain/tester.py:13: DeprecationWarning: currentProvider is deprecated in favor of `providers`, which is now a list\n",
      "  self.rpc_methods = self.web3.currentProvider.rpc_methods\n",
      "/home/rbharath/anaconda3/envs/datamined/lib/python3.6/site-packages/eth_utils/functional.py:21: DeprecationWarning: The `compose` function has been deprecated and will be removed in a subsequent release of `ethereum-utils`.  It is recommended that you switch to use a library like `cytoolz` which provides similar functionality through the `cytoolz.functoolz.compose` function.\n",
      "  \"The `compose` function has been deprecated and will be removed in a \"\n",
      "/home/rbharath/anaconda3/envs/datamined/lib/python3.6/site-packages/eth_utils/functional.py:21: DeprecationWarning: The `compose` function has been deprecated and will be removed in a subsequent release of `ethereum-utils`.  It is recommended that you switch to use a library like `cytoolz` which provides similar functionality through the `cytoolz.functoolz.compose` function.\n",
      "  \"The `compose` function has been deprecated and will be removed in a \"\n",
      "/home/rbharath/anaconda3/envs/datamined/lib/python3.6/site-packages/eth_utils/functional.py:21: DeprecationWarning: The `compose` function has been deprecated and will be removed in a subsequent release of `ethereum-utils`.  It is recommended that you switch to use a library like `cytoolz` which provides similar functionality through the `cytoolz.functoolz.compose` function.\n",
      "  \"The `compose` function has been deprecated and will be removed in a \"\n",
      "/home/rbharath/anaconda3/envs/datamined/lib/python3.6/site-packages/populus/project.py:235: DeprecationWarning: project.contracts_source_dir has been replaced by the plural, project.contracts_source_dirs which is an iterable of all source directories populus will search for contracts.  Please update your code accordingly as this API will be removed in a future release\n",
      "  \"project.contracts_source_dir has been replaced by the plural, \"\n",
      "/home/rbharath/anaconda3/envs/datamined/lib/python3.6/site-packages/populus/chain/tester.py:13: DeprecationWarning: currentProvider is deprecated in favor of `providers`, which is now a list\n",
      "  self.rpc_methods = self.web3.currentProvider.rpc_methods\n",
      "/home/rbharath/anaconda3/envs/datamined/lib/python3.6/site-packages/eth_utils/functional.py:21: DeprecationWarning: The `compose` function has been deprecated and will be removed in a subsequent release of `ethereum-utils`.  It is recommended that you switch to use a library like `cytoolz` which provides similar functionality through the `cytoolz.functoolz.compose` function.\n",
      "  \"The `compose` function has been deprecated and will be removed in a \"\n",
      "/home/rbharath/anaconda3/envs/datamined/lib/python3.6/site-packages/eth_utils/functional.py:21: DeprecationWarning: The `compose` function has been deprecated and will be removed in a subsequent release of `ethereum-utils`.  It is recommended that you switch to use a library like `cytoolz` which provides similar functionality through the `cytoolz.functoolz.compose` function.\n",
      "  \"The `compose` function has been deprecated and will be removed in a \"\n",
      "/home/rbharath/anaconda3/envs/datamined/lib/python3.6/site-packages/eth_utils/functional.py:21: DeprecationWarning: The `compose` function has been deprecated and will be removed in a subsequent release of `ethereum-utils`.  It is recommended that you switch to use a library like `cytoolz` which provides similar functionality through the `cytoolz.functoolz.compose` function.\n",
      "  \"The `compose` function has been deprecated and will be removed in a \"\n",
      "/home/rbharath/anaconda3/envs/datamined/lib/python3.6/site-packages/populus/project.py:235: DeprecationWarning: project.contracts_source_dir has been replaced by the plural, project.contracts_source_dirs which is an iterable of all source directories populus will search for contracts.  Please update your code accordingly as this API will be removed in a future release\n",
      "  \"project.contracts_source_dir has been replaced by the plural, \"\n",
      "/home/rbharath/anaconda3/envs/datamined/lib/python3.6/site-packages/populus/chain/tester.py:13: DeprecationWarning: currentProvider is deprecated in favor of `providers`, which is now a list\n",
      "  self.rpc_methods = self.web3.currentProvider.rpc_methods\n",
      "/home/rbharath/anaconda3/envs/datamined/lib/python3.6/site-packages/eth_utils/functional.py:21: DeprecationWarning: The `compose` function has been deprecated and will be removed in a subsequent release of `ethereum-utils`.  It is recommended that you switch to use a library like `cytoolz` which provides similar functionality through the `cytoolz.functoolz.compose` function.\n",
      "  \"The `compose` function has been deprecated and will be removed in a \"\n",
      "/home/rbharath/anaconda3/envs/datamined/lib/python3.6/site-packages/eth_utils/functional.py:21: DeprecationWarning: The `compose` function has been deprecated and will be removed in a subsequent release of `ethereum-utils`.  It is recommended that you switch to use a library like `cytoolz` which provides similar functionality through the `cytoolz.functoolz.compose` function.\n",
      "  \"The `compose` function has been deprecated and will be removed in a \"\n",
      "/home/rbharath/anaconda3/envs/datamined/lib/python3.6/site-packages/eth_utils/functional.py:21: DeprecationWarning: The `compose` function has been deprecated and will be removed in a subsequent release of `ethereum-utils`.  It is recommended that you switch to use a library like `cytoolz` which provides similar functionality through the `cytoolz.functoolz.compose` function.\n",
      "  \"The `compose` function has been deprecated and will be removed in a \"\n",
      "/home/rbharath/anaconda3/envs/datamined/lib/python3.6/site-packages/populus/project.py:235: DeprecationWarning: project.contracts_source_dir has been replaced by the plural, project.contracts_source_dirs which is an iterable of all source directories populus will search for contracts.  Please update your code accordingly as this API will be removed in a future release\n",
      "  \"project.contracts_source_dir has been replaced by the plural, \"\n",
      "/home/rbharath/anaconda3/envs/datamined/lib/python3.6/site-packages/populus/chain/tester.py:13: DeprecationWarning: currentProvider is deprecated in favor of `providers`, which is now a list\n",
      "  self.rpc_methods = self.web3.currentProvider.rpc_methods\n",
      "/home/rbharath/anaconda3/envs/datamined/lib/python3.6/site-packages/eth_utils/functional.py:21: DeprecationWarning: The `compose` function has been deprecated and will be removed in a subsequent release of `ethereum-utils`.  It is recommended that you switch to use a library like `cytoolz` which provides similar functionality through the `cytoolz.functoolz.compose` function.\n",
      "  \"The `compose` function has been deprecated and will be removed in a \"\n",
      "/home/rbharath/anaconda3/envs/datamined/lib/python3.6/site-packages/eth_utils/functional.py:21: DeprecationWarning: The `compose` function has been deprecated and will be removed in a subsequent release of `ethereum-utils`.  It is recommended that you switch to use a library like `cytoolz` which provides similar functionality through the `cytoolz.functoolz.compose` function.\n",
      "  \"The `compose` function has been deprecated and will be removed in a \"\n",
      "/home/rbharath/anaconda3/envs/datamined/lib/python3.6/site-packages/eth_utils/functional.py:21: DeprecationWarning: The `compose` function has been deprecated and will be removed in a subsequent release of `ethereum-utils`.  It is recommended that you switch to use a library like `cytoolz` which provides similar functionality through the `cytoolz.functoolz.compose` function.\n",
      "  \"The `compose` function has been deprecated and will be removed in a \"\n",
      "/home/rbharath/anaconda3/envs/datamined/lib/python3.6/site-packages/populus/project.py:235: DeprecationWarning: project.contracts_source_dir has been replaced by the plural, project.contracts_source_dirs which is an iterable of all source directories populus will search for contracts.  Please update your code accordingly as this API will be removed in a future release\n",
      "  \"project.contracts_source_dir has been replaced by the plural, \"\n",
      "/home/rbharath/anaconda3/envs/datamined/lib/python3.6/site-packages/populus/chain/tester.py:13: DeprecationWarning: currentProvider is deprecated in favor of `providers`, which is now a list\n",
      "  self.rpc_methods = self.web3.currentProvider.rpc_methods\n",
      "/home/rbharath/anaconda3/envs/datamined/lib/python3.6/site-packages/eth_utils/functional.py:21: DeprecationWarning: The `compose` function has been deprecated and will be removed in a subsequent release of `ethereum-utils`.  It is recommended that you switch to use a library like `cytoolz` which provides similar functionality through the `cytoolz.functoolz.compose` function.\n",
      "  \"The `compose` function has been deprecated and will be removed in a \"\n",
      "/home/rbharath/anaconda3/envs/datamined/lib/python3.6/site-packages/eth_utils/functional.py:21: DeprecationWarning: The `compose` function has been deprecated and will be removed in a subsequent release of `ethereum-utils`.  It is recommended that you switch to use a library like `cytoolz` which provides similar functionality through the `cytoolz.functoolz.compose` function.\n",
      "  \"The `compose` function has been deprecated and will be removed in a \"\n"
     ]
    },
    {
     "name": "stderr",
     "output_type": "stream",
     "text": [
      "/home/rbharath/anaconda3/envs/datamined/lib/python3.6/site-packages/eth_utils/functional.py:21: DeprecationWarning: The `compose` function has been deprecated and will be removed in a subsequent release of `ethereum-utils`.  It is recommended that you switch to use a library like `cytoolz` which provides similar functionality through the `cytoolz.functoolz.compose` function.\n",
      "  \"The `compose` function has been deprecated and will be removed in a \"\n",
      "/home/rbharath/anaconda3/envs/datamined/lib/python3.6/site-packages/populus/project.py:235: DeprecationWarning: project.contracts_source_dir has been replaced by the plural, project.contracts_source_dirs which is an iterable of all source directories populus will search for contracts.  Please update your code accordingly as this API will be removed in a future release\n",
      "  \"project.contracts_source_dir has been replaced by the plural, \"\n",
      "/home/rbharath/anaconda3/envs/datamined/lib/python3.6/site-packages/populus/chain/tester.py:13: DeprecationWarning: currentProvider is deprecated in favor of `providers`, which is now a list\n",
      "  self.rpc_methods = self.web3.currentProvider.rpc_methods\n",
      "/home/rbharath/anaconda3/envs/datamined/lib/python3.6/site-packages/eth_utils/functional.py:21: DeprecationWarning: The `compose` function has been deprecated and will be removed in a subsequent release of `ethereum-utils`.  It is recommended that you switch to use a library like `cytoolz` which provides similar functionality through the `cytoolz.functoolz.compose` function.\n",
      "  \"The `compose` function has been deprecated and will be removed in a \"\n",
      "/home/rbharath/anaconda3/envs/datamined/lib/python3.6/site-packages/eth_utils/functional.py:21: DeprecationWarning: The `compose` function has been deprecated and will be removed in a subsequent release of `ethereum-utils`.  It is recommended that you switch to use a library like `cytoolz` which provides similar functionality through the `cytoolz.functoolz.compose` function.\n",
      "  \"The `compose` function has been deprecated and will be removed in a \"\n",
      "/home/rbharath/anaconda3/envs/datamined/lib/python3.6/site-packages/eth_utils/functional.py:21: DeprecationWarning: The `compose` function has been deprecated and will be removed in a subsequent release of `ethereum-utils`.  It is recommended that you switch to use a library like `cytoolz` which provides similar functionality through the `cytoolz.functoolz.compose` function.\n",
      "  \"The `compose` function has been deprecated and will be removed in a \"\n",
      "/home/rbharath/anaconda3/envs/datamined/lib/python3.6/site-packages/populus/project.py:235: DeprecationWarning: project.contracts_source_dir has been replaced by the plural, project.contracts_source_dirs which is an iterable of all source directories populus will search for contracts.  Please update your code accordingly as this API will be removed in a future release\n",
      "  \"project.contracts_source_dir has been replaced by the plural, \"\n",
      "/home/rbharath/anaconda3/envs/datamined/lib/python3.6/site-packages/populus/chain/tester.py:13: DeprecationWarning: currentProvider is deprecated in favor of `providers`, which is now a list\n",
      "  self.rpc_methods = self.web3.currentProvider.rpc_methods\n",
      "/home/rbharath/anaconda3/envs/datamined/lib/python3.6/site-packages/eth_utils/functional.py:21: DeprecationWarning: The `compose` function has been deprecated and will be removed in a subsequent release of `ethereum-utils`.  It is recommended that you switch to use a library like `cytoolz` which provides similar functionality through the `cytoolz.functoolz.compose` function.\n",
      "  \"The `compose` function has been deprecated and will be removed in a \"\n",
      "/home/rbharath/anaconda3/envs/datamined/lib/python3.6/site-packages/eth_utils/functional.py:21: DeprecationWarning: The `compose` function has been deprecated and will be removed in a subsequent release of `ethereum-utils`.  It is recommended that you switch to use a library like `cytoolz` which provides similar functionality through the `cytoolz.functoolz.compose` function.\n",
      "  \"The `compose` function has been deprecated and will be removed in a \"\n",
      "/home/rbharath/anaconda3/envs/datamined/lib/python3.6/site-packages/eth_utils/functional.py:21: DeprecationWarning: The `compose` function has been deprecated and will be removed in a subsequent release of `ethereum-utils`.  It is recommended that you switch to use a library like `cytoolz` which provides similar functionality through the `cytoolz.functoolz.compose` function.\n",
      "  \"The `compose` function has been deprecated and will be removed in a \"\n",
      "/home/rbharath/anaconda3/envs/datamined/lib/python3.6/site-packages/populus/project.py:235: DeprecationWarning: project.contracts_source_dir has been replaced by the plural, project.contracts_source_dirs which is an iterable of all source directories populus will search for contracts.  Please update your code accordingly as this API will be removed in a future release\n",
      "  \"project.contracts_source_dir has been replaced by the plural, \"\n",
      "/home/rbharath/anaconda3/envs/datamined/lib/python3.6/site-packages/populus/chain/tester.py:13: DeprecationWarning: currentProvider is deprecated in favor of `providers`, which is now a list\n",
      "  self.rpc_methods = self.web3.currentProvider.rpc_methods\n",
      "/home/rbharath/anaconda3/envs/datamined/lib/python3.6/site-packages/eth_utils/functional.py:21: DeprecationWarning: The `compose` function has been deprecated and will be removed in a subsequent release of `ethereum-utils`.  It is recommended that you switch to use a library like `cytoolz` which provides similar functionality through the `cytoolz.functoolz.compose` function.\n",
      "  \"The `compose` function has been deprecated and will be removed in a \"\n",
      "/home/rbharath/anaconda3/envs/datamined/lib/python3.6/site-packages/eth_utils/functional.py:21: DeprecationWarning: The `compose` function has been deprecated and will be removed in a subsequent release of `ethereum-utils`.  It is recommended that you switch to use a library like `cytoolz` which provides similar functionality through the `cytoolz.functoolz.compose` function.\n",
      "  \"The `compose` function has been deprecated and will be removed in a \"\n",
      "/home/rbharath/anaconda3/envs/datamined/lib/python3.6/site-packages/eth_utils/functional.py:21: DeprecationWarning: The `compose` function has been deprecated and will be removed in a subsequent release of `ethereum-utils`.  It is recommended that you switch to use a library like `cytoolz` which provides similar functionality through the `cytoolz.functoolz.compose` function.\n",
      "  \"The `compose` function has been deprecated and will be removed in a \"\n",
      "/home/rbharath/anaconda3/envs/datamined/lib/python3.6/site-packages/populus/project.py:235: DeprecationWarning: project.contracts_source_dir has been replaced by the plural, project.contracts_source_dirs which is an iterable of all source directories populus will search for contracts.  Please update your code accordingly as this API will be removed in a future release\n",
      "  \"project.contracts_source_dir has been replaced by the plural, \"\n",
      "/home/rbharath/anaconda3/envs/datamined/lib/python3.6/site-packages/populus/chain/tester.py:13: DeprecationWarning: currentProvider is deprecated in favor of `providers`, which is now a list\n",
      "  self.rpc_methods = self.web3.currentProvider.rpc_methods\n",
      "/home/rbharath/anaconda3/envs/datamined/lib/python3.6/site-packages/eth_utils/functional.py:21: DeprecationWarning: The `compose` function has been deprecated and will be removed in a subsequent release of `ethereum-utils`.  It is recommended that you switch to use a library like `cytoolz` which provides similar functionality through the `cytoolz.functoolz.compose` function.\n",
      "  \"The `compose` function has been deprecated and will be removed in a \"\n",
      "/home/rbharath/anaconda3/envs/datamined/lib/python3.6/site-packages/eth_utils/functional.py:21: DeprecationWarning: The `compose` function has been deprecated and will be removed in a subsequent release of `ethereum-utils`.  It is recommended that you switch to use a library like `cytoolz` which provides similar functionality through the `cytoolz.functoolz.compose` function.\n",
      "  \"The `compose` function has been deprecated and will be removed in a \"\n",
      "/home/rbharath/anaconda3/envs/datamined/lib/python3.6/site-packages/eth_utils/functional.py:21: DeprecationWarning: The `compose` function has been deprecated and will be removed in a subsequent release of `ethereum-utils`.  It is recommended that you switch to use a library like `cytoolz` which provides similar functionality through the `cytoolz.functoolz.compose` function.\n",
      "  \"The `compose` function has been deprecated and will be removed in a \"\n",
      "/home/rbharath/anaconda3/envs/datamined/lib/python3.6/site-packages/populus/project.py:235: DeprecationWarning: project.contracts_source_dir has been replaced by the plural, project.contracts_source_dirs which is an iterable of all source directories populus will search for contracts.  Please update your code accordingly as this API will be removed in a future release\n",
      "  \"project.contracts_source_dir has been replaced by the plural, \"\n",
      "/home/rbharath/anaconda3/envs/datamined/lib/python3.6/site-packages/populus/chain/tester.py:13: DeprecationWarning: currentProvider is deprecated in favor of `providers`, which is now a list\n",
      "  self.rpc_methods = self.web3.currentProvider.rpc_methods\n",
      "/home/rbharath/anaconda3/envs/datamined/lib/python3.6/site-packages/eth_utils/functional.py:21: DeprecationWarning: The `compose` function has been deprecated and will be removed in a subsequent release of `ethereum-utils`.  It is recommended that you switch to use a library like `cytoolz` which provides similar functionality through the `cytoolz.functoolz.compose` function.\n",
      "  \"The `compose` function has been deprecated and will be removed in a \"\n",
      "/home/rbharath/anaconda3/envs/datamined/lib/python3.6/site-packages/eth_utils/functional.py:21: DeprecationWarning: The `compose` function has been deprecated and will be removed in a subsequent release of `ethereum-utils`.  It is recommended that you switch to use a library like `cytoolz` which provides similar functionality through the `cytoolz.functoolz.compose` function.\n",
      "  \"The `compose` function has been deprecated and will be removed in a \"\n"
     ]
    },
    {
     "name": "stderr",
     "output_type": "stream",
     "text": [
      "/home/rbharath/anaconda3/envs/datamined/lib/python3.6/site-packages/eth_utils/functional.py:21: DeprecationWarning: The `compose` function has been deprecated and will be removed in a subsequent release of `ethereum-utils`.  It is recommended that you switch to use a library like `cytoolz` which provides similar functionality through the `cytoolz.functoolz.compose` function.\n",
      "  \"The `compose` function has been deprecated and will be removed in a \"\n",
      "/home/rbharath/anaconda3/envs/datamined/lib/python3.6/site-packages/populus/project.py:235: DeprecationWarning: project.contracts_source_dir has been replaced by the plural, project.contracts_source_dirs which is an iterable of all source directories populus will search for contracts.  Please update your code accordingly as this API will be removed in a future release\n",
      "  \"project.contracts_source_dir has been replaced by the plural, \"\n",
      "/home/rbharath/anaconda3/envs/datamined/lib/python3.6/site-packages/populus/chain/tester.py:13: DeprecationWarning: currentProvider is deprecated in favor of `providers`, which is now a list\n",
      "  self.rpc_methods = self.web3.currentProvider.rpc_methods\n",
      "/home/rbharath/anaconda3/envs/datamined/lib/python3.6/site-packages/eth_utils/functional.py:21: DeprecationWarning: The `compose` function has been deprecated and will be removed in a subsequent release of `ethereum-utils`.  It is recommended that you switch to use a library like `cytoolz` which provides similar functionality through the `cytoolz.functoolz.compose` function.\n",
      "  \"The `compose` function has been deprecated and will be removed in a \"\n",
      "/home/rbharath/anaconda3/envs/datamined/lib/python3.6/site-packages/eth_utils/functional.py:21: DeprecationWarning: The `compose` function has been deprecated and will be removed in a subsequent release of `ethereum-utils`.  It is recommended that you switch to use a library like `cytoolz` which provides similar functionality through the `cytoolz.functoolz.compose` function.\n",
      "  \"The `compose` function has been deprecated and will be removed in a \"\n",
      "/home/rbharath/anaconda3/envs/datamined/lib/python3.6/site-packages/eth_utils/functional.py:21: DeprecationWarning: The `compose` function has been deprecated and will be removed in a subsequent release of `ethereum-utils`.  It is recommended that you switch to use a library like `cytoolz` which provides similar functionality through the `cytoolz.functoolz.compose` function.\n",
      "  \"The `compose` function has been deprecated and will be removed in a \"\n",
      "/home/rbharath/anaconda3/envs/datamined/lib/python3.6/site-packages/populus/project.py:235: DeprecationWarning: project.contracts_source_dir has been replaced by the plural, project.contracts_source_dirs which is an iterable of all source directories populus will search for contracts.  Please update your code accordingly as this API will be removed in a future release\n",
      "  \"project.contracts_source_dir has been replaced by the plural, \"\n",
      "/home/rbharath/anaconda3/envs/datamined/lib/python3.6/site-packages/populus/chain/tester.py:13: DeprecationWarning: currentProvider is deprecated in favor of `providers`, which is now a list\n",
      "  self.rpc_methods = self.web3.currentProvider.rpc_methods\n",
      "/home/rbharath/anaconda3/envs/datamined/lib/python3.6/site-packages/eth_utils/functional.py:21: DeprecationWarning: The `compose` function has been deprecated and will be removed in a subsequent release of `ethereum-utils`.  It is recommended that you switch to use a library like `cytoolz` which provides similar functionality through the `cytoolz.functoolz.compose` function.\n",
      "  \"The `compose` function has been deprecated and will be removed in a \"\n",
      "/home/rbharath/anaconda3/envs/datamined/lib/python3.6/site-packages/eth_utils/functional.py:21: DeprecationWarning: The `compose` function has been deprecated and will be removed in a subsequent release of `ethereum-utils`.  It is recommended that you switch to use a library like `cytoolz` which provides similar functionality through the `cytoolz.functoolz.compose` function.\n",
      "  \"The `compose` function has been deprecated and will be removed in a \"\n",
      "/home/rbharath/anaconda3/envs/datamined/lib/python3.6/site-packages/eth_utils/functional.py:21: DeprecationWarning: The `compose` function has been deprecated and will be removed in a subsequent release of `ethereum-utils`.  It is recommended that you switch to use a library like `cytoolz` which provides similar functionality through the `cytoolz.functoolz.compose` function.\n",
      "  \"The `compose` function has been deprecated and will be removed in a \"\n",
      "/home/rbharath/anaconda3/envs/datamined/lib/python3.6/site-packages/populus/project.py:235: DeprecationWarning: project.contracts_source_dir has been replaced by the plural, project.contracts_source_dirs which is an iterable of all source directories populus will search for contracts.  Please update your code accordingly as this API will be removed in a future release\n",
      "  \"project.contracts_source_dir has been replaced by the plural, \"\n",
      "/home/rbharath/anaconda3/envs/datamined/lib/python3.6/site-packages/populus/chain/tester.py:13: DeprecationWarning: currentProvider is deprecated in favor of `providers`, which is now a list\n",
      "  self.rpc_methods = self.web3.currentProvider.rpc_methods\n",
      "/home/rbharath/anaconda3/envs/datamined/lib/python3.6/site-packages/eth_utils/functional.py:21: DeprecationWarning: The `compose` function has been deprecated and will be removed in a subsequent release of `ethereum-utils`.  It is recommended that you switch to use a library like `cytoolz` which provides similar functionality through the `cytoolz.functoolz.compose` function.\n",
      "  \"The `compose` function has been deprecated and will be removed in a \"\n",
      "/home/rbharath/anaconda3/envs/datamined/lib/python3.6/site-packages/eth_utils/functional.py:21: DeprecationWarning: The `compose` function has been deprecated and will be removed in a subsequent release of `ethereum-utils`.  It is recommended that you switch to use a library like `cytoolz` which provides similar functionality through the `cytoolz.functoolz.compose` function.\n",
      "  \"The `compose` function has been deprecated and will be removed in a \"\n",
      "/home/rbharath/anaconda3/envs/datamined/lib/python3.6/site-packages/eth_utils/functional.py:21: DeprecationWarning: The `compose` function has been deprecated and will be removed in a subsequent release of `ethereum-utils`.  It is recommended that you switch to use a library like `cytoolz` which provides similar functionality through the `cytoolz.functoolz.compose` function.\n",
      "  \"The `compose` function has been deprecated and will be removed in a \"\n",
      "/home/rbharath/anaconda3/envs/datamined/lib/python3.6/site-packages/populus/project.py:235: DeprecationWarning: project.contracts_source_dir has been replaced by the plural, project.contracts_source_dirs which is an iterable of all source directories populus will search for contracts.  Please update your code accordingly as this API will be removed in a future release\n",
      "  \"project.contracts_source_dir has been replaced by the plural, \"\n",
      "/home/rbharath/anaconda3/envs/datamined/lib/python3.6/site-packages/populus/chain/tester.py:13: DeprecationWarning: currentProvider is deprecated in favor of `providers`, which is now a list\n",
      "  self.rpc_methods = self.web3.currentProvider.rpc_methods\n",
      "/home/rbharath/anaconda3/envs/datamined/lib/python3.6/site-packages/eth_utils/functional.py:21: DeprecationWarning: The `compose` function has been deprecated and will be removed in a subsequent release of `ethereum-utils`.  It is recommended that you switch to use a library like `cytoolz` which provides similar functionality through the `cytoolz.functoolz.compose` function.\n",
      "  \"The `compose` function has been deprecated and will be removed in a \"\n",
      "/home/rbharath/anaconda3/envs/datamined/lib/python3.6/site-packages/eth_utils/functional.py:21: DeprecationWarning: The `compose` function has been deprecated and will be removed in a subsequent release of `ethereum-utils`.  It is recommended that you switch to use a library like `cytoolz` which provides similar functionality through the `cytoolz.functoolz.compose` function.\n",
      "  \"The `compose` function has been deprecated and will be removed in a \"\n",
      "/home/rbharath/anaconda3/envs/datamined/lib/python3.6/site-packages/eth_utils/functional.py:21: DeprecationWarning: The `compose` function has been deprecated and will be removed in a subsequent release of `ethereum-utils`.  It is recommended that you switch to use a library like `cytoolz` which provides similar functionality through the `cytoolz.functoolz.compose` function.\n",
      "  \"The `compose` function has been deprecated and will be removed in a \"\n",
      "/home/rbharath/anaconda3/envs/datamined/lib/python3.6/site-packages/populus/project.py:235: DeprecationWarning: project.contracts_source_dir has been replaced by the plural, project.contracts_source_dirs which is an iterable of all source directories populus will search for contracts.  Please update your code accordingly as this API will be removed in a future release\n",
      "  \"project.contracts_source_dir has been replaced by the plural, \"\n",
      "/home/rbharath/anaconda3/envs/datamined/lib/python3.6/site-packages/populus/chain/tester.py:13: DeprecationWarning: currentProvider is deprecated in favor of `providers`, which is now a list\n",
      "  self.rpc_methods = self.web3.currentProvider.rpc_methods\n",
      "/home/rbharath/anaconda3/envs/datamined/lib/python3.6/site-packages/eth_utils/functional.py:21: DeprecationWarning: The `compose` function has been deprecated and will be removed in a subsequent release of `ethereum-utils`.  It is recommended that you switch to use a library like `cytoolz` which provides similar functionality through the `cytoolz.functoolz.compose` function.\n",
      "  \"The `compose` function has been deprecated and will be removed in a \"\n",
      "/home/rbharath/anaconda3/envs/datamined/lib/python3.6/site-packages/eth_utils/functional.py:21: DeprecationWarning: The `compose` function has been deprecated and will be removed in a subsequent release of `ethereum-utils`.  It is recommended that you switch to use a library like `cytoolz` which provides similar functionality through the `cytoolz.functoolz.compose` function.\n",
      "  \"The `compose` function has been deprecated and will be removed in a \"\n"
     ]
    },
    {
     "name": "stderr",
     "output_type": "stream",
     "text": [
      "/home/rbharath/anaconda3/envs/datamined/lib/python3.6/site-packages/eth_utils/functional.py:21: DeprecationWarning: The `compose` function has been deprecated and will be removed in a subsequent release of `ethereum-utils`.  It is recommended that you switch to use a library like `cytoolz` which provides similar functionality through the `cytoolz.functoolz.compose` function.\n",
      "  \"The `compose` function has been deprecated and will be removed in a \"\n",
      "/home/rbharath/anaconda3/envs/datamined/lib/python3.6/site-packages/populus/project.py:235: DeprecationWarning: project.contracts_source_dir has been replaced by the plural, project.contracts_source_dirs which is an iterable of all source directories populus will search for contracts.  Please update your code accordingly as this API will be removed in a future release\n",
      "  \"project.contracts_source_dir has been replaced by the plural, \"\n",
      "/home/rbharath/anaconda3/envs/datamined/lib/python3.6/site-packages/populus/chain/tester.py:13: DeprecationWarning: currentProvider is deprecated in favor of `providers`, which is now a list\n",
      "  self.rpc_methods = self.web3.currentProvider.rpc_methods\n",
      "/home/rbharath/anaconda3/envs/datamined/lib/python3.6/site-packages/eth_utils/functional.py:21: DeprecationWarning: The `compose` function has been deprecated and will be removed in a subsequent release of `ethereum-utils`.  It is recommended that you switch to use a library like `cytoolz` which provides similar functionality through the `cytoolz.functoolz.compose` function.\n",
      "  \"The `compose` function has been deprecated and will be removed in a \"\n",
      "/home/rbharath/anaconda3/envs/datamined/lib/python3.6/site-packages/eth_utils/functional.py:21: DeprecationWarning: The `compose` function has been deprecated and will be removed in a subsequent release of `ethereum-utils`.  It is recommended that you switch to use a library like `cytoolz` which provides similar functionality through the `cytoolz.functoolz.compose` function.\n",
      "  \"The `compose` function has been deprecated and will be removed in a \"\n",
      "/home/rbharath/anaconda3/envs/datamined/lib/python3.6/site-packages/eth_utils/functional.py:21: DeprecationWarning: The `compose` function has been deprecated and will be removed in a subsequent release of `ethereum-utils`.  It is recommended that you switch to use a library like `cytoolz` which provides similar functionality through the `cytoolz.functoolz.compose` function.\n",
      "  \"The `compose` function has been deprecated and will be removed in a \"\n",
      "/home/rbharath/anaconda3/envs/datamined/lib/python3.6/site-packages/populus/project.py:235: DeprecationWarning: project.contracts_source_dir has been replaced by the plural, project.contracts_source_dirs which is an iterable of all source directories populus will search for contracts.  Please update your code accordingly as this API will be removed in a future release\n",
      "  \"project.contracts_source_dir has been replaced by the plural, \"\n",
      "/home/rbharath/anaconda3/envs/datamined/lib/python3.6/site-packages/populus/chain/tester.py:13: DeprecationWarning: currentProvider is deprecated in favor of `providers`, which is now a list\n",
      "  self.rpc_methods = self.web3.currentProvider.rpc_methods\n",
      "/home/rbharath/anaconda3/envs/datamined/lib/python3.6/site-packages/eth_utils/functional.py:21: DeprecationWarning: The `compose` function has been deprecated and will be removed in a subsequent release of `ethereum-utils`.  It is recommended that you switch to use a library like `cytoolz` which provides similar functionality through the `cytoolz.functoolz.compose` function.\n",
      "  \"The `compose` function has been deprecated and will be removed in a \"\n",
      "/home/rbharath/anaconda3/envs/datamined/lib/python3.6/site-packages/eth_utils/functional.py:21: DeprecationWarning: The `compose` function has been deprecated and will be removed in a subsequent release of `ethereum-utils`.  It is recommended that you switch to use a library like `cytoolz` which provides similar functionality through the `cytoolz.functoolz.compose` function.\n",
      "  \"The `compose` function has been deprecated and will be removed in a \"\n",
      "/home/rbharath/anaconda3/envs/datamined/lib/python3.6/site-packages/eth_utils/functional.py:21: DeprecationWarning: The `compose` function has been deprecated and will be removed in a subsequent release of `ethereum-utils`.  It is recommended that you switch to use a library like `cytoolz` which provides similar functionality through the `cytoolz.functoolz.compose` function.\n",
      "  \"The `compose` function has been deprecated and will be removed in a \"\n",
      "/home/rbharath/anaconda3/envs/datamined/lib/python3.6/site-packages/populus/project.py:235: DeprecationWarning: project.contracts_source_dir has been replaced by the plural, project.contracts_source_dirs which is an iterable of all source directories populus will search for contracts.  Please update your code accordingly as this API will be removed in a future release\n",
      "  \"project.contracts_source_dir has been replaced by the plural, \"\n",
      "/home/rbharath/anaconda3/envs/datamined/lib/python3.6/site-packages/populus/chain/tester.py:13: DeprecationWarning: currentProvider is deprecated in favor of `providers`, which is now a list\n",
      "  self.rpc_methods = self.web3.currentProvider.rpc_methods\n",
      "/home/rbharath/anaconda3/envs/datamined/lib/python3.6/site-packages/eth_utils/functional.py:21: DeprecationWarning: The `compose` function has been deprecated and will be removed in a subsequent release of `ethereum-utils`.  It is recommended that you switch to use a library like `cytoolz` which provides similar functionality through the `cytoolz.functoolz.compose` function.\n",
      "  \"The `compose` function has been deprecated and will be removed in a \"\n",
      "/home/rbharath/anaconda3/envs/datamined/lib/python3.6/site-packages/eth_utils/functional.py:21: DeprecationWarning: The `compose` function has been deprecated and will be removed in a subsequent release of `ethereum-utils`.  It is recommended that you switch to use a library like `cytoolz` which provides similar functionality through the `cytoolz.functoolz.compose` function.\n",
      "  \"The `compose` function has been deprecated and will be removed in a \"\n",
      "/home/rbharath/anaconda3/envs/datamined/lib/python3.6/site-packages/eth_utils/functional.py:21: DeprecationWarning: The `compose` function has been deprecated and will be removed in a subsequent release of `ethereum-utils`.  It is recommended that you switch to use a library like `cytoolz` which provides similar functionality through the `cytoolz.functoolz.compose` function.\n",
      "  \"The `compose` function has been deprecated and will be removed in a \"\n",
      "/home/rbharath/anaconda3/envs/datamined/lib/python3.6/site-packages/populus/project.py:235: DeprecationWarning: project.contracts_source_dir has been replaced by the plural, project.contracts_source_dirs which is an iterable of all source directories populus will search for contracts.  Please update your code accordingly as this API will be removed in a future release\n",
      "  \"project.contracts_source_dir has been replaced by the plural, \"\n",
      "/home/rbharath/anaconda3/envs/datamined/lib/python3.6/site-packages/populus/chain/tester.py:13: DeprecationWarning: currentProvider is deprecated in favor of `providers`, which is now a list\n",
      "  self.rpc_methods = self.web3.currentProvider.rpc_methods\n",
      "/home/rbharath/anaconda3/envs/datamined/lib/python3.6/site-packages/eth_utils/functional.py:21: DeprecationWarning: The `compose` function has been deprecated and will be removed in a subsequent release of `ethereum-utils`.  It is recommended that you switch to use a library like `cytoolz` which provides similar functionality through the `cytoolz.functoolz.compose` function.\n",
      "  \"The `compose` function has been deprecated and will be removed in a \"\n",
      "/home/rbharath/anaconda3/envs/datamined/lib/python3.6/site-packages/eth_utils/functional.py:21: DeprecationWarning: The `compose` function has been deprecated and will be removed in a subsequent release of `ethereum-utils`.  It is recommended that you switch to use a library like `cytoolz` which provides similar functionality through the `cytoolz.functoolz.compose` function.\n",
      "  \"The `compose` function has been deprecated and will be removed in a \"\n",
      "/home/rbharath/anaconda3/envs/datamined/lib/python3.6/site-packages/eth_utils/functional.py:21: DeprecationWarning: The `compose` function has been deprecated and will be removed in a subsequent release of `ethereum-utils`.  It is recommended that you switch to use a library like `cytoolz` which provides similar functionality through the `cytoolz.functoolz.compose` function.\n",
      "  \"The `compose` function has been deprecated and will be removed in a \"\n",
      "/home/rbharath/anaconda3/envs/datamined/lib/python3.6/site-packages/populus/project.py:235: DeprecationWarning: project.contracts_source_dir has been replaced by the plural, project.contracts_source_dirs which is an iterable of all source directories populus will search for contracts.  Please update your code accordingly as this API will be removed in a future release\n",
      "  \"project.contracts_source_dir has been replaced by the plural, \"\n",
      "/home/rbharath/anaconda3/envs/datamined/lib/python3.6/site-packages/populus/chain/tester.py:13: DeprecationWarning: currentProvider is deprecated in favor of `providers`, which is now a list\n",
      "  self.rpc_methods = self.web3.currentProvider.rpc_methods\n",
      "/home/rbharath/anaconda3/envs/datamined/lib/python3.6/site-packages/eth_utils/functional.py:21: DeprecationWarning: The `compose` function has been deprecated and will be removed in a subsequent release of `ethereum-utils`.  It is recommended that you switch to use a library like `cytoolz` which provides similar functionality through the `cytoolz.functoolz.compose` function.\n",
      "  \"The `compose` function has been deprecated and will be removed in a \"\n",
      "/home/rbharath/anaconda3/envs/datamined/lib/python3.6/site-packages/eth_utils/functional.py:21: DeprecationWarning: The `compose` function has been deprecated and will be removed in a subsequent release of `ethereum-utils`.  It is recommended that you switch to use a library like `cytoolz` which provides similar functionality through the `cytoolz.functoolz.compose` function.\n",
      "  \"The `compose` function has been deprecated and will be removed in a \"\n"
     ]
    },
    {
     "name": "stderr",
     "output_type": "stream",
     "text": [
      "/home/rbharath/anaconda3/envs/datamined/lib/python3.6/site-packages/eth_utils/functional.py:21: DeprecationWarning: The `compose` function has been deprecated and will be removed in a subsequent release of `ethereum-utils`.  It is recommended that you switch to use a library like `cytoolz` which provides similar functionality through the `cytoolz.functoolz.compose` function.\n",
      "  \"The `compose` function has been deprecated and will be removed in a \"\n",
      "/home/rbharath/anaconda3/envs/datamined/lib/python3.6/site-packages/populus/project.py:235: DeprecationWarning: project.contracts_source_dir has been replaced by the plural, project.contracts_source_dirs which is an iterable of all source directories populus will search for contracts.  Please update your code accordingly as this API will be removed in a future release\n",
      "  \"project.contracts_source_dir has been replaced by the plural, \"\n",
      "/home/rbharath/anaconda3/envs/datamined/lib/python3.6/site-packages/populus/chain/tester.py:13: DeprecationWarning: currentProvider is deprecated in favor of `providers`, which is now a list\n",
      "  self.rpc_methods = self.web3.currentProvider.rpc_methods\n",
      "/home/rbharath/anaconda3/envs/datamined/lib/python3.6/site-packages/eth_utils/functional.py:21: DeprecationWarning: The `compose` function has been deprecated and will be removed in a subsequent release of `ethereum-utils`.  It is recommended that you switch to use a library like `cytoolz` which provides similar functionality through the `cytoolz.functoolz.compose` function.\n",
      "  \"The `compose` function has been deprecated and will be removed in a \"\n",
      "/home/rbharath/anaconda3/envs/datamined/lib/python3.6/site-packages/eth_utils/functional.py:21: DeprecationWarning: The `compose` function has been deprecated and will be removed in a subsequent release of `ethereum-utils`.  It is recommended that you switch to use a library like `cytoolz` which provides similar functionality through the `cytoolz.functoolz.compose` function.\n",
      "  \"The `compose` function has been deprecated and will be removed in a \"\n",
      "/home/rbharath/anaconda3/envs/datamined/lib/python3.6/site-packages/eth_utils/functional.py:21: DeprecationWarning: The `compose` function has been deprecated and will be removed in a subsequent release of `ethereum-utils`.  It is recommended that you switch to use a library like `cytoolz` which provides similar functionality through the `cytoolz.functoolz.compose` function.\n",
      "  \"The `compose` function has been deprecated and will be removed in a \"\n",
      "/home/rbharath/anaconda3/envs/datamined/lib/python3.6/site-packages/populus/project.py:235: DeprecationWarning: project.contracts_source_dir has been replaced by the plural, project.contracts_source_dirs which is an iterable of all source directories populus will search for contracts.  Please update your code accordingly as this API will be removed in a future release\n",
      "  \"project.contracts_source_dir has been replaced by the plural, \"\n",
      "/home/rbharath/anaconda3/envs/datamined/lib/python3.6/site-packages/populus/chain/tester.py:13: DeprecationWarning: currentProvider is deprecated in favor of `providers`, which is now a list\n",
      "  self.rpc_methods = self.web3.currentProvider.rpc_methods\n",
      "/home/rbharath/anaconda3/envs/datamined/lib/python3.6/site-packages/eth_utils/functional.py:21: DeprecationWarning: The `compose` function has been deprecated and will be removed in a subsequent release of `ethereum-utils`.  It is recommended that you switch to use a library like `cytoolz` which provides similar functionality through the `cytoolz.functoolz.compose` function.\n",
      "  \"The `compose` function has been deprecated and will be removed in a \"\n",
      "/home/rbharath/anaconda3/envs/datamined/lib/python3.6/site-packages/eth_utils/functional.py:21: DeprecationWarning: The `compose` function has been deprecated and will be removed in a subsequent release of `ethereum-utils`.  It is recommended that you switch to use a library like `cytoolz` which provides similar functionality through the `cytoolz.functoolz.compose` function.\n",
      "  \"The `compose` function has been deprecated and will be removed in a \"\n",
      "/home/rbharath/anaconda3/envs/datamined/lib/python3.6/site-packages/eth_utils/functional.py:21: DeprecationWarning: The `compose` function has been deprecated and will be removed in a subsequent release of `ethereum-utils`.  It is recommended that you switch to use a library like `cytoolz` which provides similar functionality through the `cytoolz.functoolz.compose` function.\n",
      "  \"The `compose` function has been deprecated and will be removed in a \"\n",
      "/home/rbharath/anaconda3/envs/datamined/lib/python3.6/site-packages/populus/project.py:235: DeprecationWarning: project.contracts_source_dir has been replaced by the plural, project.contracts_source_dirs which is an iterable of all source directories populus will search for contracts.  Please update your code accordingly as this API will be removed in a future release\n",
      "  \"project.contracts_source_dir has been replaced by the plural, \"\n",
      "/home/rbharath/anaconda3/envs/datamined/lib/python3.6/site-packages/populus/chain/tester.py:13: DeprecationWarning: currentProvider is deprecated in favor of `providers`, which is now a list\n",
      "  self.rpc_methods = self.web3.currentProvider.rpc_methods\n",
      "/home/rbharath/anaconda3/envs/datamined/lib/python3.6/site-packages/eth_utils/functional.py:21: DeprecationWarning: The `compose` function has been deprecated and will be removed in a subsequent release of `ethereum-utils`.  It is recommended that you switch to use a library like `cytoolz` which provides similar functionality through the `cytoolz.functoolz.compose` function.\n",
      "  \"The `compose` function has been deprecated and will be removed in a \"\n",
      "/home/rbharath/anaconda3/envs/datamined/lib/python3.6/site-packages/eth_utils/functional.py:21: DeprecationWarning: The `compose` function has been deprecated and will be removed in a subsequent release of `ethereum-utils`.  It is recommended that you switch to use a library like `cytoolz` which provides similar functionality through the `cytoolz.functoolz.compose` function.\n",
      "  \"The `compose` function has been deprecated and will be removed in a \"\n",
      "/home/rbharath/anaconda3/envs/datamined/lib/python3.6/site-packages/eth_utils/functional.py:21: DeprecationWarning: The `compose` function has been deprecated and will be removed in a subsequent release of `ethereum-utils`.  It is recommended that you switch to use a library like `cytoolz` which provides similar functionality through the `cytoolz.functoolz.compose` function.\n",
      "  \"The `compose` function has been deprecated and will be removed in a \"\n",
      "/home/rbharath/anaconda3/envs/datamined/lib/python3.6/site-packages/populus/project.py:235: DeprecationWarning: project.contracts_source_dir has been replaced by the plural, project.contracts_source_dirs which is an iterable of all source directories populus will search for contracts.  Please update your code accordingly as this API will be removed in a future release\n",
      "  \"project.contracts_source_dir has been replaced by the plural, \"\n",
      "/home/rbharath/anaconda3/envs/datamined/lib/python3.6/site-packages/populus/chain/tester.py:13: DeprecationWarning: currentProvider is deprecated in favor of `providers`, which is now a list\n",
      "  self.rpc_methods = self.web3.currentProvider.rpc_methods\n",
      "/home/rbharath/anaconda3/envs/datamined/lib/python3.6/site-packages/eth_utils/functional.py:21: DeprecationWarning: The `compose` function has been deprecated and will be removed in a subsequent release of `ethereum-utils`.  It is recommended that you switch to use a library like `cytoolz` which provides similar functionality through the `cytoolz.functoolz.compose` function.\n",
      "  \"The `compose` function has been deprecated and will be removed in a \"\n",
      "/home/rbharath/anaconda3/envs/datamined/lib/python3.6/site-packages/eth_utils/functional.py:21: DeprecationWarning: The `compose` function has been deprecated and will be removed in a subsequent release of `ethereum-utils`.  It is recommended that you switch to use a library like `cytoolz` which provides similar functionality through the `cytoolz.functoolz.compose` function.\n",
      "  \"The `compose` function has been deprecated and will be removed in a \"\n",
      "/home/rbharath/anaconda3/envs/datamined/lib/python3.6/site-packages/eth_utils/functional.py:21: DeprecationWarning: The `compose` function has been deprecated and will be removed in a subsequent release of `ethereum-utils`.  It is recommended that you switch to use a library like `cytoolz` which provides similar functionality through the `cytoolz.functoolz.compose` function.\n",
      "  \"The `compose` function has been deprecated and will be removed in a \"\n",
      "/home/rbharath/anaconda3/envs/datamined/lib/python3.6/site-packages/populus/project.py:235: DeprecationWarning: project.contracts_source_dir has been replaced by the plural, project.contracts_source_dirs which is an iterable of all source directories populus will search for contracts.  Please update your code accordingly as this API will be removed in a future release\n",
      "  \"project.contracts_source_dir has been replaced by the plural, \"\n",
      "/home/rbharath/anaconda3/envs/datamined/lib/python3.6/site-packages/populus/chain/tester.py:13: DeprecationWarning: currentProvider is deprecated in favor of `providers`, which is now a list\n",
      "  self.rpc_methods = self.web3.currentProvider.rpc_methods\n",
      "/home/rbharath/anaconda3/envs/datamined/lib/python3.6/site-packages/eth_utils/functional.py:21: DeprecationWarning: The `compose` function has been deprecated and will be removed in a subsequent release of `ethereum-utils`.  It is recommended that you switch to use a library like `cytoolz` which provides similar functionality through the `cytoolz.functoolz.compose` function.\n",
      "  \"The `compose` function has been deprecated and will be removed in a \"\n",
      "/home/rbharath/anaconda3/envs/datamined/lib/python3.6/site-packages/eth_utils/functional.py:21: DeprecationWarning: The `compose` function has been deprecated and will be removed in a subsequent release of `ethereum-utils`.  It is recommended that you switch to use a library like `cytoolz` which provides similar functionality through the `cytoolz.functoolz.compose` function.\n",
      "  \"The `compose` function has been deprecated and will be removed in a \"\n"
     ]
    },
    {
     "name": "stderr",
     "output_type": "stream",
     "text": [
      "/home/rbharath/anaconda3/envs/datamined/lib/python3.6/site-packages/eth_utils/functional.py:21: DeprecationWarning: The `compose` function has been deprecated and will be removed in a subsequent release of `ethereum-utils`.  It is recommended that you switch to use a library like `cytoolz` which provides similar functionality through the `cytoolz.functoolz.compose` function.\n",
      "  \"The `compose` function has been deprecated and will be removed in a \"\n",
      "/home/rbharath/anaconda3/envs/datamined/lib/python3.6/site-packages/populus/project.py:235: DeprecationWarning: project.contracts_source_dir has been replaced by the plural, project.contracts_source_dirs which is an iterable of all source directories populus will search for contracts.  Please update your code accordingly as this API will be removed in a future release\n",
      "  \"project.contracts_source_dir has been replaced by the plural, \"\n",
      "/home/rbharath/anaconda3/envs/datamined/lib/python3.6/site-packages/populus/chain/tester.py:13: DeprecationWarning: currentProvider is deprecated in favor of `providers`, which is now a list\n",
      "  self.rpc_methods = self.web3.currentProvider.rpc_methods\n",
      "/home/rbharath/anaconda3/envs/datamined/lib/python3.6/site-packages/eth_utils/functional.py:21: DeprecationWarning: The `compose` function has been deprecated and will be removed in a subsequent release of `ethereum-utils`.  It is recommended that you switch to use a library like `cytoolz` which provides similar functionality through the `cytoolz.functoolz.compose` function.\n",
      "  \"The `compose` function has been deprecated and will be removed in a \"\n",
      "/home/rbharath/anaconda3/envs/datamined/lib/python3.6/site-packages/eth_utils/functional.py:21: DeprecationWarning: The `compose` function has been deprecated and will be removed in a subsequent release of `ethereum-utils`.  It is recommended that you switch to use a library like `cytoolz` which provides similar functionality through the `cytoolz.functoolz.compose` function.\n",
      "  \"The `compose` function has been deprecated and will be removed in a \"\n",
      "/home/rbharath/anaconda3/envs/datamined/lib/python3.6/site-packages/eth_utils/functional.py:21: DeprecationWarning: The `compose` function has been deprecated and will be removed in a subsequent release of `ethereum-utils`.  It is recommended that you switch to use a library like `cytoolz` which provides similar functionality through the `cytoolz.functoolz.compose` function.\n",
      "  \"The `compose` function has been deprecated and will be removed in a \"\n",
      "/home/rbharath/anaconda3/envs/datamined/lib/python3.6/site-packages/populus/project.py:235: DeprecationWarning: project.contracts_source_dir has been replaced by the plural, project.contracts_source_dirs which is an iterable of all source directories populus will search for contracts.  Please update your code accordingly as this API will be removed in a future release\n",
      "  \"project.contracts_source_dir has been replaced by the plural, \"\n",
      "/home/rbharath/anaconda3/envs/datamined/lib/python3.6/site-packages/populus/chain/tester.py:13: DeprecationWarning: currentProvider is deprecated in favor of `providers`, which is now a list\n",
      "  self.rpc_methods = self.web3.currentProvider.rpc_methods\n",
      "/home/rbharath/anaconda3/envs/datamined/lib/python3.6/site-packages/eth_utils/functional.py:21: DeprecationWarning: The `compose` function has been deprecated and will be removed in a subsequent release of `ethereum-utils`.  It is recommended that you switch to use a library like `cytoolz` which provides similar functionality through the `cytoolz.functoolz.compose` function.\n",
      "  \"The `compose` function has been deprecated and will be removed in a \"\n",
      "/home/rbharath/anaconda3/envs/datamined/lib/python3.6/site-packages/eth_utils/functional.py:21: DeprecationWarning: The `compose` function has been deprecated and will be removed in a subsequent release of `ethereum-utils`.  It is recommended that you switch to use a library like `cytoolz` which provides similar functionality through the `cytoolz.functoolz.compose` function.\n",
      "  \"The `compose` function has been deprecated and will be removed in a \"\n",
      "/home/rbharath/anaconda3/envs/datamined/lib/python3.6/site-packages/eth_utils/functional.py:21: DeprecationWarning: The `compose` function has been deprecated and will be removed in a subsequent release of `ethereum-utils`.  It is recommended that you switch to use a library like `cytoolz` which provides similar functionality through the `cytoolz.functoolz.compose` function.\n",
      "  \"The `compose` function has been deprecated and will be removed in a \"\n",
      "/home/rbharath/anaconda3/envs/datamined/lib/python3.6/site-packages/populus/project.py:235: DeprecationWarning: project.contracts_source_dir has been replaced by the plural, project.contracts_source_dirs which is an iterable of all source directories populus will search for contracts.  Please update your code accordingly as this API will be removed in a future release\n",
      "  \"project.contracts_source_dir has been replaced by the plural, \"\n",
      "/home/rbharath/anaconda3/envs/datamined/lib/python3.6/site-packages/populus/chain/tester.py:13: DeprecationWarning: currentProvider is deprecated in favor of `providers`, which is now a list\n",
      "  self.rpc_methods = self.web3.currentProvider.rpc_methods\n",
      "/home/rbharath/anaconda3/envs/datamined/lib/python3.6/site-packages/eth_utils/functional.py:21: DeprecationWarning: The `compose` function has been deprecated and will be removed in a subsequent release of `ethereum-utils`.  It is recommended that you switch to use a library like `cytoolz` which provides similar functionality through the `cytoolz.functoolz.compose` function.\n",
      "  \"The `compose` function has been deprecated and will be removed in a \"\n",
      "/home/rbharath/anaconda3/envs/datamined/lib/python3.6/site-packages/eth_utils/functional.py:21: DeprecationWarning: The `compose` function has been deprecated and will be removed in a subsequent release of `ethereum-utils`.  It is recommended that you switch to use a library like `cytoolz` which provides similar functionality through the `cytoolz.functoolz.compose` function.\n",
      "  \"The `compose` function has been deprecated and will be removed in a \"\n",
      "/home/rbharath/anaconda3/envs/datamined/lib/python3.6/site-packages/eth_utils/functional.py:21: DeprecationWarning: The `compose` function has been deprecated and will be removed in a subsequent release of `ethereum-utils`.  It is recommended that you switch to use a library like `cytoolz` which provides similar functionality through the `cytoolz.functoolz.compose` function.\n",
      "  \"The `compose` function has been deprecated and will be removed in a \"\n",
      "/home/rbharath/anaconda3/envs/datamined/lib/python3.6/site-packages/populus/project.py:235: DeprecationWarning: project.contracts_source_dir has been replaced by the plural, project.contracts_source_dirs which is an iterable of all source directories populus will search for contracts.  Please update your code accordingly as this API will be removed in a future release\n",
      "  \"project.contracts_source_dir has been replaced by the plural, \"\n",
      "/home/rbharath/anaconda3/envs/datamined/lib/python3.6/site-packages/populus/chain/tester.py:13: DeprecationWarning: currentProvider is deprecated in favor of `providers`, which is now a list\n",
      "  self.rpc_methods = self.web3.currentProvider.rpc_methods\n",
      "/home/rbharath/anaconda3/envs/datamined/lib/python3.6/site-packages/eth_utils/functional.py:21: DeprecationWarning: The `compose` function has been deprecated and will be removed in a subsequent release of `ethereum-utils`.  It is recommended that you switch to use a library like `cytoolz` which provides similar functionality through the `cytoolz.functoolz.compose` function.\n",
      "  \"The `compose` function has been deprecated and will be removed in a \"\n",
      "/home/rbharath/anaconda3/envs/datamined/lib/python3.6/site-packages/eth_utils/functional.py:21: DeprecationWarning: The `compose` function has been deprecated and will be removed in a subsequent release of `ethereum-utils`.  It is recommended that you switch to use a library like `cytoolz` which provides similar functionality through the `cytoolz.functoolz.compose` function.\n",
      "  \"The `compose` function has been deprecated and will be removed in a \"\n",
      "/home/rbharath/anaconda3/envs/datamined/lib/python3.6/site-packages/eth_utils/functional.py:21: DeprecationWarning: The `compose` function has been deprecated and will be removed in a subsequent release of `ethereum-utils`.  It is recommended that you switch to use a library like `cytoolz` which provides similar functionality through the `cytoolz.functoolz.compose` function.\n",
      "  \"The `compose` function has been deprecated and will be removed in a \"\n",
      "/home/rbharath/anaconda3/envs/datamined/lib/python3.6/site-packages/populus/project.py:235: DeprecationWarning: project.contracts_source_dir has been replaced by the plural, project.contracts_source_dirs which is an iterable of all source directories populus will search for contracts.  Please update your code accordingly as this API will be removed in a future release\n",
      "  \"project.contracts_source_dir has been replaced by the plural, \"\n",
      "/home/rbharath/anaconda3/envs/datamined/lib/python3.6/site-packages/populus/chain/tester.py:13: DeprecationWarning: currentProvider is deprecated in favor of `providers`, which is now a list\n",
      "  self.rpc_methods = self.web3.currentProvider.rpc_methods\n",
      "/home/rbharath/anaconda3/envs/datamined/lib/python3.6/site-packages/eth_utils/functional.py:21: DeprecationWarning: The `compose` function has been deprecated and will be removed in a subsequent release of `ethereum-utils`.  It is recommended that you switch to use a library like `cytoolz` which provides similar functionality through the `cytoolz.functoolz.compose` function.\n",
      "  \"The `compose` function has been deprecated and will be removed in a \"\n",
      "/home/rbharath/anaconda3/envs/datamined/lib/python3.6/site-packages/eth_utils/functional.py:21: DeprecationWarning: The `compose` function has been deprecated and will be removed in a subsequent release of `ethereum-utils`.  It is recommended that you switch to use a library like `cytoolz` which provides similar functionality through the `cytoolz.functoolz.compose` function.\n",
      "  \"The `compose` function has been deprecated and will be removed in a \"\n"
     ]
    },
    {
     "name": "stderr",
     "output_type": "stream",
     "text": [
      "/home/rbharath/anaconda3/envs/datamined/lib/python3.6/site-packages/eth_utils/functional.py:21: DeprecationWarning: The `compose` function has been deprecated and will be removed in a subsequent release of `ethereum-utils`.  It is recommended that you switch to use a library like `cytoolz` which provides similar functionality through the `cytoolz.functoolz.compose` function.\n",
      "  \"The `compose` function has been deprecated and will be removed in a \"\n",
      "/home/rbharath/anaconda3/envs/datamined/lib/python3.6/site-packages/populus/project.py:235: DeprecationWarning: project.contracts_source_dir has been replaced by the plural, project.contracts_source_dirs which is an iterable of all source directories populus will search for contracts.  Please update your code accordingly as this API will be removed in a future release\n",
      "  \"project.contracts_source_dir has been replaced by the plural, \"\n",
      "/home/rbharath/anaconda3/envs/datamined/lib/python3.6/site-packages/populus/chain/tester.py:13: DeprecationWarning: currentProvider is deprecated in favor of `providers`, which is now a list\n",
      "  self.rpc_methods = self.web3.currentProvider.rpc_methods\n",
      "/home/rbharath/anaconda3/envs/datamined/lib/python3.6/site-packages/eth_utils/functional.py:21: DeprecationWarning: The `compose` function has been deprecated and will be removed in a subsequent release of `ethereum-utils`.  It is recommended that you switch to use a library like `cytoolz` which provides similar functionality through the `cytoolz.functoolz.compose` function.\n",
      "  \"The `compose` function has been deprecated and will be removed in a \"\n",
      "/home/rbharath/anaconda3/envs/datamined/lib/python3.6/site-packages/eth_utils/functional.py:21: DeprecationWarning: The `compose` function has been deprecated and will be removed in a subsequent release of `ethereum-utils`.  It is recommended that you switch to use a library like `cytoolz` which provides similar functionality through the `cytoolz.functoolz.compose` function.\n",
      "  \"The `compose` function has been deprecated and will be removed in a \"\n",
      "/home/rbharath/anaconda3/envs/datamined/lib/python3.6/site-packages/eth_utils/functional.py:21: DeprecationWarning: The `compose` function has been deprecated and will be removed in a subsequent release of `ethereum-utils`.  It is recommended that you switch to use a library like `cytoolz` which provides similar functionality through the `cytoolz.functoolz.compose` function.\n",
      "  \"The `compose` function has been deprecated and will be removed in a \"\n",
      "/home/rbharath/anaconda3/envs/datamined/lib/python3.6/site-packages/populus/project.py:235: DeprecationWarning: project.contracts_source_dir has been replaced by the plural, project.contracts_source_dirs which is an iterable of all source directories populus will search for contracts.  Please update your code accordingly as this API will be removed in a future release\n",
      "  \"project.contracts_source_dir has been replaced by the plural, \"\n",
      "/home/rbharath/anaconda3/envs/datamined/lib/python3.6/site-packages/populus/chain/tester.py:13: DeprecationWarning: currentProvider is deprecated in favor of `providers`, which is now a list\n",
      "  self.rpc_methods = self.web3.currentProvider.rpc_methods\n",
      "/home/rbharath/anaconda3/envs/datamined/lib/python3.6/site-packages/eth_utils/functional.py:21: DeprecationWarning: The `compose` function has been deprecated and will be removed in a subsequent release of `ethereum-utils`.  It is recommended that you switch to use a library like `cytoolz` which provides similar functionality through the `cytoolz.functoolz.compose` function.\n",
      "  \"The `compose` function has been deprecated and will be removed in a \"\n",
      "/home/rbharath/anaconda3/envs/datamined/lib/python3.6/site-packages/eth_utils/functional.py:21: DeprecationWarning: The `compose` function has been deprecated and will be removed in a subsequent release of `ethereum-utils`.  It is recommended that you switch to use a library like `cytoolz` which provides similar functionality through the `cytoolz.functoolz.compose` function.\n",
      "  \"The `compose` function has been deprecated and will be removed in a \"\n",
      "/home/rbharath/anaconda3/envs/datamined/lib/python3.6/site-packages/eth_utils/functional.py:21: DeprecationWarning: The `compose` function has been deprecated and will be removed in a subsequent release of `ethereum-utils`.  It is recommended that you switch to use a library like `cytoolz` which provides similar functionality through the `cytoolz.functoolz.compose` function.\n",
      "  \"The `compose` function has been deprecated and will be removed in a \"\n",
      "/home/rbharath/anaconda3/envs/datamined/lib/python3.6/site-packages/populus/project.py:235: DeprecationWarning: project.contracts_source_dir has been replaced by the plural, project.contracts_source_dirs which is an iterable of all source directories populus will search for contracts.  Please update your code accordingly as this API will be removed in a future release\n",
      "  \"project.contracts_source_dir has been replaced by the plural, \"\n",
      "/home/rbharath/anaconda3/envs/datamined/lib/python3.6/site-packages/populus/chain/tester.py:13: DeprecationWarning: currentProvider is deprecated in favor of `providers`, which is now a list\n",
      "  self.rpc_methods = self.web3.currentProvider.rpc_methods\n",
      "/home/rbharath/anaconda3/envs/datamined/lib/python3.6/site-packages/eth_utils/functional.py:21: DeprecationWarning: The `compose` function has been deprecated and will be removed in a subsequent release of `ethereum-utils`.  It is recommended that you switch to use a library like `cytoolz` which provides similar functionality through the `cytoolz.functoolz.compose` function.\n",
      "  \"The `compose` function has been deprecated and will be removed in a \"\n",
      "/home/rbharath/anaconda3/envs/datamined/lib/python3.6/site-packages/eth_utils/functional.py:21: DeprecationWarning: The `compose` function has been deprecated and will be removed in a subsequent release of `ethereum-utils`.  It is recommended that you switch to use a library like `cytoolz` which provides similar functionality through the `cytoolz.functoolz.compose` function.\n",
      "  \"The `compose` function has been deprecated and will be removed in a \"\n",
      "/home/rbharath/anaconda3/envs/datamined/lib/python3.6/site-packages/eth_utils/functional.py:21: DeprecationWarning: The `compose` function has been deprecated and will be removed in a subsequent release of `ethereum-utils`.  It is recommended that you switch to use a library like `cytoolz` which provides similar functionality through the `cytoolz.functoolz.compose` function.\n",
      "  \"The `compose` function has been deprecated and will be removed in a \"\n",
      "/home/rbharath/anaconda3/envs/datamined/lib/python3.6/site-packages/populus/project.py:235: DeprecationWarning: project.contracts_source_dir has been replaced by the plural, project.contracts_source_dirs which is an iterable of all source directories populus will search for contracts.  Please update your code accordingly as this API will be removed in a future release\n",
      "  \"project.contracts_source_dir has been replaced by the plural, \"\n",
      "/home/rbharath/anaconda3/envs/datamined/lib/python3.6/site-packages/populus/chain/tester.py:13: DeprecationWarning: currentProvider is deprecated in favor of `providers`, which is now a list\n",
      "  self.rpc_methods = self.web3.currentProvider.rpc_methods\n",
      "/home/rbharath/anaconda3/envs/datamined/lib/python3.6/site-packages/eth_utils/functional.py:21: DeprecationWarning: The `compose` function has been deprecated and will be removed in a subsequent release of `ethereum-utils`.  It is recommended that you switch to use a library like `cytoolz` which provides similar functionality through the `cytoolz.functoolz.compose` function.\n",
      "  \"The `compose` function has been deprecated and will be removed in a \"\n",
      "/home/rbharath/anaconda3/envs/datamined/lib/python3.6/site-packages/eth_utils/functional.py:21: DeprecationWarning: The `compose` function has been deprecated and will be removed in a subsequent release of `ethereum-utils`.  It is recommended that you switch to use a library like `cytoolz` which provides similar functionality through the `cytoolz.functoolz.compose` function.\n",
      "  \"The `compose` function has been deprecated and will be removed in a \"\n",
      "/home/rbharath/anaconda3/envs/datamined/lib/python3.6/site-packages/eth_utils/functional.py:21: DeprecationWarning: The `compose` function has been deprecated and will be removed in a subsequent release of `ethereum-utils`.  It is recommended that you switch to use a library like `cytoolz` which provides similar functionality through the `cytoolz.functoolz.compose` function.\n",
      "  \"The `compose` function has been deprecated and will be removed in a \"\n",
      "/home/rbharath/anaconda3/envs/datamined/lib/python3.6/site-packages/populus/project.py:235: DeprecationWarning: project.contracts_source_dir has been replaced by the plural, project.contracts_source_dirs which is an iterable of all source directories populus will search for contracts.  Please update your code accordingly as this API will be removed in a future release\n",
      "  \"project.contracts_source_dir has been replaced by the plural, \"\n",
      "/home/rbharath/anaconda3/envs/datamined/lib/python3.6/site-packages/populus/chain/tester.py:13: DeprecationWarning: currentProvider is deprecated in favor of `providers`, which is now a list\n",
      "  self.rpc_methods = self.web3.currentProvider.rpc_methods\n",
      "/home/rbharath/anaconda3/envs/datamined/lib/python3.6/site-packages/eth_utils/functional.py:21: DeprecationWarning: The `compose` function has been deprecated and will be removed in a subsequent release of `ethereum-utils`.  It is recommended that you switch to use a library like `cytoolz` which provides similar functionality through the `cytoolz.functoolz.compose` function.\n",
      "  \"The `compose` function has been deprecated and will be removed in a \"\n",
      "/home/rbharath/anaconda3/envs/datamined/lib/python3.6/site-packages/eth_utils/functional.py:21: DeprecationWarning: The `compose` function has been deprecated and will be removed in a subsequent release of `ethereum-utils`.  It is recommended that you switch to use a library like `cytoolz` which provides similar functionality through the `cytoolz.functoolz.compose` function.\n",
      "  \"The `compose` function has been deprecated and will be removed in a \"\n"
     ]
    },
    {
     "name": "stderr",
     "output_type": "stream",
     "text": [
      "/home/rbharath/anaconda3/envs/datamined/lib/python3.6/site-packages/eth_utils/functional.py:21: DeprecationWarning: The `compose` function has been deprecated and will be removed in a subsequent release of `ethereum-utils`.  It is recommended that you switch to use a library like `cytoolz` which provides similar functionality through the `cytoolz.functoolz.compose` function.\n",
      "  \"The `compose` function has been deprecated and will be removed in a \"\n",
      "/home/rbharath/anaconda3/envs/datamined/lib/python3.6/site-packages/populus/project.py:235: DeprecationWarning: project.contracts_source_dir has been replaced by the plural, project.contracts_source_dirs which is an iterable of all source directories populus will search for contracts.  Please update your code accordingly as this API will be removed in a future release\n",
      "  \"project.contracts_source_dir has been replaced by the plural, \"\n",
      "/home/rbharath/anaconda3/envs/datamined/lib/python3.6/site-packages/populus/chain/tester.py:13: DeprecationWarning: currentProvider is deprecated in favor of `providers`, which is now a list\n",
      "  self.rpc_methods = self.web3.currentProvider.rpc_methods\n",
      "/home/rbharath/anaconda3/envs/datamined/lib/python3.6/site-packages/eth_utils/functional.py:21: DeprecationWarning: The `compose` function has been deprecated and will be removed in a subsequent release of `ethereum-utils`.  It is recommended that you switch to use a library like `cytoolz` which provides similar functionality through the `cytoolz.functoolz.compose` function.\n",
      "  \"The `compose` function has been deprecated and will be removed in a \"\n",
      "/home/rbharath/anaconda3/envs/datamined/lib/python3.6/site-packages/eth_utils/functional.py:21: DeprecationWarning: The `compose` function has been deprecated and will be removed in a subsequent release of `ethereum-utils`.  It is recommended that you switch to use a library like `cytoolz` which provides similar functionality through the `cytoolz.functoolz.compose` function.\n",
      "  \"The `compose` function has been deprecated and will be removed in a \"\n",
      "/home/rbharath/anaconda3/envs/datamined/lib/python3.6/site-packages/eth_utils/functional.py:21: DeprecationWarning: The `compose` function has been deprecated and will be removed in a subsequent release of `ethereum-utils`.  It is recommended that you switch to use a library like `cytoolz` which provides similar functionality through the `cytoolz.functoolz.compose` function.\n",
      "  \"The `compose` function has been deprecated and will be removed in a \"\n",
      "/home/rbharath/anaconda3/envs/datamined/lib/python3.6/site-packages/populus/project.py:235: DeprecationWarning: project.contracts_source_dir has been replaced by the plural, project.contracts_source_dirs which is an iterable of all source directories populus will search for contracts.  Please update your code accordingly as this API will be removed in a future release\n",
      "  \"project.contracts_source_dir has been replaced by the plural, \"\n",
      "/home/rbharath/anaconda3/envs/datamined/lib/python3.6/site-packages/populus/chain/tester.py:13: DeprecationWarning: currentProvider is deprecated in favor of `providers`, which is now a list\n",
      "  self.rpc_methods = self.web3.currentProvider.rpc_methods\n",
      "/home/rbharath/anaconda3/envs/datamined/lib/python3.6/site-packages/eth_utils/functional.py:21: DeprecationWarning: The `compose` function has been deprecated and will be removed in a subsequent release of `ethereum-utils`.  It is recommended that you switch to use a library like `cytoolz` which provides similar functionality through the `cytoolz.functoolz.compose` function.\n",
      "  \"The `compose` function has been deprecated and will be removed in a \"\n",
      "/home/rbharath/anaconda3/envs/datamined/lib/python3.6/site-packages/eth_utils/functional.py:21: DeprecationWarning: The `compose` function has been deprecated and will be removed in a subsequent release of `ethereum-utils`.  It is recommended that you switch to use a library like `cytoolz` which provides similar functionality through the `cytoolz.functoolz.compose` function.\n",
      "  \"The `compose` function has been deprecated and will be removed in a \"\n",
      "/home/rbharath/anaconda3/envs/datamined/lib/python3.6/site-packages/eth_utils/functional.py:21: DeprecationWarning: The `compose` function has been deprecated and will be removed in a subsequent release of `ethereum-utils`.  It is recommended that you switch to use a library like `cytoolz` which provides similar functionality through the `cytoolz.functoolz.compose` function.\n",
      "  \"The `compose` function has been deprecated and will be removed in a \"\n",
      "/home/rbharath/anaconda3/envs/datamined/lib/python3.6/site-packages/populus/project.py:235: DeprecationWarning: project.contracts_source_dir has been replaced by the plural, project.contracts_source_dirs which is an iterable of all source directories populus will search for contracts.  Please update your code accordingly as this API will be removed in a future release\n",
      "  \"project.contracts_source_dir has been replaced by the plural, \"\n",
      "/home/rbharath/anaconda3/envs/datamined/lib/python3.6/site-packages/populus/chain/tester.py:13: DeprecationWarning: currentProvider is deprecated in favor of `providers`, which is now a list\n",
      "  self.rpc_methods = self.web3.currentProvider.rpc_methods\n",
      "/home/rbharath/anaconda3/envs/datamined/lib/python3.6/site-packages/eth_utils/functional.py:21: DeprecationWarning: The `compose` function has been deprecated and will be removed in a subsequent release of `ethereum-utils`.  It is recommended that you switch to use a library like `cytoolz` which provides similar functionality through the `cytoolz.functoolz.compose` function.\n",
      "  \"The `compose` function has been deprecated and will be removed in a \"\n",
      "/home/rbharath/anaconda3/envs/datamined/lib/python3.6/site-packages/eth_utils/functional.py:21: DeprecationWarning: The `compose` function has been deprecated and will be removed in a subsequent release of `ethereum-utils`.  It is recommended that you switch to use a library like `cytoolz` which provides similar functionality through the `cytoolz.functoolz.compose` function.\n",
      "  \"The `compose` function has been deprecated and will be removed in a \"\n",
      "/home/rbharath/anaconda3/envs/datamined/lib/python3.6/site-packages/eth_utils/functional.py:21: DeprecationWarning: The `compose` function has been deprecated and will be removed in a subsequent release of `ethereum-utils`.  It is recommended that you switch to use a library like `cytoolz` which provides similar functionality through the `cytoolz.functoolz.compose` function.\n",
      "  \"The `compose` function has been deprecated and will be removed in a \"\n",
      "/home/rbharath/anaconda3/envs/datamined/lib/python3.6/site-packages/populus/project.py:235: DeprecationWarning: project.contracts_source_dir has been replaced by the plural, project.contracts_source_dirs which is an iterable of all source directories populus will search for contracts.  Please update your code accordingly as this API will be removed in a future release\n",
      "  \"project.contracts_source_dir has been replaced by the plural, \"\n",
      "/home/rbharath/anaconda3/envs/datamined/lib/python3.6/site-packages/populus/chain/tester.py:13: DeprecationWarning: currentProvider is deprecated in favor of `providers`, which is now a list\n",
      "  self.rpc_methods = self.web3.currentProvider.rpc_methods\n",
      "/home/rbharath/anaconda3/envs/datamined/lib/python3.6/site-packages/eth_utils/functional.py:21: DeprecationWarning: The `compose` function has been deprecated and will be removed in a subsequent release of `ethereum-utils`.  It is recommended that you switch to use a library like `cytoolz` which provides similar functionality through the `cytoolz.functoolz.compose` function.\n",
      "  \"The `compose` function has been deprecated and will be removed in a \"\n",
      "/home/rbharath/anaconda3/envs/datamined/lib/python3.6/site-packages/eth_utils/functional.py:21: DeprecationWarning: The `compose` function has been deprecated and will be removed in a subsequent release of `ethereum-utils`.  It is recommended that you switch to use a library like `cytoolz` which provides similar functionality through the `cytoolz.functoolz.compose` function.\n",
      "  \"The `compose` function has been deprecated and will be removed in a \"\n",
      "/home/rbharath/anaconda3/envs/datamined/lib/python3.6/site-packages/eth_utils/functional.py:21: DeprecationWarning: The `compose` function has been deprecated and will be removed in a subsequent release of `ethereum-utils`.  It is recommended that you switch to use a library like `cytoolz` which provides similar functionality through the `cytoolz.functoolz.compose` function.\n",
      "  \"The `compose` function has been deprecated and will be removed in a \"\n",
      "/home/rbharath/anaconda3/envs/datamined/lib/python3.6/site-packages/populus/project.py:235: DeprecationWarning: project.contracts_source_dir has been replaced by the plural, project.contracts_source_dirs which is an iterable of all source directories populus will search for contracts.  Please update your code accordingly as this API will be removed in a future release\n",
      "  \"project.contracts_source_dir has been replaced by the plural, \"\n",
      "/home/rbharath/anaconda3/envs/datamined/lib/python3.6/site-packages/populus/chain/tester.py:13: DeprecationWarning: currentProvider is deprecated in favor of `providers`, which is now a list\n",
      "  self.rpc_methods = self.web3.currentProvider.rpc_methods\n",
      "/home/rbharath/anaconda3/envs/datamined/lib/python3.6/site-packages/eth_utils/functional.py:21: DeprecationWarning: The `compose` function has been deprecated and will be removed in a subsequent release of `ethereum-utils`.  It is recommended that you switch to use a library like `cytoolz` which provides similar functionality through the `cytoolz.functoolz.compose` function.\n",
      "  \"The `compose` function has been deprecated and will be removed in a \"\n",
      "/home/rbharath/anaconda3/envs/datamined/lib/python3.6/site-packages/eth_utils/functional.py:21: DeprecationWarning: The `compose` function has been deprecated and will be removed in a subsequent release of `ethereum-utils`.  It is recommended that you switch to use a library like `cytoolz` which provides similar functionality through the `cytoolz.functoolz.compose` function.\n",
      "  \"The `compose` function has been deprecated and will be removed in a \"\n"
     ]
    },
    {
     "name": "stderr",
     "output_type": "stream",
     "text": [
      "/home/rbharath/anaconda3/envs/datamined/lib/python3.6/site-packages/eth_utils/functional.py:21: DeprecationWarning: The `compose` function has been deprecated and will be removed in a subsequent release of `ethereum-utils`.  It is recommended that you switch to use a library like `cytoolz` which provides similar functionality through the `cytoolz.functoolz.compose` function.\n",
      "  \"The `compose` function has been deprecated and will be removed in a \"\n",
      "/home/rbharath/anaconda3/envs/datamined/lib/python3.6/site-packages/populus/project.py:235: DeprecationWarning: project.contracts_source_dir has been replaced by the plural, project.contracts_source_dirs which is an iterable of all source directories populus will search for contracts.  Please update your code accordingly as this API will be removed in a future release\n",
      "  \"project.contracts_source_dir has been replaced by the plural, \"\n",
      "/home/rbharath/anaconda3/envs/datamined/lib/python3.6/site-packages/populus/chain/tester.py:13: DeprecationWarning: currentProvider is deprecated in favor of `providers`, which is now a list\n",
      "  self.rpc_methods = self.web3.currentProvider.rpc_methods\n",
      "/home/rbharath/anaconda3/envs/datamined/lib/python3.6/site-packages/eth_utils/functional.py:21: DeprecationWarning: The `compose` function has been deprecated and will be removed in a subsequent release of `ethereum-utils`.  It is recommended that you switch to use a library like `cytoolz` which provides similar functionality through the `cytoolz.functoolz.compose` function.\n",
      "  \"The `compose` function has been deprecated and will be removed in a \"\n",
      "/home/rbharath/anaconda3/envs/datamined/lib/python3.6/site-packages/eth_utils/functional.py:21: DeprecationWarning: The `compose` function has been deprecated and will be removed in a subsequent release of `ethereum-utils`.  It is recommended that you switch to use a library like `cytoolz` which provides similar functionality through the `cytoolz.functoolz.compose` function.\n",
      "  \"The `compose` function has been deprecated and will be removed in a \"\n",
      "/home/rbharath/anaconda3/envs/datamined/lib/python3.6/site-packages/eth_utils/functional.py:21: DeprecationWarning: The `compose` function has been deprecated and will be removed in a subsequent release of `ethereum-utils`.  It is recommended that you switch to use a library like `cytoolz` which provides similar functionality through the `cytoolz.functoolz.compose` function.\n",
      "  \"The `compose` function has been deprecated and will be removed in a \"\n",
      "/home/rbharath/anaconda3/envs/datamined/lib/python3.6/site-packages/populus/project.py:235: DeprecationWarning: project.contracts_source_dir has been replaced by the plural, project.contracts_source_dirs which is an iterable of all source directories populus will search for contracts.  Please update your code accordingly as this API will be removed in a future release\n",
      "  \"project.contracts_source_dir has been replaced by the plural, \"\n",
      "/home/rbharath/anaconda3/envs/datamined/lib/python3.6/site-packages/populus/chain/tester.py:13: DeprecationWarning: currentProvider is deprecated in favor of `providers`, which is now a list\n",
      "  self.rpc_methods = self.web3.currentProvider.rpc_methods\n",
      "/home/rbharath/anaconda3/envs/datamined/lib/python3.6/site-packages/eth_utils/functional.py:21: DeprecationWarning: The `compose` function has been deprecated and will be removed in a subsequent release of `ethereum-utils`.  It is recommended that you switch to use a library like `cytoolz` which provides similar functionality through the `cytoolz.functoolz.compose` function.\n",
      "  \"The `compose` function has been deprecated and will be removed in a \"\n",
      "/home/rbharath/anaconda3/envs/datamined/lib/python3.6/site-packages/eth_utils/functional.py:21: DeprecationWarning: The `compose` function has been deprecated and will be removed in a subsequent release of `ethereum-utils`.  It is recommended that you switch to use a library like `cytoolz` which provides similar functionality through the `cytoolz.functoolz.compose` function.\n",
      "  \"The `compose` function has been deprecated and will be removed in a \"\n",
      "/home/rbharath/anaconda3/envs/datamined/lib/python3.6/site-packages/eth_utils/functional.py:21: DeprecationWarning: The `compose` function has been deprecated and will be removed in a subsequent release of `ethereum-utils`.  It is recommended that you switch to use a library like `cytoolz` which provides similar functionality through the `cytoolz.functoolz.compose` function.\n",
      "  \"The `compose` function has been deprecated and will be removed in a \"\n",
      "/home/rbharath/anaconda3/envs/datamined/lib/python3.6/site-packages/populus/project.py:235: DeprecationWarning: project.contracts_source_dir has been replaced by the plural, project.contracts_source_dirs which is an iterable of all source directories populus will search for contracts.  Please update your code accordingly as this API will be removed in a future release\n",
      "  \"project.contracts_source_dir has been replaced by the plural, \"\n",
      "/home/rbharath/anaconda3/envs/datamined/lib/python3.6/site-packages/populus/chain/tester.py:13: DeprecationWarning: currentProvider is deprecated in favor of `providers`, which is now a list\n",
      "  self.rpc_methods = self.web3.currentProvider.rpc_methods\n",
      "/home/rbharath/anaconda3/envs/datamined/lib/python3.6/site-packages/eth_utils/functional.py:21: DeprecationWarning: The `compose` function has been deprecated and will be removed in a subsequent release of `ethereum-utils`.  It is recommended that you switch to use a library like `cytoolz` which provides similar functionality through the `cytoolz.functoolz.compose` function.\n",
      "  \"The `compose` function has been deprecated and will be removed in a \"\n",
      "/home/rbharath/anaconda3/envs/datamined/lib/python3.6/site-packages/eth_utils/functional.py:21: DeprecationWarning: The `compose` function has been deprecated and will be removed in a subsequent release of `ethereum-utils`.  It is recommended that you switch to use a library like `cytoolz` which provides similar functionality through the `cytoolz.functoolz.compose` function.\n",
      "  \"The `compose` function has been deprecated and will be removed in a \"\n",
      "/home/rbharath/anaconda3/envs/datamined/lib/python3.6/site-packages/eth_utils/functional.py:21: DeprecationWarning: The `compose` function has been deprecated and will be removed in a subsequent release of `ethereum-utils`.  It is recommended that you switch to use a library like `cytoolz` which provides similar functionality through the `cytoolz.functoolz.compose` function.\n",
      "  \"The `compose` function has been deprecated and will be removed in a \"\n",
      "/home/rbharath/anaconda3/envs/datamined/lib/python3.6/site-packages/populus/project.py:235: DeprecationWarning: project.contracts_source_dir has been replaced by the plural, project.contracts_source_dirs which is an iterable of all source directories populus will search for contracts.  Please update your code accordingly as this API will be removed in a future release\n",
      "  \"project.contracts_source_dir has been replaced by the plural, \"\n",
      "/home/rbharath/anaconda3/envs/datamined/lib/python3.6/site-packages/populus/chain/tester.py:13: DeprecationWarning: currentProvider is deprecated in favor of `providers`, which is now a list\n",
      "  self.rpc_methods = self.web3.currentProvider.rpc_methods\n",
      "/home/rbharath/anaconda3/envs/datamined/lib/python3.6/site-packages/eth_utils/functional.py:21: DeprecationWarning: The `compose` function has been deprecated and will be removed in a subsequent release of `ethereum-utils`.  It is recommended that you switch to use a library like `cytoolz` which provides similar functionality through the `cytoolz.functoolz.compose` function.\n",
      "  \"The `compose` function has been deprecated and will be removed in a \"\n",
      "/home/rbharath/anaconda3/envs/datamined/lib/python3.6/site-packages/eth_utils/functional.py:21: DeprecationWarning: The `compose` function has been deprecated and will be removed in a subsequent release of `ethereum-utils`.  It is recommended that you switch to use a library like `cytoolz` which provides similar functionality through the `cytoolz.functoolz.compose` function.\n",
      "  \"The `compose` function has been deprecated and will be removed in a \"\n",
      "/home/rbharath/anaconda3/envs/datamined/lib/python3.6/site-packages/eth_utils/functional.py:21: DeprecationWarning: The `compose` function has been deprecated and will be removed in a subsequent release of `ethereum-utils`.  It is recommended that you switch to use a library like `cytoolz` which provides similar functionality through the `cytoolz.functoolz.compose` function.\n",
      "  \"The `compose` function has been deprecated and will be removed in a \"\n",
      "/home/rbharath/anaconda3/envs/datamined/lib/python3.6/site-packages/populus/project.py:235: DeprecationWarning: project.contracts_source_dir has been replaced by the plural, project.contracts_source_dirs which is an iterable of all source directories populus will search for contracts.  Please update your code accordingly as this API will be removed in a future release\n",
      "  \"project.contracts_source_dir has been replaced by the plural, \"\n",
      "/home/rbharath/anaconda3/envs/datamined/lib/python3.6/site-packages/populus/chain/tester.py:13: DeprecationWarning: currentProvider is deprecated in favor of `providers`, which is now a list\n",
      "  self.rpc_methods = self.web3.currentProvider.rpc_methods\n",
      "/home/rbharath/anaconda3/envs/datamined/lib/python3.6/site-packages/eth_utils/functional.py:21: DeprecationWarning: The `compose` function has been deprecated and will be removed in a subsequent release of `ethereum-utils`.  It is recommended that you switch to use a library like `cytoolz` which provides similar functionality through the `cytoolz.functoolz.compose` function.\n",
      "  \"The `compose` function has been deprecated and will be removed in a \"\n",
      "/home/rbharath/anaconda3/envs/datamined/lib/python3.6/site-packages/eth_utils/functional.py:21: DeprecationWarning: The `compose` function has been deprecated and will be removed in a subsequent release of `ethereum-utils`.  It is recommended that you switch to use a library like `cytoolz` which provides similar functionality through the `cytoolz.functoolz.compose` function.\n",
      "  \"The `compose` function has been deprecated and will be removed in a \"\n"
     ]
    },
    {
     "name": "stderr",
     "output_type": "stream",
     "text": [
      "/home/rbharath/anaconda3/envs/datamined/lib/python3.6/site-packages/eth_utils/functional.py:21: DeprecationWarning: The `compose` function has been deprecated and will be removed in a subsequent release of `ethereum-utils`.  It is recommended that you switch to use a library like `cytoolz` which provides similar functionality through the `cytoolz.functoolz.compose` function.\n",
      "  \"The `compose` function has been deprecated and will be removed in a \"\n",
      "/home/rbharath/anaconda3/envs/datamined/lib/python3.6/site-packages/populus/project.py:235: DeprecationWarning: project.contracts_source_dir has been replaced by the plural, project.contracts_source_dirs which is an iterable of all source directories populus will search for contracts.  Please update your code accordingly as this API will be removed in a future release\n",
      "  \"project.contracts_source_dir has been replaced by the plural, \"\n",
      "/home/rbharath/anaconda3/envs/datamined/lib/python3.6/site-packages/populus/chain/tester.py:13: DeprecationWarning: currentProvider is deprecated in favor of `providers`, which is now a list\n",
      "  self.rpc_methods = self.web3.currentProvider.rpc_methods\n",
      "/home/rbharath/anaconda3/envs/datamined/lib/python3.6/site-packages/eth_utils/functional.py:21: DeprecationWarning: The `compose` function has been deprecated and will be removed in a subsequent release of `ethereum-utils`.  It is recommended that you switch to use a library like `cytoolz` which provides similar functionality through the `cytoolz.functoolz.compose` function.\n",
      "  \"The `compose` function has been deprecated and will be removed in a \"\n",
      "/home/rbharath/anaconda3/envs/datamined/lib/python3.6/site-packages/eth_utils/functional.py:21: DeprecationWarning: The `compose` function has been deprecated and will be removed in a subsequent release of `ethereum-utils`.  It is recommended that you switch to use a library like `cytoolz` which provides similar functionality through the `cytoolz.functoolz.compose` function.\n",
      "  \"The `compose` function has been deprecated and will be removed in a \"\n",
      "/home/rbharath/anaconda3/envs/datamined/lib/python3.6/site-packages/eth_utils/functional.py:21: DeprecationWarning: The `compose` function has been deprecated and will be removed in a subsequent release of `ethereum-utils`.  It is recommended that you switch to use a library like `cytoolz` which provides similar functionality through the `cytoolz.functoolz.compose` function.\n",
      "  \"The `compose` function has been deprecated and will be removed in a \"\n",
      "/home/rbharath/anaconda3/envs/datamined/lib/python3.6/site-packages/populus/project.py:235: DeprecationWarning: project.contracts_source_dir has been replaced by the plural, project.contracts_source_dirs which is an iterable of all source directories populus will search for contracts.  Please update your code accordingly as this API will be removed in a future release\n",
      "  \"project.contracts_source_dir has been replaced by the plural, \"\n",
      "/home/rbharath/anaconda3/envs/datamined/lib/python3.6/site-packages/populus/chain/tester.py:13: DeprecationWarning: currentProvider is deprecated in favor of `providers`, which is now a list\n",
      "  self.rpc_methods = self.web3.currentProvider.rpc_methods\n",
      "/home/rbharath/anaconda3/envs/datamined/lib/python3.6/site-packages/eth_utils/functional.py:21: DeprecationWarning: The `compose` function has been deprecated and will be removed in a subsequent release of `ethereum-utils`.  It is recommended that you switch to use a library like `cytoolz` which provides similar functionality through the `cytoolz.functoolz.compose` function.\n",
      "  \"The `compose` function has been deprecated and will be removed in a \"\n",
      "/home/rbharath/anaconda3/envs/datamined/lib/python3.6/site-packages/eth_utils/functional.py:21: DeprecationWarning: The `compose` function has been deprecated and will be removed in a subsequent release of `ethereum-utils`.  It is recommended that you switch to use a library like `cytoolz` which provides similar functionality through the `cytoolz.functoolz.compose` function.\n",
      "  \"The `compose` function has been deprecated and will be removed in a \"\n",
      "/home/rbharath/anaconda3/envs/datamined/lib/python3.6/site-packages/eth_utils/functional.py:21: DeprecationWarning: The `compose` function has been deprecated and will be removed in a subsequent release of `ethereum-utils`.  It is recommended that you switch to use a library like `cytoolz` which provides similar functionality through the `cytoolz.functoolz.compose` function.\n",
      "  \"The `compose` function has been deprecated and will be removed in a \"\n",
      "/home/rbharath/anaconda3/envs/datamined/lib/python3.6/site-packages/populus/project.py:235: DeprecationWarning: project.contracts_source_dir has been replaced by the plural, project.contracts_source_dirs which is an iterable of all source directories populus will search for contracts.  Please update your code accordingly as this API will be removed in a future release\n",
      "  \"project.contracts_source_dir has been replaced by the plural, \"\n",
      "/home/rbharath/anaconda3/envs/datamined/lib/python3.6/site-packages/populus/chain/tester.py:13: DeprecationWarning: currentProvider is deprecated in favor of `providers`, which is now a list\n",
      "  self.rpc_methods = self.web3.currentProvider.rpc_methods\n",
      "/home/rbharath/anaconda3/envs/datamined/lib/python3.6/site-packages/eth_utils/functional.py:21: DeprecationWarning: The `compose` function has been deprecated and will be removed in a subsequent release of `ethereum-utils`.  It is recommended that you switch to use a library like `cytoolz` which provides similar functionality through the `cytoolz.functoolz.compose` function.\n",
      "  \"The `compose` function has been deprecated and will be removed in a \"\n",
      "/home/rbharath/anaconda3/envs/datamined/lib/python3.6/site-packages/eth_utils/functional.py:21: DeprecationWarning: The `compose` function has been deprecated and will be removed in a subsequent release of `ethereum-utils`.  It is recommended that you switch to use a library like `cytoolz` which provides similar functionality through the `cytoolz.functoolz.compose` function.\n",
      "  \"The `compose` function has been deprecated and will be removed in a \"\n",
      "/home/rbharath/anaconda3/envs/datamined/lib/python3.6/site-packages/eth_utils/functional.py:21: DeprecationWarning: The `compose` function has been deprecated and will be removed in a subsequent release of `ethereum-utils`.  It is recommended that you switch to use a library like `cytoolz` which provides similar functionality through the `cytoolz.functoolz.compose` function.\n",
      "  \"The `compose` function has been deprecated and will be removed in a \"\n",
      "/home/rbharath/anaconda3/envs/datamined/lib/python3.6/site-packages/populus/project.py:235: DeprecationWarning: project.contracts_source_dir has been replaced by the plural, project.contracts_source_dirs which is an iterable of all source directories populus will search for contracts.  Please update your code accordingly as this API will be removed in a future release\n",
      "  \"project.contracts_source_dir has been replaced by the plural, \"\n",
      "/home/rbharath/anaconda3/envs/datamined/lib/python3.6/site-packages/populus/chain/tester.py:13: DeprecationWarning: currentProvider is deprecated in favor of `providers`, which is now a list\n",
      "  self.rpc_methods = self.web3.currentProvider.rpc_methods\n",
      "/home/rbharath/anaconda3/envs/datamined/lib/python3.6/site-packages/eth_utils/functional.py:21: DeprecationWarning: The `compose` function has been deprecated and will be removed in a subsequent release of `ethereum-utils`.  It is recommended that you switch to use a library like `cytoolz` which provides similar functionality through the `cytoolz.functoolz.compose` function.\n",
      "  \"The `compose` function has been deprecated and will be removed in a \"\n",
      "/home/rbharath/anaconda3/envs/datamined/lib/python3.6/site-packages/eth_utils/functional.py:21: DeprecationWarning: The `compose` function has been deprecated and will be removed in a subsequent release of `ethereum-utils`.  It is recommended that you switch to use a library like `cytoolz` which provides similar functionality through the `cytoolz.functoolz.compose` function.\n",
      "  \"The `compose` function has been deprecated and will be removed in a \"\n",
      "/home/rbharath/anaconda3/envs/datamined/lib/python3.6/site-packages/eth_utils/functional.py:21: DeprecationWarning: The `compose` function has been deprecated and will be removed in a subsequent release of `ethereum-utils`.  It is recommended that you switch to use a library like `cytoolz` which provides similar functionality through the `cytoolz.functoolz.compose` function.\n",
      "  \"The `compose` function has been deprecated and will be removed in a \"\n",
      "/home/rbharath/anaconda3/envs/datamined/lib/python3.6/site-packages/populus/project.py:235: DeprecationWarning: project.contracts_source_dir has been replaced by the plural, project.contracts_source_dirs which is an iterable of all source directories populus will search for contracts.  Please update your code accordingly as this API will be removed in a future release\n",
      "  \"project.contracts_source_dir has been replaced by the plural, \"\n",
      "/home/rbharath/anaconda3/envs/datamined/lib/python3.6/site-packages/populus/chain/tester.py:13: DeprecationWarning: currentProvider is deprecated in favor of `providers`, which is now a list\n",
      "  self.rpc_methods = self.web3.currentProvider.rpc_methods\n",
      "/home/rbharath/anaconda3/envs/datamined/lib/python3.6/site-packages/eth_utils/functional.py:21: DeprecationWarning: The `compose` function has been deprecated and will be removed in a subsequent release of `ethereum-utils`.  It is recommended that you switch to use a library like `cytoolz` which provides similar functionality through the `cytoolz.functoolz.compose` function.\n",
      "  \"The `compose` function has been deprecated and will be removed in a \"\n",
      "/home/rbharath/anaconda3/envs/datamined/lib/python3.6/site-packages/eth_utils/functional.py:21: DeprecationWarning: The `compose` function has been deprecated and will be removed in a subsequent release of `ethereum-utils`.  It is recommended that you switch to use a library like `cytoolz` which provides similar functionality through the `cytoolz.functoolz.compose` function.\n",
      "  \"The `compose` function has been deprecated and will be removed in a \"\n"
     ]
    },
    {
     "name": "stderr",
     "output_type": "stream",
     "text": [
      "/home/rbharath/anaconda3/envs/datamined/lib/python3.6/site-packages/eth_utils/functional.py:21: DeprecationWarning: The `compose` function has been deprecated and will be removed in a subsequent release of `ethereum-utils`.  It is recommended that you switch to use a library like `cytoolz` which provides similar functionality through the `cytoolz.functoolz.compose` function.\n",
      "  \"The `compose` function has been deprecated and will be removed in a \"\n",
      "/home/rbharath/anaconda3/envs/datamined/lib/python3.6/site-packages/populus/project.py:235: DeprecationWarning: project.contracts_source_dir has been replaced by the plural, project.contracts_source_dirs which is an iterable of all source directories populus will search for contracts.  Please update your code accordingly as this API will be removed in a future release\n",
      "  \"project.contracts_source_dir has been replaced by the plural, \"\n",
      "/home/rbharath/anaconda3/envs/datamined/lib/python3.6/site-packages/populus/chain/tester.py:13: DeprecationWarning: currentProvider is deprecated in favor of `providers`, which is now a list\n",
      "  self.rpc_methods = self.web3.currentProvider.rpc_methods\n",
      "/home/rbharath/anaconda3/envs/datamined/lib/python3.6/site-packages/eth_utils/functional.py:21: DeprecationWarning: The `compose` function has been deprecated and will be removed in a subsequent release of `ethereum-utils`.  It is recommended that you switch to use a library like `cytoolz` which provides similar functionality through the `cytoolz.functoolz.compose` function.\n",
      "  \"The `compose` function has been deprecated and will be removed in a \"\n",
      "/home/rbharath/anaconda3/envs/datamined/lib/python3.6/site-packages/eth_utils/functional.py:21: DeprecationWarning: The `compose` function has been deprecated and will be removed in a subsequent release of `ethereum-utils`.  It is recommended that you switch to use a library like `cytoolz` which provides similar functionality through the `cytoolz.functoolz.compose` function.\n",
      "  \"The `compose` function has been deprecated and will be removed in a \"\n",
      "/home/rbharath/anaconda3/envs/datamined/lib/python3.6/site-packages/eth_utils/functional.py:21: DeprecationWarning: The `compose` function has been deprecated and will be removed in a subsequent release of `ethereum-utils`.  It is recommended that you switch to use a library like `cytoolz` which provides similar functionality through the `cytoolz.functoolz.compose` function.\n",
      "  \"The `compose` function has been deprecated and will be removed in a \"\n",
      "/home/rbharath/anaconda3/envs/datamined/lib/python3.6/site-packages/populus/project.py:235: DeprecationWarning: project.contracts_source_dir has been replaced by the plural, project.contracts_source_dirs which is an iterable of all source directories populus will search for contracts.  Please update your code accordingly as this API will be removed in a future release\n",
      "  \"project.contracts_source_dir has been replaced by the plural, \"\n",
      "/home/rbharath/anaconda3/envs/datamined/lib/python3.6/site-packages/populus/chain/tester.py:13: DeprecationWarning: currentProvider is deprecated in favor of `providers`, which is now a list\n",
      "  self.rpc_methods = self.web3.currentProvider.rpc_methods\n",
      "/home/rbharath/anaconda3/envs/datamined/lib/python3.6/site-packages/eth_utils/functional.py:21: DeprecationWarning: The `compose` function has been deprecated and will be removed in a subsequent release of `ethereum-utils`.  It is recommended that you switch to use a library like `cytoolz` which provides similar functionality through the `cytoolz.functoolz.compose` function.\n",
      "  \"The `compose` function has been deprecated and will be removed in a \"\n",
      "/home/rbharath/anaconda3/envs/datamined/lib/python3.6/site-packages/eth_utils/functional.py:21: DeprecationWarning: The `compose` function has been deprecated and will be removed in a subsequent release of `ethereum-utils`.  It is recommended that you switch to use a library like `cytoolz` which provides similar functionality through the `cytoolz.functoolz.compose` function.\n",
      "  \"The `compose` function has been deprecated and will be removed in a \"\n",
      "/home/rbharath/anaconda3/envs/datamined/lib/python3.6/site-packages/eth_utils/functional.py:21: DeprecationWarning: The `compose` function has been deprecated and will be removed in a subsequent release of `ethereum-utils`.  It is recommended that you switch to use a library like `cytoolz` which provides similar functionality through the `cytoolz.functoolz.compose` function.\n",
      "  \"The `compose` function has been deprecated and will be removed in a \"\n",
      "/home/rbharath/anaconda3/envs/datamined/lib/python3.6/site-packages/populus/project.py:235: DeprecationWarning: project.contracts_source_dir has been replaced by the plural, project.contracts_source_dirs which is an iterable of all source directories populus will search for contracts.  Please update your code accordingly as this API will be removed in a future release\n",
      "  \"project.contracts_source_dir has been replaced by the plural, \"\n",
      "/home/rbharath/anaconda3/envs/datamined/lib/python3.6/site-packages/populus/chain/tester.py:13: DeprecationWarning: currentProvider is deprecated in favor of `providers`, which is now a list\n",
      "  self.rpc_methods = self.web3.currentProvider.rpc_methods\n",
      "/home/rbharath/anaconda3/envs/datamined/lib/python3.6/site-packages/eth_utils/functional.py:21: DeprecationWarning: The `compose` function has been deprecated and will be removed in a subsequent release of `ethereum-utils`.  It is recommended that you switch to use a library like `cytoolz` which provides similar functionality through the `cytoolz.functoolz.compose` function.\n",
      "  \"The `compose` function has been deprecated and will be removed in a \"\n",
      "/home/rbharath/anaconda3/envs/datamined/lib/python3.6/site-packages/eth_utils/functional.py:21: DeprecationWarning: The `compose` function has been deprecated and will be removed in a subsequent release of `ethereum-utils`.  It is recommended that you switch to use a library like `cytoolz` which provides similar functionality through the `cytoolz.functoolz.compose` function.\n",
      "  \"The `compose` function has been deprecated and will be removed in a \"\n",
      "/home/rbharath/anaconda3/envs/datamined/lib/python3.6/site-packages/eth_utils/functional.py:21: DeprecationWarning: The `compose` function has been deprecated and will be removed in a subsequent release of `ethereum-utils`.  It is recommended that you switch to use a library like `cytoolz` which provides similar functionality through the `cytoolz.functoolz.compose` function.\n",
      "  \"The `compose` function has been deprecated and will be removed in a \"\n",
      "/home/rbharath/anaconda3/envs/datamined/lib/python3.6/site-packages/populus/project.py:235: DeprecationWarning: project.contracts_source_dir has been replaced by the plural, project.contracts_source_dirs which is an iterable of all source directories populus will search for contracts.  Please update your code accordingly as this API will be removed in a future release\n",
      "  \"project.contracts_source_dir has been replaced by the plural, \"\n",
      "/home/rbharath/anaconda3/envs/datamined/lib/python3.6/site-packages/populus/chain/tester.py:13: DeprecationWarning: currentProvider is deprecated in favor of `providers`, which is now a list\n",
      "  self.rpc_methods = self.web3.currentProvider.rpc_methods\n",
      "/home/rbharath/anaconda3/envs/datamined/lib/python3.6/site-packages/eth_utils/functional.py:21: DeprecationWarning: The `compose` function has been deprecated and will be removed in a subsequent release of `ethereum-utils`.  It is recommended that you switch to use a library like `cytoolz` which provides similar functionality through the `cytoolz.functoolz.compose` function.\n",
      "  \"The `compose` function has been deprecated and will be removed in a \"\n",
      "/home/rbharath/anaconda3/envs/datamined/lib/python3.6/site-packages/eth_utils/functional.py:21: DeprecationWarning: The `compose` function has been deprecated and will be removed in a subsequent release of `ethereum-utils`.  It is recommended that you switch to use a library like `cytoolz` which provides similar functionality through the `cytoolz.functoolz.compose` function.\n",
      "  \"The `compose` function has been deprecated and will be removed in a \"\n",
      "/home/rbharath/anaconda3/envs/datamined/lib/python3.6/site-packages/eth_utils/functional.py:21: DeprecationWarning: The `compose` function has been deprecated and will be removed in a subsequent release of `ethereum-utils`.  It is recommended that you switch to use a library like `cytoolz` which provides similar functionality through the `cytoolz.functoolz.compose` function.\n",
      "  \"The `compose` function has been deprecated and will be removed in a \"\n",
      "/home/rbharath/anaconda3/envs/datamined/lib/python3.6/site-packages/populus/project.py:235: DeprecationWarning: project.contracts_source_dir has been replaced by the plural, project.contracts_source_dirs which is an iterable of all source directories populus will search for contracts.  Please update your code accordingly as this API will be removed in a future release\n",
      "  \"project.contracts_source_dir has been replaced by the plural, \"\n",
      "/home/rbharath/anaconda3/envs/datamined/lib/python3.6/site-packages/populus/chain/tester.py:13: DeprecationWarning: currentProvider is deprecated in favor of `providers`, which is now a list\n",
      "  self.rpc_methods = self.web3.currentProvider.rpc_methods\n",
      "/home/rbharath/anaconda3/envs/datamined/lib/python3.6/site-packages/eth_utils/functional.py:21: DeprecationWarning: The `compose` function has been deprecated and will be removed in a subsequent release of `ethereum-utils`.  It is recommended that you switch to use a library like `cytoolz` which provides similar functionality through the `cytoolz.functoolz.compose` function.\n",
      "  \"The `compose` function has been deprecated and will be removed in a \"\n",
      "/home/rbharath/anaconda3/envs/datamined/lib/python3.6/site-packages/eth_utils/functional.py:21: DeprecationWarning: The `compose` function has been deprecated and will be removed in a subsequent release of `ethereum-utils`.  It is recommended that you switch to use a library like `cytoolz` which provides similar functionality through the `cytoolz.functoolz.compose` function.\n",
      "  \"The `compose` function has been deprecated and will be removed in a \"\n"
     ]
    },
    {
     "name": "stderr",
     "output_type": "stream",
     "text": [
      "/home/rbharath/anaconda3/envs/datamined/lib/python3.6/site-packages/eth_utils/functional.py:21: DeprecationWarning: The `compose` function has been deprecated and will be removed in a subsequent release of `ethereum-utils`.  It is recommended that you switch to use a library like `cytoolz` which provides similar functionality through the `cytoolz.functoolz.compose` function.\n",
      "  \"The `compose` function has been deprecated and will be removed in a \"\n",
      "/home/rbharath/anaconda3/envs/datamined/lib/python3.6/site-packages/populus/project.py:235: DeprecationWarning: project.contracts_source_dir has been replaced by the plural, project.contracts_source_dirs which is an iterable of all source directories populus will search for contracts.  Please update your code accordingly as this API will be removed in a future release\n",
      "  \"project.contracts_source_dir has been replaced by the plural, \"\n",
      "/home/rbharath/anaconda3/envs/datamined/lib/python3.6/site-packages/populus/chain/tester.py:13: DeprecationWarning: currentProvider is deprecated in favor of `providers`, which is now a list\n",
      "  self.rpc_methods = self.web3.currentProvider.rpc_methods\n",
      "/home/rbharath/anaconda3/envs/datamined/lib/python3.6/site-packages/eth_utils/functional.py:21: DeprecationWarning: The `compose` function has been deprecated and will be removed in a subsequent release of `ethereum-utils`.  It is recommended that you switch to use a library like `cytoolz` which provides similar functionality through the `cytoolz.functoolz.compose` function.\n",
      "  \"The `compose` function has been deprecated and will be removed in a \"\n",
      "/home/rbharath/anaconda3/envs/datamined/lib/python3.6/site-packages/eth_utils/functional.py:21: DeprecationWarning: The `compose` function has been deprecated and will be removed in a subsequent release of `ethereum-utils`.  It is recommended that you switch to use a library like `cytoolz` which provides similar functionality through the `cytoolz.functoolz.compose` function.\n",
      "  \"The `compose` function has been deprecated and will be removed in a \"\n",
      "/home/rbharath/anaconda3/envs/datamined/lib/python3.6/site-packages/eth_utils/functional.py:21: DeprecationWarning: The `compose` function has been deprecated and will be removed in a subsequent release of `ethereum-utils`.  It is recommended that you switch to use a library like `cytoolz` which provides similar functionality through the `cytoolz.functoolz.compose` function.\n",
      "  \"The `compose` function has been deprecated and will be removed in a \"\n",
      "/home/rbharath/anaconda3/envs/datamined/lib/python3.6/site-packages/populus/project.py:235: DeprecationWarning: project.contracts_source_dir has been replaced by the plural, project.contracts_source_dirs which is an iterable of all source directories populus will search for contracts.  Please update your code accordingly as this API will be removed in a future release\n",
      "  \"project.contracts_source_dir has been replaced by the plural, \"\n",
      "/home/rbharath/anaconda3/envs/datamined/lib/python3.6/site-packages/populus/chain/tester.py:13: DeprecationWarning: currentProvider is deprecated in favor of `providers`, which is now a list\n",
      "  self.rpc_methods = self.web3.currentProvider.rpc_methods\n",
      "/home/rbharath/anaconda3/envs/datamined/lib/python3.6/site-packages/eth_utils/functional.py:21: DeprecationWarning: The `compose` function has been deprecated and will be removed in a subsequent release of `ethereum-utils`.  It is recommended that you switch to use a library like `cytoolz` which provides similar functionality through the `cytoolz.functoolz.compose` function.\n",
      "  \"The `compose` function has been deprecated and will be removed in a \"\n",
      "/home/rbharath/anaconda3/envs/datamined/lib/python3.6/site-packages/eth_utils/functional.py:21: DeprecationWarning: The `compose` function has been deprecated and will be removed in a subsequent release of `ethereum-utils`.  It is recommended that you switch to use a library like `cytoolz` which provides similar functionality through the `cytoolz.functoolz.compose` function.\n",
      "  \"The `compose` function has been deprecated and will be removed in a \"\n",
      "/home/rbharath/anaconda3/envs/datamined/lib/python3.6/site-packages/eth_utils/functional.py:21: DeprecationWarning: The `compose` function has been deprecated and will be removed in a subsequent release of `ethereum-utils`.  It is recommended that you switch to use a library like `cytoolz` which provides similar functionality through the `cytoolz.functoolz.compose` function.\n",
      "  \"The `compose` function has been deprecated and will be removed in a \"\n",
      "/home/rbharath/anaconda3/envs/datamined/lib/python3.6/site-packages/populus/project.py:235: DeprecationWarning: project.contracts_source_dir has been replaced by the plural, project.contracts_source_dirs which is an iterable of all source directories populus will search for contracts.  Please update your code accordingly as this API will be removed in a future release\n",
      "  \"project.contracts_source_dir has been replaced by the plural, \"\n",
      "/home/rbharath/anaconda3/envs/datamined/lib/python3.6/site-packages/populus/chain/tester.py:13: DeprecationWarning: currentProvider is deprecated in favor of `providers`, which is now a list\n",
      "  self.rpc_methods = self.web3.currentProvider.rpc_methods\n",
      "/home/rbharath/anaconda3/envs/datamined/lib/python3.6/site-packages/eth_utils/functional.py:21: DeprecationWarning: The `compose` function has been deprecated and will be removed in a subsequent release of `ethereum-utils`.  It is recommended that you switch to use a library like `cytoolz` which provides similar functionality through the `cytoolz.functoolz.compose` function.\n",
      "  \"The `compose` function has been deprecated and will be removed in a \"\n",
      "/home/rbharath/anaconda3/envs/datamined/lib/python3.6/site-packages/eth_utils/functional.py:21: DeprecationWarning: The `compose` function has been deprecated and will be removed in a subsequent release of `ethereum-utils`.  It is recommended that you switch to use a library like `cytoolz` which provides similar functionality through the `cytoolz.functoolz.compose` function.\n",
      "  \"The `compose` function has been deprecated and will be removed in a \"\n",
      "/home/rbharath/anaconda3/envs/datamined/lib/python3.6/site-packages/eth_utils/functional.py:21: DeprecationWarning: The `compose` function has been deprecated and will be removed in a subsequent release of `ethereum-utils`.  It is recommended that you switch to use a library like `cytoolz` which provides similar functionality through the `cytoolz.functoolz.compose` function.\n",
      "  \"The `compose` function has been deprecated and will be removed in a \"\n",
      "/home/rbharath/anaconda3/envs/datamined/lib/python3.6/site-packages/populus/project.py:235: DeprecationWarning: project.contracts_source_dir has been replaced by the plural, project.contracts_source_dirs which is an iterable of all source directories populus will search for contracts.  Please update your code accordingly as this API will be removed in a future release\n",
      "  \"project.contracts_source_dir has been replaced by the plural, \"\n",
      "/home/rbharath/anaconda3/envs/datamined/lib/python3.6/site-packages/populus/chain/tester.py:13: DeprecationWarning: currentProvider is deprecated in favor of `providers`, which is now a list\n",
      "  self.rpc_methods = self.web3.currentProvider.rpc_methods\n",
      "/home/rbharath/anaconda3/envs/datamined/lib/python3.6/site-packages/eth_utils/functional.py:21: DeprecationWarning: The `compose` function has been deprecated and will be removed in a subsequent release of `ethereum-utils`.  It is recommended that you switch to use a library like `cytoolz` which provides similar functionality through the `cytoolz.functoolz.compose` function.\n",
      "  \"The `compose` function has been deprecated and will be removed in a \"\n",
      "/home/rbharath/anaconda3/envs/datamined/lib/python3.6/site-packages/eth_utils/functional.py:21: DeprecationWarning: The `compose` function has been deprecated and will be removed in a subsequent release of `ethereum-utils`.  It is recommended that you switch to use a library like `cytoolz` which provides similar functionality through the `cytoolz.functoolz.compose` function.\n",
      "  \"The `compose` function has been deprecated and will be removed in a \"\n",
      "/home/rbharath/anaconda3/envs/datamined/lib/python3.6/site-packages/eth_utils/functional.py:21: DeprecationWarning: The `compose` function has been deprecated and will be removed in a subsequent release of `ethereum-utils`.  It is recommended that you switch to use a library like `cytoolz` which provides similar functionality through the `cytoolz.functoolz.compose` function.\n",
      "  \"The `compose` function has been deprecated and will be removed in a \"\n",
      "/home/rbharath/anaconda3/envs/datamined/lib/python3.6/site-packages/populus/project.py:235: DeprecationWarning: project.contracts_source_dir has been replaced by the plural, project.contracts_source_dirs which is an iterable of all source directories populus will search for contracts.  Please update your code accordingly as this API will be removed in a future release\n",
      "  \"project.contracts_source_dir has been replaced by the plural, \"\n",
      "/home/rbharath/anaconda3/envs/datamined/lib/python3.6/site-packages/populus/chain/tester.py:13: DeprecationWarning: currentProvider is deprecated in favor of `providers`, which is now a list\n",
      "  self.rpc_methods = self.web3.currentProvider.rpc_methods\n",
      "/home/rbharath/anaconda3/envs/datamined/lib/python3.6/site-packages/eth_utils/functional.py:21: DeprecationWarning: The `compose` function has been deprecated and will be removed in a subsequent release of `ethereum-utils`.  It is recommended that you switch to use a library like `cytoolz` which provides similar functionality through the `cytoolz.functoolz.compose` function.\n",
      "  \"The `compose` function has been deprecated and will be removed in a \"\n",
      "/home/rbharath/anaconda3/envs/datamined/lib/python3.6/site-packages/eth_utils/functional.py:21: DeprecationWarning: The `compose` function has been deprecated and will be removed in a subsequent release of `ethereum-utils`.  It is recommended that you switch to use a library like `cytoolz` which provides similar functionality through the `cytoolz.functoolz.compose` function.\n",
      "  \"The `compose` function has been deprecated and will be removed in a \"\n"
     ]
    },
    {
     "name": "stderr",
     "output_type": "stream",
     "text": [
      "/home/rbharath/anaconda3/envs/datamined/lib/python3.6/site-packages/eth_utils/functional.py:21: DeprecationWarning: The `compose` function has been deprecated and will be removed in a subsequent release of `ethereum-utils`.  It is recommended that you switch to use a library like `cytoolz` which provides similar functionality through the `cytoolz.functoolz.compose` function.\n",
      "  \"The `compose` function has been deprecated and will be removed in a \"\n",
      "/home/rbharath/anaconda3/envs/datamined/lib/python3.6/site-packages/populus/project.py:235: DeprecationWarning: project.contracts_source_dir has been replaced by the plural, project.contracts_source_dirs which is an iterable of all source directories populus will search for contracts.  Please update your code accordingly as this API will be removed in a future release\n",
      "  \"project.contracts_source_dir has been replaced by the plural, \"\n",
      "/home/rbharath/anaconda3/envs/datamined/lib/python3.6/site-packages/populus/chain/tester.py:13: DeprecationWarning: currentProvider is deprecated in favor of `providers`, which is now a list\n",
      "  self.rpc_methods = self.web3.currentProvider.rpc_methods\n",
      "/home/rbharath/anaconda3/envs/datamined/lib/python3.6/site-packages/eth_utils/functional.py:21: DeprecationWarning: The `compose` function has been deprecated and will be removed in a subsequent release of `ethereum-utils`.  It is recommended that you switch to use a library like `cytoolz` which provides similar functionality through the `cytoolz.functoolz.compose` function.\n",
      "  \"The `compose` function has been deprecated and will be removed in a \"\n",
      "/home/rbharath/anaconda3/envs/datamined/lib/python3.6/site-packages/eth_utils/functional.py:21: DeprecationWarning: The `compose` function has been deprecated and will be removed in a subsequent release of `ethereum-utils`.  It is recommended that you switch to use a library like `cytoolz` which provides similar functionality through the `cytoolz.functoolz.compose` function.\n",
      "  \"The `compose` function has been deprecated and will be removed in a \"\n",
      "/home/rbharath/anaconda3/envs/datamined/lib/python3.6/site-packages/eth_utils/functional.py:21: DeprecationWarning: The `compose` function has been deprecated and will be removed in a subsequent release of `ethereum-utils`.  It is recommended that you switch to use a library like `cytoolz` which provides similar functionality through the `cytoolz.functoolz.compose` function.\n",
      "  \"The `compose` function has been deprecated and will be removed in a \"\n",
      "/home/rbharath/anaconda3/envs/datamined/lib/python3.6/site-packages/populus/project.py:235: DeprecationWarning: project.contracts_source_dir has been replaced by the plural, project.contracts_source_dirs which is an iterable of all source directories populus will search for contracts.  Please update your code accordingly as this API will be removed in a future release\n",
      "  \"project.contracts_source_dir has been replaced by the plural, \"\n",
      "/home/rbharath/anaconda3/envs/datamined/lib/python3.6/site-packages/populus/chain/tester.py:13: DeprecationWarning: currentProvider is deprecated in favor of `providers`, which is now a list\n",
      "  self.rpc_methods = self.web3.currentProvider.rpc_methods\n",
      "/home/rbharath/anaconda3/envs/datamined/lib/python3.6/site-packages/eth_utils/functional.py:21: DeprecationWarning: The `compose` function has been deprecated and will be removed in a subsequent release of `ethereum-utils`.  It is recommended that you switch to use a library like `cytoolz` which provides similar functionality through the `cytoolz.functoolz.compose` function.\n",
      "  \"The `compose` function has been deprecated and will be removed in a \"\n",
      "/home/rbharath/anaconda3/envs/datamined/lib/python3.6/site-packages/eth_utils/functional.py:21: DeprecationWarning: The `compose` function has been deprecated and will be removed in a subsequent release of `ethereum-utils`.  It is recommended that you switch to use a library like `cytoolz` which provides similar functionality through the `cytoolz.functoolz.compose` function.\n",
      "  \"The `compose` function has been deprecated and will be removed in a \"\n",
      "/home/rbharath/anaconda3/envs/datamined/lib/python3.6/site-packages/eth_utils/functional.py:21: DeprecationWarning: The `compose` function has been deprecated and will be removed in a subsequent release of `ethereum-utils`.  It is recommended that you switch to use a library like `cytoolz` which provides similar functionality through the `cytoolz.functoolz.compose` function.\n",
      "  \"The `compose` function has been deprecated and will be removed in a \"\n",
      "/home/rbharath/anaconda3/envs/datamined/lib/python3.6/site-packages/populus/project.py:235: DeprecationWarning: project.contracts_source_dir has been replaced by the plural, project.contracts_source_dirs which is an iterable of all source directories populus will search for contracts.  Please update your code accordingly as this API will be removed in a future release\n",
      "  \"project.contracts_source_dir has been replaced by the plural, \"\n",
      "/home/rbharath/anaconda3/envs/datamined/lib/python3.6/site-packages/populus/chain/tester.py:13: DeprecationWarning: currentProvider is deprecated in favor of `providers`, which is now a list\n",
      "  self.rpc_methods = self.web3.currentProvider.rpc_methods\n",
      "/home/rbharath/anaconda3/envs/datamined/lib/python3.6/site-packages/eth_utils/functional.py:21: DeprecationWarning: The `compose` function has been deprecated and will be removed in a subsequent release of `ethereum-utils`.  It is recommended that you switch to use a library like `cytoolz` which provides similar functionality through the `cytoolz.functoolz.compose` function.\n",
      "  \"The `compose` function has been deprecated and will be removed in a \"\n",
      "/home/rbharath/anaconda3/envs/datamined/lib/python3.6/site-packages/eth_utils/functional.py:21: DeprecationWarning: The `compose` function has been deprecated and will be removed in a subsequent release of `ethereum-utils`.  It is recommended that you switch to use a library like `cytoolz` which provides similar functionality through the `cytoolz.functoolz.compose` function.\n",
      "  \"The `compose` function has been deprecated and will be removed in a \"\n",
      "/home/rbharath/anaconda3/envs/datamined/lib/python3.6/site-packages/eth_utils/functional.py:21: DeprecationWarning: The `compose` function has been deprecated and will be removed in a subsequent release of `ethereum-utils`.  It is recommended that you switch to use a library like `cytoolz` which provides similar functionality through the `cytoolz.functoolz.compose` function.\n",
      "  \"The `compose` function has been deprecated and will be removed in a \"\n",
      "/home/rbharath/anaconda3/envs/datamined/lib/python3.6/site-packages/populus/project.py:235: DeprecationWarning: project.contracts_source_dir has been replaced by the plural, project.contracts_source_dirs which is an iterable of all source directories populus will search for contracts.  Please update your code accordingly as this API will be removed in a future release\n",
      "  \"project.contracts_source_dir has been replaced by the plural, \"\n",
      "/home/rbharath/anaconda3/envs/datamined/lib/python3.6/site-packages/populus/chain/tester.py:13: DeprecationWarning: currentProvider is deprecated in favor of `providers`, which is now a list\n",
      "  self.rpc_methods = self.web3.currentProvider.rpc_methods\n",
      "/home/rbharath/anaconda3/envs/datamined/lib/python3.6/site-packages/eth_utils/functional.py:21: DeprecationWarning: The `compose` function has been deprecated and will be removed in a subsequent release of `ethereum-utils`.  It is recommended that you switch to use a library like `cytoolz` which provides similar functionality through the `cytoolz.functoolz.compose` function.\n",
      "  \"The `compose` function has been deprecated and will be removed in a \"\n",
      "/home/rbharath/anaconda3/envs/datamined/lib/python3.6/site-packages/eth_utils/functional.py:21: DeprecationWarning: The `compose` function has been deprecated and will be removed in a subsequent release of `ethereum-utils`.  It is recommended that you switch to use a library like `cytoolz` which provides similar functionality through the `cytoolz.functoolz.compose` function.\n",
      "  \"The `compose` function has been deprecated and will be removed in a \"\n",
      "/home/rbharath/anaconda3/envs/datamined/lib/python3.6/site-packages/eth_utils/functional.py:21: DeprecationWarning: The `compose` function has been deprecated and will be removed in a subsequent release of `ethereum-utils`.  It is recommended that you switch to use a library like `cytoolz` which provides similar functionality through the `cytoolz.functoolz.compose` function.\n",
      "  \"The `compose` function has been deprecated and will be removed in a \"\n",
      "/home/rbharath/anaconda3/envs/datamined/lib/python3.6/site-packages/populus/project.py:235: DeprecationWarning: project.contracts_source_dir has been replaced by the plural, project.contracts_source_dirs which is an iterable of all source directories populus will search for contracts.  Please update your code accordingly as this API will be removed in a future release\n",
      "  \"project.contracts_source_dir has been replaced by the plural, \"\n",
      "/home/rbharath/anaconda3/envs/datamined/lib/python3.6/site-packages/populus/chain/tester.py:13: DeprecationWarning: currentProvider is deprecated in favor of `providers`, which is now a list\n",
      "  self.rpc_methods = self.web3.currentProvider.rpc_methods\n",
      "/home/rbharath/anaconda3/envs/datamined/lib/python3.6/site-packages/eth_utils/functional.py:21: DeprecationWarning: The `compose` function has been deprecated and will be removed in a subsequent release of `ethereum-utils`.  It is recommended that you switch to use a library like `cytoolz` which provides similar functionality through the `cytoolz.functoolz.compose` function.\n",
      "  \"The `compose` function has been deprecated and will be removed in a \"\n",
      "/home/rbharath/anaconda3/envs/datamined/lib/python3.6/site-packages/eth_utils/functional.py:21: DeprecationWarning: The `compose` function has been deprecated and will be removed in a subsequent release of `ethereum-utils`.  It is recommended that you switch to use a library like `cytoolz` which provides similar functionality through the `cytoolz.functoolz.compose` function.\n",
      "  \"The `compose` function has been deprecated and will be removed in a \"\n"
     ]
    },
    {
     "name": "stderr",
     "output_type": "stream",
     "text": [
      "/home/rbharath/anaconda3/envs/datamined/lib/python3.6/site-packages/eth_utils/functional.py:21: DeprecationWarning: The `compose` function has been deprecated and will be removed in a subsequent release of `ethereum-utils`.  It is recommended that you switch to use a library like `cytoolz` which provides similar functionality through the `cytoolz.functoolz.compose` function.\n",
      "  \"The `compose` function has been deprecated and will be removed in a \"\n",
      "/home/rbharath/anaconda3/envs/datamined/lib/python3.6/site-packages/populus/project.py:235: DeprecationWarning: project.contracts_source_dir has been replaced by the plural, project.contracts_source_dirs which is an iterable of all source directories populus will search for contracts.  Please update your code accordingly as this API will be removed in a future release\n",
      "  \"project.contracts_source_dir has been replaced by the plural, \"\n",
      "/home/rbharath/anaconda3/envs/datamined/lib/python3.6/site-packages/populus/chain/tester.py:13: DeprecationWarning: currentProvider is deprecated in favor of `providers`, which is now a list\n",
      "  self.rpc_methods = self.web3.currentProvider.rpc_methods\n",
      "/home/rbharath/anaconda3/envs/datamined/lib/python3.6/site-packages/eth_utils/functional.py:21: DeprecationWarning: The `compose` function has been deprecated and will be removed in a subsequent release of `ethereum-utils`.  It is recommended that you switch to use a library like `cytoolz` which provides similar functionality through the `cytoolz.functoolz.compose` function.\n",
      "  \"The `compose` function has been deprecated and will be removed in a \"\n",
      "/home/rbharath/anaconda3/envs/datamined/lib/python3.6/site-packages/eth_utils/functional.py:21: DeprecationWarning: The `compose` function has been deprecated and will be removed in a subsequent release of `ethereum-utils`.  It is recommended that you switch to use a library like `cytoolz` which provides similar functionality through the `cytoolz.functoolz.compose` function.\n",
      "  \"The `compose` function has been deprecated and will be removed in a \"\n",
      "/home/rbharath/anaconda3/envs/datamined/lib/python3.6/site-packages/eth_utils/functional.py:21: DeprecationWarning: The `compose` function has been deprecated and will be removed in a subsequent release of `ethereum-utils`.  It is recommended that you switch to use a library like `cytoolz` which provides similar functionality through the `cytoolz.functoolz.compose` function.\n",
      "  \"The `compose` function has been deprecated and will be removed in a \"\n",
      "/home/rbharath/anaconda3/envs/datamined/lib/python3.6/site-packages/populus/project.py:235: DeprecationWarning: project.contracts_source_dir has been replaced by the plural, project.contracts_source_dirs which is an iterable of all source directories populus will search for contracts.  Please update your code accordingly as this API will be removed in a future release\n",
      "  \"project.contracts_source_dir has been replaced by the plural, \"\n",
      "/home/rbharath/anaconda3/envs/datamined/lib/python3.6/site-packages/populus/chain/tester.py:13: DeprecationWarning: currentProvider is deprecated in favor of `providers`, which is now a list\n",
      "  self.rpc_methods = self.web3.currentProvider.rpc_methods\n",
      "/home/rbharath/anaconda3/envs/datamined/lib/python3.6/site-packages/eth_utils/functional.py:21: DeprecationWarning: The `compose` function has been deprecated and will be removed in a subsequent release of `ethereum-utils`.  It is recommended that you switch to use a library like `cytoolz` which provides similar functionality through the `cytoolz.functoolz.compose` function.\n",
      "  \"The `compose` function has been deprecated and will be removed in a \"\n",
      "/home/rbharath/anaconda3/envs/datamined/lib/python3.6/site-packages/eth_utils/functional.py:21: DeprecationWarning: The `compose` function has been deprecated and will be removed in a subsequent release of `ethereum-utils`.  It is recommended that you switch to use a library like `cytoolz` which provides similar functionality through the `cytoolz.functoolz.compose` function.\n",
      "  \"The `compose` function has been deprecated and will be removed in a \"\n",
      "/home/rbharath/anaconda3/envs/datamined/lib/python3.6/site-packages/eth_utils/functional.py:21: DeprecationWarning: The `compose` function has been deprecated and will be removed in a subsequent release of `ethereum-utils`.  It is recommended that you switch to use a library like `cytoolz` which provides similar functionality through the `cytoolz.functoolz.compose` function.\n",
      "  \"The `compose` function has been deprecated and will be removed in a \"\n",
      "/home/rbharath/anaconda3/envs/datamined/lib/python3.6/site-packages/populus/project.py:235: DeprecationWarning: project.contracts_source_dir has been replaced by the plural, project.contracts_source_dirs which is an iterable of all source directories populus will search for contracts.  Please update your code accordingly as this API will be removed in a future release\n",
      "  \"project.contracts_source_dir has been replaced by the plural, \"\n",
      "/home/rbharath/anaconda3/envs/datamined/lib/python3.6/site-packages/populus/chain/tester.py:13: DeprecationWarning: currentProvider is deprecated in favor of `providers`, which is now a list\n",
      "  self.rpc_methods = self.web3.currentProvider.rpc_methods\n",
      "/home/rbharath/anaconda3/envs/datamined/lib/python3.6/site-packages/eth_utils/functional.py:21: DeprecationWarning: The `compose` function has been deprecated and will be removed in a subsequent release of `ethereum-utils`.  It is recommended that you switch to use a library like `cytoolz` which provides similar functionality through the `cytoolz.functoolz.compose` function.\n",
      "  \"The `compose` function has been deprecated and will be removed in a \"\n",
      "/home/rbharath/anaconda3/envs/datamined/lib/python3.6/site-packages/eth_utils/functional.py:21: DeprecationWarning: The `compose` function has been deprecated and will be removed in a subsequent release of `ethereum-utils`.  It is recommended that you switch to use a library like `cytoolz` which provides similar functionality through the `cytoolz.functoolz.compose` function.\n",
      "  \"The `compose` function has been deprecated and will be removed in a \"\n",
      "/home/rbharath/anaconda3/envs/datamined/lib/python3.6/site-packages/eth_utils/functional.py:21: DeprecationWarning: The `compose` function has been deprecated and will be removed in a subsequent release of `ethereum-utils`.  It is recommended that you switch to use a library like `cytoolz` which provides similar functionality through the `cytoolz.functoolz.compose` function.\n",
      "  \"The `compose` function has been deprecated and will be removed in a \"\n",
      "/home/rbharath/anaconda3/envs/datamined/lib/python3.6/site-packages/populus/project.py:235: DeprecationWarning: project.contracts_source_dir has been replaced by the plural, project.contracts_source_dirs which is an iterable of all source directories populus will search for contracts.  Please update your code accordingly as this API will be removed in a future release\n",
      "  \"project.contracts_source_dir has been replaced by the plural, \"\n",
      "/home/rbharath/anaconda3/envs/datamined/lib/python3.6/site-packages/populus/chain/tester.py:13: DeprecationWarning: currentProvider is deprecated in favor of `providers`, which is now a list\n",
      "  self.rpc_methods = self.web3.currentProvider.rpc_methods\n",
      "/home/rbharath/anaconda3/envs/datamined/lib/python3.6/site-packages/eth_utils/functional.py:21: DeprecationWarning: The `compose` function has been deprecated and will be removed in a subsequent release of `ethereum-utils`.  It is recommended that you switch to use a library like `cytoolz` which provides similar functionality through the `cytoolz.functoolz.compose` function.\n",
      "  \"The `compose` function has been deprecated and will be removed in a \"\n",
      "/home/rbharath/anaconda3/envs/datamined/lib/python3.6/site-packages/eth_utils/functional.py:21: DeprecationWarning: The `compose` function has been deprecated and will be removed in a subsequent release of `ethereum-utils`.  It is recommended that you switch to use a library like `cytoolz` which provides similar functionality through the `cytoolz.functoolz.compose` function.\n",
      "  \"The `compose` function has been deprecated and will be removed in a \"\n",
      "/home/rbharath/anaconda3/envs/datamined/lib/python3.6/site-packages/eth_utils/functional.py:21: DeprecationWarning: The `compose` function has been deprecated and will be removed in a subsequent release of `ethereum-utils`.  It is recommended that you switch to use a library like `cytoolz` which provides similar functionality through the `cytoolz.functoolz.compose` function.\n",
      "  \"The `compose` function has been deprecated and will be removed in a \"\n",
      "/home/rbharath/anaconda3/envs/datamined/lib/python3.6/site-packages/populus/project.py:235: DeprecationWarning: project.contracts_source_dir has been replaced by the plural, project.contracts_source_dirs which is an iterable of all source directories populus will search for contracts.  Please update your code accordingly as this API will be removed in a future release\n",
      "  \"project.contracts_source_dir has been replaced by the plural, \"\n",
      "/home/rbharath/anaconda3/envs/datamined/lib/python3.6/site-packages/populus/chain/tester.py:13: DeprecationWarning: currentProvider is deprecated in favor of `providers`, which is now a list\n",
      "  self.rpc_methods = self.web3.currentProvider.rpc_methods\n",
      "/home/rbharath/anaconda3/envs/datamined/lib/python3.6/site-packages/eth_utils/functional.py:21: DeprecationWarning: The `compose` function has been deprecated and will be removed in a subsequent release of `ethereum-utils`.  It is recommended that you switch to use a library like `cytoolz` which provides similar functionality through the `cytoolz.functoolz.compose` function.\n",
      "  \"The `compose` function has been deprecated and will be removed in a \"\n"
     ]
    },
    {
     "name": "stderr",
     "output_type": "stream",
     "text": [
      "/home/rbharath/anaconda3/envs/datamined/lib/python3.6/site-packages/eth_utils/functional.py:21: DeprecationWarning: The `compose` function has been deprecated and will be removed in a subsequent release of `ethereum-utils`.  It is recommended that you switch to use a library like `cytoolz` which provides similar functionality through the `cytoolz.functoolz.compose` function.\n",
      "  \"The `compose` function has been deprecated and will be removed in a \"\n",
      "/home/rbharath/anaconda3/envs/datamined/lib/python3.6/site-packages/eth_utils/functional.py:21: DeprecationWarning: The `compose` function has been deprecated and will be removed in a subsequent release of `ethereum-utils`.  It is recommended that you switch to use a library like `cytoolz` which provides similar functionality through the `cytoolz.functoolz.compose` function.\n",
      "  \"The `compose` function has been deprecated and will be removed in a \"\n",
      "/home/rbharath/anaconda3/envs/datamined/lib/python3.6/site-packages/populus/project.py:235: DeprecationWarning: project.contracts_source_dir has been replaced by the plural, project.contracts_source_dirs which is an iterable of all source directories populus will search for contracts.  Please update your code accordingly as this API will be removed in a future release\n",
      "  \"project.contracts_source_dir has been replaced by the plural, \"\n",
      "/home/rbharath/anaconda3/envs/datamined/lib/python3.6/site-packages/populus/chain/tester.py:13: DeprecationWarning: currentProvider is deprecated in favor of `providers`, which is now a list\n",
      "  self.rpc_methods = self.web3.currentProvider.rpc_methods\n",
      "/home/rbharath/anaconda3/envs/datamined/lib/python3.6/site-packages/eth_utils/functional.py:21: DeprecationWarning: The `compose` function has been deprecated and will be removed in a subsequent release of `ethereum-utils`.  It is recommended that you switch to use a library like `cytoolz` which provides similar functionality through the `cytoolz.functoolz.compose` function.\n",
      "  \"The `compose` function has been deprecated and will be removed in a \"\n",
      "/home/rbharath/anaconda3/envs/datamined/lib/python3.6/site-packages/eth_utils/functional.py:21: DeprecationWarning: The `compose` function has been deprecated and will be removed in a subsequent release of `ethereum-utils`.  It is recommended that you switch to use a library like `cytoolz` which provides similar functionality through the `cytoolz.functoolz.compose` function.\n",
      "  \"The `compose` function has been deprecated and will be removed in a \"\n",
      "/home/rbharath/anaconda3/envs/datamined/lib/python3.6/site-packages/eth_utils/functional.py:21: DeprecationWarning: The `compose` function has been deprecated and will be removed in a subsequent release of `ethereum-utils`.  It is recommended that you switch to use a library like `cytoolz` which provides similar functionality through the `cytoolz.functoolz.compose` function.\n",
      "  \"The `compose` function has been deprecated and will be removed in a \"\n",
      "/home/rbharath/anaconda3/envs/datamined/lib/python3.6/site-packages/populus/project.py:235: DeprecationWarning: project.contracts_source_dir has been replaced by the plural, project.contracts_source_dirs which is an iterable of all source directories populus will search for contracts.  Please update your code accordingly as this API will be removed in a future release\n",
      "  \"project.contracts_source_dir has been replaced by the plural, \"\n",
      "/home/rbharath/anaconda3/envs/datamined/lib/python3.6/site-packages/populus/chain/tester.py:13: DeprecationWarning: currentProvider is deprecated in favor of `providers`, which is now a list\n",
      "  self.rpc_methods = self.web3.currentProvider.rpc_methods\n",
      "/home/rbharath/anaconda3/envs/datamined/lib/python3.6/site-packages/eth_utils/functional.py:21: DeprecationWarning: The `compose` function has been deprecated and will be removed in a subsequent release of `ethereum-utils`.  It is recommended that you switch to use a library like `cytoolz` which provides similar functionality through the `cytoolz.functoolz.compose` function.\n",
      "  \"The `compose` function has been deprecated and will be removed in a \"\n",
      "/home/rbharath/anaconda3/envs/datamined/lib/python3.6/site-packages/eth_utils/functional.py:21: DeprecationWarning: The `compose` function has been deprecated and will be removed in a subsequent release of `ethereum-utils`.  It is recommended that you switch to use a library like `cytoolz` which provides similar functionality through the `cytoolz.functoolz.compose` function.\n",
      "  \"The `compose` function has been deprecated and will be removed in a \"\n",
      "/home/rbharath/anaconda3/envs/datamined/lib/python3.6/site-packages/eth_utils/functional.py:21: DeprecationWarning: The `compose` function has been deprecated and will be removed in a subsequent release of `ethereum-utils`.  It is recommended that you switch to use a library like `cytoolz` which provides similar functionality through the `cytoolz.functoolz.compose` function.\n",
      "  \"The `compose` function has been deprecated and will be removed in a \"\n",
      "/home/rbharath/anaconda3/envs/datamined/lib/python3.6/site-packages/populus/project.py:235: DeprecationWarning: project.contracts_source_dir has been replaced by the plural, project.contracts_source_dirs which is an iterable of all source directories populus will search for contracts.  Please update your code accordingly as this API will be removed in a future release\n",
      "  \"project.contracts_source_dir has been replaced by the plural, \"\n",
      "/home/rbharath/anaconda3/envs/datamined/lib/python3.6/site-packages/populus/chain/tester.py:13: DeprecationWarning: currentProvider is deprecated in favor of `providers`, which is now a list\n",
      "  self.rpc_methods = self.web3.currentProvider.rpc_methods\n",
      "/home/rbharath/anaconda3/envs/datamined/lib/python3.6/site-packages/eth_utils/functional.py:21: DeprecationWarning: The `compose` function has been deprecated and will be removed in a subsequent release of `ethereum-utils`.  It is recommended that you switch to use a library like `cytoolz` which provides similar functionality through the `cytoolz.functoolz.compose` function.\n",
      "  \"The `compose` function has been deprecated and will be removed in a \"\n",
      "/home/rbharath/anaconda3/envs/datamined/lib/python3.6/site-packages/eth_utils/functional.py:21: DeprecationWarning: The `compose` function has been deprecated and will be removed in a subsequent release of `ethereum-utils`.  It is recommended that you switch to use a library like `cytoolz` which provides similar functionality through the `cytoolz.functoolz.compose` function.\n",
      "  \"The `compose` function has been deprecated and will be removed in a \"\n",
      "/home/rbharath/anaconda3/envs/datamined/lib/python3.6/site-packages/eth_utils/functional.py:21: DeprecationWarning: The `compose` function has been deprecated and will be removed in a subsequent release of `ethereum-utils`.  It is recommended that you switch to use a library like `cytoolz` which provides similar functionality through the `cytoolz.functoolz.compose` function.\n",
      "  \"The `compose` function has been deprecated and will be removed in a \"\n",
      "/home/rbharath/anaconda3/envs/datamined/lib/python3.6/site-packages/populus/project.py:235: DeprecationWarning: project.contracts_source_dir has been replaced by the plural, project.contracts_source_dirs which is an iterable of all source directories populus will search for contracts.  Please update your code accordingly as this API will be removed in a future release\n",
      "  \"project.contracts_source_dir has been replaced by the plural, \"\n",
      "/home/rbharath/anaconda3/envs/datamined/lib/python3.6/site-packages/populus/chain/tester.py:13: DeprecationWarning: currentProvider is deprecated in favor of `providers`, which is now a list\n",
      "  self.rpc_methods = self.web3.currentProvider.rpc_methods\n",
      "/home/rbharath/anaconda3/envs/datamined/lib/python3.6/site-packages/eth_utils/functional.py:21: DeprecationWarning: The `compose` function has been deprecated and will be removed in a subsequent release of `ethereum-utils`.  It is recommended that you switch to use a library like `cytoolz` which provides similar functionality through the `cytoolz.functoolz.compose` function.\n",
      "  \"The `compose` function has been deprecated and will be removed in a \"\n",
      "/home/rbharath/anaconda3/envs/datamined/lib/python3.6/site-packages/eth_utils/functional.py:21: DeprecationWarning: The `compose` function has been deprecated and will be removed in a subsequent release of `ethereum-utils`.  It is recommended that you switch to use a library like `cytoolz` which provides similar functionality through the `cytoolz.functoolz.compose` function.\n",
      "  \"The `compose` function has been deprecated and will be removed in a \"\n"
     ]
    },
    {
     "name": "stderr",
     "output_type": "stream",
     "text": [
      "/home/rbharath/anaconda3/envs/datamined/lib/python3.6/site-packages/eth_utils/functional.py:21: DeprecationWarning: The `compose` function has been deprecated and will be removed in a subsequent release of `ethereum-utils`.  It is recommended that you switch to use a library like `cytoolz` which provides similar functionality through the `cytoolz.functoolz.compose` function.\n",
      "  \"The `compose` function has been deprecated and will be removed in a \"\n",
      "/home/rbharath/anaconda3/envs/datamined/lib/python3.6/site-packages/populus/project.py:235: DeprecationWarning: project.contracts_source_dir has been replaced by the plural, project.contracts_source_dirs which is an iterable of all source directories populus will search for contracts.  Please update your code accordingly as this API will be removed in a future release\n",
      "  \"project.contracts_source_dir has been replaced by the plural, \"\n",
      "/home/rbharath/anaconda3/envs/datamined/lib/python3.6/site-packages/populus/chain/tester.py:13: DeprecationWarning: currentProvider is deprecated in favor of `providers`, which is now a list\n",
      "  self.rpc_methods = self.web3.currentProvider.rpc_methods\n",
      "/home/rbharath/anaconda3/envs/datamined/lib/python3.6/site-packages/eth_utils/functional.py:21: DeprecationWarning: The `compose` function has been deprecated and will be removed in a subsequent release of `ethereum-utils`.  It is recommended that you switch to use a library like `cytoolz` which provides similar functionality through the `cytoolz.functoolz.compose` function.\n",
      "  \"The `compose` function has been deprecated and will be removed in a \"\n",
      "/home/rbharath/anaconda3/envs/datamined/lib/python3.6/site-packages/eth_utils/functional.py:21: DeprecationWarning: The `compose` function has been deprecated and will be removed in a subsequent release of `ethereum-utils`.  It is recommended that you switch to use a library like `cytoolz` which provides similar functionality through the `cytoolz.functoolz.compose` function.\n",
      "  \"The `compose` function has been deprecated and will be removed in a \"\n",
      "/home/rbharath/anaconda3/envs/datamined/lib/python3.6/site-packages/eth_utils/functional.py:21: DeprecationWarning: The `compose` function has been deprecated and will be removed in a subsequent release of `ethereum-utils`.  It is recommended that you switch to use a library like `cytoolz` which provides similar functionality through the `cytoolz.functoolz.compose` function.\n",
      "  \"The `compose` function has been deprecated and will be removed in a \"\n",
      "/home/rbharath/anaconda3/envs/datamined/lib/python3.6/site-packages/populus/project.py:235: DeprecationWarning: project.contracts_source_dir has been replaced by the plural, project.contracts_source_dirs which is an iterable of all source directories populus will search for contracts.  Please update your code accordingly as this API will be removed in a future release\n",
      "  \"project.contracts_source_dir has been replaced by the plural, \"\n",
      "/home/rbharath/anaconda3/envs/datamined/lib/python3.6/site-packages/populus/chain/tester.py:13: DeprecationWarning: currentProvider is deprecated in favor of `providers`, which is now a list\n",
      "  self.rpc_methods = self.web3.currentProvider.rpc_methods\n",
      "/home/rbharath/anaconda3/envs/datamined/lib/python3.6/site-packages/eth_utils/functional.py:21: DeprecationWarning: The `compose` function has been deprecated and will be removed in a subsequent release of `ethereum-utils`.  It is recommended that you switch to use a library like `cytoolz` which provides similar functionality through the `cytoolz.functoolz.compose` function.\n",
      "  \"The `compose` function has been deprecated and will be removed in a \"\n",
      "/home/rbharath/anaconda3/envs/datamined/lib/python3.6/site-packages/eth_utils/functional.py:21: DeprecationWarning: The `compose` function has been deprecated and will be removed in a subsequent release of `ethereum-utils`.  It is recommended that you switch to use a library like `cytoolz` which provides similar functionality through the `cytoolz.functoolz.compose` function.\n",
      "  \"The `compose` function has been deprecated and will be removed in a \"\n",
      "/home/rbharath/anaconda3/envs/datamined/lib/python3.6/site-packages/eth_utils/functional.py:21: DeprecationWarning: The `compose` function has been deprecated and will be removed in a subsequent release of `ethereum-utils`.  It is recommended that you switch to use a library like `cytoolz` which provides similar functionality through the `cytoolz.functoolz.compose` function.\n",
      "  \"The `compose` function has been deprecated and will be removed in a \"\n",
      "/home/rbharath/anaconda3/envs/datamined/lib/python3.6/site-packages/populus/project.py:235: DeprecationWarning: project.contracts_source_dir has been replaced by the plural, project.contracts_source_dirs which is an iterable of all source directories populus will search for contracts.  Please update your code accordingly as this API will be removed in a future release\n",
      "  \"project.contracts_source_dir has been replaced by the plural, \"\n",
      "/home/rbharath/anaconda3/envs/datamined/lib/python3.6/site-packages/populus/chain/tester.py:13: DeprecationWarning: currentProvider is deprecated in favor of `providers`, which is now a list\n",
      "  self.rpc_methods = self.web3.currentProvider.rpc_methods\n",
      "/home/rbharath/anaconda3/envs/datamined/lib/python3.6/site-packages/eth_utils/functional.py:21: DeprecationWarning: The `compose` function has been deprecated and will be removed in a subsequent release of `ethereum-utils`.  It is recommended that you switch to use a library like `cytoolz` which provides similar functionality through the `cytoolz.functoolz.compose` function.\n",
      "  \"The `compose` function has been deprecated and will be removed in a \"\n",
      "/home/rbharath/anaconda3/envs/datamined/lib/python3.6/site-packages/eth_utils/functional.py:21: DeprecationWarning: The `compose` function has been deprecated and will be removed in a subsequent release of `ethereum-utils`.  It is recommended that you switch to use a library like `cytoolz` which provides similar functionality through the `cytoolz.functoolz.compose` function.\n",
      "  \"The `compose` function has been deprecated and will be removed in a \"\n",
      "/home/rbharath/anaconda3/envs/datamined/lib/python3.6/site-packages/eth_utils/functional.py:21: DeprecationWarning: The `compose` function has been deprecated and will be removed in a subsequent release of `ethereum-utils`.  It is recommended that you switch to use a library like `cytoolz` which provides similar functionality through the `cytoolz.functoolz.compose` function.\n",
      "  \"The `compose` function has been deprecated and will be removed in a \"\n",
      "/home/rbharath/anaconda3/envs/datamined/lib/python3.6/site-packages/populus/project.py:235: DeprecationWarning: project.contracts_source_dir has been replaced by the plural, project.contracts_source_dirs which is an iterable of all source directories populus will search for contracts.  Please update your code accordingly as this API will be removed in a future release\n",
      "  \"project.contracts_source_dir has been replaced by the plural, \"\n",
      "/home/rbharath/anaconda3/envs/datamined/lib/python3.6/site-packages/populus/chain/tester.py:13: DeprecationWarning: currentProvider is deprecated in favor of `providers`, which is now a list\n",
      "  self.rpc_methods = self.web3.currentProvider.rpc_methods\n",
      "/home/rbharath/anaconda3/envs/datamined/lib/python3.6/site-packages/eth_utils/functional.py:21: DeprecationWarning: The `compose` function has been deprecated and will be removed in a subsequent release of `ethereum-utils`.  It is recommended that you switch to use a library like `cytoolz` which provides similar functionality through the `cytoolz.functoolz.compose` function.\n",
      "  \"The `compose` function has been deprecated and will be removed in a \"\n",
      "/home/rbharath/anaconda3/envs/datamined/lib/python3.6/site-packages/eth_utils/functional.py:21: DeprecationWarning: The `compose` function has been deprecated and will be removed in a subsequent release of `ethereum-utils`.  It is recommended that you switch to use a library like `cytoolz` which provides similar functionality through the `cytoolz.functoolz.compose` function.\n",
      "  \"The `compose` function has been deprecated and will be removed in a \"\n",
      "/home/rbharath/anaconda3/envs/datamined/lib/python3.6/site-packages/eth_utils/functional.py:21: DeprecationWarning: The `compose` function has been deprecated and will be removed in a subsequent release of `ethereum-utils`.  It is recommended that you switch to use a library like `cytoolz` which provides similar functionality through the `cytoolz.functoolz.compose` function.\n",
      "  \"The `compose` function has been deprecated and will be removed in a \"\n",
      "/home/rbharath/anaconda3/envs/datamined/lib/python3.6/site-packages/populus/project.py:235: DeprecationWarning: project.contracts_source_dir has been replaced by the plural, project.contracts_source_dirs which is an iterable of all source directories populus will search for contracts.  Please update your code accordingly as this API will be removed in a future release\n",
      "  \"project.contracts_source_dir has been replaced by the plural, \"\n",
      "/home/rbharath/anaconda3/envs/datamined/lib/python3.6/site-packages/populus/chain/tester.py:13: DeprecationWarning: currentProvider is deprecated in favor of `providers`, which is now a list\n",
      "  self.rpc_methods = self.web3.currentProvider.rpc_methods\n",
      "/home/rbharath/anaconda3/envs/datamined/lib/python3.6/site-packages/eth_utils/functional.py:21: DeprecationWarning: The `compose` function has been deprecated and will be removed in a subsequent release of `ethereum-utils`.  It is recommended that you switch to use a library like `cytoolz` which provides similar functionality through the `cytoolz.functoolz.compose` function.\n",
      "  \"The `compose` function has been deprecated and will be removed in a \"\n",
      "/home/rbharath/anaconda3/envs/datamined/lib/python3.6/site-packages/eth_utils/functional.py:21: DeprecationWarning: The `compose` function has been deprecated and will be removed in a subsequent release of `ethereum-utils`.  It is recommended that you switch to use a library like `cytoolz` which provides similar functionality through the `cytoolz.functoolz.compose` function.\n",
      "  \"The `compose` function has been deprecated and will be removed in a \"\n"
     ]
    },
    {
     "name": "stderr",
     "output_type": "stream",
     "text": [
      "/home/rbharath/anaconda3/envs/datamined/lib/python3.6/site-packages/eth_utils/functional.py:21: DeprecationWarning: The `compose` function has been deprecated and will be removed in a subsequent release of `ethereum-utils`.  It is recommended that you switch to use a library like `cytoolz` which provides similar functionality through the `cytoolz.functoolz.compose` function.\n",
      "  \"The `compose` function has been deprecated and will be removed in a \"\n",
      "/home/rbharath/anaconda3/envs/datamined/lib/python3.6/site-packages/populus/project.py:235: DeprecationWarning: project.contracts_source_dir has been replaced by the plural, project.contracts_source_dirs which is an iterable of all source directories populus will search for contracts.  Please update your code accordingly as this API will be removed in a future release\n",
      "  \"project.contracts_source_dir has been replaced by the plural, \"\n",
      "/home/rbharath/anaconda3/envs/datamined/lib/python3.6/site-packages/populus/chain/tester.py:13: DeprecationWarning: currentProvider is deprecated in favor of `providers`, which is now a list\n",
      "  self.rpc_methods = self.web3.currentProvider.rpc_methods\n",
      "/home/rbharath/anaconda3/envs/datamined/lib/python3.6/site-packages/eth_utils/functional.py:21: DeprecationWarning: The `compose` function has been deprecated and will be removed in a subsequent release of `ethereum-utils`.  It is recommended that you switch to use a library like `cytoolz` which provides similar functionality through the `cytoolz.functoolz.compose` function.\n",
      "  \"The `compose` function has been deprecated and will be removed in a \"\n",
      "/home/rbharath/anaconda3/envs/datamined/lib/python3.6/site-packages/eth_utils/functional.py:21: DeprecationWarning: The `compose` function has been deprecated and will be removed in a subsequent release of `ethereum-utils`.  It is recommended that you switch to use a library like `cytoolz` which provides similar functionality through the `cytoolz.functoolz.compose` function.\n",
      "  \"The `compose` function has been deprecated and will be removed in a \"\n",
      "/home/rbharath/anaconda3/envs/datamined/lib/python3.6/site-packages/eth_utils/functional.py:21: DeprecationWarning: The `compose` function has been deprecated and will be removed in a subsequent release of `ethereum-utils`.  It is recommended that you switch to use a library like `cytoolz` which provides similar functionality through the `cytoolz.functoolz.compose` function.\n",
      "  \"The `compose` function has been deprecated and will be removed in a \"\n",
      "/home/rbharath/anaconda3/envs/datamined/lib/python3.6/site-packages/populus/project.py:235: DeprecationWarning: project.contracts_source_dir has been replaced by the plural, project.contracts_source_dirs which is an iterable of all source directories populus will search for contracts.  Please update your code accordingly as this API will be removed in a future release\n",
      "  \"project.contracts_source_dir has been replaced by the plural, \"\n",
      "/home/rbharath/anaconda3/envs/datamined/lib/python3.6/site-packages/populus/chain/tester.py:13: DeprecationWarning: currentProvider is deprecated in favor of `providers`, which is now a list\n",
      "  self.rpc_methods = self.web3.currentProvider.rpc_methods\n",
      "/home/rbharath/anaconda3/envs/datamined/lib/python3.6/site-packages/eth_utils/functional.py:21: DeprecationWarning: The `compose` function has been deprecated and will be removed in a subsequent release of `ethereum-utils`.  It is recommended that you switch to use a library like `cytoolz` which provides similar functionality through the `cytoolz.functoolz.compose` function.\n",
      "  \"The `compose` function has been deprecated and will be removed in a \"\n",
      "/home/rbharath/anaconda3/envs/datamined/lib/python3.6/site-packages/eth_utils/functional.py:21: DeprecationWarning: The `compose` function has been deprecated and will be removed in a subsequent release of `ethereum-utils`.  It is recommended that you switch to use a library like `cytoolz` which provides similar functionality through the `cytoolz.functoolz.compose` function.\n",
      "  \"The `compose` function has been deprecated and will be removed in a \"\n",
      "/home/rbharath/anaconda3/envs/datamined/lib/python3.6/site-packages/eth_utils/functional.py:21: DeprecationWarning: The `compose` function has been deprecated and will be removed in a subsequent release of `ethereum-utils`.  It is recommended that you switch to use a library like `cytoolz` which provides similar functionality through the `cytoolz.functoolz.compose` function.\n",
      "  \"The `compose` function has been deprecated and will be removed in a \"\n",
      "/home/rbharath/anaconda3/envs/datamined/lib/python3.6/site-packages/populus/project.py:235: DeprecationWarning: project.contracts_source_dir has been replaced by the plural, project.contracts_source_dirs which is an iterable of all source directories populus will search for contracts.  Please update your code accordingly as this API will be removed in a future release\n",
      "  \"project.contracts_source_dir has been replaced by the plural, \"\n",
      "/home/rbharath/anaconda3/envs/datamined/lib/python3.6/site-packages/populus/chain/tester.py:13: DeprecationWarning: currentProvider is deprecated in favor of `providers`, which is now a list\n",
      "  self.rpc_methods = self.web3.currentProvider.rpc_methods\n",
      "/home/rbharath/anaconda3/envs/datamined/lib/python3.6/site-packages/eth_utils/functional.py:21: DeprecationWarning: The `compose` function has been deprecated and will be removed in a subsequent release of `ethereum-utils`.  It is recommended that you switch to use a library like `cytoolz` which provides similar functionality through the `cytoolz.functoolz.compose` function.\n",
      "  \"The `compose` function has been deprecated and will be removed in a \"\n",
      "/home/rbharath/anaconda3/envs/datamined/lib/python3.6/site-packages/eth_utils/functional.py:21: DeprecationWarning: The `compose` function has been deprecated and will be removed in a subsequent release of `ethereum-utils`.  It is recommended that you switch to use a library like `cytoolz` which provides similar functionality through the `cytoolz.functoolz.compose` function.\n",
      "  \"The `compose` function has been deprecated and will be removed in a \"\n",
      "/home/rbharath/anaconda3/envs/datamined/lib/python3.6/site-packages/eth_utils/functional.py:21: DeprecationWarning: The `compose` function has been deprecated and will be removed in a subsequent release of `ethereum-utils`.  It is recommended that you switch to use a library like `cytoolz` which provides similar functionality through the `cytoolz.functoolz.compose` function.\n",
      "  \"The `compose` function has been deprecated and will be removed in a \"\n",
      "/home/rbharath/anaconda3/envs/datamined/lib/python3.6/site-packages/populus/project.py:235: DeprecationWarning: project.contracts_source_dir has been replaced by the plural, project.contracts_source_dirs which is an iterable of all source directories populus will search for contracts.  Please update your code accordingly as this API will be removed in a future release\n",
      "  \"project.contracts_source_dir has been replaced by the plural, \"\n",
      "/home/rbharath/anaconda3/envs/datamined/lib/python3.6/site-packages/populus/chain/tester.py:13: DeprecationWarning: currentProvider is deprecated in favor of `providers`, which is now a list\n",
      "  self.rpc_methods = self.web3.currentProvider.rpc_methods\n",
      "/home/rbharath/anaconda3/envs/datamined/lib/python3.6/site-packages/eth_utils/functional.py:21: DeprecationWarning: The `compose` function has been deprecated and will be removed in a subsequent release of `ethereum-utils`.  It is recommended that you switch to use a library like `cytoolz` which provides similar functionality through the `cytoolz.functoolz.compose` function.\n",
      "  \"The `compose` function has been deprecated and will be removed in a \"\n",
      "/home/rbharath/anaconda3/envs/datamined/lib/python3.6/site-packages/eth_utils/functional.py:21: DeprecationWarning: The `compose` function has been deprecated and will be removed in a subsequent release of `ethereum-utils`.  It is recommended that you switch to use a library like `cytoolz` which provides similar functionality through the `cytoolz.functoolz.compose` function.\n",
      "  \"The `compose` function has been deprecated and will be removed in a \"\n",
      "/home/rbharath/anaconda3/envs/datamined/lib/python3.6/site-packages/eth_utils/functional.py:21: DeprecationWarning: The `compose` function has been deprecated and will be removed in a subsequent release of `ethereum-utils`.  It is recommended that you switch to use a library like `cytoolz` which provides similar functionality through the `cytoolz.functoolz.compose` function.\n",
      "  \"The `compose` function has been deprecated and will be removed in a \"\n",
      "/home/rbharath/anaconda3/envs/datamined/lib/python3.6/site-packages/populus/project.py:235: DeprecationWarning: project.contracts_source_dir has been replaced by the plural, project.contracts_source_dirs which is an iterable of all source directories populus will search for contracts.  Please update your code accordingly as this API will be removed in a future release\n",
      "  \"project.contracts_source_dir has been replaced by the plural, \"\n"
     ]
    },
    {
     "name": "stderr",
     "output_type": "stream",
     "text": [
      "/home/rbharath/anaconda3/envs/datamined/lib/python3.6/site-packages/populus/chain/tester.py:13: DeprecationWarning: currentProvider is deprecated in favor of `providers`, which is now a list\n",
      "  self.rpc_methods = self.web3.currentProvider.rpc_methods\n",
      "/home/rbharath/anaconda3/envs/datamined/lib/python3.6/site-packages/eth_utils/functional.py:21: DeprecationWarning: The `compose` function has been deprecated and will be removed in a subsequent release of `ethereum-utils`.  It is recommended that you switch to use a library like `cytoolz` which provides similar functionality through the `cytoolz.functoolz.compose` function.\n",
      "  \"The `compose` function has been deprecated and will be removed in a \"\n",
      "/home/rbharath/anaconda3/envs/datamined/lib/python3.6/site-packages/eth_utils/functional.py:21: DeprecationWarning: The `compose` function has been deprecated and will be removed in a subsequent release of `ethereum-utils`.  It is recommended that you switch to use a library like `cytoolz` which provides similar functionality through the `cytoolz.functoolz.compose` function.\n",
      "  \"The `compose` function has been deprecated and will be removed in a \"\n",
      "/home/rbharath/anaconda3/envs/datamined/lib/python3.6/site-packages/eth_utils/functional.py:21: DeprecationWarning: The `compose` function has been deprecated and will be removed in a subsequent release of `ethereum-utils`.  It is recommended that you switch to use a library like `cytoolz` which provides similar functionality through the `cytoolz.functoolz.compose` function.\n",
      "  \"The `compose` function has been deprecated and will be removed in a \"\n",
      "/home/rbharath/anaconda3/envs/datamined/lib/python3.6/site-packages/populus/project.py:235: DeprecationWarning: project.contracts_source_dir has been replaced by the plural, project.contracts_source_dirs which is an iterable of all source directories populus will search for contracts.  Please update your code accordingly as this API will be removed in a future release\n",
      "  \"project.contracts_source_dir has been replaced by the plural, \"\n",
      "/home/rbharath/anaconda3/envs/datamined/lib/python3.6/site-packages/populus/chain/tester.py:13: DeprecationWarning: currentProvider is deprecated in favor of `providers`, which is now a list\n",
      "  self.rpc_methods = self.web3.currentProvider.rpc_methods\n",
      "/home/rbharath/anaconda3/envs/datamined/lib/python3.6/site-packages/eth_utils/functional.py:21: DeprecationWarning: The `compose` function has been deprecated and will be removed in a subsequent release of `ethereum-utils`.  It is recommended that you switch to use a library like `cytoolz` which provides similar functionality through the `cytoolz.functoolz.compose` function.\n",
      "  \"The `compose` function has been deprecated and will be removed in a \"\n",
      "/home/rbharath/anaconda3/envs/datamined/lib/python3.6/site-packages/eth_utils/functional.py:21: DeprecationWarning: The `compose` function has been deprecated and will be removed in a subsequent release of `ethereum-utils`.  It is recommended that you switch to use a library like `cytoolz` which provides similar functionality through the `cytoolz.functoolz.compose` function.\n",
      "  \"The `compose` function has been deprecated and will be removed in a \"\n",
      "/home/rbharath/anaconda3/envs/datamined/lib/python3.6/site-packages/eth_utils/functional.py:21: DeprecationWarning: The `compose` function has been deprecated and will be removed in a subsequent release of `ethereum-utils`.  It is recommended that you switch to use a library like `cytoolz` which provides similar functionality through the `cytoolz.functoolz.compose` function.\n",
      "  \"The `compose` function has been deprecated and will be removed in a \"\n",
      "/home/rbharath/anaconda3/envs/datamined/lib/python3.6/site-packages/populus/project.py:235: DeprecationWarning: project.contracts_source_dir has been replaced by the plural, project.contracts_source_dirs which is an iterable of all source directories populus will search for contracts.  Please update your code accordingly as this API will be removed in a future release\n",
      "  \"project.contracts_source_dir has been replaced by the plural, \"\n",
      "/home/rbharath/anaconda3/envs/datamined/lib/python3.6/site-packages/populus/chain/tester.py:13: DeprecationWarning: currentProvider is deprecated in favor of `providers`, which is now a list\n",
      "  self.rpc_methods = self.web3.currentProvider.rpc_methods\n",
      "/home/rbharath/anaconda3/envs/datamined/lib/python3.6/site-packages/eth_utils/functional.py:21: DeprecationWarning: The `compose` function has been deprecated and will be removed in a subsequent release of `ethereum-utils`.  It is recommended that you switch to use a library like `cytoolz` which provides similar functionality through the `cytoolz.functoolz.compose` function.\n",
      "  \"The `compose` function has been deprecated and will be removed in a \"\n",
      "/home/rbharath/anaconda3/envs/datamined/lib/python3.6/site-packages/eth_utils/functional.py:21: DeprecationWarning: The `compose` function has been deprecated and will be removed in a subsequent release of `ethereum-utils`.  It is recommended that you switch to use a library like `cytoolz` which provides similar functionality through the `cytoolz.functoolz.compose` function.\n",
      "  \"The `compose` function has been deprecated and will be removed in a \"\n",
      "/home/rbharath/anaconda3/envs/datamined/lib/python3.6/site-packages/eth_utils/functional.py:21: DeprecationWarning: The `compose` function has been deprecated and will be removed in a subsequent release of `ethereum-utils`.  It is recommended that you switch to use a library like `cytoolz` which provides similar functionality through the `cytoolz.functoolz.compose` function.\n",
      "  \"The `compose` function has been deprecated and will be removed in a \"\n",
      "/home/rbharath/anaconda3/envs/datamined/lib/python3.6/site-packages/populus/project.py:235: DeprecationWarning: project.contracts_source_dir has been replaced by the plural, project.contracts_source_dirs which is an iterable of all source directories populus will search for contracts.  Please update your code accordingly as this API will be removed in a future release\n",
      "  \"project.contracts_source_dir has been replaced by the plural, \"\n",
      "/home/rbharath/anaconda3/envs/datamined/lib/python3.6/site-packages/populus/chain/tester.py:13: DeprecationWarning: currentProvider is deprecated in favor of `providers`, which is now a list\n",
      "  self.rpc_methods = self.web3.currentProvider.rpc_methods\n",
      "/home/rbharath/anaconda3/envs/datamined/lib/python3.6/site-packages/eth_utils/functional.py:21: DeprecationWarning: The `compose` function has been deprecated and will be removed in a subsequent release of `ethereum-utils`.  It is recommended that you switch to use a library like `cytoolz` which provides similar functionality through the `cytoolz.functoolz.compose` function.\n",
      "  \"The `compose` function has been deprecated and will be removed in a \"\n",
      "/home/rbharath/anaconda3/envs/datamined/lib/python3.6/site-packages/eth_utils/functional.py:21: DeprecationWarning: The `compose` function has been deprecated and will be removed in a subsequent release of `ethereum-utils`.  It is recommended that you switch to use a library like `cytoolz` which provides similar functionality through the `cytoolz.functoolz.compose` function.\n",
      "  \"The `compose` function has been deprecated and will be removed in a \"\n",
      "/home/rbharath/anaconda3/envs/datamined/lib/python3.6/site-packages/eth_utils/functional.py:21: DeprecationWarning: The `compose` function has been deprecated and will be removed in a subsequent release of `ethereum-utils`.  It is recommended that you switch to use a library like `cytoolz` which provides similar functionality through the `cytoolz.functoolz.compose` function.\n",
      "  \"The `compose` function has been deprecated and will be removed in a \"\n",
      "/home/rbharath/anaconda3/envs/datamined/lib/python3.6/site-packages/populus/project.py:235: DeprecationWarning: project.contracts_source_dir has been replaced by the plural, project.contracts_source_dirs which is an iterable of all source directories populus will search for contracts.  Please update your code accordingly as this API will be removed in a future release\n",
      "  \"project.contracts_source_dir has been replaced by the plural, \"\n",
      "/home/rbharath/anaconda3/envs/datamined/lib/python3.6/site-packages/populus/chain/tester.py:13: DeprecationWarning: currentProvider is deprecated in favor of `providers`, which is now a list\n",
      "  self.rpc_methods = self.web3.currentProvider.rpc_methods\n",
      "/home/rbharath/anaconda3/envs/datamined/lib/python3.6/site-packages/eth_utils/functional.py:21: DeprecationWarning: The `compose` function has been deprecated and will be removed in a subsequent release of `ethereum-utils`.  It is recommended that you switch to use a library like `cytoolz` which provides similar functionality through the `cytoolz.functoolz.compose` function.\n",
      "  \"The `compose` function has been deprecated and will be removed in a \"\n",
      "/home/rbharath/anaconda3/envs/datamined/lib/python3.6/site-packages/eth_utils/functional.py:21: DeprecationWarning: The `compose` function has been deprecated and will be removed in a subsequent release of `ethereum-utils`.  It is recommended that you switch to use a library like `cytoolz` which provides similar functionality through the `cytoolz.functoolz.compose` function.\n",
      "  \"The `compose` function has been deprecated and will be removed in a \"\n"
     ]
    },
    {
     "name": "stderr",
     "output_type": "stream",
     "text": [
      "/home/rbharath/anaconda3/envs/datamined/lib/python3.6/site-packages/eth_utils/functional.py:21: DeprecationWarning: The `compose` function has been deprecated and will be removed in a subsequent release of `ethereum-utils`.  It is recommended that you switch to use a library like `cytoolz` which provides similar functionality through the `cytoolz.functoolz.compose` function.\n",
      "  \"The `compose` function has been deprecated and will be removed in a \"\n",
      "/home/rbharath/anaconda3/envs/datamined/lib/python3.6/site-packages/populus/project.py:235: DeprecationWarning: project.contracts_source_dir has been replaced by the plural, project.contracts_source_dirs which is an iterable of all source directories populus will search for contracts.  Please update your code accordingly as this API will be removed in a future release\n",
      "  \"project.contracts_source_dir has been replaced by the plural, \"\n",
      "/home/rbharath/anaconda3/envs/datamined/lib/python3.6/site-packages/populus/chain/tester.py:13: DeprecationWarning: currentProvider is deprecated in favor of `providers`, which is now a list\n",
      "  self.rpc_methods = self.web3.currentProvider.rpc_methods\n",
      "/home/rbharath/anaconda3/envs/datamined/lib/python3.6/site-packages/eth_utils/functional.py:21: DeprecationWarning: The `compose` function has been deprecated and will be removed in a subsequent release of `ethereum-utils`.  It is recommended that you switch to use a library like `cytoolz` which provides similar functionality through the `cytoolz.functoolz.compose` function.\n",
      "  \"The `compose` function has been deprecated and will be removed in a \"\n",
      "/home/rbharath/anaconda3/envs/datamined/lib/python3.6/site-packages/eth_utils/functional.py:21: DeprecationWarning: The `compose` function has been deprecated and will be removed in a subsequent release of `ethereum-utils`.  It is recommended that you switch to use a library like `cytoolz` which provides similar functionality through the `cytoolz.functoolz.compose` function.\n",
      "  \"The `compose` function has been deprecated and will be removed in a \"\n",
      "/home/rbharath/anaconda3/envs/datamined/lib/python3.6/site-packages/eth_utils/functional.py:21: DeprecationWarning: The `compose` function has been deprecated and will be removed in a subsequent release of `ethereum-utils`.  It is recommended that you switch to use a library like `cytoolz` which provides similar functionality through the `cytoolz.functoolz.compose` function.\n",
      "  \"The `compose` function has been deprecated and will be removed in a \"\n",
      "/home/rbharath/anaconda3/envs/datamined/lib/python3.6/site-packages/populus/project.py:235: DeprecationWarning: project.contracts_source_dir has been replaced by the plural, project.contracts_source_dirs which is an iterable of all source directories populus will search for contracts.  Please update your code accordingly as this API will be removed in a future release\n",
      "  \"project.contracts_source_dir has been replaced by the plural, \"\n",
      "/home/rbharath/anaconda3/envs/datamined/lib/python3.6/site-packages/populus/chain/tester.py:13: DeprecationWarning: currentProvider is deprecated in favor of `providers`, which is now a list\n",
      "  self.rpc_methods = self.web3.currentProvider.rpc_methods\n",
      "/home/rbharath/anaconda3/envs/datamined/lib/python3.6/site-packages/eth_utils/functional.py:21: DeprecationWarning: The `compose` function has been deprecated and will be removed in a subsequent release of `ethereum-utils`.  It is recommended that you switch to use a library like `cytoolz` which provides similar functionality through the `cytoolz.functoolz.compose` function.\n",
      "  \"The `compose` function has been deprecated and will be removed in a \"\n",
      "/home/rbharath/anaconda3/envs/datamined/lib/python3.6/site-packages/eth_utils/functional.py:21: DeprecationWarning: The `compose` function has been deprecated and will be removed in a subsequent release of `ethereum-utils`.  It is recommended that you switch to use a library like `cytoolz` which provides similar functionality through the `cytoolz.functoolz.compose` function.\n",
      "  \"The `compose` function has been deprecated and will be removed in a \"\n",
      "/home/rbharath/anaconda3/envs/datamined/lib/python3.6/site-packages/eth_utils/functional.py:21: DeprecationWarning: The `compose` function has been deprecated and will be removed in a subsequent release of `ethereum-utils`.  It is recommended that you switch to use a library like `cytoolz` which provides similar functionality through the `cytoolz.functoolz.compose` function.\n",
      "  \"The `compose` function has been deprecated and will be removed in a \"\n",
      "/home/rbharath/anaconda3/envs/datamined/lib/python3.6/site-packages/populus/project.py:235: DeprecationWarning: project.contracts_source_dir has been replaced by the plural, project.contracts_source_dirs which is an iterable of all source directories populus will search for contracts.  Please update your code accordingly as this API will be removed in a future release\n",
      "  \"project.contracts_source_dir has been replaced by the plural, \"\n",
      "/home/rbharath/anaconda3/envs/datamined/lib/python3.6/site-packages/populus/chain/tester.py:13: DeprecationWarning: currentProvider is deprecated in favor of `providers`, which is now a list\n",
      "  self.rpc_methods = self.web3.currentProvider.rpc_methods\n",
      "/home/rbharath/anaconda3/envs/datamined/lib/python3.6/site-packages/eth_utils/functional.py:21: DeprecationWarning: The `compose` function has been deprecated and will be removed in a subsequent release of `ethereum-utils`.  It is recommended that you switch to use a library like `cytoolz` which provides similar functionality through the `cytoolz.functoolz.compose` function.\n",
      "  \"The `compose` function has been deprecated and will be removed in a \"\n",
      "/home/rbharath/anaconda3/envs/datamined/lib/python3.6/site-packages/eth_utils/functional.py:21: DeprecationWarning: The `compose` function has been deprecated and will be removed in a subsequent release of `ethereum-utils`.  It is recommended that you switch to use a library like `cytoolz` which provides similar functionality through the `cytoolz.functoolz.compose` function.\n",
      "  \"The `compose` function has been deprecated and will be removed in a \"\n",
      "/home/rbharath/anaconda3/envs/datamined/lib/python3.6/site-packages/eth_utils/functional.py:21: DeprecationWarning: The `compose` function has been deprecated and will be removed in a subsequent release of `ethereum-utils`.  It is recommended that you switch to use a library like `cytoolz` which provides similar functionality through the `cytoolz.functoolz.compose` function.\n",
      "  \"The `compose` function has been deprecated and will be removed in a \"\n",
      "/home/rbharath/anaconda3/envs/datamined/lib/python3.6/site-packages/populus/project.py:235: DeprecationWarning: project.contracts_source_dir has been replaced by the plural, project.contracts_source_dirs which is an iterable of all source directories populus will search for contracts.  Please update your code accordingly as this API will be removed in a future release\n",
      "  \"project.contracts_source_dir has been replaced by the plural, \"\n",
      "/home/rbharath/anaconda3/envs/datamined/lib/python3.6/site-packages/populus/chain/tester.py:13: DeprecationWarning: currentProvider is deprecated in favor of `providers`, which is now a list\n",
      "  self.rpc_methods = self.web3.currentProvider.rpc_methods\n",
      "/home/rbharath/anaconda3/envs/datamined/lib/python3.6/site-packages/eth_utils/functional.py:21: DeprecationWarning: The `compose` function has been deprecated and will be removed in a subsequent release of `ethereum-utils`.  It is recommended that you switch to use a library like `cytoolz` which provides similar functionality through the `cytoolz.functoolz.compose` function.\n",
      "  \"The `compose` function has been deprecated and will be removed in a \"\n",
      "/home/rbharath/anaconda3/envs/datamined/lib/python3.6/site-packages/eth_utils/functional.py:21: DeprecationWarning: The `compose` function has been deprecated and will be removed in a subsequent release of `ethereum-utils`.  It is recommended that you switch to use a library like `cytoolz` which provides similar functionality through the `cytoolz.functoolz.compose` function.\n",
      "  \"The `compose` function has been deprecated and will be removed in a \"\n",
      "/home/rbharath/anaconda3/envs/datamined/lib/python3.6/site-packages/eth_utils/functional.py:21: DeprecationWarning: The `compose` function has been deprecated and will be removed in a subsequent release of `ethereum-utils`.  It is recommended that you switch to use a library like `cytoolz` which provides similar functionality through the `cytoolz.functoolz.compose` function.\n",
      "  \"The `compose` function has been deprecated and will be removed in a \"\n",
      "/home/rbharath/anaconda3/envs/datamined/lib/python3.6/site-packages/populus/project.py:235: DeprecationWarning: project.contracts_source_dir has been replaced by the plural, project.contracts_source_dirs which is an iterable of all source directories populus will search for contracts.  Please update your code accordingly as this API will be removed in a future release\n",
      "  \"project.contracts_source_dir has been replaced by the plural, \"\n"
     ]
    },
    {
     "name": "stderr",
     "output_type": "stream",
     "text": [
      "/home/rbharath/anaconda3/envs/datamined/lib/python3.6/site-packages/populus/chain/tester.py:13: DeprecationWarning: currentProvider is deprecated in favor of `providers`, which is now a list\n",
      "  self.rpc_methods = self.web3.currentProvider.rpc_methods\n",
      "/home/rbharath/anaconda3/envs/datamined/lib/python3.6/site-packages/eth_utils/functional.py:21: DeprecationWarning: The `compose` function has been deprecated and will be removed in a subsequent release of `ethereum-utils`.  It is recommended that you switch to use a library like `cytoolz` which provides similar functionality through the `cytoolz.functoolz.compose` function.\n",
      "  \"The `compose` function has been deprecated and will be removed in a \"\n",
      "/home/rbharath/anaconda3/envs/datamined/lib/python3.6/site-packages/eth_utils/functional.py:21: DeprecationWarning: The `compose` function has been deprecated and will be removed in a subsequent release of `ethereum-utils`.  It is recommended that you switch to use a library like `cytoolz` which provides similar functionality through the `cytoolz.functoolz.compose` function.\n",
      "  \"The `compose` function has been deprecated and will be removed in a \"\n",
      "/home/rbharath/anaconda3/envs/datamined/lib/python3.6/site-packages/eth_utils/functional.py:21: DeprecationWarning: The `compose` function has been deprecated and will be removed in a subsequent release of `ethereum-utils`.  It is recommended that you switch to use a library like `cytoolz` which provides similar functionality through the `cytoolz.functoolz.compose` function.\n",
      "  \"The `compose` function has been deprecated and will be removed in a \"\n",
      "/home/rbharath/anaconda3/envs/datamined/lib/python3.6/site-packages/populus/project.py:235: DeprecationWarning: project.contracts_source_dir has been replaced by the plural, project.contracts_source_dirs which is an iterable of all source directories populus will search for contracts.  Please update your code accordingly as this API will be removed in a future release\n",
      "  \"project.contracts_source_dir has been replaced by the plural, \"\n",
      "/home/rbharath/anaconda3/envs/datamined/lib/python3.6/site-packages/populus/chain/tester.py:13: DeprecationWarning: currentProvider is deprecated in favor of `providers`, which is now a list\n",
      "  self.rpc_methods = self.web3.currentProvider.rpc_methods\n",
      "/home/rbharath/anaconda3/envs/datamined/lib/python3.6/site-packages/eth_utils/functional.py:21: DeprecationWarning: The `compose` function has been deprecated and will be removed in a subsequent release of `ethereum-utils`.  It is recommended that you switch to use a library like `cytoolz` which provides similar functionality through the `cytoolz.functoolz.compose` function.\n",
      "  \"The `compose` function has been deprecated and will be removed in a \"\n",
      "/home/rbharath/anaconda3/envs/datamined/lib/python3.6/site-packages/eth_utils/functional.py:21: DeprecationWarning: The `compose` function has been deprecated and will be removed in a subsequent release of `ethereum-utils`.  It is recommended that you switch to use a library like `cytoolz` which provides similar functionality through the `cytoolz.functoolz.compose` function.\n",
      "  \"The `compose` function has been deprecated and will be removed in a \"\n",
      "/home/rbharath/anaconda3/envs/datamined/lib/python3.6/site-packages/eth_utils/functional.py:21: DeprecationWarning: The `compose` function has been deprecated and will be removed in a subsequent release of `ethereum-utils`.  It is recommended that you switch to use a library like `cytoolz` which provides similar functionality through the `cytoolz.functoolz.compose` function.\n",
      "  \"The `compose` function has been deprecated and will be removed in a \"\n",
      "/home/rbharath/anaconda3/envs/datamined/lib/python3.6/site-packages/populus/project.py:235: DeprecationWarning: project.contracts_source_dir has been replaced by the plural, project.contracts_source_dirs which is an iterable of all source directories populus will search for contracts.  Please update your code accordingly as this API will be removed in a future release\n",
      "  \"project.contracts_source_dir has been replaced by the plural, \"\n",
      "/home/rbharath/anaconda3/envs/datamined/lib/python3.6/site-packages/populus/chain/tester.py:13: DeprecationWarning: currentProvider is deprecated in favor of `providers`, which is now a list\n",
      "  self.rpc_methods = self.web3.currentProvider.rpc_methods\n",
      "/home/rbharath/anaconda3/envs/datamined/lib/python3.6/site-packages/eth_utils/functional.py:21: DeprecationWarning: The `compose` function has been deprecated and will be removed in a subsequent release of `ethereum-utils`.  It is recommended that you switch to use a library like `cytoolz` which provides similar functionality through the `cytoolz.functoolz.compose` function.\n",
      "  \"The `compose` function has been deprecated and will be removed in a \"\n",
      "/home/rbharath/anaconda3/envs/datamined/lib/python3.6/site-packages/eth_utils/functional.py:21: DeprecationWarning: The `compose` function has been deprecated and will be removed in a subsequent release of `ethereum-utils`.  It is recommended that you switch to use a library like `cytoolz` which provides similar functionality through the `cytoolz.functoolz.compose` function.\n",
      "  \"The `compose` function has been deprecated and will be removed in a \"\n",
      "/home/rbharath/anaconda3/envs/datamined/lib/python3.6/site-packages/eth_utils/functional.py:21: DeprecationWarning: The `compose` function has been deprecated and will be removed in a subsequent release of `ethereum-utils`.  It is recommended that you switch to use a library like `cytoolz` which provides similar functionality through the `cytoolz.functoolz.compose` function.\n",
      "  \"The `compose` function has been deprecated and will be removed in a \"\n",
      "/home/rbharath/anaconda3/envs/datamined/lib/python3.6/site-packages/populus/project.py:235: DeprecationWarning: project.contracts_source_dir has been replaced by the plural, project.contracts_source_dirs which is an iterable of all source directories populus will search for contracts.  Please update your code accordingly as this API will be removed in a future release\n",
      "  \"project.contracts_source_dir has been replaced by the plural, \"\n",
      "/home/rbharath/anaconda3/envs/datamined/lib/python3.6/site-packages/populus/chain/tester.py:13: DeprecationWarning: currentProvider is deprecated in favor of `providers`, which is now a list\n",
      "  self.rpc_methods = self.web3.currentProvider.rpc_methods\n",
      "/home/rbharath/anaconda3/envs/datamined/lib/python3.6/site-packages/eth_utils/functional.py:21: DeprecationWarning: The `compose` function has been deprecated and will be removed in a subsequent release of `ethereum-utils`.  It is recommended that you switch to use a library like `cytoolz` which provides similar functionality through the `cytoolz.functoolz.compose` function.\n",
      "  \"The `compose` function has been deprecated and will be removed in a \"\n",
      "/home/rbharath/anaconda3/envs/datamined/lib/python3.6/site-packages/eth_utils/functional.py:21: DeprecationWarning: The `compose` function has been deprecated and will be removed in a subsequent release of `ethereum-utils`.  It is recommended that you switch to use a library like `cytoolz` which provides similar functionality through the `cytoolz.functoolz.compose` function.\n",
      "  \"The `compose` function has been deprecated and will be removed in a \"\n",
      "/home/rbharath/anaconda3/envs/datamined/lib/python3.6/site-packages/eth_utils/functional.py:21: DeprecationWarning: The `compose` function has been deprecated and will be removed in a subsequent release of `ethereum-utils`.  It is recommended that you switch to use a library like `cytoolz` which provides similar functionality through the `cytoolz.functoolz.compose` function.\n",
      "  \"The `compose` function has been deprecated and will be removed in a \"\n",
      "/home/rbharath/anaconda3/envs/datamined/lib/python3.6/site-packages/populus/project.py:235: DeprecationWarning: project.contracts_source_dir has been replaced by the plural, project.contracts_source_dirs which is an iterable of all source directories populus will search for contracts.  Please update your code accordingly as this API will be removed in a future release\n",
      "  \"project.contracts_source_dir has been replaced by the plural, \"\n",
      "/home/rbharath/anaconda3/envs/datamined/lib/python3.6/site-packages/populus/chain/tester.py:13: DeprecationWarning: currentProvider is deprecated in favor of `providers`, which is now a list\n",
      "  self.rpc_methods = self.web3.currentProvider.rpc_methods\n",
      "/home/rbharath/anaconda3/envs/datamined/lib/python3.6/site-packages/eth_utils/functional.py:21: DeprecationWarning: The `compose` function has been deprecated and will be removed in a subsequent release of `ethereum-utils`.  It is recommended that you switch to use a library like `cytoolz` which provides similar functionality through the `cytoolz.functoolz.compose` function.\n",
      "  \"The `compose` function has been deprecated and will be removed in a \"\n",
      "/home/rbharath/anaconda3/envs/datamined/lib/python3.6/site-packages/eth_utils/functional.py:21: DeprecationWarning: The `compose` function has been deprecated and will be removed in a subsequent release of `ethereum-utils`.  It is recommended that you switch to use a library like `cytoolz` which provides similar functionality through the `cytoolz.functoolz.compose` function.\n",
      "  \"The `compose` function has been deprecated and will be removed in a \"\n"
     ]
    },
    {
     "name": "stderr",
     "output_type": "stream",
     "text": [
      "/home/rbharath/anaconda3/envs/datamined/lib/python3.6/site-packages/eth_utils/functional.py:21: DeprecationWarning: The `compose` function has been deprecated and will be removed in a subsequent release of `ethereum-utils`.  It is recommended that you switch to use a library like `cytoolz` which provides similar functionality through the `cytoolz.functoolz.compose` function.\n",
      "  \"The `compose` function has been deprecated and will be removed in a \"\n",
      "/home/rbharath/anaconda3/envs/datamined/lib/python3.6/site-packages/populus/project.py:235: DeprecationWarning: project.contracts_source_dir has been replaced by the plural, project.contracts_source_dirs which is an iterable of all source directories populus will search for contracts.  Please update your code accordingly as this API will be removed in a future release\n",
      "  \"project.contracts_source_dir has been replaced by the plural, \"\n",
      "/home/rbharath/anaconda3/envs/datamined/lib/python3.6/site-packages/populus/chain/tester.py:13: DeprecationWarning: currentProvider is deprecated in favor of `providers`, which is now a list\n",
      "  self.rpc_methods = self.web3.currentProvider.rpc_methods\n",
      "/home/rbharath/anaconda3/envs/datamined/lib/python3.6/site-packages/eth_utils/functional.py:21: DeprecationWarning: The `compose` function has been deprecated and will be removed in a subsequent release of `ethereum-utils`.  It is recommended that you switch to use a library like `cytoolz` which provides similar functionality through the `cytoolz.functoolz.compose` function.\n",
      "  \"The `compose` function has been deprecated and will be removed in a \"\n",
      "/home/rbharath/anaconda3/envs/datamined/lib/python3.6/site-packages/eth_utils/functional.py:21: DeprecationWarning: The `compose` function has been deprecated and will be removed in a subsequent release of `ethereum-utils`.  It is recommended that you switch to use a library like `cytoolz` which provides similar functionality through the `cytoolz.functoolz.compose` function.\n",
      "  \"The `compose` function has been deprecated and will be removed in a \"\n",
      "/home/rbharath/anaconda3/envs/datamined/lib/python3.6/site-packages/eth_utils/functional.py:21: DeprecationWarning: The `compose` function has been deprecated and will be removed in a subsequent release of `ethereum-utils`.  It is recommended that you switch to use a library like `cytoolz` which provides similar functionality through the `cytoolz.functoolz.compose` function.\n",
      "  \"The `compose` function has been deprecated and will be removed in a \"\n",
      "/home/rbharath/anaconda3/envs/datamined/lib/python3.6/site-packages/populus/project.py:235: DeprecationWarning: project.contracts_source_dir has been replaced by the plural, project.contracts_source_dirs which is an iterable of all source directories populus will search for contracts.  Please update your code accordingly as this API will be removed in a future release\n",
      "  \"project.contracts_source_dir has been replaced by the plural, \"\n",
      "/home/rbharath/anaconda3/envs/datamined/lib/python3.6/site-packages/populus/chain/tester.py:13: DeprecationWarning: currentProvider is deprecated in favor of `providers`, which is now a list\n",
      "  self.rpc_methods = self.web3.currentProvider.rpc_methods\n",
      "/home/rbharath/anaconda3/envs/datamined/lib/python3.6/site-packages/eth_utils/functional.py:21: DeprecationWarning: The `compose` function has been deprecated and will be removed in a subsequent release of `ethereum-utils`.  It is recommended that you switch to use a library like `cytoolz` which provides similar functionality through the `cytoolz.functoolz.compose` function.\n",
      "  \"The `compose` function has been deprecated and will be removed in a \"\n",
      "/home/rbharath/anaconda3/envs/datamined/lib/python3.6/site-packages/eth_utils/functional.py:21: DeprecationWarning: The `compose` function has been deprecated and will be removed in a subsequent release of `ethereum-utils`.  It is recommended that you switch to use a library like `cytoolz` which provides similar functionality through the `cytoolz.functoolz.compose` function.\n",
      "  \"The `compose` function has been deprecated and will be removed in a \"\n",
      "/home/rbharath/anaconda3/envs/datamined/lib/python3.6/site-packages/eth_utils/functional.py:21: DeprecationWarning: The `compose` function has been deprecated and will be removed in a subsequent release of `ethereum-utils`.  It is recommended that you switch to use a library like `cytoolz` which provides similar functionality through the `cytoolz.functoolz.compose` function.\n",
      "  \"The `compose` function has been deprecated and will be removed in a \"\n",
      "/home/rbharath/anaconda3/envs/datamined/lib/python3.6/site-packages/populus/project.py:235: DeprecationWarning: project.contracts_source_dir has been replaced by the plural, project.contracts_source_dirs which is an iterable of all source directories populus will search for contracts.  Please update your code accordingly as this API will be removed in a future release\n",
      "  \"project.contracts_source_dir has been replaced by the plural, \"\n",
      "/home/rbharath/anaconda3/envs/datamined/lib/python3.6/site-packages/populus/chain/tester.py:13: DeprecationWarning: currentProvider is deprecated in favor of `providers`, which is now a list\n",
      "  self.rpc_methods = self.web3.currentProvider.rpc_methods\n",
      "/home/rbharath/anaconda3/envs/datamined/lib/python3.6/site-packages/eth_utils/functional.py:21: DeprecationWarning: The `compose` function has been deprecated and will be removed in a subsequent release of `ethereum-utils`.  It is recommended that you switch to use a library like `cytoolz` which provides similar functionality through the `cytoolz.functoolz.compose` function.\n",
      "  \"The `compose` function has been deprecated and will be removed in a \"\n",
      "/home/rbharath/anaconda3/envs/datamined/lib/python3.6/site-packages/eth_utils/functional.py:21: DeprecationWarning: The `compose` function has been deprecated and will be removed in a subsequent release of `ethereum-utils`.  It is recommended that you switch to use a library like `cytoolz` which provides similar functionality through the `cytoolz.functoolz.compose` function.\n",
      "  \"The `compose` function has been deprecated and will be removed in a \"\n",
      "/home/rbharath/anaconda3/envs/datamined/lib/python3.6/site-packages/eth_utils/functional.py:21: DeprecationWarning: The `compose` function has been deprecated and will be removed in a subsequent release of `ethereum-utils`.  It is recommended that you switch to use a library like `cytoolz` which provides similar functionality through the `cytoolz.functoolz.compose` function.\n",
      "  \"The `compose` function has been deprecated and will be removed in a \"\n",
      "/home/rbharath/anaconda3/envs/datamined/lib/python3.6/site-packages/populus/project.py:235: DeprecationWarning: project.contracts_source_dir has been replaced by the plural, project.contracts_source_dirs which is an iterable of all source directories populus will search for contracts.  Please update your code accordingly as this API will be removed in a future release\n",
      "  \"project.contracts_source_dir has been replaced by the plural, \"\n"
     ]
    }
   ],
   "source": [
    "import datamined as dm\n",
    "# TODO(rbharath): The eth_utils package emits many unsavory warnings. \n",
    "# I haven't yet been able to figure out a good way to suppress them.\n",
    "\n",
    "miners = []\n",
    "for n in range(N_miners):\n",
    "  # Create a separate client wallet for each miner\n",
    "  miner_wallet = dm.coins.LocalGethWallet()\n",
    "  # TODO(rbharath): Modify example so that each miner has a separate private key\n",
    "  miner_private_key = \"ignored\"\n",
    "  # TODO(rbharath): The InsecureFileClient doesn't perform any at-rest encryption of data.\n",
    "  # Swap out for a wallet that encrypts data that's on disk.\n",
    "  miner = dm.data.InsecureFileClient(miner_private_key, miner_wallet)\n",
    "  miners.append(miner)"
   ]
  },
  {
   "cell_type": "markdown",
   "metadata": {
    "collapsed": true
   },
   "source": [
    "Now that miners have been created, let's allow miners to load their data and receive tokens for their trouble. In this example, we will assume that miners are loading personal genomic data onto the network. If the validator accepts their genomic data, then the miner is rewarded with `DataCoin` tokens for their trouble."
   ]
  },
  {
   "cell_type": "code",
   "execution_count": 3,
   "metadata": {},
   "outputs": [
    {
     "name": "stdout",
     "output_type": "stream",
     "text": [
      "Adding data for miner  0\n"
     ]
    },
    {
     "name": "stderr",
     "output_type": "stream",
     "text": [
      "/home/rbharath/anaconda3/envs/datamined/lib/python3.6/site-packages/eth_utils/functional.py:21: DeprecationWarning: The `compose` function has been deprecated and will be removed in a subsequent release of `ethereum-utils`.  It is recommended that you switch to use a library like `cytoolz` which provides similar functionality through the `cytoolz.functoolz.compose` function.\n",
      "  \"The `compose` function has been deprecated and will be removed in a \"\n",
      "/home/rbharath/anaconda3/envs/datamined/lib/python3.6/site-packages/populus/chain/tester.py:13: DeprecationWarning: currentProvider is deprecated in favor of `providers`, which is now a list\n",
      "  self.rpc_methods = self.web3.currentProvider.rpc_methods\n",
      "/home/rbharath/anaconda3/envs/datamined/lib/python3.6/site-packages/eth_utils/functional.py:21: DeprecationWarning: The `compose` function has been deprecated and will be removed in a subsequent release of `ethereum-utils`.  It is recommended that you switch to use a library like `cytoolz` which provides similar functionality through the `cytoolz.functoolz.compose` function.\n",
      "  \"The `compose` function has been deprecated and will be removed in a \"\n",
      "/home/rbharath/anaconda3/envs/datamined/lib/python3.6/site-packages/populus/chain/tester.py:13: DeprecationWarning: currentProvider is deprecated in favor of `providers`, which is now a list\n",
      "  self.rpc_methods = self.web3.currentProvider.rpc_methods\n",
      "/home/rbharath/anaconda3/envs/datamined/lib/python3.6/site-packages/eth_abi/abi.py:92: DeprecationWarning: Automatic inference of hex encoded data has been deprecated. Please adjust your code to ensure that the data argument for `decode_single` is a byte string\n",
      "  \"Automatic inference of hex encoded data has been deprecated. \"\n",
      "/home/rbharath/anaconda3/envs/datamined/lib/python3.6/site-packages/eth_utils/functional.py:21: DeprecationWarning: The `compose` function has been deprecated and will be removed in a subsequent release of `ethereum-utils`.  It is recommended that you switch to use a library like `cytoolz` which provides similar functionality through the `cytoolz.functoolz.compose` function.\n",
      "  \"The `compose` function has been deprecated and will be removed in a \"\n",
      "/home/rbharath/anaconda3/envs/datamined/lib/python3.6/site-packages/populus/chain/tester.py:13: DeprecationWarning: currentProvider is deprecated in favor of `providers`, which is now a list\n",
      "  self.rpc_methods = self.web3.currentProvider.rpc_methods\n"
     ]
    },
    {
     "name": "stdout",
     "output_type": "stream",
     "text": [
      "  1 coins were issued\n",
      "Adding data for miner  1\n"
     ]
    },
    {
     "name": "stderr",
     "output_type": "stream",
     "text": [
      "/home/rbharath/anaconda3/envs/datamined/lib/python3.6/site-packages/eth_utils/functional.py:21: DeprecationWarning: The `compose` function has been deprecated and will be removed in a subsequent release of `ethereum-utils`.  It is recommended that you switch to use a library like `cytoolz` which provides similar functionality through the `cytoolz.functoolz.compose` function.\n",
      "  \"The `compose` function has been deprecated and will be removed in a \"\n",
      "/home/rbharath/anaconda3/envs/datamined/lib/python3.6/site-packages/populus/chain/tester.py:13: DeprecationWarning: currentProvider is deprecated in favor of `providers`, which is now a list\n",
      "  self.rpc_methods = self.web3.currentProvider.rpc_methods\n",
      "/home/rbharath/anaconda3/envs/datamined/lib/python3.6/site-packages/eth_abi/abi.py:92: DeprecationWarning: Automatic inference of hex encoded data has been deprecated. Please adjust your code to ensure that the data argument for `decode_single` is a byte string\n",
      "  \"Automatic inference of hex encoded data has been deprecated. \"\n",
      "/home/rbharath/anaconda3/envs/datamined/lib/python3.6/site-packages/eth_utils/functional.py:21: DeprecationWarning: The `compose` function has been deprecated and will be removed in a subsequent release of `ethereum-utils`.  It is recommended that you switch to use a library like `cytoolz` which provides similar functionality through the `cytoolz.functoolz.compose` function.\n",
      "  \"The `compose` function has been deprecated and will be removed in a \"\n",
      "/home/rbharath/anaconda3/envs/datamined/lib/python3.6/site-packages/populus/chain/tester.py:13: DeprecationWarning: currentProvider is deprecated in favor of `providers`, which is now a list\n",
      "  self.rpc_methods = self.web3.currentProvider.rpc_methods\n"
     ]
    },
    {
     "name": "stdout",
     "output_type": "stream",
     "text": [
      "  1 coins were issued\n",
      "Adding data for miner  2\n"
     ]
    },
    {
     "name": "stderr",
     "output_type": "stream",
     "text": [
      "/home/rbharath/anaconda3/envs/datamined/lib/python3.6/site-packages/eth_utils/functional.py:21: DeprecationWarning: The `compose` function has been deprecated and will be removed in a subsequent release of `ethereum-utils`.  It is recommended that you switch to use a library like `cytoolz` which provides similar functionality through the `cytoolz.functoolz.compose` function.\n",
      "  \"The `compose` function has been deprecated and will be removed in a \"\n",
      "/home/rbharath/anaconda3/envs/datamined/lib/python3.6/site-packages/populus/chain/tester.py:13: DeprecationWarning: currentProvider is deprecated in favor of `providers`, which is now a list\n",
      "  self.rpc_methods = self.web3.currentProvider.rpc_methods\n",
      "/home/rbharath/anaconda3/envs/datamined/lib/python3.6/site-packages/eth_abi/abi.py:92: DeprecationWarning: Automatic inference of hex encoded data has been deprecated. Please adjust your code to ensure that the data argument for `decode_single` is a byte string\n",
      "  \"Automatic inference of hex encoded data has been deprecated. \"\n",
      "/home/rbharath/anaconda3/envs/datamined/lib/python3.6/site-packages/eth_utils/functional.py:21: DeprecationWarning: The `compose` function has been deprecated and will be removed in a subsequent release of `ethereum-utils`.  It is recommended that you switch to use a library like `cytoolz` which provides similar functionality through the `cytoolz.functoolz.compose` function.\n",
      "  \"The `compose` function has been deprecated and will be removed in a \"\n",
      "/home/rbharath/anaconda3/envs/datamined/lib/python3.6/site-packages/populus/chain/tester.py:13: DeprecationWarning: currentProvider is deprecated in favor of `providers`, which is now a list\n",
      "  self.rpc_methods = self.web3.currentProvider.rpc_methods\n"
     ]
    },
    {
     "name": "stdout",
     "output_type": "stream",
     "text": [
      "  1 coins were issued\n",
      "Adding data for miner  3\n"
     ]
    },
    {
     "name": "stderr",
     "output_type": "stream",
     "text": [
      "/home/rbharath/anaconda3/envs/datamined/lib/python3.6/site-packages/eth_utils/functional.py:21: DeprecationWarning: The `compose` function has been deprecated and will be removed in a subsequent release of `ethereum-utils`.  It is recommended that you switch to use a library like `cytoolz` which provides similar functionality through the `cytoolz.functoolz.compose` function.\n",
      "  \"The `compose` function has been deprecated and will be removed in a \"\n",
      "/home/rbharath/anaconda3/envs/datamined/lib/python3.6/site-packages/populus/chain/tester.py:13: DeprecationWarning: currentProvider is deprecated in favor of `providers`, which is now a list\n",
      "  self.rpc_methods = self.web3.currentProvider.rpc_methods\n",
      "/home/rbharath/anaconda3/envs/datamined/lib/python3.6/site-packages/eth_abi/abi.py:92: DeprecationWarning: Automatic inference of hex encoded data has been deprecated. Please adjust your code to ensure that the data argument for `decode_single` is a byte string\n",
      "  \"Automatic inference of hex encoded data has been deprecated. \"\n",
      "/home/rbharath/anaconda3/envs/datamined/lib/python3.6/site-packages/eth_utils/functional.py:21: DeprecationWarning: The `compose` function has been deprecated and will be removed in a subsequent release of `ethereum-utils`.  It is recommended that you switch to use a library like `cytoolz` which provides similar functionality through the `cytoolz.functoolz.compose` function.\n",
      "  \"The `compose` function has been deprecated and will be removed in a \"\n"
     ]
    },
    {
     "name": "stdout",
     "output_type": "stream",
     "text": [
      "  1 coins were issued\n",
      "Adding data for miner  4\n"
     ]
    },
    {
     "name": "stderr",
     "output_type": "stream",
     "text": [
      "/home/rbharath/anaconda3/envs/datamined/lib/python3.6/site-packages/populus/chain/tester.py:13: DeprecationWarning: currentProvider is deprecated in favor of `providers`, which is now a list\n",
      "  self.rpc_methods = self.web3.currentProvider.rpc_methods\n",
      "/home/rbharath/anaconda3/envs/datamined/lib/python3.6/site-packages/eth_utils/functional.py:21: DeprecationWarning: The `compose` function has been deprecated and will be removed in a subsequent release of `ethereum-utils`.  It is recommended that you switch to use a library like `cytoolz` which provides similar functionality through the `cytoolz.functoolz.compose` function.\n",
      "  \"The `compose` function has been deprecated and will be removed in a \"\n",
      "/home/rbharath/anaconda3/envs/datamined/lib/python3.6/site-packages/populus/chain/tester.py:13: DeprecationWarning: currentProvider is deprecated in favor of `providers`, which is now a list\n",
      "  self.rpc_methods = self.web3.currentProvider.rpc_methods\n",
      "/home/rbharath/anaconda3/envs/datamined/lib/python3.6/site-packages/eth_abi/abi.py:92: DeprecationWarning: Automatic inference of hex encoded data has been deprecated. Please adjust your code to ensure that the data argument for `decode_single` is a byte string\n",
      "  \"Automatic inference of hex encoded data has been deprecated. \"\n",
      "/home/rbharath/anaconda3/envs/datamined/lib/python3.6/site-packages/eth_utils/functional.py:21: DeprecationWarning: The `compose` function has been deprecated and will be removed in a subsequent release of `ethereum-utils`.  It is recommended that you switch to use a library like `cytoolz` which provides similar functionality through the `cytoolz.functoolz.compose` function.\n",
      "  \"The `compose` function has been deprecated and will be removed in a \"\n",
      "/home/rbharath/anaconda3/envs/datamined/lib/python3.6/site-packages/populus/chain/tester.py:13: DeprecationWarning: currentProvider is deprecated in favor of `providers`, which is now a list\n",
      "  self.rpc_methods = self.web3.currentProvider.rpc_methods\n"
     ]
    },
    {
     "name": "stdout",
     "output_type": "stream",
     "text": [
      "  1 coins were issued\n",
      "Adding data for miner  5\n"
     ]
    },
    {
     "name": "stderr",
     "output_type": "stream",
     "text": [
      "/home/rbharath/anaconda3/envs/datamined/lib/python3.6/site-packages/eth_utils/functional.py:21: DeprecationWarning: The `compose` function has been deprecated and will be removed in a subsequent release of `ethereum-utils`.  It is recommended that you switch to use a library like `cytoolz` which provides similar functionality through the `cytoolz.functoolz.compose` function.\n",
      "  \"The `compose` function has been deprecated and will be removed in a \"\n",
      "/home/rbharath/anaconda3/envs/datamined/lib/python3.6/site-packages/populus/chain/tester.py:13: DeprecationWarning: currentProvider is deprecated in favor of `providers`, which is now a list\n",
      "  self.rpc_methods = self.web3.currentProvider.rpc_methods\n",
      "/home/rbharath/anaconda3/envs/datamined/lib/python3.6/site-packages/eth_abi/abi.py:92: DeprecationWarning: Automatic inference of hex encoded data has been deprecated. Please adjust your code to ensure that the data argument for `decode_single` is a byte string\n",
      "  \"Automatic inference of hex encoded data has been deprecated. \"\n",
      "/home/rbharath/anaconda3/envs/datamined/lib/python3.6/site-packages/eth_utils/functional.py:21: DeprecationWarning: The `compose` function has been deprecated and will be removed in a subsequent release of `ethereum-utils`.  It is recommended that you switch to use a library like `cytoolz` which provides similar functionality through the `cytoolz.functoolz.compose` function.\n",
      "  \"The `compose` function has been deprecated and will be removed in a \"\n"
     ]
    },
    {
     "name": "stdout",
     "output_type": "stream",
     "text": [
      "  1 coins were issued\n",
      "Adding data for miner  6\n"
     ]
    },
    {
     "name": "stderr",
     "output_type": "stream",
     "text": [
      "/home/rbharath/anaconda3/envs/datamined/lib/python3.6/site-packages/populus/chain/tester.py:13: DeprecationWarning: currentProvider is deprecated in favor of `providers`, which is now a list\n",
      "  self.rpc_methods = self.web3.currentProvider.rpc_methods\n",
      "/home/rbharath/anaconda3/envs/datamined/lib/python3.6/site-packages/eth_utils/functional.py:21: DeprecationWarning: The `compose` function has been deprecated and will be removed in a subsequent release of `ethereum-utils`.  It is recommended that you switch to use a library like `cytoolz` which provides similar functionality through the `cytoolz.functoolz.compose` function.\n",
      "  \"The `compose` function has been deprecated and will be removed in a \"\n",
      "/home/rbharath/anaconda3/envs/datamined/lib/python3.6/site-packages/populus/chain/tester.py:13: DeprecationWarning: currentProvider is deprecated in favor of `providers`, which is now a list\n",
      "  self.rpc_methods = self.web3.currentProvider.rpc_methods\n",
      "/home/rbharath/anaconda3/envs/datamined/lib/python3.6/site-packages/eth_abi/abi.py:92: DeprecationWarning: Automatic inference of hex encoded data has been deprecated. Please adjust your code to ensure that the data argument for `decode_single` is a byte string\n",
      "  \"Automatic inference of hex encoded data has been deprecated. \"\n",
      "/home/rbharath/anaconda3/envs/datamined/lib/python3.6/site-packages/eth_utils/functional.py:21: DeprecationWarning: The `compose` function has been deprecated and will be removed in a subsequent release of `ethereum-utils`.  It is recommended that you switch to use a library like `cytoolz` which provides similar functionality through the `cytoolz.functoolz.compose` function.\n",
      "  \"The `compose` function has been deprecated and will be removed in a \"\n",
      "/home/rbharath/anaconda3/envs/datamined/lib/python3.6/site-packages/populus/chain/tester.py:13: DeprecationWarning: currentProvider is deprecated in favor of `providers`, which is now a list\n",
      "  self.rpc_methods = self.web3.currentProvider.rpc_methods\n"
     ]
    },
    {
     "name": "stdout",
     "output_type": "stream",
     "text": [
      "  1 coins were issued\n",
      "Adding data for miner  7\n"
     ]
    },
    {
     "name": "stderr",
     "output_type": "stream",
     "text": [
      "/home/rbharath/anaconda3/envs/datamined/lib/python3.6/site-packages/eth_utils/functional.py:21: DeprecationWarning: The `compose` function has been deprecated and will be removed in a subsequent release of `ethereum-utils`.  It is recommended that you switch to use a library like `cytoolz` which provides similar functionality through the `cytoolz.functoolz.compose` function.\n",
      "  \"The `compose` function has been deprecated and will be removed in a \"\n",
      "/home/rbharath/anaconda3/envs/datamined/lib/python3.6/site-packages/populus/chain/tester.py:13: DeprecationWarning: currentProvider is deprecated in favor of `providers`, which is now a list\n",
      "  self.rpc_methods = self.web3.currentProvider.rpc_methods\n",
      "/home/rbharath/anaconda3/envs/datamined/lib/python3.6/site-packages/eth_abi/abi.py:92: DeprecationWarning: Automatic inference of hex encoded data has been deprecated. Please adjust your code to ensure that the data argument for `decode_single` is a byte string\n",
      "  \"Automatic inference of hex encoded data has been deprecated. \"\n",
      "/home/rbharath/anaconda3/envs/datamined/lib/python3.6/site-packages/eth_utils/functional.py:21: DeprecationWarning: The `compose` function has been deprecated and will be removed in a subsequent release of `ethereum-utils`.  It is recommended that you switch to use a library like `cytoolz` which provides similar functionality through the `cytoolz.functoolz.compose` function.\n",
      "  \"The `compose` function has been deprecated and will be removed in a \"\n",
      "/home/rbharath/anaconda3/envs/datamined/lib/python3.6/site-packages/populus/chain/tester.py:13: DeprecationWarning: currentProvider is deprecated in favor of `providers`, which is now a list\n",
      "  self.rpc_methods = self.web3.currentProvider.rpc_methods\n"
     ]
    },
    {
     "name": "stdout",
     "output_type": "stream",
     "text": [
      "  1 coins were issued\n",
      "Adding data for miner  8\n"
     ]
    },
    {
     "name": "stderr",
     "output_type": "stream",
     "text": [
      "/home/rbharath/anaconda3/envs/datamined/lib/python3.6/site-packages/eth_utils/functional.py:21: DeprecationWarning: The `compose` function has been deprecated and will be removed in a subsequent release of `ethereum-utils`.  It is recommended that you switch to use a library like `cytoolz` which provides similar functionality through the `cytoolz.functoolz.compose` function.\n",
      "  \"The `compose` function has been deprecated and will be removed in a \"\n",
      "/home/rbharath/anaconda3/envs/datamined/lib/python3.6/site-packages/populus/chain/tester.py:13: DeprecationWarning: currentProvider is deprecated in favor of `providers`, which is now a list\n",
      "  self.rpc_methods = self.web3.currentProvider.rpc_methods\n",
      "/home/rbharath/anaconda3/envs/datamined/lib/python3.6/site-packages/eth_abi/abi.py:92: DeprecationWarning: Automatic inference of hex encoded data has been deprecated. Please adjust your code to ensure that the data argument for `decode_single` is a byte string\n",
      "  \"Automatic inference of hex encoded data has been deprecated. \"\n",
      "/home/rbharath/anaconda3/envs/datamined/lib/python3.6/site-packages/eth_utils/functional.py:21: DeprecationWarning: The `compose` function has been deprecated and will be removed in a subsequent release of `ethereum-utils`.  It is recommended that you switch to use a library like `cytoolz` which provides similar functionality through the `cytoolz.functoolz.compose` function.\n",
      "  \"The `compose` function has been deprecated and will be removed in a \"\n",
      "/home/rbharath/anaconda3/envs/datamined/lib/python3.6/site-packages/populus/chain/tester.py:13: DeprecationWarning: currentProvider is deprecated in favor of `providers`, which is now a list\n",
      "  self.rpc_methods = self.web3.currentProvider.rpc_methods\n"
     ]
    },
    {
     "name": "stdout",
     "output_type": "stream",
     "text": [
      "  1 coins were issued\n",
      "Adding data for miner  9\n"
     ]
    },
    {
     "name": "stderr",
     "output_type": "stream",
     "text": [
      "/home/rbharath/anaconda3/envs/datamined/lib/python3.6/site-packages/eth_utils/functional.py:21: DeprecationWarning: The `compose` function has been deprecated and will be removed in a subsequent release of `ethereum-utils`.  It is recommended that you switch to use a library like `cytoolz` which provides similar functionality through the `cytoolz.functoolz.compose` function.\n",
      "  \"The `compose` function has been deprecated and will be removed in a \"\n",
      "/home/rbharath/anaconda3/envs/datamined/lib/python3.6/site-packages/populus/chain/tester.py:13: DeprecationWarning: currentProvider is deprecated in favor of `providers`, which is now a list\n",
      "  self.rpc_methods = self.web3.currentProvider.rpc_methods\n",
      "/home/rbharath/anaconda3/envs/datamined/lib/python3.6/site-packages/eth_abi/abi.py:92: DeprecationWarning: Automatic inference of hex encoded data has been deprecated. Please adjust your code to ensure that the data argument for `decode_single` is a byte string\n",
      "  \"Automatic inference of hex encoded data has been deprecated. \"\n",
      "/home/rbharath/anaconda3/envs/datamined/lib/python3.6/site-packages/eth_utils/functional.py:21: DeprecationWarning: The `compose` function has been deprecated and will be removed in a subsequent release of `ethereum-utils`.  It is recommended that you switch to use a library like `cytoolz` which provides similar functionality through the `cytoolz.functoolz.compose` function.\n",
      "  \"The `compose` function has been deprecated and will be removed in a \"\n",
      "/home/rbharath/anaconda3/envs/datamined/lib/python3.6/site-packages/populus/chain/tester.py:13: DeprecationWarning: currentProvider is deprecated in favor of `providers`, which is now a list\n",
      "  self.rpc_methods = self.web3.currentProvider.rpc_methods\n"
     ]
    },
    {
     "name": "stdout",
     "output_type": "stream",
     "text": [
      "  1 coins were issued\n",
      "Adding data for miner  10\n"
     ]
    },
    {
     "name": "stderr",
     "output_type": "stream",
     "text": [
      "/home/rbharath/anaconda3/envs/datamined/lib/python3.6/site-packages/eth_utils/functional.py:21: DeprecationWarning: The `compose` function has been deprecated and will be removed in a subsequent release of `ethereum-utils`.  It is recommended that you switch to use a library like `cytoolz` which provides similar functionality through the `cytoolz.functoolz.compose` function.\n",
      "  \"The `compose` function has been deprecated and will be removed in a \"\n",
      "/home/rbharath/anaconda3/envs/datamined/lib/python3.6/site-packages/populus/chain/tester.py:13: DeprecationWarning: currentProvider is deprecated in favor of `providers`, which is now a list\n",
      "  self.rpc_methods = self.web3.currentProvider.rpc_methods\n",
      "/home/rbharath/anaconda3/envs/datamined/lib/python3.6/site-packages/eth_abi/abi.py:92: DeprecationWarning: Automatic inference of hex encoded data has been deprecated. Please adjust your code to ensure that the data argument for `decode_single` is a byte string\n",
      "  \"Automatic inference of hex encoded data has been deprecated. \"\n",
      "/home/rbharath/anaconda3/envs/datamined/lib/python3.6/site-packages/eth_utils/functional.py:21: DeprecationWarning: The `compose` function has been deprecated and will be removed in a subsequent release of `ethereum-utils`.  It is recommended that you switch to use a library like `cytoolz` which provides similar functionality through the `cytoolz.functoolz.compose` function.\n",
      "  \"The `compose` function has been deprecated and will be removed in a \"\n",
      "/home/rbharath/anaconda3/envs/datamined/lib/python3.6/site-packages/populus/chain/tester.py:13: DeprecationWarning: currentProvider is deprecated in favor of `providers`, which is now a list\n",
      "  self.rpc_methods = self.web3.currentProvider.rpc_methods\n"
     ]
    },
    {
     "name": "stdout",
     "output_type": "stream",
     "text": [
      "  1 coins were issued\n",
      "Adding data for miner  11\n"
     ]
    },
    {
     "name": "stderr",
     "output_type": "stream",
     "text": [
      "/home/rbharath/anaconda3/envs/datamined/lib/python3.6/site-packages/eth_utils/functional.py:21: DeprecationWarning: The `compose` function has been deprecated and will be removed in a subsequent release of `ethereum-utils`.  It is recommended that you switch to use a library like `cytoolz` which provides similar functionality through the `cytoolz.functoolz.compose` function.\n",
      "  \"The `compose` function has been deprecated and will be removed in a \"\n",
      "/home/rbharath/anaconda3/envs/datamined/lib/python3.6/site-packages/populus/chain/tester.py:13: DeprecationWarning: currentProvider is deprecated in favor of `providers`, which is now a list\n",
      "  self.rpc_methods = self.web3.currentProvider.rpc_methods\n",
      "/home/rbharath/anaconda3/envs/datamined/lib/python3.6/site-packages/eth_abi/abi.py:92: DeprecationWarning: Automatic inference of hex encoded data has been deprecated. Please adjust your code to ensure that the data argument for `decode_single` is a byte string\n",
      "  \"Automatic inference of hex encoded data has been deprecated. \"\n",
      "/home/rbharath/anaconda3/envs/datamined/lib/python3.6/site-packages/eth_utils/functional.py:21: DeprecationWarning: The `compose` function has been deprecated and will be removed in a subsequent release of `ethereum-utils`.  It is recommended that you switch to use a library like `cytoolz` which provides similar functionality through the `cytoolz.functoolz.compose` function.\n",
      "  \"The `compose` function has been deprecated and will be removed in a \"\n"
     ]
    },
    {
     "name": "stdout",
     "output_type": "stream",
     "text": [
      "  1 coins were issued\n",
      "Adding data for miner  12\n"
     ]
    },
    {
     "name": "stderr",
     "output_type": "stream",
     "text": [
      "/home/rbharath/anaconda3/envs/datamined/lib/python3.6/site-packages/populus/chain/tester.py:13: DeprecationWarning: currentProvider is deprecated in favor of `providers`, which is now a list\n",
      "  self.rpc_methods = self.web3.currentProvider.rpc_methods\n",
      "/home/rbharath/anaconda3/envs/datamined/lib/python3.6/site-packages/eth_utils/functional.py:21: DeprecationWarning: The `compose` function has been deprecated and will be removed in a subsequent release of `ethereum-utils`.  It is recommended that you switch to use a library like `cytoolz` which provides similar functionality through the `cytoolz.functoolz.compose` function.\n",
      "  \"The `compose` function has been deprecated and will be removed in a \"\n",
      "/home/rbharath/anaconda3/envs/datamined/lib/python3.6/site-packages/populus/chain/tester.py:13: DeprecationWarning: currentProvider is deprecated in favor of `providers`, which is now a list\n",
      "  self.rpc_methods = self.web3.currentProvider.rpc_methods\n",
      "/home/rbharath/anaconda3/envs/datamined/lib/python3.6/site-packages/eth_abi/abi.py:92: DeprecationWarning: Automatic inference of hex encoded data has been deprecated. Please adjust your code to ensure that the data argument for `decode_single` is a byte string\n",
      "  \"Automatic inference of hex encoded data has been deprecated. \"\n",
      "/home/rbharath/anaconda3/envs/datamined/lib/python3.6/site-packages/eth_utils/functional.py:21: DeprecationWarning: The `compose` function has been deprecated and will be removed in a subsequent release of `ethereum-utils`.  It is recommended that you switch to use a library like `cytoolz` which provides similar functionality through the `cytoolz.functoolz.compose` function.\n",
      "  \"The `compose` function has been deprecated and will be removed in a \"\n",
      "/home/rbharath/anaconda3/envs/datamined/lib/python3.6/site-packages/populus/chain/tester.py:13: DeprecationWarning: currentProvider is deprecated in favor of `providers`, which is now a list\n",
      "  self.rpc_methods = self.web3.currentProvider.rpc_methods\n"
     ]
    },
    {
     "name": "stdout",
     "output_type": "stream",
     "text": [
      "  1 coins were issued\n",
      "Adding data for miner  13\n"
     ]
    },
    {
     "name": "stderr",
     "output_type": "stream",
     "text": [
      "/home/rbharath/anaconda3/envs/datamined/lib/python3.6/site-packages/eth_utils/functional.py:21: DeprecationWarning: The `compose` function has been deprecated and will be removed in a subsequent release of `ethereum-utils`.  It is recommended that you switch to use a library like `cytoolz` which provides similar functionality through the `cytoolz.functoolz.compose` function.\n",
      "  \"The `compose` function has been deprecated and will be removed in a \"\n",
      "/home/rbharath/anaconda3/envs/datamined/lib/python3.6/site-packages/populus/chain/tester.py:13: DeprecationWarning: currentProvider is deprecated in favor of `providers`, which is now a list\n",
      "  self.rpc_methods = self.web3.currentProvider.rpc_methods\n",
      "/home/rbharath/anaconda3/envs/datamined/lib/python3.6/site-packages/eth_abi/abi.py:92: DeprecationWarning: Automatic inference of hex encoded data has been deprecated. Please adjust your code to ensure that the data argument for `decode_single` is a byte string\n",
      "  \"Automatic inference of hex encoded data has been deprecated. \"\n",
      "/home/rbharath/anaconda3/envs/datamined/lib/python3.6/site-packages/eth_utils/functional.py:21: DeprecationWarning: The `compose` function has been deprecated and will be removed in a subsequent release of `ethereum-utils`.  It is recommended that you switch to use a library like `cytoolz` which provides similar functionality through the `cytoolz.functoolz.compose` function.\n",
      "  \"The `compose` function has been deprecated and will be removed in a \"\n",
      "/home/rbharath/anaconda3/envs/datamined/lib/python3.6/site-packages/populus/chain/tester.py:13: DeprecationWarning: currentProvider is deprecated in favor of `providers`, which is now a list\n",
      "  self.rpc_methods = self.web3.currentProvider.rpc_methods\n"
     ]
    },
    {
     "name": "stdout",
     "output_type": "stream",
     "text": [
      "  1 coins were issued\n",
      "Adding data for miner  14\n"
     ]
    },
    {
     "name": "stderr",
     "output_type": "stream",
     "text": [
      "/home/rbharath/anaconda3/envs/datamined/lib/python3.6/site-packages/eth_utils/functional.py:21: DeprecationWarning: The `compose` function has been deprecated and will be removed in a subsequent release of `ethereum-utils`.  It is recommended that you switch to use a library like `cytoolz` which provides similar functionality through the `cytoolz.functoolz.compose` function.\n",
      "  \"The `compose` function has been deprecated and will be removed in a \"\n",
      "/home/rbharath/anaconda3/envs/datamined/lib/python3.6/site-packages/populus/chain/tester.py:13: DeprecationWarning: currentProvider is deprecated in favor of `providers`, which is now a list\n",
      "  self.rpc_methods = self.web3.currentProvider.rpc_methods\n",
      "/home/rbharath/anaconda3/envs/datamined/lib/python3.6/site-packages/eth_abi/abi.py:92: DeprecationWarning: Automatic inference of hex encoded data has been deprecated. Please adjust your code to ensure that the data argument for `decode_single` is a byte string\n",
      "  \"Automatic inference of hex encoded data has been deprecated. \"\n",
      "/home/rbharath/anaconda3/envs/datamined/lib/python3.6/site-packages/eth_utils/functional.py:21: DeprecationWarning: The `compose` function has been deprecated and will be removed in a subsequent release of `ethereum-utils`.  It is recommended that you switch to use a library like `cytoolz` which provides similar functionality through the `cytoolz.functoolz.compose` function.\n",
      "  \"The `compose` function has been deprecated and will be removed in a \"\n",
      "/home/rbharath/anaconda3/envs/datamined/lib/python3.6/site-packages/populus/chain/tester.py:13: DeprecationWarning: currentProvider is deprecated in favor of `providers`, which is now a list\n",
      "  self.rpc_methods = self.web3.currentProvider.rpc_methods\n"
     ]
    },
    {
     "name": "stdout",
     "output_type": "stream",
     "text": [
      "  1 coins were issued\n",
      "Adding data for miner  15\n"
     ]
    },
    {
     "name": "stderr",
     "output_type": "stream",
     "text": [
      "/home/rbharath/anaconda3/envs/datamined/lib/python3.6/site-packages/eth_utils/functional.py:21: DeprecationWarning: The `compose` function has been deprecated and will be removed in a subsequent release of `ethereum-utils`.  It is recommended that you switch to use a library like `cytoolz` which provides similar functionality through the `cytoolz.functoolz.compose` function.\n",
      "  \"The `compose` function has been deprecated and will be removed in a \"\n",
      "/home/rbharath/anaconda3/envs/datamined/lib/python3.6/site-packages/populus/chain/tester.py:13: DeprecationWarning: currentProvider is deprecated in favor of `providers`, which is now a list\n",
      "  self.rpc_methods = self.web3.currentProvider.rpc_methods\n",
      "/home/rbharath/anaconda3/envs/datamined/lib/python3.6/site-packages/eth_abi/abi.py:92: DeprecationWarning: Automatic inference of hex encoded data has been deprecated. Please adjust your code to ensure that the data argument for `decode_single` is a byte string\n",
      "  \"Automatic inference of hex encoded data has been deprecated. \"\n",
      "/home/rbharath/anaconda3/envs/datamined/lib/python3.6/site-packages/eth_utils/functional.py:21: DeprecationWarning: The `compose` function has been deprecated and will be removed in a subsequent release of `ethereum-utils`.  It is recommended that you switch to use a library like `cytoolz` which provides similar functionality through the `cytoolz.functoolz.compose` function.\n",
      "  \"The `compose` function has been deprecated and will be removed in a \"\n"
     ]
    },
    {
     "name": "stdout",
     "output_type": "stream",
     "text": [
      "  1 coins were issued\n",
      "Adding data for miner  16\n"
     ]
    },
    {
     "name": "stderr",
     "output_type": "stream",
     "text": [
      "/home/rbharath/anaconda3/envs/datamined/lib/python3.6/site-packages/populus/chain/tester.py:13: DeprecationWarning: currentProvider is deprecated in favor of `providers`, which is now a list\n",
      "  self.rpc_methods = self.web3.currentProvider.rpc_methods\n",
      "/home/rbharath/anaconda3/envs/datamined/lib/python3.6/site-packages/eth_utils/functional.py:21: DeprecationWarning: The `compose` function has been deprecated and will be removed in a subsequent release of `ethereum-utils`.  It is recommended that you switch to use a library like `cytoolz` which provides similar functionality through the `cytoolz.functoolz.compose` function.\n",
      "  \"The `compose` function has been deprecated and will be removed in a \"\n",
      "/home/rbharath/anaconda3/envs/datamined/lib/python3.6/site-packages/populus/chain/tester.py:13: DeprecationWarning: currentProvider is deprecated in favor of `providers`, which is now a list\n",
      "  self.rpc_methods = self.web3.currentProvider.rpc_methods\n",
      "/home/rbharath/anaconda3/envs/datamined/lib/python3.6/site-packages/eth_abi/abi.py:92: DeprecationWarning: Automatic inference of hex encoded data has been deprecated. Please adjust your code to ensure that the data argument for `decode_single` is a byte string\n",
      "  \"Automatic inference of hex encoded data has been deprecated. \"\n",
      "/home/rbharath/anaconda3/envs/datamined/lib/python3.6/site-packages/eth_utils/functional.py:21: DeprecationWarning: The `compose` function has been deprecated and will be removed in a subsequent release of `ethereum-utils`.  It is recommended that you switch to use a library like `cytoolz` which provides similar functionality through the `cytoolz.functoolz.compose` function.\n",
      "  \"The `compose` function has been deprecated and will be removed in a \"\n",
      "/home/rbharath/anaconda3/envs/datamined/lib/python3.6/site-packages/populus/chain/tester.py:13: DeprecationWarning: currentProvider is deprecated in favor of `providers`, which is now a list\n",
      "  self.rpc_methods = self.web3.currentProvider.rpc_methods\n"
     ]
    },
    {
     "name": "stdout",
     "output_type": "stream",
     "text": [
      "  1 coins were issued\n",
      "Adding data for miner  17\n"
     ]
    },
    {
     "name": "stderr",
     "output_type": "stream",
     "text": [
      "/home/rbharath/anaconda3/envs/datamined/lib/python3.6/site-packages/eth_utils/functional.py:21: DeprecationWarning: The `compose` function has been deprecated and will be removed in a subsequent release of `ethereum-utils`.  It is recommended that you switch to use a library like `cytoolz` which provides similar functionality through the `cytoolz.functoolz.compose` function.\n",
      "  \"The `compose` function has been deprecated and will be removed in a \"\n",
      "/home/rbharath/anaconda3/envs/datamined/lib/python3.6/site-packages/populus/chain/tester.py:13: DeprecationWarning: currentProvider is deprecated in favor of `providers`, which is now a list\n",
      "  self.rpc_methods = self.web3.currentProvider.rpc_methods\n",
      "/home/rbharath/anaconda3/envs/datamined/lib/python3.6/site-packages/eth_abi/abi.py:92: DeprecationWarning: Automatic inference of hex encoded data has been deprecated. Please adjust your code to ensure that the data argument for `decode_single` is a byte string\n",
      "  \"Automatic inference of hex encoded data has been deprecated. \"\n",
      "/home/rbharath/anaconda3/envs/datamined/lib/python3.6/site-packages/eth_utils/functional.py:21: DeprecationWarning: The `compose` function has been deprecated and will be removed in a subsequent release of `ethereum-utils`.  It is recommended that you switch to use a library like `cytoolz` which provides similar functionality through the `cytoolz.functoolz.compose` function.\n",
      "  \"The `compose` function has been deprecated and will be removed in a \"\n",
      "/home/rbharath/anaconda3/envs/datamined/lib/python3.6/site-packages/populus/chain/tester.py:13: DeprecationWarning: currentProvider is deprecated in favor of `providers`, which is now a list\n",
      "  self.rpc_methods = self.web3.currentProvider.rpc_methods\n"
     ]
    },
    {
     "name": "stdout",
     "output_type": "stream",
     "text": [
      "  1 coins were issued\n",
      "Adding data for miner  18\n"
     ]
    },
    {
     "name": "stderr",
     "output_type": "stream",
     "text": [
      "/home/rbharath/anaconda3/envs/datamined/lib/python3.6/site-packages/eth_utils/functional.py:21: DeprecationWarning: The `compose` function has been deprecated and will be removed in a subsequent release of `ethereum-utils`.  It is recommended that you switch to use a library like `cytoolz` which provides similar functionality through the `cytoolz.functoolz.compose` function.\n",
      "  \"The `compose` function has been deprecated and will be removed in a \"\n",
      "/home/rbharath/anaconda3/envs/datamined/lib/python3.6/site-packages/populus/chain/tester.py:13: DeprecationWarning: currentProvider is deprecated in favor of `providers`, which is now a list\n",
      "  self.rpc_methods = self.web3.currentProvider.rpc_methods\n",
      "/home/rbharath/anaconda3/envs/datamined/lib/python3.6/site-packages/eth_abi/abi.py:92: DeprecationWarning: Automatic inference of hex encoded data has been deprecated. Please adjust your code to ensure that the data argument for `decode_single` is a byte string\n",
      "  \"Automatic inference of hex encoded data has been deprecated. \"\n",
      "/home/rbharath/anaconda3/envs/datamined/lib/python3.6/site-packages/eth_utils/functional.py:21: DeprecationWarning: The `compose` function has been deprecated and will be removed in a subsequent release of `ethereum-utils`.  It is recommended that you switch to use a library like `cytoolz` which provides similar functionality through the `cytoolz.functoolz.compose` function.\n",
      "  \"The `compose` function has been deprecated and will be removed in a \"\n",
      "/home/rbharath/anaconda3/envs/datamined/lib/python3.6/site-packages/populus/chain/tester.py:13: DeprecationWarning: currentProvider is deprecated in favor of `providers`, which is now a list\n",
      "  self.rpc_methods = self.web3.currentProvider.rpc_methods\n"
     ]
    },
    {
     "name": "stdout",
     "output_type": "stream",
     "text": [
      "  1 coins were issued\n",
      "Adding data for miner  19\n"
     ]
    },
    {
     "name": "stderr",
     "output_type": "stream",
     "text": [
      "/home/rbharath/anaconda3/envs/datamined/lib/python3.6/site-packages/eth_utils/functional.py:21: DeprecationWarning: The `compose` function has been deprecated and will be removed in a subsequent release of `ethereum-utils`.  It is recommended that you switch to use a library like `cytoolz` which provides similar functionality through the `cytoolz.functoolz.compose` function.\n",
      "  \"The `compose` function has been deprecated and will be removed in a \"\n",
      "/home/rbharath/anaconda3/envs/datamined/lib/python3.6/site-packages/populus/chain/tester.py:13: DeprecationWarning: currentProvider is deprecated in favor of `providers`, which is now a list\n",
      "  self.rpc_methods = self.web3.currentProvider.rpc_methods\n",
      "/home/rbharath/anaconda3/envs/datamined/lib/python3.6/site-packages/eth_abi/abi.py:92: DeprecationWarning: Automatic inference of hex encoded data has been deprecated. Please adjust your code to ensure that the data argument for `decode_single` is a byte string\n",
      "  \"Automatic inference of hex encoded data has been deprecated. \"\n",
      "/home/rbharath/anaconda3/envs/datamined/lib/python3.6/site-packages/eth_utils/functional.py:21: DeprecationWarning: The `compose` function has been deprecated and will be removed in a subsequent release of `ethereum-utils`.  It is recommended that you switch to use a library like `cytoolz` which provides similar functionality through the `cytoolz.functoolz.compose` function.\n",
      "  \"The `compose` function has been deprecated and will be removed in a \"\n"
     ]
    },
    {
     "name": "stdout",
     "output_type": "stream",
     "text": [
      "  1 coins were issued\n",
      "Adding data for miner  20\n"
     ]
    },
    {
     "name": "stderr",
     "output_type": "stream",
     "text": [
      "/home/rbharath/anaconda3/envs/datamined/lib/python3.6/site-packages/populus/chain/tester.py:13: DeprecationWarning: currentProvider is deprecated in favor of `providers`, which is now a list\n",
      "  self.rpc_methods = self.web3.currentProvider.rpc_methods\n",
      "/home/rbharath/anaconda3/envs/datamined/lib/python3.6/site-packages/eth_utils/functional.py:21: DeprecationWarning: The `compose` function has been deprecated and will be removed in a subsequent release of `ethereum-utils`.  It is recommended that you switch to use a library like `cytoolz` which provides similar functionality through the `cytoolz.functoolz.compose` function.\n",
      "  \"The `compose` function has been deprecated and will be removed in a \"\n",
      "/home/rbharath/anaconda3/envs/datamined/lib/python3.6/site-packages/populus/chain/tester.py:13: DeprecationWarning: currentProvider is deprecated in favor of `providers`, which is now a list\n",
      "  self.rpc_methods = self.web3.currentProvider.rpc_methods\n",
      "/home/rbharath/anaconda3/envs/datamined/lib/python3.6/site-packages/eth_abi/abi.py:92: DeprecationWarning: Automatic inference of hex encoded data has been deprecated. Please adjust your code to ensure that the data argument for `decode_single` is a byte string\n",
      "  \"Automatic inference of hex encoded data has been deprecated. \"\n",
      "/home/rbharath/anaconda3/envs/datamined/lib/python3.6/site-packages/eth_utils/functional.py:21: DeprecationWarning: The `compose` function has been deprecated and will be removed in a subsequent release of `ethereum-utils`.  It is recommended that you switch to use a library like `cytoolz` which provides similar functionality through the `cytoolz.functoolz.compose` function.\n",
      "  \"The `compose` function has been deprecated and will be removed in a \"\n",
      "/home/rbharath/anaconda3/envs/datamined/lib/python3.6/site-packages/populus/chain/tester.py:13: DeprecationWarning: currentProvider is deprecated in favor of `providers`, which is now a list\n",
      "  self.rpc_methods = self.web3.currentProvider.rpc_methods\n"
     ]
    },
    {
     "name": "stdout",
     "output_type": "stream",
     "text": [
      "  1 coins were issued\n",
      "Adding data for miner  21\n"
     ]
    },
    {
     "name": "stderr",
     "output_type": "stream",
     "text": [
      "/home/rbharath/anaconda3/envs/datamined/lib/python3.6/site-packages/eth_utils/functional.py:21: DeprecationWarning: The `compose` function has been deprecated and will be removed in a subsequent release of `ethereum-utils`.  It is recommended that you switch to use a library like `cytoolz` which provides similar functionality through the `cytoolz.functoolz.compose` function.\n",
      "  \"The `compose` function has been deprecated and will be removed in a \"\n",
      "/home/rbharath/anaconda3/envs/datamined/lib/python3.6/site-packages/populus/chain/tester.py:13: DeprecationWarning: currentProvider is deprecated in favor of `providers`, which is now a list\n",
      "  self.rpc_methods = self.web3.currentProvider.rpc_methods\n",
      "/home/rbharath/anaconda3/envs/datamined/lib/python3.6/site-packages/eth_abi/abi.py:92: DeprecationWarning: Automatic inference of hex encoded data has been deprecated. Please adjust your code to ensure that the data argument for `decode_single` is a byte string\n",
      "  \"Automatic inference of hex encoded data has been deprecated. \"\n",
      "/home/rbharath/anaconda3/envs/datamined/lib/python3.6/site-packages/eth_utils/functional.py:21: DeprecationWarning: The `compose` function has been deprecated and will be removed in a subsequent release of `ethereum-utils`.  It is recommended that you switch to use a library like `cytoolz` which provides similar functionality through the `cytoolz.functoolz.compose` function.\n",
      "  \"The `compose` function has been deprecated and will be removed in a \"\n",
      "/home/rbharath/anaconda3/envs/datamined/lib/python3.6/site-packages/populus/chain/tester.py:13: DeprecationWarning: currentProvider is deprecated in favor of `providers`, which is now a list\n",
      "  self.rpc_methods = self.web3.currentProvider.rpc_methods\n"
     ]
    },
    {
     "name": "stdout",
     "output_type": "stream",
     "text": [
      "  1 coins were issued\n",
      "Adding data for miner  22\n"
     ]
    },
    {
     "name": "stderr",
     "output_type": "stream",
     "text": [
      "/home/rbharath/anaconda3/envs/datamined/lib/python3.6/site-packages/eth_utils/functional.py:21: DeprecationWarning: The `compose` function has been deprecated and will be removed in a subsequent release of `ethereum-utils`.  It is recommended that you switch to use a library like `cytoolz` which provides similar functionality through the `cytoolz.functoolz.compose` function.\n",
      "  \"The `compose` function has been deprecated and will be removed in a \"\n",
      "/home/rbharath/anaconda3/envs/datamined/lib/python3.6/site-packages/populus/chain/tester.py:13: DeprecationWarning: currentProvider is deprecated in favor of `providers`, which is now a list\n",
      "  self.rpc_methods = self.web3.currentProvider.rpc_methods\n",
      "/home/rbharath/anaconda3/envs/datamined/lib/python3.6/site-packages/eth_abi/abi.py:92: DeprecationWarning: Automatic inference of hex encoded data has been deprecated. Please adjust your code to ensure that the data argument for `decode_single` is a byte string\n",
      "  \"Automatic inference of hex encoded data has been deprecated. \"\n",
      "/home/rbharath/anaconda3/envs/datamined/lib/python3.6/site-packages/eth_utils/functional.py:21: DeprecationWarning: The `compose` function has been deprecated and will be removed in a subsequent release of `ethereum-utils`.  It is recommended that you switch to use a library like `cytoolz` which provides similar functionality through the `cytoolz.functoolz.compose` function.\n",
      "  \"The `compose` function has been deprecated and will be removed in a \"\n"
     ]
    },
    {
     "name": "stdout",
     "output_type": "stream",
     "text": [
      "  1 coins were issued\n",
      "Adding data for miner  23\n"
     ]
    },
    {
     "name": "stderr",
     "output_type": "stream",
     "text": [
      "/home/rbharath/anaconda3/envs/datamined/lib/python3.6/site-packages/populus/chain/tester.py:13: DeprecationWarning: currentProvider is deprecated in favor of `providers`, which is now a list\n",
      "  self.rpc_methods = self.web3.currentProvider.rpc_methods\n",
      "/home/rbharath/anaconda3/envs/datamined/lib/python3.6/site-packages/eth_utils/functional.py:21: DeprecationWarning: The `compose` function has been deprecated and will be removed in a subsequent release of `ethereum-utils`.  It is recommended that you switch to use a library like `cytoolz` which provides similar functionality through the `cytoolz.functoolz.compose` function.\n",
      "  \"The `compose` function has been deprecated and will be removed in a \"\n",
      "/home/rbharath/anaconda3/envs/datamined/lib/python3.6/site-packages/populus/chain/tester.py:13: DeprecationWarning: currentProvider is deprecated in favor of `providers`, which is now a list\n",
      "  self.rpc_methods = self.web3.currentProvider.rpc_methods\n",
      "/home/rbharath/anaconda3/envs/datamined/lib/python3.6/site-packages/eth_abi/abi.py:92: DeprecationWarning: Automatic inference of hex encoded data has been deprecated. Please adjust your code to ensure that the data argument for `decode_single` is a byte string\n",
      "  \"Automatic inference of hex encoded data has been deprecated. \"\n",
      "/home/rbharath/anaconda3/envs/datamined/lib/python3.6/site-packages/eth_utils/functional.py:21: DeprecationWarning: The `compose` function has been deprecated and will be removed in a subsequent release of `ethereum-utils`.  It is recommended that you switch to use a library like `cytoolz` which provides similar functionality through the `cytoolz.functoolz.compose` function.\n",
      "  \"The `compose` function has been deprecated and will be removed in a \"\n",
      "/home/rbharath/anaconda3/envs/datamined/lib/python3.6/site-packages/populus/chain/tester.py:13: DeprecationWarning: currentProvider is deprecated in favor of `providers`, which is now a list\n",
      "  self.rpc_methods = self.web3.currentProvider.rpc_methods\n"
     ]
    },
    {
     "name": "stdout",
     "output_type": "stream",
     "text": [
      "  1 coins were issued\n",
      "Adding data for miner  24\n"
     ]
    },
    {
     "name": "stderr",
     "output_type": "stream",
     "text": [
      "/home/rbharath/anaconda3/envs/datamined/lib/python3.6/site-packages/eth_utils/functional.py:21: DeprecationWarning: The `compose` function has been deprecated and will be removed in a subsequent release of `ethereum-utils`.  It is recommended that you switch to use a library like `cytoolz` which provides similar functionality through the `cytoolz.functoolz.compose` function.\n",
      "  \"The `compose` function has been deprecated and will be removed in a \"\n",
      "/home/rbharath/anaconda3/envs/datamined/lib/python3.6/site-packages/populus/chain/tester.py:13: DeprecationWarning: currentProvider is deprecated in favor of `providers`, which is now a list\n",
      "  self.rpc_methods = self.web3.currentProvider.rpc_methods\n",
      "/home/rbharath/anaconda3/envs/datamined/lib/python3.6/site-packages/eth_abi/abi.py:92: DeprecationWarning: Automatic inference of hex encoded data has been deprecated. Please adjust your code to ensure that the data argument for `decode_single` is a byte string\n",
      "  \"Automatic inference of hex encoded data has been deprecated. \"\n",
      "/home/rbharath/anaconda3/envs/datamined/lib/python3.6/site-packages/eth_utils/functional.py:21: DeprecationWarning: The `compose` function has been deprecated and will be removed in a subsequent release of `ethereum-utils`.  It is recommended that you switch to use a library like `cytoolz` which provides similar functionality through the `cytoolz.functoolz.compose` function.\n",
      "  \"The `compose` function has been deprecated and will be removed in a \"\n",
      "/home/rbharath/anaconda3/envs/datamined/lib/python3.6/site-packages/populus/chain/tester.py:13: DeprecationWarning: currentProvider is deprecated in favor of `providers`, which is now a list\n",
      "  self.rpc_methods = self.web3.currentProvider.rpc_methods\n"
     ]
    },
    {
     "name": "stdout",
     "output_type": "stream",
     "text": [
      "  1 coins were issued\n",
      "Adding data for miner  25\n"
     ]
    },
    {
     "name": "stderr",
     "output_type": "stream",
     "text": [
      "/home/rbharath/anaconda3/envs/datamined/lib/python3.6/site-packages/eth_utils/functional.py:21: DeprecationWarning: The `compose` function has been deprecated and will be removed in a subsequent release of `ethereum-utils`.  It is recommended that you switch to use a library like `cytoolz` which provides similar functionality through the `cytoolz.functoolz.compose` function.\n",
      "  \"The `compose` function has been deprecated and will be removed in a \"\n",
      "/home/rbharath/anaconda3/envs/datamined/lib/python3.6/site-packages/populus/chain/tester.py:13: DeprecationWarning: currentProvider is deprecated in favor of `providers`, which is now a list\n",
      "  self.rpc_methods = self.web3.currentProvider.rpc_methods\n",
      "/home/rbharath/anaconda3/envs/datamined/lib/python3.6/site-packages/eth_abi/abi.py:92: DeprecationWarning: Automatic inference of hex encoded data has been deprecated. Please adjust your code to ensure that the data argument for `decode_single` is a byte string\n",
      "  \"Automatic inference of hex encoded data has been deprecated. \"\n",
      "/home/rbharath/anaconda3/envs/datamined/lib/python3.6/site-packages/eth_utils/functional.py:21: DeprecationWarning: The `compose` function has been deprecated and will be removed in a subsequent release of `ethereum-utils`.  It is recommended that you switch to use a library like `cytoolz` which provides similar functionality through the `cytoolz.functoolz.compose` function.\n",
      "  \"The `compose` function has been deprecated and will be removed in a \"\n",
      "/home/rbharath/anaconda3/envs/datamined/lib/python3.6/site-packages/populus/chain/tester.py:13: DeprecationWarning: currentProvider is deprecated in favor of `providers`, which is now a list\n",
      "  self.rpc_methods = self.web3.currentProvider.rpc_methods\n"
     ]
    },
    {
     "name": "stdout",
     "output_type": "stream",
     "text": [
      "  1 coins were issued\n",
      "Adding data for miner  26\n"
     ]
    },
    {
     "name": "stderr",
     "output_type": "stream",
     "text": [
      "/home/rbharath/anaconda3/envs/datamined/lib/python3.6/site-packages/eth_utils/functional.py:21: DeprecationWarning: The `compose` function has been deprecated and will be removed in a subsequent release of `ethereum-utils`.  It is recommended that you switch to use a library like `cytoolz` which provides similar functionality through the `cytoolz.functoolz.compose` function.\n",
      "  \"The `compose` function has been deprecated and will be removed in a \"\n",
      "/home/rbharath/anaconda3/envs/datamined/lib/python3.6/site-packages/populus/chain/tester.py:13: DeprecationWarning: currentProvider is deprecated in favor of `providers`, which is now a list\n",
      "  self.rpc_methods = self.web3.currentProvider.rpc_methods\n",
      "/home/rbharath/anaconda3/envs/datamined/lib/python3.6/site-packages/eth_abi/abi.py:92: DeprecationWarning: Automatic inference of hex encoded data has been deprecated. Please adjust your code to ensure that the data argument for `decode_single` is a byte string\n",
      "  \"Automatic inference of hex encoded data has been deprecated. \"\n",
      "/home/rbharath/anaconda3/envs/datamined/lib/python3.6/site-packages/eth_utils/functional.py:21: DeprecationWarning: The `compose` function has been deprecated and will be removed in a subsequent release of `ethereum-utils`.  It is recommended that you switch to use a library like `cytoolz` which provides similar functionality through the `cytoolz.functoolz.compose` function.\n",
      "  \"The `compose` function has been deprecated and will be removed in a \"\n",
      "/home/rbharath/anaconda3/envs/datamined/lib/python3.6/site-packages/populus/chain/tester.py:13: DeprecationWarning: currentProvider is deprecated in favor of `providers`, which is now a list\n",
      "  self.rpc_methods = self.web3.currentProvider.rpc_methods\n"
     ]
    },
    {
     "name": "stdout",
     "output_type": "stream",
     "text": [
      "  1 coins were issued\n",
      "Adding data for miner  27\n"
     ]
    },
    {
     "name": "stderr",
     "output_type": "stream",
     "text": [
      "/home/rbharath/anaconda3/envs/datamined/lib/python3.6/site-packages/eth_utils/functional.py:21: DeprecationWarning: The `compose` function has been deprecated and will be removed in a subsequent release of `ethereum-utils`.  It is recommended that you switch to use a library like `cytoolz` which provides similar functionality through the `cytoolz.functoolz.compose` function.\n",
      "  \"The `compose` function has been deprecated and will be removed in a \"\n",
      "/home/rbharath/anaconda3/envs/datamined/lib/python3.6/site-packages/populus/chain/tester.py:13: DeprecationWarning: currentProvider is deprecated in favor of `providers`, which is now a list\n",
      "  self.rpc_methods = self.web3.currentProvider.rpc_methods\n",
      "/home/rbharath/anaconda3/envs/datamined/lib/python3.6/site-packages/eth_abi/abi.py:92: DeprecationWarning: Automatic inference of hex encoded data has been deprecated. Please adjust your code to ensure that the data argument for `decode_single` is a byte string\n",
      "  \"Automatic inference of hex encoded data has been deprecated. \"\n",
      "/home/rbharath/anaconda3/envs/datamined/lib/python3.6/site-packages/eth_utils/functional.py:21: DeprecationWarning: The `compose` function has been deprecated and will be removed in a subsequent release of `ethereum-utils`.  It is recommended that you switch to use a library like `cytoolz` which provides similar functionality through the `cytoolz.functoolz.compose` function.\n",
      "  \"The `compose` function has been deprecated and will be removed in a \"\n",
      "/home/rbharath/anaconda3/envs/datamined/lib/python3.6/site-packages/populus/chain/tester.py:13: DeprecationWarning: currentProvider is deprecated in favor of `providers`, which is now a list\n",
      "  self.rpc_methods = self.web3.currentProvider.rpc_methods\n"
     ]
    },
    {
     "name": "stdout",
     "output_type": "stream",
     "text": [
      "  1 coins were issued\n",
      "Adding data for miner  28\n"
     ]
    },
    {
     "name": "stderr",
     "output_type": "stream",
     "text": [
      "/home/rbharath/anaconda3/envs/datamined/lib/python3.6/site-packages/eth_utils/functional.py:21: DeprecationWarning: The `compose` function has been deprecated and will be removed in a subsequent release of `ethereum-utils`.  It is recommended that you switch to use a library like `cytoolz` which provides similar functionality through the `cytoolz.functoolz.compose` function.\n",
      "  \"The `compose` function has been deprecated and will be removed in a \"\n",
      "/home/rbharath/anaconda3/envs/datamined/lib/python3.6/site-packages/populus/chain/tester.py:13: DeprecationWarning: currentProvider is deprecated in favor of `providers`, which is now a list\n",
      "  self.rpc_methods = self.web3.currentProvider.rpc_methods\n",
      "/home/rbharath/anaconda3/envs/datamined/lib/python3.6/site-packages/eth_abi/abi.py:92: DeprecationWarning: Automatic inference of hex encoded data has been deprecated. Please adjust your code to ensure that the data argument for `decode_single` is a byte string\n",
      "  \"Automatic inference of hex encoded data has been deprecated. \"\n",
      "/home/rbharath/anaconda3/envs/datamined/lib/python3.6/site-packages/eth_utils/functional.py:21: DeprecationWarning: The `compose` function has been deprecated and will be removed in a subsequent release of `ethereum-utils`.  It is recommended that you switch to use a library like `cytoolz` which provides similar functionality through the `cytoolz.functoolz.compose` function.\n",
      "  \"The `compose` function has been deprecated and will be removed in a \"\n",
      "/home/rbharath/anaconda3/envs/datamined/lib/python3.6/site-packages/populus/chain/tester.py:13: DeprecationWarning: currentProvider is deprecated in favor of `providers`, which is now a list\n",
      "  self.rpc_methods = self.web3.currentProvider.rpc_methods\n"
     ]
    },
    {
     "name": "stdout",
     "output_type": "stream",
     "text": [
      "  1 coins were issued\n",
      "Adding data for miner  29\n"
     ]
    },
    {
     "name": "stderr",
     "output_type": "stream",
     "text": [
      "/home/rbharath/anaconda3/envs/datamined/lib/python3.6/site-packages/eth_utils/functional.py:21: DeprecationWarning: The `compose` function has been deprecated and will be removed in a subsequent release of `ethereum-utils`.  It is recommended that you switch to use a library like `cytoolz` which provides similar functionality through the `cytoolz.functoolz.compose` function.\n",
      "  \"The `compose` function has been deprecated and will be removed in a \"\n",
      "/home/rbharath/anaconda3/envs/datamined/lib/python3.6/site-packages/populus/chain/tester.py:13: DeprecationWarning: currentProvider is deprecated in favor of `providers`, which is now a list\n",
      "  self.rpc_methods = self.web3.currentProvider.rpc_methods\n",
      "/home/rbharath/anaconda3/envs/datamined/lib/python3.6/site-packages/eth_abi/abi.py:92: DeprecationWarning: Automatic inference of hex encoded data has been deprecated. Please adjust your code to ensure that the data argument for `decode_single` is a byte string\n",
      "  \"Automatic inference of hex encoded data has been deprecated. \"\n",
      "/home/rbharath/anaconda3/envs/datamined/lib/python3.6/site-packages/eth_utils/functional.py:21: DeprecationWarning: The `compose` function has been deprecated and will be removed in a subsequent release of `ethereum-utils`.  It is recommended that you switch to use a library like `cytoolz` which provides similar functionality through the `cytoolz.functoolz.compose` function.\n",
      "  \"The `compose` function has been deprecated and will be removed in a \"\n"
     ]
    },
    {
     "name": "stdout",
     "output_type": "stream",
     "text": [
      "  1 coins were issued\n",
      "Adding data for miner  30\n"
     ]
    },
    {
     "name": "stderr",
     "output_type": "stream",
     "text": [
      "/home/rbharath/anaconda3/envs/datamined/lib/python3.6/site-packages/populus/chain/tester.py:13: DeprecationWarning: currentProvider is deprecated in favor of `providers`, which is now a list\n",
      "  self.rpc_methods = self.web3.currentProvider.rpc_methods\n",
      "/home/rbharath/anaconda3/envs/datamined/lib/python3.6/site-packages/eth_utils/functional.py:21: DeprecationWarning: The `compose` function has been deprecated and will be removed in a subsequent release of `ethereum-utils`.  It is recommended that you switch to use a library like `cytoolz` which provides similar functionality through the `cytoolz.functoolz.compose` function.\n",
      "  \"The `compose` function has been deprecated and will be removed in a \"\n",
      "/home/rbharath/anaconda3/envs/datamined/lib/python3.6/site-packages/populus/chain/tester.py:13: DeprecationWarning: currentProvider is deprecated in favor of `providers`, which is now a list\n",
      "  self.rpc_methods = self.web3.currentProvider.rpc_methods\n",
      "/home/rbharath/anaconda3/envs/datamined/lib/python3.6/site-packages/eth_abi/abi.py:92: DeprecationWarning: Automatic inference of hex encoded data has been deprecated. Please adjust your code to ensure that the data argument for `decode_single` is a byte string\n",
      "  \"Automatic inference of hex encoded data has been deprecated. \"\n",
      "/home/rbharath/anaconda3/envs/datamined/lib/python3.6/site-packages/eth_utils/functional.py:21: DeprecationWarning: The `compose` function has been deprecated and will be removed in a subsequent release of `ethereum-utils`.  It is recommended that you switch to use a library like `cytoolz` which provides similar functionality through the `cytoolz.functoolz.compose` function.\n",
      "  \"The `compose` function has been deprecated and will be removed in a \"\n",
      "/home/rbharath/anaconda3/envs/datamined/lib/python3.6/site-packages/populus/chain/tester.py:13: DeprecationWarning: currentProvider is deprecated in favor of `providers`, which is now a list\n",
      "  self.rpc_methods = self.web3.currentProvider.rpc_methods\n"
     ]
    },
    {
     "name": "stdout",
     "output_type": "stream",
     "text": [
      "  1 coins were issued\n",
      "Adding data for miner  31\n"
     ]
    },
    {
     "name": "stderr",
     "output_type": "stream",
     "text": [
      "/home/rbharath/anaconda3/envs/datamined/lib/python3.6/site-packages/eth_utils/functional.py:21: DeprecationWarning: The `compose` function has been deprecated and will be removed in a subsequent release of `ethereum-utils`.  It is recommended that you switch to use a library like `cytoolz` which provides similar functionality through the `cytoolz.functoolz.compose` function.\n",
      "  \"The `compose` function has been deprecated and will be removed in a \"\n",
      "/home/rbharath/anaconda3/envs/datamined/lib/python3.6/site-packages/populus/chain/tester.py:13: DeprecationWarning: currentProvider is deprecated in favor of `providers`, which is now a list\n",
      "  self.rpc_methods = self.web3.currentProvider.rpc_methods\n",
      "/home/rbharath/anaconda3/envs/datamined/lib/python3.6/site-packages/eth_abi/abi.py:92: DeprecationWarning: Automatic inference of hex encoded data has been deprecated. Please adjust your code to ensure that the data argument for `decode_single` is a byte string\n",
      "  \"Automatic inference of hex encoded data has been deprecated. \"\n",
      "/home/rbharath/anaconda3/envs/datamined/lib/python3.6/site-packages/eth_utils/functional.py:21: DeprecationWarning: The `compose` function has been deprecated and will be removed in a subsequent release of `ethereum-utils`.  It is recommended that you switch to use a library like `cytoolz` which provides similar functionality through the `cytoolz.functoolz.compose` function.\n",
      "  \"The `compose` function has been deprecated and will be removed in a \"\n",
      "/home/rbharath/anaconda3/envs/datamined/lib/python3.6/site-packages/populus/chain/tester.py:13: DeprecationWarning: currentProvider is deprecated in favor of `providers`, which is now a list\n",
      "  self.rpc_methods = self.web3.currentProvider.rpc_methods\n"
     ]
    },
    {
     "name": "stdout",
     "output_type": "stream",
     "text": [
      "  1 coins were issued\n",
      "Adding data for miner  32\n"
     ]
    },
    {
     "name": "stderr",
     "output_type": "stream",
     "text": [
      "/home/rbharath/anaconda3/envs/datamined/lib/python3.6/site-packages/eth_utils/functional.py:21: DeprecationWarning: The `compose` function has been deprecated and will be removed in a subsequent release of `ethereum-utils`.  It is recommended that you switch to use a library like `cytoolz` which provides similar functionality through the `cytoolz.functoolz.compose` function.\n",
      "  \"The `compose` function has been deprecated and will be removed in a \"\n",
      "/home/rbharath/anaconda3/envs/datamined/lib/python3.6/site-packages/populus/chain/tester.py:13: DeprecationWarning: currentProvider is deprecated in favor of `providers`, which is now a list\n",
      "  self.rpc_methods = self.web3.currentProvider.rpc_methods\n",
      "/home/rbharath/anaconda3/envs/datamined/lib/python3.6/site-packages/eth_abi/abi.py:92: DeprecationWarning: Automatic inference of hex encoded data has been deprecated. Please adjust your code to ensure that the data argument for `decode_single` is a byte string\n",
      "  \"Automatic inference of hex encoded data has been deprecated. \"\n",
      "/home/rbharath/anaconda3/envs/datamined/lib/python3.6/site-packages/eth_utils/functional.py:21: DeprecationWarning: The `compose` function has been deprecated and will be removed in a subsequent release of `ethereum-utils`.  It is recommended that you switch to use a library like `cytoolz` which provides similar functionality through the `cytoolz.functoolz.compose` function.\n",
      "  \"The `compose` function has been deprecated and will be removed in a \"\n",
      "/home/rbharath/anaconda3/envs/datamined/lib/python3.6/site-packages/populus/chain/tester.py:13: DeprecationWarning: currentProvider is deprecated in favor of `providers`, which is now a list\n",
      "  self.rpc_methods = self.web3.currentProvider.rpc_methods\n"
     ]
    },
    {
     "name": "stdout",
     "output_type": "stream",
     "text": [
      "  1 coins were issued\n",
      "Adding data for miner  33\n"
     ]
    },
    {
     "name": "stderr",
     "output_type": "stream",
     "text": [
      "/home/rbharath/anaconda3/envs/datamined/lib/python3.6/site-packages/eth_utils/functional.py:21: DeprecationWarning: The `compose` function has been deprecated and will be removed in a subsequent release of `ethereum-utils`.  It is recommended that you switch to use a library like `cytoolz` which provides similar functionality through the `cytoolz.functoolz.compose` function.\n",
      "  \"The `compose` function has been deprecated and will be removed in a \"\n",
      "/home/rbharath/anaconda3/envs/datamined/lib/python3.6/site-packages/populus/chain/tester.py:13: DeprecationWarning: currentProvider is deprecated in favor of `providers`, which is now a list\n",
      "  self.rpc_methods = self.web3.currentProvider.rpc_methods\n",
      "/home/rbharath/anaconda3/envs/datamined/lib/python3.6/site-packages/eth_abi/abi.py:92: DeprecationWarning: Automatic inference of hex encoded data has been deprecated. Please adjust your code to ensure that the data argument for `decode_single` is a byte string\n",
      "  \"Automatic inference of hex encoded data has been deprecated. \"\n",
      "/home/rbharath/anaconda3/envs/datamined/lib/python3.6/site-packages/eth_utils/functional.py:21: DeprecationWarning: The `compose` function has been deprecated and will be removed in a subsequent release of `ethereum-utils`.  It is recommended that you switch to use a library like `cytoolz` which provides similar functionality through the `cytoolz.functoolz.compose` function.\n",
      "  \"The `compose` function has been deprecated and will be removed in a \"\n",
      "/home/rbharath/anaconda3/envs/datamined/lib/python3.6/site-packages/populus/chain/tester.py:13: DeprecationWarning: currentProvider is deprecated in favor of `providers`, which is now a list\n",
      "  self.rpc_methods = self.web3.currentProvider.rpc_methods\n"
     ]
    },
    {
     "name": "stdout",
     "output_type": "stream",
     "text": [
      "  1 coins were issued\n",
      "Adding data for miner  34\n"
     ]
    },
    {
     "name": "stderr",
     "output_type": "stream",
     "text": [
      "/home/rbharath/anaconda3/envs/datamined/lib/python3.6/site-packages/eth_utils/functional.py:21: DeprecationWarning: The `compose` function has been deprecated and will be removed in a subsequent release of `ethereum-utils`.  It is recommended that you switch to use a library like `cytoolz` which provides similar functionality through the `cytoolz.functoolz.compose` function.\n",
      "  \"The `compose` function has been deprecated and will be removed in a \"\n",
      "/home/rbharath/anaconda3/envs/datamined/lib/python3.6/site-packages/populus/chain/tester.py:13: DeprecationWarning: currentProvider is deprecated in favor of `providers`, which is now a list\n",
      "  self.rpc_methods = self.web3.currentProvider.rpc_methods\n",
      "/home/rbharath/anaconda3/envs/datamined/lib/python3.6/site-packages/eth_abi/abi.py:92: DeprecationWarning: Automatic inference of hex encoded data has been deprecated. Please adjust your code to ensure that the data argument for `decode_single` is a byte string\n",
      "  \"Automatic inference of hex encoded data has been deprecated. \"\n",
      "/home/rbharath/anaconda3/envs/datamined/lib/python3.6/site-packages/eth_utils/functional.py:21: DeprecationWarning: The `compose` function has been deprecated and will be removed in a subsequent release of `ethereum-utils`.  It is recommended that you switch to use a library like `cytoolz` which provides similar functionality through the `cytoolz.functoolz.compose` function.\n",
      "  \"The `compose` function has been deprecated and will be removed in a \"\n",
      "/home/rbharath/anaconda3/envs/datamined/lib/python3.6/site-packages/populus/chain/tester.py:13: DeprecationWarning: currentProvider is deprecated in favor of `providers`, which is now a list\n",
      "  self.rpc_methods = self.web3.currentProvider.rpc_methods\n"
     ]
    },
    {
     "name": "stdout",
     "output_type": "stream",
     "text": [
      "  1 coins were issued\n",
      "Adding data for miner  35\n"
     ]
    },
    {
     "name": "stderr",
     "output_type": "stream",
     "text": [
      "/home/rbharath/anaconda3/envs/datamined/lib/python3.6/site-packages/eth_utils/functional.py:21: DeprecationWarning: The `compose` function has been deprecated and will be removed in a subsequent release of `ethereum-utils`.  It is recommended that you switch to use a library like `cytoolz` which provides similar functionality through the `cytoolz.functoolz.compose` function.\n",
      "  \"The `compose` function has been deprecated and will be removed in a \"\n",
      "/home/rbharath/anaconda3/envs/datamined/lib/python3.6/site-packages/populus/chain/tester.py:13: DeprecationWarning: currentProvider is deprecated in favor of `providers`, which is now a list\n",
      "  self.rpc_methods = self.web3.currentProvider.rpc_methods\n",
      "/home/rbharath/anaconda3/envs/datamined/lib/python3.6/site-packages/eth_abi/abi.py:92: DeprecationWarning: Automatic inference of hex encoded data has been deprecated. Please adjust your code to ensure that the data argument for `decode_single` is a byte string\n",
      "  \"Automatic inference of hex encoded data has been deprecated. \"\n",
      "/home/rbharath/anaconda3/envs/datamined/lib/python3.6/site-packages/eth_utils/functional.py:21: DeprecationWarning: The `compose` function has been deprecated and will be removed in a subsequent release of `ethereum-utils`.  It is recommended that you switch to use a library like `cytoolz` which provides similar functionality through the `cytoolz.functoolz.compose` function.\n",
      "  \"The `compose` function has been deprecated and will be removed in a \"\n",
      "/home/rbharath/anaconda3/envs/datamined/lib/python3.6/site-packages/populus/chain/tester.py:13: DeprecationWarning: currentProvider is deprecated in favor of `providers`, which is now a list\n",
      "  self.rpc_methods = self.web3.currentProvider.rpc_methods\n"
     ]
    },
    {
     "name": "stdout",
     "output_type": "stream",
     "text": [
      "  1 coins were issued\n",
      "Adding data for miner  36\n"
     ]
    },
    {
     "name": "stderr",
     "output_type": "stream",
     "text": [
      "/home/rbharath/anaconda3/envs/datamined/lib/python3.6/site-packages/eth_utils/functional.py:21: DeprecationWarning: The `compose` function has been deprecated and will be removed in a subsequent release of `ethereum-utils`.  It is recommended that you switch to use a library like `cytoolz` which provides similar functionality through the `cytoolz.functoolz.compose` function.\n",
      "  \"The `compose` function has been deprecated and will be removed in a \"\n",
      "/home/rbharath/anaconda3/envs/datamined/lib/python3.6/site-packages/populus/chain/tester.py:13: DeprecationWarning: currentProvider is deprecated in favor of `providers`, which is now a list\n",
      "  self.rpc_methods = self.web3.currentProvider.rpc_methods\n",
      "/home/rbharath/anaconda3/envs/datamined/lib/python3.6/site-packages/eth_abi/abi.py:92: DeprecationWarning: Automatic inference of hex encoded data has been deprecated. Please adjust your code to ensure that the data argument for `decode_single` is a byte string\n",
      "  \"Automatic inference of hex encoded data has been deprecated. \"\n",
      "/home/rbharath/anaconda3/envs/datamined/lib/python3.6/site-packages/eth_utils/functional.py:21: DeprecationWarning: The `compose` function has been deprecated and will be removed in a subsequent release of `ethereum-utils`.  It is recommended that you switch to use a library like `cytoolz` which provides similar functionality through the `cytoolz.functoolz.compose` function.\n",
      "  \"The `compose` function has been deprecated and will be removed in a \"\n"
     ]
    },
    {
     "name": "stdout",
     "output_type": "stream",
     "text": [
      "  1 coins were issued\n",
      "Adding data for miner  37\n"
     ]
    },
    {
     "name": "stderr",
     "output_type": "stream",
     "text": [
      "/home/rbharath/anaconda3/envs/datamined/lib/python3.6/site-packages/populus/chain/tester.py:13: DeprecationWarning: currentProvider is deprecated in favor of `providers`, which is now a list\n",
      "  self.rpc_methods = self.web3.currentProvider.rpc_methods\n",
      "/home/rbharath/anaconda3/envs/datamined/lib/python3.6/site-packages/eth_utils/functional.py:21: DeprecationWarning: The `compose` function has been deprecated and will be removed in a subsequent release of `ethereum-utils`.  It is recommended that you switch to use a library like `cytoolz` which provides similar functionality through the `cytoolz.functoolz.compose` function.\n",
      "  \"The `compose` function has been deprecated and will be removed in a \"\n",
      "/home/rbharath/anaconda3/envs/datamined/lib/python3.6/site-packages/populus/chain/tester.py:13: DeprecationWarning: currentProvider is deprecated in favor of `providers`, which is now a list\n",
      "  self.rpc_methods = self.web3.currentProvider.rpc_methods\n",
      "/home/rbharath/anaconda3/envs/datamined/lib/python3.6/site-packages/eth_abi/abi.py:92: DeprecationWarning: Automatic inference of hex encoded data has been deprecated. Please adjust your code to ensure that the data argument for `decode_single` is a byte string\n",
      "  \"Automatic inference of hex encoded data has been deprecated. \"\n",
      "/home/rbharath/anaconda3/envs/datamined/lib/python3.6/site-packages/eth_utils/functional.py:21: DeprecationWarning: The `compose` function has been deprecated and will be removed in a subsequent release of `ethereum-utils`.  It is recommended that you switch to use a library like `cytoolz` which provides similar functionality through the `cytoolz.functoolz.compose` function.\n",
      "  \"The `compose` function has been deprecated and will be removed in a \"\n",
      "/home/rbharath/anaconda3/envs/datamined/lib/python3.6/site-packages/populus/chain/tester.py:13: DeprecationWarning: currentProvider is deprecated in favor of `providers`, which is now a list\n",
      "  self.rpc_methods = self.web3.currentProvider.rpc_methods\n"
     ]
    },
    {
     "name": "stdout",
     "output_type": "stream",
     "text": [
      "  1 coins were issued\n",
      "Adding data for miner  38\n"
     ]
    },
    {
     "name": "stderr",
     "output_type": "stream",
     "text": [
      "/home/rbharath/anaconda3/envs/datamined/lib/python3.6/site-packages/eth_utils/functional.py:21: DeprecationWarning: The `compose` function has been deprecated and will be removed in a subsequent release of `ethereum-utils`.  It is recommended that you switch to use a library like `cytoolz` which provides similar functionality through the `cytoolz.functoolz.compose` function.\n",
      "  \"The `compose` function has been deprecated and will be removed in a \"\n",
      "/home/rbharath/anaconda3/envs/datamined/lib/python3.6/site-packages/populus/chain/tester.py:13: DeprecationWarning: currentProvider is deprecated in favor of `providers`, which is now a list\n",
      "  self.rpc_methods = self.web3.currentProvider.rpc_methods\n",
      "/home/rbharath/anaconda3/envs/datamined/lib/python3.6/site-packages/eth_abi/abi.py:92: DeprecationWarning: Automatic inference of hex encoded data has been deprecated. Please adjust your code to ensure that the data argument for `decode_single` is a byte string\n",
      "  \"Automatic inference of hex encoded data has been deprecated. \"\n",
      "/home/rbharath/anaconda3/envs/datamined/lib/python3.6/site-packages/eth_utils/functional.py:21: DeprecationWarning: The `compose` function has been deprecated and will be removed in a subsequent release of `ethereum-utils`.  It is recommended that you switch to use a library like `cytoolz` which provides similar functionality through the `cytoolz.functoolz.compose` function.\n",
      "  \"The `compose` function has been deprecated and will be removed in a \"\n",
      "/home/rbharath/anaconda3/envs/datamined/lib/python3.6/site-packages/populus/chain/tester.py:13: DeprecationWarning: currentProvider is deprecated in favor of `providers`, which is now a list\n",
      "  self.rpc_methods = self.web3.currentProvider.rpc_methods\n"
     ]
    },
    {
     "name": "stdout",
     "output_type": "stream",
     "text": [
      "  1 coins were issued\n",
      "Adding data for miner  39\n"
     ]
    },
    {
     "name": "stderr",
     "output_type": "stream",
     "text": [
      "/home/rbharath/anaconda3/envs/datamined/lib/python3.6/site-packages/eth_utils/functional.py:21: DeprecationWarning: The `compose` function has been deprecated and will be removed in a subsequent release of `ethereum-utils`.  It is recommended that you switch to use a library like `cytoolz` which provides similar functionality through the `cytoolz.functoolz.compose` function.\n",
      "  \"The `compose` function has been deprecated and will be removed in a \"\n",
      "/home/rbharath/anaconda3/envs/datamined/lib/python3.6/site-packages/populus/chain/tester.py:13: DeprecationWarning: currentProvider is deprecated in favor of `providers`, which is now a list\n",
      "  self.rpc_methods = self.web3.currentProvider.rpc_methods\n",
      "/home/rbharath/anaconda3/envs/datamined/lib/python3.6/site-packages/eth_abi/abi.py:92: DeprecationWarning: Automatic inference of hex encoded data has been deprecated. Please adjust your code to ensure that the data argument for `decode_single` is a byte string\n",
      "  \"Automatic inference of hex encoded data has been deprecated. \"\n",
      "/home/rbharath/anaconda3/envs/datamined/lib/python3.6/site-packages/eth_utils/functional.py:21: DeprecationWarning: The `compose` function has been deprecated and will be removed in a subsequent release of `ethereum-utils`.  It is recommended that you switch to use a library like `cytoolz` which provides similar functionality through the `cytoolz.functoolz.compose` function.\n",
      "  \"The `compose` function has been deprecated and will be removed in a \"\n",
      "/home/rbharath/anaconda3/envs/datamined/lib/python3.6/site-packages/populus/chain/tester.py:13: DeprecationWarning: currentProvider is deprecated in favor of `providers`, which is now a list\n",
      "  self.rpc_methods = self.web3.currentProvider.rpc_methods\n"
     ]
    },
    {
     "name": "stdout",
     "output_type": "stream",
     "text": [
      "  1 coins were issued\n",
      "Adding data for miner  40\n"
     ]
    },
    {
     "name": "stderr",
     "output_type": "stream",
     "text": [
      "/home/rbharath/anaconda3/envs/datamined/lib/python3.6/site-packages/eth_utils/functional.py:21: DeprecationWarning: The `compose` function has been deprecated and will be removed in a subsequent release of `ethereum-utils`.  It is recommended that you switch to use a library like `cytoolz` which provides similar functionality through the `cytoolz.functoolz.compose` function.\n",
      "  \"The `compose` function has been deprecated and will be removed in a \"\n",
      "/home/rbharath/anaconda3/envs/datamined/lib/python3.6/site-packages/populus/chain/tester.py:13: DeprecationWarning: currentProvider is deprecated in favor of `providers`, which is now a list\n",
      "  self.rpc_methods = self.web3.currentProvider.rpc_methods\n",
      "/home/rbharath/anaconda3/envs/datamined/lib/python3.6/site-packages/eth_abi/abi.py:92: DeprecationWarning: Automatic inference of hex encoded data has been deprecated. Please adjust your code to ensure that the data argument for `decode_single` is a byte string\n",
      "  \"Automatic inference of hex encoded data has been deprecated. \"\n",
      "/home/rbharath/anaconda3/envs/datamined/lib/python3.6/site-packages/eth_utils/functional.py:21: DeprecationWarning: The `compose` function has been deprecated and will be removed in a subsequent release of `ethereum-utils`.  It is recommended that you switch to use a library like `cytoolz` which provides similar functionality through the `cytoolz.functoolz.compose` function.\n",
      "  \"The `compose` function has been deprecated and will be removed in a \"\n",
      "/home/rbharath/anaconda3/envs/datamined/lib/python3.6/site-packages/populus/chain/tester.py:13: DeprecationWarning: currentProvider is deprecated in favor of `providers`, which is now a list\n",
      "  self.rpc_methods = self.web3.currentProvider.rpc_methods\n"
     ]
    },
    {
     "name": "stdout",
     "output_type": "stream",
     "text": [
      "  1 coins were issued\n",
      "Adding data for miner  41\n"
     ]
    },
    {
     "name": "stderr",
     "output_type": "stream",
     "text": [
      "/home/rbharath/anaconda3/envs/datamined/lib/python3.6/site-packages/eth_utils/functional.py:21: DeprecationWarning: The `compose` function has been deprecated and will be removed in a subsequent release of `ethereum-utils`.  It is recommended that you switch to use a library like `cytoolz` which provides similar functionality through the `cytoolz.functoolz.compose` function.\n",
      "  \"The `compose` function has been deprecated and will be removed in a \"\n",
      "/home/rbharath/anaconda3/envs/datamined/lib/python3.6/site-packages/populus/chain/tester.py:13: DeprecationWarning: currentProvider is deprecated in favor of `providers`, which is now a list\n",
      "  self.rpc_methods = self.web3.currentProvider.rpc_methods\n",
      "/home/rbharath/anaconda3/envs/datamined/lib/python3.6/site-packages/eth_abi/abi.py:92: DeprecationWarning: Automatic inference of hex encoded data has been deprecated. Please adjust your code to ensure that the data argument for `decode_single` is a byte string\n",
      "  \"Automatic inference of hex encoded data has been deprecated. \"\n",
      "/home/rbharath/anaconda3/envs/datamined/lib/python3.6/site-packages/eth_utils/functional.py:21: DeprecationWarning: The `compose` function has been deprecated and will be removed in a subsequent release of `ethereum-utils`.  It is recommended that you switch to use a library like `cytoolz` which provides similar functionality through the `cytoolz.functoolz.compose` function.\n",
      "  \"The `compose` function has been deprecated and will be removed in a \"\n"
     ]
    },
    {
     "name": "stdout",
     "output_type": "stream",
     "text": [
      "  1 coins were issued\n",
      "Adding data for miner  42\n"
     ]
    },
    {
     "name": "stderr",
     "output_type": "stream",
     "text": [
      "/home/rbharath/anaconda3/envs/datamined/lib/python3.6/site-packages/populus/chain/tester.py:13: DeprecationWarning: currentProvider is deprecated in favor of `providers`, which is now a list\n",
      "  self.rpc_methods = self.web3.currentProvider.rpc_methods\n",
      "/home/rbharath/anaconda3/envs/datamined/lib/python3.6/site-packages/eth_utils/functional.py:21: DeprecationWarning: The `compose` function has been deprecated and will be removed in a subsequent release of `ethereum-utils`.  It is recommended that you switch to use a library like `cytoolz` which provides similar functionality through the `cytoolz.functoolz.compose` function.\n",
      "  \"The `compose` function has been deprecated and will be removed in a \"\n",
      "/home/rbharath/anaconda3/envs/datamined/lib/python3.6/site-packages/populus/chain/tester.py:13: DeprecationWarning: currentProvider is deprecated in favor of `providers`, which is now a list\n",
      "  self.rpc_methods = self.web3.currentProvider.rpc_methods\n",
      "/home/rbharath/anaconda3/envs/datamined/lib/python3.6/site-packages/eth_abi/abi.py:92: DeprecationWarning: Automatic inference of hex encoded data has been deprecated. Please adjust your code to ensure that the data argument for `decode_single` is a byte string\n",
      "  \"Automatic inference of hex encoded data has been deprecated. \"\n",
      "/home/rbharath/anaconda3/envs/datamined/lib/python3.6/site-packages/eth_utils/functional.py:21: DeprecationWarning: The `compose` function has been deprecated and will be removed in a subsequent release of `ethereum-utils`.  It is recommended that you switch to use a library like `cytoolz` which provides similar functionality through the `cytoolz.functoolz.compose` function.\n",
      "  \"The `compose` function has been deprecated and will be removed in a \"\n",
      "/home/rbharath/anaconda3/envs/datamined/lib/python3.6/site-packages/populus/chain/tester.py:13: DeprecationWarning: currentProvider is deprecated in favor of `providers`, which is now a list\n",
      "  self.rpc_methods = self.web3.currentProvider.rpc_methods\n"
     ]
    },
    {
     "name": "stdout",
     "output_type": "stream",
     "text": [
      "  1 coins were issued\n",
      "Adding data for miner  43\n"
     ]
    },
    {
     "name": "stderr",
     "output_type": "stream",
     "text": [
      "/home/rbharath/anaconda3/envs/datamined/lib/python3.6/site-packages/eth_utils/functional.py:21: DeprecationWarning: The `compose` function has been deprecated and will be removed in a subsequent release of `ethereum-utils`.  It is recommended that you switch to use a library like `cytoolz` which provides similar functionality through the `cytoolz.functoolz.compose` function.\n",
      "  \"The `compose` function has been deprecated and will be removed in a \"\n",
      "/home/rbharath/anaconda3/envs/datamined/lib/python3.6/site-packages/populus/chain/tester.py:13: DeprecationWarning: currentProvider is deprecated in favor of `providers`, which is now a list\n",
      "  self.rpc_methods = self.web3.currentProvider.rpc_methods\n",
      "/home/rbharath/anaconda3/envs/datamined/lib/python3.6/site-packages/eth_abi/abi.py:92: DeprecationWarning: Automatic inference of hex encoded data has been deprecated. Please adjust your code to ensure that the data argument for `decode_single` is a byte string\n",
      "  \"Automatic inference of hex encoded data has been deprecated. \"\n",
      "/home/rbharath/anaconda3/envs/datamined/lib/python3.6/site-packages/eth_utils/functional.py:21: DeprecationWarning: The `compose` function has been deprecated and will be removed in a subsequent release of `ethereum-utils`.  It is recommended that you switch to use a library like `cytoolz` which provides similar functionality through the `cytoolz.functoolz.compose` function.\n",
      "  \"The `compose` function has been deprecated and will be removed in a \"\n",
      "/home/rbharath/anaconda3/envs/datamined/lib/python3.6/site-packages/populus/chain/tester.py:13: DeprecationWarning: currentProvider is deprecated in favor of `providers`, which is now a list\n",
      "  self.rpc_methods = self.web3.currentProvider.rpc_methods\n"
     ]
    },
    {
     "name": "stdout",
     "output_type": "stream",
     "text": [
      "  1 coins were issued\n",
      "Adding data for miner  44\n"
     ]
    },
    {
     "name": "stderr",
     "output_type": "stream",
     "text": [
      "/home/rbharath/anaconda3/envs/datamined/lib/python3.6/site-packages/eth_utils/functional.py:21: DeprecationWarning: The `compose` function has been deprecated and will be removed in a subsequent release of `ethereum-utils`.  It is recommended that you switch to use a library like `cytoolz` which provides similar functionality through the `cytoolz.functoolz.compose` function.\n",
      "  \"The `compose` function has been deprecated and will be removed in a \"\n",
      "/home/rbharath/anaconda3/envs/datamined/lib/python3.6/site-packages/populus/chain/tester.py:13: DeprecationWarning: currentProvider is deprecated in favor of `providers`, which is now a list\n",
      "  self.rpc_methods = self.web3.currentProvider.rpc_methods\n",
      "/home/rbharath/anaconda3/envs/datamined/lib/python3.6/site-packages/eth_abi/abi.py:92: DeprecationWarning: Automatic inference of hex encoded data has been deprecated. Please adjust your code to ensure that the data argument for `decode_single` is a byte string\n",
      "  \"Automatic inference of hex encoded data has been deprecated. \"\n",
      "/home/rbharath/anaconda3/envs/datamined/lib/python3.6/site-packages/eth_utils/functional.py:21: DeprecationWarning: The `compose` function has been deprecated and will be removed in a subsequent release of `ethereum-utils`.  It is recommended that you switch to use a library like `cytoolz` which provides similar functionality through the `cytoolz.functoolz.compose` function.\n",
      "  \"The `compose` function has been deprecated and will be removed in a \"\n",
      "/home/rbharath/anaconda3/envs/datamined/lib/python3.6/site-packages/populus/chain/tester.py:13: DeprecationWarning: currentProvider is deprecated in favor of `providers`, which is now a list\n",
      "  self.rpc_methods = self.web3.currentProvider.rpc_methods\n"
     ]
    },
    {
     "name": "stdout",
     "output_type": "stream",
     "text": [
      "  1 coins were issued\n",
      "Adding data for miner  45\n"
     ]
    },
    {
     "name": "stderr",
     "output_type": "stream",
     "text": [
      "/home/rbharath/anaconda3/envs/datamined/lib/python3.6/site-packages/eth_utils/functional.py:21: DeprecationWarning: The `compose` function has been deprecated and will be removed in a subsequent release of `ethereum-utils`.  It is recommended that you switch to use a library like `cytoolz` which provides similar functionality through the `cytoolz.functoolz.compose` function.\n",
      "  \"The `compose` function has been deprecated and will be removed in a \"\n",
      "/home/rbharath/anaconda3/envs/datamined/lib/python3.6/site-packages/populus/chain/tester.py:13: DeprecationWarning: currentProvider is deprecated in favor of `providers`, which is now a list\n",
      "  self.rpc_methods = self.web3.currentProvider.rpc_methods\n",
      "/home/rbharath/anaconda3/envs/datamined/lib/python3.6/site-packages/eth_abi/abi.py:92: DeprecationWarning: Automatic inference of hex encoded data has been deprecated. Please adjust your code to ensure that the data argument for `decode_single` is a byte string\n",
      "  \"Automatic inference of hex encoded data has been deprecated. \"\n",
      "/home/rbharath/anaconda3/envs/datamined/lib/python3.6/site-packages/eth_utils/functional.py:21: DeprecationWarning: The `compose` function has been deprecated and will be removed in a subsequent release of `ethereum-utils`.  It is recommended that you switch to use a library like `cytoolz` which provides similar functionality through the `cytoolz.functoolz.compose` function.\n",
      "  \"The `compose` function has been deprecated and will be removed in a \"\n"
     ]
    },
    {
     "name": "stdout",
     "output_type": "stream",
     "text": [
      "  1 coins were issued\n",
      "Adding data for miner  46\n"
     ]
    },
    {
     "name": "stderr",
     "output_type": "stream",
     "text": [
      "/home/rbharath/anaconda3/envs/datamined/lib/python3.6/site-packages/populus/chain/tester.py:13: DeprecationWarning: currentProvider is deprecated in favor of `providers`, which is now a list\n",
      "  self.rpc_methods = self.web3.currentProvider.rpc_methods\n",
      "/home/rbharath/anaconda3/envs/datamined/lib/python3.6/site-packages/eth_utils/functional.py:21: DeprecationWarning: The `compose` function has been deprecated and will be removed in a subsequent release of `ethereum-utils`.  It is recommended that you switch to use a library like `cytoolz` which provides similar functionality through the `cytoolz.functoolz.compose` function.\n",
      "  \"The `compose` function has been deprecated and will be removed in a \"\n",
      "/home/rbharath/anaconda3/envs/datamined/lib/python3.6/site-packages/populus/chain/tester.py:13: DeprecationWarning: currentProvider is deprecated in favor of `providers`, which is now a list\n",
      "  self.rpc_methods = self.web3.currentProvider.rpc_methods\n",
      "/home/rbharath/anaconda3/envs/datamined/lib/python3.6/site-packages/eth_abi/abi.py:92: DeprecationWarning: Automatic inference of hex encoded data has been deprecated. Please adjust your code to ensure that the data argument for `decode_single` is a byte string\n",
      "  \"Automatic inference of hex encoded data has been deprecated. \"\n",
      "/home/rbharath/anaconda3/envs/datamined/lib/python3.6/site-packages/eth_utils/functional.py:21: DeprecationWarning: The `compose` function has been deprecated and will be removed in a subsequent release of `ethereum-utils`.  It is recommended that you switch to use a library like `cytoolz` which provides similar functionality through the `cytoolz.functoolz.compose` function.\n",
      "  \"The `compose` function has been deprecated and will be removed in a \"\n"
     ]
    },
    {
     "name": "stdout",
     "output_type": "stream",
     "text": [
      "  1 coins were issued\n",
      "Adding data for miner  47\n"
     ]
    },
    {
     "name": "stderr",
     "output_type": "stream",
     "text": [
      "/home/rbharath/anaconda3/envs/datamined/lib/python3.6/site-packages/populus/chain/tester.py:13: DeprecationWarning: currentProvider is deprecated in favor of `providers`, which is now a list\n",
      "  self.rpc_methods = self.web3.currentProvider.rpc_methods\n",
      "/home/rbharath/anaconda3/envs/datamined/lib/python3.6/site-packages/eth_utils/functional.py:21: DeprecationWarning: The `compose` function has been deprecated and will be removed in a subsequent release of `ethereum-utils`.  It is recommended that you switch to use a library like `cytoolz` which provides similar functionality through the `cytoolz.functoolz.compose` function.\n",
      "  \"The `compose` function has been deprecated and will be removed in a \"\n",
      "/home/rbharath/anaconda3/envs/datamined/lib/python3.6/site-packages/populus/chain/tester.py:13: DeprecationWarning: currentProvider is deprecated in favor of `providers`, which is now a list\n",
      "  self.rpc_methods = self.web3.currentProvider.rpc_methods\n",
      "/home/rbharath/anaconda3/envs/datamined/lib/python3.6/site-packages/eth_abi/abi.py:92: DeprecationWarning: Automatic inference of hex encoded data has been deprecated. Please adjust your code to ensure that the data argument for `decode_single` is a byte string\n",
      "  \"Automatic inference of hex encoded data has been deprecated. \"\n",
      "/home/rbharath/anaconda3/envs/datamined/lib/python3.6/site-packages/eth_utils/functional.py:21: DeprecationWarning: The `compose` function has been deprecated and will be removed in a subsequent release of `ethereum-utils`.  It is recommended that you switch to use a library like `cytoolz` which provides similar functionality through the `cytoolz.functoolz.compose` function.\n",
      "  \"The `compose` function has been deprecated and will be removed in a \"\n",
      "/home/rbharath/anaconda3/envs/datamined/lib/python3.6/site-packages/populus/chain/tester.py:13: DeprecationWarning: currentProvider is deprecated in favor of `providers`, which is now a list\n",
      "  self.rpc_methods = self.web3.currentProvider.rpc_methods\n"
     ]
    },
    {
     "name": "stdout",
     "output_type": "stream",
     "text": [
      "  1 coins were issued\n",
      "Adding data for miner  48\n"
     ]
    },
    {
     "name": "stderr",
     "output_type": "stream",
     "text": [
      "/home/rbharath/anaconda3/envs/datamined/lib/python3.6/site-packages/eth_utils/functional.py:21: DeprecationWarning: The `compose` function has been deprecated and will be removed in a subsequent release of `ethereum-utils`.  It is recommended that you switch to use a library like `cytoolz` which provides similar functionality through the `cytoolz.functoolz.compose` function.\n",
      "  \"The `compose` function has been deprecated and will be removed in a \"\n",
      "/home/rbharath/anaconda3/envs/datamined/lib/python3.6/site-packages/populus/chain/tester.py:13: DeprecationWarning: currentProvider is deprecated in favor of `providers`, which is now a list\n",
      "  self.rpc_methods = self.web3.currentProvider.rpc_methods\n",
      "/home/rbharath/anaconda3/envs/datamined/lib/python3.6/site-packages/eth_abi/abi.py:92: DeprecationWarning: Automatic inference of hex encoded data has been deprecated. Please adjust your code to ensure that the data argument for `decode_single` is a byte string\n",
      "  \"Automatic inference of hex encoded data has been deprecated. \"\n",
      "/home/rbharath/anaconda3/envs/datamined/lib/python3.6/site-packages/eth_utils/functional.py:21: DeprecationWarning: The `compose` function has been deprecated and will be removed in a subsequent release of `ethereum-utils`.  It is recommended that you switch to use a library like `cytoolz` which provides similar functionality through the `cytoolz.functoolz.compose` function.\n",
      "  \"The `compose` function has been deprecated and will be removed in a \"\n",
      "/home/rbharath/anaconda3/envs/datamined/lib/python3.6/site-packages/populus/chain/tester.py:13: DeprecationWarning: currentProvider is deprecated in favor of `providers`, which is now a list\n",
      "  self.rpc_methods = self.web3.currentProvider.rpc_methods\n"
     ]
    },
    {
     "name": "stdout",
     "output_type": "stream",
     "text": [
      "  1 coins were issued\n",
      "Adding data for miner  49\n"
     ]
    },
    {
     "name": "stderr",
     "output_type": "stream",
     "text": [
      "/home/rbharath/anaconda3/envs/datamined/lib/python3.6/site-packages/eth_utils/functional.py:21: DeprecationWarning: The `compose` function has been deprecated and will be removed in a subsequent release of `ethereum-utils`.  It is recommended that you switch to use a library like `cytoolz` which provides similar functionality through the `cytoolz.functoolz.compose` function.\n",
      "  \"The `compose` function has been deprecated and will be removed in a \"\n",
      "/home/rbharath/anaconda3/envs/datamined/lib/python3.6/site-packages/populus/chain/tester.py:13: DeprecationWarning: currentProvider is deprecated in favor of `providers`, which is now a list\n",
      "  self.rpc_methods = self.web3.currentProvider.rpc_methods\n",
      "/home/rbharath/anaconda3/envs/datamined/lib/python3.6/site-packages/eth_abi/abi.py:92: DeprecationWarning: Automatic inference of hex encoded data has been deprecated. Please adjust your code to ensure that the data argument for `decode_single` is a byte string\n",
      "  \"Automatic inference of hex encoded data has been deprecated. \"\n",
      "/home/rbharath/anaconda3/envs/datamined/lib/python3.6/site-packages/eth_utils/functional.py:21: DeprecationWarning: The `compose` function has been deprecated and will be removed in a subsequent release of `ethereum-utils`.  It is recommended that you switch to use a library like `cytoolz` which provides similar functionality through the `cytoolz.functoolz.compose` function.\n",
      "  \"The `compose` function has been deprecated and will be removed in a \"\n"
     ]
    },
    {
     "name": "stdout",
     "output_type": "stream",
     "text": [
      "  1 coins were issued\n",
      "Adding data for miner  50\n"
     ]
    },
    {
     "name": "stderr",
     "output_type": "stream",
     "text": [
      "/home/rbharath/anaconda3/envs/datamined/lib/python3.6/site-packages/populus/chain/tester.py:13: DeprecationWarning: currentProvider is deprecated in favor of `providers`, which is now a list\n",
      "  self.rpc_methods = self.web3.currentProvider.rpc_methods\n",
      "/home/rbharath/anaconda3/envs/datamined/lib/python3.6/site-packages/eth_utils/functional.py:21: DeprecationWarning: The `compose` function has been deprecated and will be removed in a subsequent release of `ethereum-utils`.  It is recommended that you switch to use a library like `cytoolz` which provides similar functionality through the `cytoolz.functoolz.compose` function.\n",
      "  \"The `compose` function has been deprecated and will be removed in a \"\n",
      "/home/rbharath/anaconda3/envs/datamined/lib/python3.6/site-packages/populus/chain/tester.py:13: DeprecationWarning: currentProvider is deprecated in favor of `providers`, which is now a list\n",
      "  self.rpc_methods = self.web3.currentProvider.rpc_methods\n",
      "/home/rbharath/anaconda3/envs/datamined/lib/python3.6/site-packages/eth_abi/abi.py:92: DeprecationWarning: Automatic inference of hex encoded data has been deprecated. Please adjust your code to ensure that the data argument for `decode_single` is a byte string\n",
      "  \"Automatic inference of hex encoded data has been deprecated. \"\n",
      "/home/rbharath/anaconda3/envs/datamined/lib/python3.6/site-packages/eth_utils/functional.py:21: DeprecationWarning: The `compose` function has been deprecated and will be removed in a subsequent release of `ethereum-utils`.  It is recommended that you switch to use a library like `cytoolz` which provides similar functionality through the `cytoolz.functoolz.compose` function.\n",
      "  \"The `compose` function has been deprecated and will be removed in a \"\n"
     ]
    },
    {
     "name": "stdout",
     "output_type": "stream",
     "text": [
      "  1 coins were issued\n",
      "Adding data for miner  51\n"
     ]
    },
    {
     "name": "stderr",
     "output_type": "stream",
     "text": [
      "/home/rbharath/anaconda3/envs/datamined/lib/python3.6/site-packages/populus/chain/tester.py:13: DeprecationWarning: currentProvider is deprecated in favor of `providers`, which is now a list\n",
      "  self.rpc_methods = self.web3.currentProvider.rpc_methods\n",
      "/home/rbharath/anaconda3/envs/datamined/lib/python3.6/site-packages/eth_utils/functional.py:21: DeprecationWarning: The `compose` function has been deprecated and will be removed in a subsequent release of `ethereum-utils`.  It is recommended that you switch to use a library like `cytoolz` which provides similar functionality through the `cytoolz.functoolz.compose` function.\n",
      "  \"The `compose` function has been deprecated and will be removed in a \"\n",
      "/home/rbharath/anaconda3/envs/datamined/lib/python3.6/site-packages/populus/chain/tester.py:13: DeprecationWarning: currentProvider is deprecated in favor of `providers`, which is now a list\n",
      "  self.rpc_methods = self.web3.currentProvider.rpc_methods\n",
      "/home/rbharath/anaconda3/envs/datamined/lib/python3.6/site-packages/eth_abi/abi.py:92: DeprecationWarning: Automatic inference of hex encoded data has been deprecated. Please adjust your code to ensure that the data argument for `decode_single` is a byte string\n",
      "  \"Automatic inference of hex encoded data has been deprecated. \"\n",
      "/home/rbharath/anaconda3/envs/datamined/lib/python3.6/site-packages/eth_utils/functional.py:21: DeprecationWarning: The `compose` function has been deprecated and will be removed in a subsequent release of `ethereum-utils`.  It is recommended that you switch to use a library like `cytoolz` which provides similar functionality through the `cytoolz.functoolz.compose` function.\n",
      "  \"The `compose` function has been deprecated and will be removed in a \"\n",
      "/home/rbharath/anaconda3/envs/datamined/lib/python3.6/site-packages/populus/chain/tester.py:13: DeprecationWarning: currentProvider is deprecated in favor of `providers`, which is now a list\n",
      "  self.rpc_methods = self.web3.currentProvider.rpc_methods\n"
     ]
    },
    {
     "name": "stdout",
     "output_type": "stream",
     "text": [
      "  1 coins were issued\n",
      "Adding data for miner  52\n"
     ]
    },
    {
     "name": "stderr",
     "output_type": "stream",
     "text": [
      "/home/rbharath/anaconda3/envs/datamined/lib/python3.6/site-packages/eth_utils/functional.py:21: DeprecationWarning: The `compose` function has been deprecated and will be removed in a subsequent release of `ethereum-utils`.  It is recommended that you switch to use a library like `cytoolz` which provides similar functionality through the `cytoolz.functoolz.compose` function.\n",
      "  \"The `compose` function has been deprecated and will be removed in a \"\n",
      "/home/rbharath/anaconda3/envs/datamined/lib/python3.6/site-packages/populus/chain/tester.py:13: DeprecationWarning: currentProvider is deprecated in favor of `providers`, which is now a list\n",
      "  self.rpc_methods = self.web3.currentProvider.rpc_methods\n",
      "/home/rbharath/anaconda3/envs/datamined/lib/python3.6/site-packages/eth_abi/abi.py:92: DeprecationWarning: Automatic inference of hex encoded data has been deprecated. Please adjust your code to ensure that the data argument for `decode_single` is a byte string\n",
      "  \"Automatic inference of hex encoded data has been deprecated. \"\n",
      "/home/rbharath/anaconda3/envs/datamined/lib/python3.6/site-packages/eth_utils/functional.py:21: DeprecationWarning: The `compose` function has been deprecated and will be removed in a subsequent release of `ethereum-utils`.  It is recommended that you switch to use a library like `cytoolz` which provides similar functionality through the `cytoolz.functoolz.compose` function.\n",
      "  \"The `compose` function has been deprecated and will be removed in a \"\n",
      "/home/rbharath/anaconda3/envs/datamined/lib/python3.6/site-packages/populus/chain/tester.py:13: DeprecationWarning: currentProvider is deprecated in favor of `providers`, which is now a list\n",
      "  self.rpc_methods = self.web3.currentProvider.rpc_methods\n"
     ]
    },
    {
     "name": "stdout",
     "output_type": "stream",
     "text": [
      "  1 coins were issued\n",
      "Adding data for miner  53\n"
     ]
    },
    {
     "name": "stderr",
     "output_type": "stream",
     "text": [
      "/home/rbharath/anaconda3/envs/datamined/lib/python3.6/site-packages/eth_utils/functional.py:21: DeprecationWarning: The `compose` function has been deprecated and will be removed in a subsequent release of `ethereum-utils`.  It is recommended that you switch to use a library like `cytoolz` which provides similar functionality through the `cytoolz.functoolz.compose` function.\n",
      "  \"The `compose` function has been deprecated and will be removed in a \"\n",
      "/home/rbharath/anaconda3/envs/datamined/lib/python3.6/site-packages/populus/chain/tester.py:13: DeprecationWarning: currentProvider is deprecated in favor of `providers`, which is now a list\n",
      "  self.rpc_methods = self.web3.currentProvider.rpc_methods\n",
      "/home/rbharath/anaconda3/envs/datamined/lib/python3.6/site-packages/eth_abi/abi.py:92: DeprecationWarning: Automatic inference of hex encoded data has been deprecated. Please adjust your code to ensure that the data argument for `decode_single` is a byte string\n",
      "  \"Automatic inference of hex encoded data has been deprecated. \"\n",
      "/home/rbharath/anaconda3/envs/datamined/lib/python3.6/site-packages/eth_utils/functional.py:21: DeprecationWarning: The `compose` function has been deprecated and will be removed in a subsequent release of `ethereum-utils`.  It is recommended that you switch to use a library like `cytoolz` which provides similar functionality through the `cytoolz.functoolz.compose` function.\n",
      "  \"The `compose` function has been deprecated and will be removed in a \"\n",
      "/home/rbharath/anaconda3/envs/datamined/lib/python3.6/site-packages/populus/chain/tester.py:13: DeprecationWarning: currentProvider is deprecated in favor of `providers`, which is now a list\n",
      "  self.rpc_methods = self.web3.currentProvider.rpc_methods\n"
     ]
    },
    {
     "name": "stdout",
     "output_type": "stream",
     "text": [
      "  1 coins were issued\n",
      "Adding data for miner  54\n"
     ]
    },
    {
     "name": "stderr",
     "output_type": "stream",
     "text": [
      "/home/rbharath/anaconda3/envs/datamined/lib/python3.6/site-packages/eth_utils/functional.py:21: DeprecationWarning: The `compose` function has been deprecated and will be removed in a subsequent release of `ethereum-utils`.  It is recommended that you switch to use a library like `cytoolz` which provides similar functionality through the `cytoolz.functoolz.compose` function.\n",
      "  \"The `compose` function has been deprecated and will be removed in a \"\n",
      "/home/rbharath/anaconda3/envs/datamined/lib/python3.6/site-packages/populus/chain/tester.py:13: DeprecationWarning: currentProvider is deprecated in favor of `providers`, which is now a list\n",
      "  self.rpc_methods = self.web3.currentProvider.rpc_methods\n",
      "/home/rbharath/anaconda3/envs/datamined/lib/python3.6/site-packages/eth_abi/abi.py:92: DeprecationWarning: Automatic inference of hex encoded data has been deprecated. Please adjust your code to ensure that the data argument for `decode_single` is a byte string\n",
      "  \"Automatic inference of hex encoded data has been deprecated. \"\n",
      "/home/rbharath/anaconda3/envs/datamined/lib/python3.6/site-packages/eth_utils/functional.py:21: DeprecationWarning: The `compose` function has been deprecated and will be removed in a subsequent release of `ethereum-utils`.  It is recommended that you switch to use a library like `cytoolz` which provides similar functionality through the `cytoolz.functoolz.compose` function.\n",
      "  \"The `compose` function has been deprecated and will be removed in a \"\n",
      "/home/rbharath/anaconda3/envs/datamined/lib/python3.6/site-packages/populus/chain/tester.py:13: DeprecationWarning: currentProvider is deprecated in favor of `providers`, which is now a list\n",
      "  self.rpc_methods = self.web3.currentProvider.rpc_methods\n"
     ]
    },
    {
     "name": "stdout",
     "output_type": "stream",
     "text": [
      "  1 coins were issued\n",
      "Adding data for miner  55\n"
     ]
    },
    {
     "name": "stderr",
     "output_type": "stream",
     "text": [
      "/home/rbharath/anaconda3/envs/datamined/lib/python3.6/site-packages/eth_utils/functional.py:21: DeprecationWarning: The `compose` function has been deprecated and will be removed in a subsequent release of `ethereum-utils`.  It is recommended that you switch to use a library like `cytoolz` which provides similar functionality through the `cytoolz.functoolz.compose` function.\n",
      "  \"The `compose` function has been deprecated and will be removed in a \"\n",
      "/home/rbharath/anaconda3/envs/datamined/lib/python3.6/site-packages/populus/chain/tester.py:13: DeprecationWarning: currentProvider is deprecated in favor of `providers`, which is now a list\n",
      "  self.rpc_methods = self.web3.currentProvider.rpc_methods\n",
      "/home/rbharath/anaconda3/envs/datamined/lib/python3.6/site-packages/eth_abi/abi.py:92: DeprecationWarning: Automatic inference of hex encoded data has been deprecated. Please adjust your code to ensure that the data argument for `decode_single` is a byte string\n",
      "  \"Automatic inference of hex encoded data has been deprecated. \"\n",
      "/home/rbharath/anaconda3/envs/datamined/lib/python3.6/site-packages/eth_utils/functional.py:21: DeprecationWarning: The `compose` function has been deprecated and will be removed in a subsequent release of `ethereum-utils`.  It is recommended that you switch to use a library like `cytoolz` which provides similar functionality through the `cytoolz.functoolz.compose` function.\n",
      "  \"The `compose` function has been deprecated and will be removed in a \"\n"
     ]
    },
    {
     "name": "stdout",
     "output_type": "stream",
     "text": [
      "  1 coins were issued\n",
      "Adding data for miner  56\n"
     ]
    },
    {
     "name": "stderr",
     "output_type": "stream",
     "text": [
      "/home/rbharath/anaconda3/envs/datamined/lib/python3.6/site-packages/populus/chain/tester.py:13: DeprecationWarning: currentProvider is deprecated in favor of `providers`, which is now a list\n",
      "  self.rpc_methods = self.web3.currentProvider.rpc_methods\n",
      "/home/rbharath/anaconda3/envs/datamined/lib/python3.6/site-packages/eth_utils/functional.py:21: DeprecationWarning: The `compose` function has been deprecated and will be removed in a subsequent release of `ethereum-utils`.  It is recommended that you switch to use a library like `cytoolz` which provides similar functionality through the `cytoolz.functoolz.compose` function.\n",
      "  \"The `compose` function has been deprecated and will be removed in a \"\n",
      "/home/rbharath/anaconda3/envs/datamined/lib/python3.6/site-packages/populus/chain/tester.py:13: DeprecationWarning: currentProvider is deprecated in favor of `providers`, which is now a list\n",
      "  self.rpc_methods = self.web3.currentProvider.rpc_methods\n",
      "/home/rbharath/anaconda3/envs/datamined/lib/python3.6/site-packages/eth_abi/abi.py:92: DeprecationWarning: Automatic inference of hex encoded data has been deprecated. Please adjust your code to ensure that the data argument for `decode_single` is a byte string\n",
      "  \"Automatic inference of hex encoded data has been deprecated. \"\n",
      "/home/rbharath/anaconda3/envs/datamined/lib/python3.6/site-packages/eth_utils/functional.py:21: DeprecationWarning: The `compose` function has been deprecated and will be removed in a subsequent release of `ethereum-utils`.  It is recommended that you switch to use a library like `cytoolz` which provides similar functionality through the `cytoolz.functoolz.compose` function.\n",
      "  \"The `compose` function has been deprecated and will be removed in a \"\n"
     ]
    },
    {
     "name": "stdout",
     "output_type": "stream",
     "text": [
      "  1 coins were issued\n",
      "Adding data for miner  57\n"
     ]
    },
    {
     "name": "stderr",
     "output_type": "stream",
     "text": [
      "/home/rbharath/anaconda3/envs/datamined/lib/python3.6/site-packages/populus/chain/tester.py:13: DeprecationWarning: currentProvider is deprecated in favor of `providers`, which is now a list\n",
      "  self.rpc_methods = self.web3.currentProvider.rpc_methods\n",
      "/home/rbharath/anaconda3/envs/datamined/lib/python3.6/site-packages/eth_utils/functional.py:21: DeprecationWarning: The `compose` function has been deprecated and will be removed in a subsequent release of `ethereum-utils`.  It is recommended that you switch to use a library like `cytoolz` which provides similar functionality through the `cytoolz.functoolz.compose` function.\n",
      "  \"The `compose` function has been deprecated and will be removed in a \"\n",
      "/home/rbharath/anaconda3/envs/datamined/lib/python3.6/site-packages/populus/chain/tester.py:13: DeprecationWarning: currentProvider is deprecated in favor of `providers`, which is now a list\n",
      "  self.rpc_methods = self.web3.currentProvider.rpc_methods\n",
      "/home/rbharath/anaconda3/envs/datamined/lib/python3.6/site-packages/eth_abi/abi.py:92: DeprecationWarning: Automatic inference of hex encoded data has been deprecated. Please adjust your code to ensure that the data argument for `decode_single` is a byte string\n",
      "  \"Automatic inference of hex encoded data has been deprecated. \"\n",
      "/home/rbharath/anaconda3/envs/datamined/lib/python3.6/site-packages/eth_utils/functional.py:21: DeprecationWarning: The `compose` function has been deprecated and will be removed in a subsequent release of `ethereum-utils`.  It is recommended that you switch to use a library like `cytoolz` which provides similar functionality through the `cytoolz.functoolz.compose` function.\n",
      "  \"The `compose` function has been deprecated and will be removed in a \"\n"
     ]
    },
    {
     "name": "stdout",
     "output_type": "stream",
     "text": [
      "  1 coins were issued\n",
      "Adding data for miner  58\n"
     ]
    },
    {
     "name": "stderr",
     "output_type": "stream",
     "text": [
      "/home/rbharath/anaconda3/envs/datamined/lib/python3.6/site-packages/populus/chain/tester.py:13: DeprecationWarning: currentProvider is deprecated in favor of `providers`, which is now a list\n",
      "  self.rpc_methods = self.web3.currentProvider.rpc_methods\n",
      "/home/rbharath/anaconda3/envs/datamined/lib/python3.6/site-packages/eth_utils/functional.py:21: DeprecationWarning: The `compose` function has been deprecated and will be removed in a subsequent release of `ethereum-utils`.  It is recommended that you switch to use a library like `cytoolz` which provides similar functionality through the `cytoolz.functoolz.compose` function.\n",
      "  \"The `compose` function has been deprecated and will be removed in a \"\n",
      "/home/rbharath/anaconda3/envs/datamined/lib/python3.6/site-packages/populus/chain/tester.py:13: DeprecationWarning: currentProvider is deprecated in favor of `providers`, which is now a list\n",
      "  self.rpc_methods = self.web3.currentProvider.rpc_methods\n",
      "/home/rbharath/anaconda3/envs/datamined/lib/python3.6/site-packages/eth_abi/abi.py:92: DeprecationWarning: Automatic inference of hex encoded data has been deprecated. Please adjust your code to ensure that the data argument for `decode_single` is a byte string\n",
      "  \"Automatic inference of hex encoded data has been deprecated. \"\n",
      "/home/rbharath/anaconda3/envs/datamined/lib/python3.6/site-packages/eth_utils/functional.py:21: DeprecationWarning: The `compose` function has been deprecated and will be removed in a subsequent release of `ethereum-utils`.  It is recommended that you switch to use a library like `cytoolz` which provides similar functionality through the `cytoolz.functoolz.compose` function.\n",
      "  \"The `compose` function has been deprecated and will be removed in a \"\n",
      "/home/rbharath/anaconda3/envs/datamined/lib/python3.6/site-packages/populus/chain/tester.py:13: DeprecationWarning: currentProvider is deprecated in favor of `providers`, which is now a list\n",
      "  self.rpc_methods = self.web3.currentProvider.rpc_methods\n"
     ]
    },
    {
     "name": "stdout",
     "output_type": "stream",
     "text": [
      "  1 coins were issued\n",
      "Adding data for miner  59\n"
     ]
    },
    {
     "name": "stderr",
     "output_type": "stream",
     "text": [
      "/home/rbharath/anaconda3/envs/datamined/lib/python3.6/site-packages/eth_utils/functional.py:21: DeprecationWarning: The `compose` function has been deprecated and will be removed in a subsequent release of `ethereum-utils`.  It is recommended that you switch to use a library like `cytoolz` which provides similar functionality through the `cytoolz.functoolz.compose` function.\n",
      "  \"The `compose` function has been deprecated and will be removed in a \"\n",
      "/home/rbharath/anaconda3/envs/datamined/lib/python3.6/site-packages/populus/chain/tester.py:13: DeprecationWarning: currentProvider is deprecated in favor of `providers`, which is now a list\n",
      "  self.rpc_methods = self.web3.currentProvider.rpc_methods\n",
      "/home/rbharath/anaconda3/envs/datamined/lib/python3.6/site-packages/eth_abi/abi.py:92: DeprecationWarning: Automatic inference of hex encoded data has been deprecated. Please adjust your code to ensure that the data argument for `decode_single` is a byte string\n",
      "  \"Automatic inference of hex encoded data has been deprecated. \"\n",
      "/home/rbharath/anaconda3/envs/datamined/lib/python3.6/site-packages/eth_utils/functional.py:21: DeprecationWarning: The `compose` function has been deprecated and will be removed in a subsequent release of `ethereum-utils`.  It is recommended that you switch to use a library like `cytoolz` which provides similar functionality through the `cytoolz.functoolz.compose` function.\n",
      "  \"The `compose` function has been deprecated and will be removed in a \"\n"
     ]
    },
    {
     "name": "stdout",
     "output_type": "stream",
     "text": [
      "  1 coins were issued\n",
      "Adding data for miner  60\n"
     ]
    },
    {
     "name": "stderr",
     "output_type": "stream",
     "text": [
      "/home/rbharath/anaconda3/envs/datamined/lib/python3.6/site-packages/populus/chain/tester.py:13: DeprecationWarning: currentProvider is deprecated in favor of `providers`, which is now a list\n",
      "  self.rpc_methods = self.web3.currentProvider.rpc_methods\n",
      "/home/rbharath/anaconda3/envs/datamined/lib/python3.6/site-packages/eth_utils/functional.py:21: DeprecationWarning: The `compose` function has been deprecated and will be removed in a subsequent release of `ethereum-utils`.  It is recommended that you switch to use a library like `cytoolz` which provides similar functionality through the `cytoolz.functoolz.compose` function.\n",
      "  \"The `compose` function has been deprecated and will be removed in a \"\n",
      "/home/rbharath/anaconda3/envs/datamined/lib/python3.6/site-packages/populus/chain/tester.py:13: DeprecationWarning: currentProvider is deprecated in favor of `providers`, which is now a list\n",
      "  self.rpc_methods = self.web3.currentProvider.rpc_methods\n",
      "/home/rbharath/anaconda3/envs/datamined/lib/python3.6/site-packages/eth_abi/abi.py:92: DeprecationWarning: Automatic inference of hex encoded data has been deprecated. Please adjust your code to ensure that the data argument for `decode_single` is a byte string\n",
      "  \"Automatic inference of hex encoded data has been deprecated. \"\n",
      "/home/rbharath/anaconda3/envs/datamined/lib/python3.6/site-packages/eth_utils/functional.py:21: DeprecationWarning: The `compose` function has been deprecated and will be removed in a subsequent release of `ethereum-utils`.  It is recommended that you switch to use a library like `cytoolz` which provides similar functionality through the `cytoolz.functoolz.compose` function.\n",
      "  \"The `compose` function has been deprecated and will be removed in a \"\n"
     ]
    },
    {
     "name": "stdout",
     "output_type": "stream",
     "text": [
      "  1 coins were issued\n",
      "Adding data for miner  61\n"
     ]
    },
    {
     "name": "stderr",
     "output_type": "stream",
     "text": [
      "/home/rbharath/anaconda3/envs/datamined/lib/python3.6/site-packages/populus/chain/tester.py:13: DeprecationWarning: currentProvider is deprecated in favor of `providers`, which is now a list\n",
      "  self.rpc_methods = self.web3.currentProvider.rpc_methods\n",
      "/home/rbharath/anaconda3/envs/datamined/lib/python3.6/site-packages/eth_utils/functional.py:21: DeprecationWarning: The `compose` function has been deprecated and will be removed in a subsequent release of `ethereum-utils`.  It is recommended that you switch to use a library like `cytoolz` which provides similar functionality through the `cytoolz.functoolz.compose` function.\n",
      "  \"The `compose` function has been deprecated and will be removed in a \"\n",
      "/home/rbharath/anaconda3/envs/datamined/lib/python3.6/site-packages/populus/chain/tester.py:13: DeprecationWarning: currentProvider is deprecated in favor of `providers`, which is now a list\n",
      "  self.rpc_methods = self.web3.currentProvider.rpc_methods\n",
      "/home/rbharath/anaconda3/envs/datamined/lib/python3.6/site-packages/eth_abi/abi.py:92: DeprecationWarning: Automatic inference of hex encoded data has been deprecated. Please adjust your code to ensure that the data argument for `decode_single` is a byte string\n",
      "  \"Automatic inference of hex encoded data has been deprecated. \"\n",
      "/home/rbharath/anaconda3/envs/datamined/lib/python3.6/site-packages/eth_utils/functional.py:21: DeprecationWarning: The `compose` function has been deprecated and will be removed in a subsequent release of `ethereum-utils`.  It is recommended that you switch to use a library like `cytoolz` which provides similar functionality through the `cytoolz.functoolz.compose` function.\n",
      "  \"The `compose` function has been deprecated and will be removed in a \"\n"
     ]
    },
    {
     "name": "stdout",
     "output_type": "stream",
     "text": [
      "  1 coins were issued\n",
      "Adding data for miner  62\n"
     ]
    },
    {
     "name": "stderr",
     "output_type": "stream",
     "text": [
      "/home/rbharath/anaconda3/envs/datamined/lib/python3.6/site-packages/populus/chain/tester.py:13: DeprecationWarning: currentProvider is deprecated in favor of `providers`, which is now a list\n",
      "  self.rpc_methods = self.web3.currentProvider.rpc_methods\n",
      "/home/rbharath/anaconda3/envs/datamined/lib/python3.6/site-packages/eth_utils/functional.py:21: DeprecationWarning: The `compose` function has been deprecated and will be removed in a subsequent release of `ethereum-utils`.  It is recommended that you switch to use a library like `cytoolz` which provides similar functionality through the `cytoolz.functoolz.compose` function.\n",
      "  \"The `compose` function has been deprecated and will be removed in a \"\n",
      "/home/rbharath/anaconda3/envs/datamined/lib/python3.6/site-packages/populus/chain/tester.py:13: DeprecationWarning: currentProvider is deprecated in favor of `providers`, which is now a list\n",
      "  self.rpc_methods = self.web3.currentProvider.rpc_methods\n",
      "/home/rbharath/anaconda3/envs/datamined/lib/python3.6/site-packages/eth_abi/abi.py:92: DeprecationWarning: Automatic inference of hex encoded data has been deprecated. Please adjust your code to ensure that the data argument for `decode_single` is a byte string\n",
      "  \"Automatic inference of hex encoded data has been deprecated. \"\n"
     ]
    },
    {
     "name": "stdout",
     "output_type": "stream",
     "text": [
      "  1 coins were issued\n",
      "Adding data for miner  63\n",
      "  1 coins were issued\n",
      "Adding data for miner  64\n"
     ]
    },
    {
     "name": "stderr",
     "output_type": "stream",
     "text": [
      "/home/rbharath/anaconda3/envs/datamined/lib/python3.6/site-packages/eth_utils/functional.py:21: DeprecationWarning: The `compose` function has been deprecated and will be removed in a subsequent release of `ethereum-utils`.  It is recommended that you switch to use a library like `cytoolz` which provides similar functionality through the `cytoolz.functoolz.compose` function.\n",
      "  \"The `compose` function has been deprecated and will be removed in a \"\n",
      "/home/rbharath/anaconda3/envs/datamined/lib/python3.6/site-packages/populus/chain/tester.py:13: DeprecationWarning: currentProvider is deprecated in favor of `providers`, which is now a list\n",
      "  self.rpc_methods = self.web3.currentProvider.rpc_methods\n",
      "/home/rbharath/anaconda3/envs/datamined/lib/python3.6/site-packages/eth_utils/functional.py:21: DeprecationWarning: The `compose` function has been deprecated and will be removed in a subsequent release of `ethereum-utils`.  It is recommended that you switch to use a library like `cytoolz` which provides similar functionality through the `cytoolz.functoolz.compose` function.\n",
      "  \"The `compose` function has been deprecated and will be removed in a \"\n",
      "/home/rbharath/anaconda3/envs/datamined/lib/python3.6/site-packages/populus/chain/tester.py:13: DeprecationWarning: currentProvider is deprecated in favor of `providers`, which is now a list\n",
      "  self.rpc_methods = self.web3.currentProvider.rpc_methods\n",
      "/home/rbharath/anaconda3/envs/datamined/lib/python3.6/site-packages/eth_abi/abi.py:92: DeprecationWarning: Automatic inference of hex encoded data has been deprecated. Please adjust your code to ensure that the data argument for `decode_single` is a byte string\n",
      "  \"Automatic inference of hex encoded data has been deprecated. \"\n",
      "/home/rbharath/anaconda3/envs/datamined/lib/python3.6/site-packages/eth_utils/functional.py:21: DeprecationWarning: The `compose` function has been deprecated and will be removed in a subsequent release of `ethereum-utils`.  It is recommended that you switch to use a library like `cytoolz` which provides similar functionality through the `cytoolz.functoolz.compose` function.\n",
      "  \"The `compose` function has been deprecated and will be removed in a \"\n",
      "/home/rbharath/anaconda3/envs/datamined/lib/python3.6/site-packages/populus/chain/tester.py:13: DeprecationWarning: currentProvider is deprecated in favor of `providers`, which is now a list\n",
      "  self.rpc_methods = self.web3.currentProvider.rpc_methods\n",
      "/home/rbharath/anaconda3/envs/datamined/lib/python3.6/site-packages/eth_utils/functional.py:21: DeprecationWarning: The `compose` function has been deprecated and will be removed in a subsequent release of `ethereum-utils`.  It is recommended that you switch to use a library like `cytoolz` which provides similar functionality through the `cytoolz.functoolz.compose` function.\n",
      "  \"The `compose` function has been deprecated and will be removed in a \"\n",
      "/home/rbharath/anaconda3/envs/datamined/lib/python3.6/site-packages/populus/chain/tester.py:13: DeprecationWarning: currentProvider is deprecated in favor of `providers`, which is now a list\n",
      "  self.rpc_methods = self.web3.currentProvider.rpc_methods\n",
      "/home/rbharath/anaconda3/envs/datamined/lib/python3.6/site-packages/eth_abi/abi.py:92: DeprecationWarning: Automatic inference of hex encoded data has been deprecated. Please adjust your code to ensure that the data argument for `decode_single` is a byte string\n",
      "  \"Automatic inference of hex encoded data has been deprecated. \"\n",
      "/home/rbharath/anaconda3/envs/datamined/lib/python3.6/site-packages/eth_utils/functional.py:21: DeprecationWarning: The `compose` function has been deprecated and will be removed in a subsequent release of `ethereum-utils`.  It is recommended that you switch to use a library like `cytoolz` which provides similar functionality through the `cytoolz.functoolz.compose` function.\n",
      "  \"The `compose` function has been deprecated and will be removed in a \"\n",
      "/home/rbharath/anaconda3/envs/datamined/lib/python3.6/site-packages/populus/chain/tester.py:13: DeprecationWarning: currentProvider is deprecated in favor of `providers`, which is now a list\n",
      "  self.rpc_methods = self.web3.currentProvider.rpc_methods\n"
     ]
    },
    {
     "name": "stdout",
     "output_type": "stream",
     "text": [
      "  1 coins were issued\n",
      "Adding data for miner  65\n"
     ]
    },
    {
     "name": "stderr",
     "output_type": "stream",
     "text": [
      "/home/rbharath/anaconda3/envs/datamined/lib/python3.6/site-packages/eth_utils/functional.py:21: DeprecationWarning: The `compose` function has been deprecated and will be removed in a subsequent release of `ethereum-utils`.  It is recommended that you switch to use a library like `cytoolz` which provides similar functionality through the `cytoolz.functoolz.compose` function.\n",
      "  \"The `compose` function has been deprecated and will be removed in a \"\n",
      "/home/rbharath/anaconda3/envs/datamined/lib/python3.6/site-packages/populus/chain/tester.py:13: DeprecationWarning: currentProvider is deprecated in favor of `providers`, which is now a list\n",
      "  self.rpc_methods = self.web3.currentProvider.rpc_methods\n",
      "/home/rbharath/anaconda3/envs/datamined/lib/python3.6/site-packages/eth_abi/abi.py:92: DeprecationWarning: Automatic inference of hex encoded data has been deprecated. Please adjust your code to ensure that the data argument for `decode_single` is a byte string\n",
      "  \"Automatic inference of hex encoded data has been deprecated. \"\n",
      "/home/rbharath/anaconda3/envs/datamined/lib/python3.6/site-packages/eth_utils/functional.py:21: DeprecationWarning: The `compose` function has been deprecated and will be removed in a subsequent release of `ethereum-utils`.  It is recommended that you switch to use a library like `cytoolz` which provides similar functionality through the `cytoolz.functoolz.compose` function.\n",
      "  \"The `compose` function has been deprecated and will be removed in a \"\n",
      "/home/rbharath/anaconda3/envs/datamined/lib/python3.6/site-packages/populus/chain/tester.py:13: DeprecationWarning: currentProvider is deprecated in favor of `providers`, which is now a list\n",
      "  self.rpc_methods = self.web3.currentProvider.rpc_methods\n",
      "/home/rbharath/anaconda3/envs/datamined/lib/python3.6/site-packages/eth_utils/functional.py:21: DeprecationWarning: The `compose` function has been deprecated and will be removed in a subsequent release of `ethereum-utils`.  It is recommended that you switch to use a library like `cytoolz` which provides similar functionality through the `cytoolz.functoolz.compose` function.\n",
      "  \"The `compose` function has been deprecated and will be removed in a \"\n",
      "/home/rbharath/anaconda3/envs/datamined/lib/python3.6/site-packages/populus/chain/tester.py:13: DeprecationWarning: currentProvider is deprecated in favor of `providers`, which is now a list\n",
      "  self.rpc_methods = self.web3.currentProvider.rpc_methods\n"
     ]
    },
    {
     "name": "stdout",
     "output_type": "stream",
     "text": [
      "  1 coins were issued\n",
      "Adding data for miner  66\n",
      "  1 coins were issued\n",
      "Adding data for miner  67\n"
     ]
    },
    {
     "name": "stderr",
     "output_type": "stream",
     "text": [
      "/home/rbharath/anaconda3/envs/datamined/lib/python3.6/site-packages/eth_abi/abi.py:92: DeprecationWarning: Automatic inference of hex encoded data has been deprecated. Please adjust your code to ensure that the data argument for `decode_single` is a byte string\n",
      "  \"Automatic inference of hex encoded data has been deprecated. \"\n",
      "/home/rbharath/anaconda3/envs/datamined/lib/python3.6/site-packages/eth_utils/functional.py:21: DeprecationWarning: The `compose` function has been deprecated and will be removed in a subsequent release of `ethereum-utils`.  It is recommended that you switch to use a library like `cytoolz` which provides similar functionality through the `cytoolz.functoolz.compose` function.\n",
      "  \"The `compose` function has been deprecated and will be removed in a \"\n",
      "/home/rbharath/anaconda3/envs/datamined/lib/python3.6/site-packages/populus/chain/tester.py:13: DeprecationWarning: currentProvider is deprecated in favor of `providers`, which is now a list\n",
      "  self.rpc_methods = self.web3.currentProvider.rpc_methods\n",
      "/home/rbharath/anaconda3/envs/datamined/lib/python3.6/site-packages/eth_utils/functional.py:21: DeprecationWarning: The `compose` function has been deprecated and will be removed in a subsequent release of `ethereum-utils`.  It is recommended that you switch to use a library like `cytoolz` which provides similar functionality through the `cytoolz.functoolz.compose` function.\n",
      "  \"The `compose` function has been deprecated and will be removed in a \"\n",
      "/home/rbharath/anaconda3/envs/datamined/lib/python3.6/site-packages/populus/chain/tester.py:13: DeprecationWarning: currentProvider is deprecated in favor of `providers`, which is now a list\n",
      "  self.rpc_methods = self.web3.currentProvider.rpc_methods\n",
      "/home/rbharath/anaconda3/envs/datamined/lib/python3.6/site-packages/eth_abi/abi.py:92: DeprecationWarning: Automatic inference of hex encoded data has been deprecated. Please adjust your code to ensure that the data argument for `decode_single` is a byte string\n",
      "  \"Automatic inference of hex encoded data has been deprecated. \"\n",
      "/home/rbharath/anaconda3/envs/datamined/lib/python3.6/site-packages/eth_utils/functional.py:21: DeprecationWarning: The `compose` function has been deprecated and will be removed in a subsequent release of `ethereum-utils`.  It is recommended that you switch to use a library like `cytoolz` which provides similar functionality through the `cytoolz.functoolz.compose` function.\n",
      "  \"The `compose` function has been deprecated and will be removed in a \"\n",
      "/home/rbharath/anaconda3/envs/datamined/lib/python3.6/site-packages/populus/chain/tester.py:13: DeprecationWarning: currentProvider is deprecated in favor of `providers`, which is now a list\n",
      "  self.rpc_methods = self.web3.currentProvider.rpc_methods\n"
     ]
    },
    {
     "name": "stdout",
     "output_type": "stream",
     "text": [
      "  1 coins were issued\n",
      "Adding data for miner  68\n"
     ]
    },
    {
     "name": "stderr",
     "output_type": "stream",
     "text": [
      "/home/rbharath/anaconda3/envs/datamined/lib/python3.6/site-packages/eth_utils/functional.py:21: DeprecationWarning: The `compose` function has been deprecated and will be removed in a subsequent release of `ethereum-utils`.  It is recommended that you switch to use a library like `cytoolz` which provides similar functionality through the `cytoolz.functoolz.compose` function.\n",
      "  \"The `compose` function has been deprecated and will be removed in a \"\n",
      "/home/rbharath/anaconda3/envs/datamined/lib/python3.6/site-packages/populus/chain/tester.py:13: DeprecationWarning: currentProvider is deprecated in favor of `providers`, which is now a list\n",
      "  self.rpc_methods = self.web3.currentProvider.rpc_methods\n",
      "/home/rbharath/anaconda3/envs/datamined/lib/python3.6/site-packages/eth_abi/abi.py:92: DeprecationWarning: Automatic inference of hex encoded data has been deprecated. Please adjust your code to ensure that the data argument for `decode_single` is a byte string\n",
      "  \"Automatic inference of hex encoded data has been deprecated. \"\n",
      "/home/rbharath/anaconda3/envs/datamined/lib/python3.6/site-packages/eth_utils/functional.py:21: DeprecationWarning: The `compose` function has been deprecated and will be removed in a subsequent release of `ethereum-utils`.  It is recommended that you switch to use a library like `cytoolz` which provides similar functionality through the `cytoolz.functoolz.compose` function.\n",
      "  \"The `compose` function has been deprecated and will be removed in a \"\n",
      "/home/rbharath/anaconda3/envs/datamined/lib/python3.6/site-packages/populus/chain/tester.py:13: DeprecationWarning: currentProvider is deprecated in favor of `providers`, which is now a list\n",
      "  self.rpc_methods = self.web3.currentProvider.rpc_methods\n"
     ]
    },
    {
     "name": "stdout",
     "output_type": "stream",
     "text": [
      "  1 coins were issued\n",
      "Adding data for miner  69\n"
     ]
    },
    {
     "name": "stderr",
     "output_type": "stream",
     "text": [
      "/home/rbharath/anaconda3/envs/datamined/lib/python3.6/site-packages/eth_utils/functional.py:21: DeprecationWarning: The `compose` function has been deprecated and will be removed in a subsequent release of `ethereum-utils`.  It is recommended that you switch to use a library like `cytoolz` which provides similar functionality through the `cytoolz.functoolz.compose` function.\n",
      "  \"The `compose` function has been deprecated and will be removed in a \"\n",
      "/home/rbharath/anaconda3/envs/datamined/lib/python3.6/site-packages/populus/chain/tester.py:13: DeprecationWarning: currentProvider is deprecated in favor of `providers`, which is now a list\n",
      "  self.rpc_methods = self.web3.currentProvider.rpc_methods\n",
      "/home/rbharath/anaconda3/envs/datamined/lib/python3.6/site-packages/eth_abi/abi.py:92: DeprecationWarning: Automatic inference of hex encoded data has been deprecated. Please adjust your code to ensure that the data argument for `decode_single` is a byte string\n",
      "  \"Automatic inference of hex encoded data has been deprecated. \"\n",
      "/home/rbharath/anaconda3/envs/datamined/lib/python3.6/site-packages/eth_utils/functional.py:21: DeprecationWarning: The `compose` function has been deprecated and will be removed in a subsequent release of `ethereum-utils`.  It is recommended that you switch to use a library like `cytoolz` which provides similar functionality through the `cytoolz.functoolz.compose` function.\n",
      "  \"The `compose` function has been deprecated and will be removed in a \"\n",
      "/home/rbharath/anaconda3/envs/datamined/lib/python3.6/site-packages/populus/chain/tester.py:13: DeprecationWarning: currentProvider is deprecated in favor of `providers`, which is now a list\n",
      "  self.rpc_methods = self.web3.currentProvider.rpc_methods\n"
     ]
    },
    {
     "name": "stdout",
     "output_type": "stream",
     "text": [
      "  1 coins were issued\n",
      "Adding data for miner  70\n"
     ]
    },
    {
     "name": "stderr",
     "output_type": "stream",
     "text": [
      "/home/rbharath/anaconda3/envs/datamined/lib/python3.6/site-packages/eth_utils/functional.py:21: DeprecationWarning: The `compose` function has been deprecated and will be removed in a subsequent release of `ethereum-utils`.  It is recommended that you switch to use a library like `cytoolz` which provides similar functionality through the `cytoolz.functoolz.compose` function.\n",
      "  \"The `compose` function has been deprecated and will be removed in a \"\n",
      "/home/rbharath/anaconda3/envs/datamined/lib/python3.6/site-packages/populus/chain/tester.py:13: DeprecationWarning: currentProvider is deprecated in favor of `providers`, which is now a list\n",
      "  self.rpc_methods = self.web3.currentProvider.rpc_methods\n",
      "/home/rbharath/anaconda3/envs/datamined/lib/python3.6/site-packages/eth_abi/abi.py:92: DeprecationWarning: Automatic inference of hex encoded data has been deprecated. Please adjust your code to ensure that the data argument for `decode_single` is a byte string\n",
      "  \"Automatic inference of hex encoded data has been deprecated. \"\n",
      "/home/rbharath/anaconda3/envs/datamined/lib/python3.6/site-packages/eth_utils/functional.py:21: DeprecationWarning: The `compose` function has been deprecated and will be removed in a subsequent release of `ethereum-utils`.  It is recommended that you switch to use a library like `cytoolz` which provides similar functionality through the `cytoolz.functoolz.compose` function.\n",
      "  \"The `compose` function has been deprecated and will be removed in a \"\n",
      "/home/rbharath/anaconda3/envs/datamined/lib/python3.6/site-packages/populus/chain/tester.py:13: DeprecationWarning: currentProvider is deprecated in favor of `providers`, which is now a list\n",
      "  self.rpc_methods = self.web3.currentProvider.rpc_methods\n"
     ]
    },
    {
     "name": "stdout",
     "output_type": "stream",
     "text": [
      "  1 coins were issued\n",
      "Adding data for miner  71\n"
     ]
    },
    {
     "name": "stderr",
     "output_type": "stream",
     "text": [
      "/home/rbharath/anaconda3/envs/datamined/lib/python3.6/site-packages/eth_utils/functional.py:21: DeprecationWarning: The `compose` function has been deprecated and will be removed in a subsequent release of `ethereum-utils`.  It is recommended that you switch to use a library like `cytoolz` which provides similar functionality through the `cytoolz.functoolz.compose` function.\n",
      "  \"The `compose` function has been deprecated and will be removed in a \"\n",
      "/home/rbharath/anaconda3/envs/datamined/lib/python3.6/site-packages/populus/chain/tester.py:13: DeprecationWarning: currentProvider is deprecated in favor of `providers`, which is now a list\n",
      "  self.rpc_methods = self.web3.currentProvider.rpc_methods\n",
      "/home/rbharath/anaconda3/envs/datamined/lib/python3.6/site-packages/eth_abi/abi.py:92: DeprecationWarning: Automatic inference of hex encoded data has been deprecated. Please adjust your code to ensure that the data argument for `decode_single` is a byte string\n",
      "  \"Automatic inference of hex encoded data has been deprecated. \"\n",
      "/home/rbharath/anaconda3/envs/datamined/lib/python3.6/site-packages/eth_utils/functional.py:21: DeprecationWarning: The `compose` function has been deprecated and will be removed in a subsequent release of `ethereum-utils`.  It is recommended that you switch to use a library like `cytoolz` which provides similar functionality through the `cytoolz.functoolz.compose` function.\n",
      "  \"The `compose` function has been deprecated and will be removed in a \"\n",
      "/home/rbharath/anaconda3/envs/datamined/lib/python3.6/site-packages/populus/chain/tester.py:13: DeprecationWarning: currentProvider is deprecated in favor of `providers`, which is now a list\n",
      "  self.rpc_methods = self.web3.currentProvider.rpc_methods\n"
     ]
    },
    {
     "name": "stdout",
     "output_type": "stream",
     "text": [
      "  1 coins were issued\n",
      "Adding data for miner  72\n"
     ]
    },
    {
     "name": "stderr",
     "output_type": "stream",
     "text": [
      "/home/rbharath/anaconda3/envs/datamined/lib/python3.6/site-packages/eth_utils/functional.py:21: DeprecationWarning: The `compose` function has been deprecated and will be removed in a subsequent release of `ethereum-utils`.  It is recommended that you switch to use a library like `cytoolz` which provides similar functionality through the `cytoolz.functoolz.compose` function.\n",
      "  \"The `compose` function has been deprecated and will be removed in a \"\n",
      "/home/rbharath/anaconda3/envs/datamined/lib/python3.6/site-packages/populus/chain/tester.py:13: DeprecationWarning: currentProvider is deprecated in favor of `providers`, which is now a list\n",
      "  self.rpc_methods = self.web3.currentProvider.rpc_methods\n",
      "/home/rbharath/anaconda3/envs/datamined/lib/python3.6/site-packages/eth_abi/abi.py:92: DeprecationWarning: Automatic inference of hex encoded data has been deprecated. Please adjust your code to ensure that the data argument for `decode_single` is a byte string\n",
      "  \"Automatic inference of hex encoded data has been deprecated. \"\n",
      "/home/rbharath/anaconda3/envs/datamined/lib/python3.6/site-packages/eth_utils/functional.py:21: DeprecationWarning: The `compose` function has been deprecated and will be removed in a subsequent release of `ethereum-utils`.  It is recommended that you switch to use a library like `cytoolz` which provides similar functionality through the `cytoolz.functoolz.compose` function.\n",
      "  \"The `compose` function has been deprecated and will be removed in a \"\n",
      "/home/rbharath/anaconda3/envs/datamined/lib/python3.6/site-packages/populus/chain/tester.py:13: DeprecationWarning: currentProvider is deprecated in favor of `providers`, which is now a list\n",
      "  self.rpc_methods = self.web3.currentProvider.rpc_methods\n"
     ]
    },
    {
     "name": "stdout",
     "output_type": "stream",
     "text": [
      "  1 coins were issued\n",
      "Adding data for miner  73\n",
      "  1 coins were issued\n",
      "Adding data for miner  74\n"
     ]
    },
    {
     "name": "stderr",
     "output_type": "stream",
     "text": [
      "/home/rbharath/anaconda3/envs/datamined/lib/python3.6/site-packages/eth_utils/functional.py:21: DeprecationWarning: The `compose` function has been deprecated and will be removed in a subsequent release of `ethereum-utils`.  It is recommended that you switch to use a library like `cytoolz` which provides similar functionality through the `cytoolz.functoolz.compose` function.\n",
      "  \"The `compose` function has been deprecated and will be removed in a \"\n",
      "/home/rbharath/anaconda3/envs/datamined/lib/python3.6/site-packages/populus/chain/tester.py:13: DeprecationWarning: currentProvider is deprecated in favor of `providers`, which is now a list\n",
      "  self.rpc_methods = self.web3.currentProvider.rpc_methods\n",
      "/home/rbharath/anaconda3/envs/datamined/lib/python3.6/site-packages/eth_abi/abi.py:92: DeprecationWarning: Automatic inference of hex encoded data has been deprecated. Please adjust your code to ensure that the data argument for `decode_single` is a byte string\n",
      "  \"Automatic inference of hex encoded data has been deprecated. \"\n",
      "/home/rbharath/anaconda3/envs/datamined/lib/python3.6/site-packages/eth_utils/functional.py:21: DeprecationWarning: The `compose` function has been deprecated and will be removed in a subsequent release of `ethereum-utils`.  It is recommended that you switch to use a library like `cytoolz` which provides similar functionality through the `cytoolz.functoolz.compose` function.\n",
      "  \"The `compose` function has been deprecated and will be removed in a \"\n",
      "/home/rbharath/anaconda3/envs/datamined/lib/python3.6/site-packages/populus/chain/tester.py:13: DeprecationWarning: currentProvider is deprecated in favor of `providers`, which is now a list\n",
      "  self.rpc_methods = self.web3.currentProvider.rpc_methods\n",
      "/home/rbharath/anaconda3/envs/datamined/lib/python3.6/site-packages/eth_utils/functional.py:21: DeprecationWarning: The `compose` function has been deprecated and will be removed in a subsequent release of `ethereum-utils`.  It is recommended that you switch to use a library like `cytoolz` which provides similar functionality through the `cytoolz.functoolz.compose` function.\n",
      "  \"The `compose` function has been deprecated and will be removed in a \"\n",
      "/home/rbharath/anaconda3/envs/datamined/lib/python3.6/site-packages/populus/chain/tester.py:13: DeprecationWarning: currentProvider is deprecated in favor of `providers`, which is now a list\n",
      "  self.rpc_methods = self.web3.currentProvider.rpc_methods\n",
      "/home/rbharath/anaconda3/envs/datamined/lib/python3.6/site-packages/eth_abi/abi.py:92: DeprecationWarning: Automatic inference of hex encoded data has been deprecated. Please adjust your code to ensure that the data argument for `decode_single` is a byte string\n",
      "  \"Automatic inference of hex encoded data has been deprecated. \"\n",
      "/home/rbharath/anaconda3/envs/datamined/lib/python3.6/site-packages/eth_utils/functional.py:21: DeprecationWarning: The `compose` function has been deprecated and will be removed in a subsequent release of `ethereum-utils`.  It is recommended that you switch to use a library like `cytoolz` which provides similar functionality through the `cytoolz.functoolz.compose` function.\n",
      "  \"The `compose` function has been deprecated and will be removed in a \"\n",
      "/home/rbharath/anaconda3/envs/datamined/lib/python3.6/site-packages/populus/chain/tester.py:13: DeprecationWarning: currentProvider is deprecated in favor of `providers`, which is now a list\n",
      "  self.rpc_methods = self.web3.currentProvider.rpc_methods\n",
      "/home/rbharath/anaconda3/envs/datamined/lib/python3.6/site-packages/eth_utils/functional.py:21: DeprecationWarning: The `compose` function has been deprecated and will be removed in a subsequent release of `ethereum-utils`.  It is recommended that you switch to use a library like `cytoolz` which provides similar functionality through the `cytoolz.functoolz.compose` function.\n",
      "  \"The `compose` function has been deprecated and will be removed in a \"\n",
      "/home/rbharath/anaconda3/envs/datamined/lib/python3.6/site-packages/populus/chain/tester.py:13: DeprecationWarning: currentProvider is deprecated in favor of `providers`, which is now a list\n",
      "  self.rpc_methods = self.web3.currentProvider.rpc_methods\n"
     ]
    },
    {
     "name": "stdout",
     "output_type": "stream",
     "text": [
      "  1 coins were issued\n",
      "Adding data for miner  75\n"
     ]
    },
    {
     "name": "stderr",
     "output_type": "stream",
     "text": [
      "/home/rbharath/anaconda3/envs/datamined/lib/python3.6/site-packages/eth_abi/abi.py:92: DeprecationWarning: Automatic inference of hex encoded data has been deprecated. Please adjust your code to ensure that the data argument for `decode_single` is a byte string\n",
      "  \"Automatic inference of hex encoded data has been deprecated. \"\n",
      "/home/rbharath/anaconda3/envs/datamined/lib/python3.6/site-packages/eth_utils/functional.py:21: DeprecationWarning: The `compose` function has been deprecated and will be removed in a subsequent release of `ethereum-utils`.  It is recommended that you switch to use a library like `cytoolz` which provides similar functionality through the `cytoolz.functoolz.compose` function.\n",
      "  \"The `compose` function has been deprecated and will be removed in a \"\n",
      "/home/rbharath/anaconda3/envs/datamined/lib/python3.6/site-packages/populus/chain/tester.py:13: DeprecationWarning: currentProvider is deprecated in favor of `providers`, which is now a list\n",
      "  self.rpc_methods = self.web3.currentProvider.rpc_methods\n",
      "/home/rbharath/anaconda3/envs/datamined/lib/python3.6/site-packages/eth_utils/functional.py:21: DeprecationWarning: The `compose` function has been deprecated and will be removed in a subsequent release of `ethereum-utils`.  It is recommended that you switch to use a library like `cytoolz` which provides similar functionality through the `cytoolz.functoolz.compose` function.\n",
      "  \"The `compose` function has been deprecated and will be removed in a \"\n",
      "/home/rbharath/anaconda3/envs/datamined/lib/python3.6/site-packages/populus/chain/tester.py:13: DeprecationWarning: currentProvider is deprecated in favor of `providers`, which is now a list\n",
      "  self.rpc_methods = self.web3.currentProvider.rpc_methods\n",
      "/home/rbharath/anaconda3/envs/datamined/lib/python3.6/site-packages/eth_abi/abi.py:92: DeprecationWarning: Automatic inference of hex encoded data has been deprecated. Please adjust your code to ensure that the data argument for `decode_single` is a byte string\n",
      "  \"Automatic inference of hex encoded data has been deprecated. \"\n",
      "/home/rbharath/anaconda3/envs/datamined/lib/python3.6/site-packages/eth_utils/functional.py:21: DeprecationWarning: The `compose` function has been deprecated and will be removed in a subsequent release of `ethereum-utils`.  It is recommended that you switch to use a library like `cytoolz` which provides similar functionality through the `cytoolz.functoolz.compose` function.\n",
      "  \"The `compose` function has been deprecated and will be removed in a \"\n",
      "/home/rbharath/anaconda3/envs/datamined/lib/python3.6/site-packages/populus/chain/tester.py:13: DeprecationWarning: currentProvider is deprecated in favor of `providers`, which is now a list\n",
      "  self.rpc_methods = self.web3.currentProvider.rpc_methods\n"
     ]
    },
    {
     "name": "stdout",
     "output_type": "stream",
     "text": [
      "  1 coins were issued\n",
      "Adding data for miner  76\n",
      "  1 coins were issued\n",
      "Adding data for miner  77\n"
     ]
    },
    {
     "name": "stderr",
     "output_type": "stream",
     "text": [
      "/home/rbharath/anaconda3/envs/datamined/lib/python3.6/site-packages/eth_utils/functional.py:21: DeprecationWarning: The `compose` function has been deprecated and will be removed in a subsequent release of `ethereum-utils`.  It is recommended that you switch to use a library like `cytoolz` which provides similar functionality through the `cytoolz.functoolz.compose` function.\n",
      "  \"The `compose` function has been deprecated and will be removed in a \"\n",
      "/home/rbharath/anaconda3/envs/datamined/lib/python3.6/site-packages/populus/chain/tester.py:13: DeprecationWarning: currentProvider is deprecated in favor of `providers`, which is now a list\n",
      "  self.rpc_methods = self.web3.currentProvider.rpc_methods\n",
      "/home/rbharath/anaconda3/envs/datamined/lib/python3.6/site-packages/eth_abi/abi.py:92: DeprecationWarning: Automatic inference of hex encoded data has been deprecated. Please adjust your code to ensure that the data argument for `decode_single` is a byte string\n",
      "  \"Automatic inference of hex encoded data has been deprecated. \"\n",
      "/home/rbharath/anaconda3/envs/datamined/lib/python3.6/site-packages/eth_utils/functional.py:21: DeprecationWarning: The `compose` function has been deprecated and will be removed in a subsequent release of `ethereum-utils`.  It is recommended that you switch to use a library like `cytoolz` which provides similar functionality through the `cytoolz.functoolz.compose` function.\n",
      "  \"The `compose` function has been deprecated and will be removed in a \"\n",
      "/home/rbharath/anaconda3/envs/datamined/lib/python3.6/site-packages/populus/chain/tester.py:13: DeprecationWarning: currentProvider is deprecated in favor of `providers`, which is now a list\n",
      "  self.rpc_methods = self.web3.currentProvider.rpc_methods\n",
      "/home/rbharath/anaconda3/envs/datamined/lib/python3.6/site-packages/eth_utils/functional.py:21: DeprecationWarning: The `compose` function has been deprecated and will be removed in a subsequent release of `ethereum-utils`.  It is recommended that you switch to use a library like `cytoolz` which provides similar functionality through the `cytoolz.functoolz.compose` function.\n",
      "  \"The `compose` function has been deprecated and will be removed in a \"\n",
      "/home/rbharath/anaconda3/envs/datamined/lib/python3.6/site-packages/populus/chain/tester.py:13: DeprecationWarning: currentProvider is deprecated in favor of `providers`, which is now a list\n",
      "  self.rpc_methods = self.web3.currentProvider.rpc_methods\n"
     ]
    },
    {
     "name": "stdout",
     "output_type": "stream",
     "text": [
      "  1 coins were issued\n",
      "Adding data for miner  78\n",
      "  1 coins were issued\n",
      "Adding data for miner  79\n"
     ]
    },
    {
     "name": "stderr",
     "output_type": "stream",
     "text": [
      "/home/rbharath/anaconda3/envs/datamined/lib/python3.6/site-packages/eth_abi/abi.py:92: DeprecationWarning: Automatic inference of hex encoded data has been deprecated. Please adjust your code to ensure that the data argument for `decode_single` is a byte string\n",
      "  \"Automatic inference of hex encoded data has been deprecated. \"\n",
      "/home/rbharath/anaconda3/envs/datamined/lib/python3.6/site-packages/eth_utils/functional.py:21: DeprecationWarning: The `compose` function has been deprecated and will be removed in a subsequent release of `ethereum-utils`.  It is recommended that you switch to use a library like `cytoolz` which provides similar functionality through the `cytoolz.functoolz.compose` function.\n",
      "  \"The `compose` function has been deprecated and will be removed in a \"\n",
      "/home/rbharath/anaconda3/envs/datamined/lib/python3.6/site-packages/populus/chain/tester.py:13: DeprecationWarning: currentProvider is deprecated in favor of `providers`, which is now a list\n",
      "  self.rpc_methods = self.web3.currentProvider.rpc_methods\n",
      "/home/rbharath/anaconda3/envs/datamined/lib/python3.6/site-packages/eth_utils/functional.py:21: DeprecationWarning: The `compose` function has been deprecated and will be removed in a subsequent release of `ethereum-utils`.  It is recommended that you switch to use a library like `cytoolz` which provides similar functionality through the `cytoolz.functoolz.compose` function.\n",
      "  \"The `compose` function has been deprecated and will be removed in a \"\n",
      "/home/rbharath/anaconda3/envs/datamined/lib/python3.6/site-packages/populus/chain/tester.py:13: DeprecationWarning: currentProvider is deprecated in favor of `providers`, which is now a list\n",
      "  self.rpc_methods = self.web3.currentProvider.rpc_methods\n",
      "/home/rbharath/anaconda3/envs/datamined/lib/python3.6/site-packages/eth_abi/abi.py:92: DeprecationWarning: Automatic inference of hex encoded data has been deprecated. Please adjust your code to ensure that the data argument for `decode_single` is a byte string\n",
      "  \"Automatic inference of hex encoded data has been deprecated. \"\n",
      "/home/rbharath/anaconda3/envs/datamined/lib/python3.6/site-packages/eth_utils/functional.py:21: DeprecationWarning: The `compose` function has been deprecated and will be removed in a subsequent release of `ethereum-utils`.  It is recommended that you switch to use a library like `cytoolz` which provides similar functionality through the `cytoolz.functoolz.compose` function.\n",
      "  \"The `compose` function has been deprecated and will be removed in a \"\n",
      "/home/rbharath/anaconda3/envs/datamined/lib/python3.6/site-packages/populus/chain/tester.py:13: DeprecationWarning: currentProvider is deprecated in favor of `providers`, which is now a list\n",
      "  self.rpc_methods = self.web3.currentProvider.rpc_methods\n"
     ]
    },
    {
     "name": "stdout",
     "output_type": "stream",
     "text": [
      "  1 coins were issued\n",
      "Adding data for miner  80\n",
      "  1 coins were issued\n",
      "Adding data for miner  81\n"
     ]
    },
    {
     "name": "stderr",
     "output_type": "stream",
     "text": [
      "/home/rbharath/anaconda3/envs/datamined/lib/python3.6/site-packages/eth_utils/functional.py:21: DeprecationWarning: The `compose` function has been deprecated and will be removed in a subsequent release of `ethereum-utils`.  It is recommended that you switch to use a library like `cytoolz` which provides similar functionality through the `cytoolz.functoolz.compose` function.\n",
      "  \"The `compose` function has been deprecated and will be removed in a \"\n",
      "/home/rbharath/anaconda3/envs/datamined/lib/python3.6/site-packages/populus/chain/tester.py:13: DeprecationWarning: currentProvider is deprecated in favor of `providers`, which is now a list\n",
      "  self.rpc_methods = self.web3.currentProvider.rpc_methods\n",
      "/home/rbharath/anaconda3/envs/datamined/lib/python3.6/site-packages/eth_abi/abi.py:92: DeprecationWarning: Automatic inference of hex encoded data has been deprecated. Please adjust your code to ensure that the data argument for `decode_single` is a byte string\n",
      "  \"Automatic inference of hex encoded data has been deprecated. \"\n",
      "/home/rbharath/anaconda3/envs/datamined/lib/python3.6/site-packages/eth_utils/functional.py:21: DeprecationWarning: The `compose` function has been deprecated and will be removed in a subsequent release of `ethereum-utils`.  It is recommended that you switch to use a library like `cytoolz` which provides similar functionality through the `cytoolz.functoolz.compose` function.\n",
      "  \"The `compose` function has been deprecated and will be removed in a \"\n",
      "/home/rbharath/anaconda3/envs/datamined/lib/python3.6/site-packages/populus/chain/tester.py:13: DeprecationWarning: currentProvider is deprecated in favor of `providers`, which is now a list\n",
      "  self.rpc_methods = self.web3.currentProvider.rpc_methods\n",
      "/home/rbharath/anaconda3/envs/datamined/lib/python3.6/site-packages/eth_utils/functional.py:21: DeprecationWarning: The `compose` function has been deprecated and will be removed in a subsequent release of `ethereum-utils`.  It is recommended that you switch to use a library like `cytoolz` which provides similar functionality through the `cytoolz.functoolz.compose` function.\n",
      "  \"The `compose` function has been deprecated and will be removed in a \"\n",
      "/home/rbharath/anaconda3/envs/datamined/lib/python3.6/site-packages/populus/chain/tester.py:13: DeprecationWarning: currentProvider is deprecated in favor of `providers`, which is now a list\n",
      "  self.rpc_methods = self.web3.currentProvider.rpc_methods\n",
      "/home/rbharath/anaconda3/envs/datamined/lib/python3.6/site-packages/eth_abi/abi.py:92: DeprecationWarning: Automatic inference of hex encoded data has been deprecated. Please adjust your code to ensure that the data argument for `decode_single` is a byte string\n",
      "  \"Automatic inference of hex encoded data has been deprecated. \"\n",
      "/home/rbharath/anaconda3/envs/datamined/lib/python3.6/site-packages/eth_utils/functional.py:21: DeprecationWarning: The `compose` function has been deprecated and will be removed in a subsequent release of `ethereum-utils`.  It is recommended that you switch to use a library like `cytoolz` which provides similar functionality through the `cytoolz.functoolz.compose` function.\n",
      "  \"The `compose` function has been deprecated and will be removed in a \"\n",
      "/home/rbharath/anaconda3/envs/datamined/lib/python3.6/site-packages/populus/chain/tester.py:13: DeprecationWarning: currentProvider is deprecated in favor of `providers`, which is now a list\n",
      "  self.rpc_methods = self.web3.currentProvider.rpc_methods\n",
      "/home/rbharath/anaconda3/envs/datamined/lib/python3.6/site-packages/eth_utils/functional.py:21: DeprecationWarning: The `compose` function has been deprecated and will be removed in a subsequent release of `ethereum-utils`.  It is recommended that you switch to use a library like `cytoolz` which provides similar functionality through the `cytoolz.functoolz.compose` function.\n",
      "  \"The `compose` function has been deprecated and will be removed in a \"\n",
      "/home/rbharath/anaconda3/envs/datamined/lib/python3.6/site-packages/populus/chain/tester.py:13: DeprecationWarning: currentProvider is deprecated in favor of `providers`, which is now a list\n",
      "  self.rpc_methods = self.web3.currentProvider.rpc_methods\n",
      "/home/rbharath/anaconda3/envs/datamined/lib/python3.6/site-packages/eth_abi/abi.py:92: DeprecationWarning: Automatic inference of hex encoded data has been deprecated. Please adjust your code to ensure that the data argument for `decode_single` is a byte string\n",
      "  \"Automatic inference of hex encoded data has been deprecated. \"\n",
      "/home/rbharath/anaconda3/envs/datamined/lib/python3.6/site-packages/eth_utils/functional.py:21: DeprecationWarning: The `compose` function has been deprecated and will be removed in a subsequent release of `ethereum-utils`.  It is recommended that you switch to use a library like `cytoolz` which provides similar functionality through the `cytoolz.functoolz.compose` function.\n",
      "  \"The `compose` function has been deprecated and will be removed in a \"\n",
      "/home/rbharath/anaconda3/envs/datamined/lib/python3.6/site-packages/populus/chain/tester.py:13: DeprecationWarning: currentProvider is deprecated in favor of `providers`, which is now a list\n",
      "  self.rpc_methods = self.web3.currentProvider.rpc_methods\n"
     ]
    },
    {
     "name": "stdout",
     "output_type": "stream",
     "text": [
      "  1 coins were issued\n",
      "Adding data for miner  82\n",
      "  1 coins were issued\n",
      "Adding data for miner  83\n"
     ]
    },
    {
     "name": "stderr",
     "output_type": "stream",
     "text": [
      "/home/rbharath/anaconda3/envs/datamined/lib/python3.6/site-packages/eth_utils/functional.py:21: DeprecationWarning: The `compose` function has been deprecated and will be removed in a subsequent release of `ethereum-utils`.  It is recommended that you switch to use a library like `cytoolz` which provides similar functionality through the `cytoolz.functoolz.compose` function.\n",
      "  \"The `compose` function has been deprecated and will be removed in a \"\n",
      "/home/rbharath/anaconda3/envs/datamined/lib/python3.6/site-packages/populus/chain/tester.py:13: DeprecationWarning: currentProvider is deprecated in favor of `providers`, which is now a list\n",
      "  self.rpc_methods = self.web3.currentProvider.rpc_methods\n",
      "/home/rbharath/anaconda3/envs/datamined/lib/python3.6/site-packages/eth_abi/abi.py:92: DeprecationWarning: Automatic inference of hex encoded data has been deprecated. Please adjust your code to ensure that the data argument for `decode_single` is a byte string\n",
      "  \"Automatic inference of hex encoded data has been deprecated. \"\n",
      "/home/rbharath/anaconda3/envs/datamined/lib/python3.6/site-packages/eth_utils/functional.py:21: DeprecationWarning: The `compose` function has been deprecated and will be removed in a subsequent release of `ethereum-utils`.  It is recommended that you switch to use a library like `cytoolz` which provides similar functionality through the `cytoolz.functoolz.compose` function.\n",
      "  \"The `compose` function has been deprecated and will be removed in a \"\n",
      "/home/rbharath/anaconda3/envs/datamined/lib/python3.6/site-packages/populus/chain/tester.py:13: DeprecationWarning: currentProvider is deprecated in favor of `providers`, which is now a list\n",
      "  self.rpc_methods = self.web3.currentProvider.rpc_methods\n",
      "/home/rbharath/anaconda3/envs/datamined/lib/python3.6/site-packages/eth_utils/functional.py:21: DeprecationWarning: The `compose` function has been deprecated and will be removed in a subsequent release of `ethereum-utils`.  It is recommended that you switch to use a library like `cytoolz` which provides similar functionality through the `cytoolz.functoolz.compose` function.\n",
      "  \"The `compose` function has been deprecated and will be removed in a \"\n",
      "/home/rbharath/anaconda3/envs/datamined/lib/python3.6/site-packages/populus/chain/tester.py:13: DeprecationWarning: currentProvider is deprecated in favor of `providers`, which is now a list\n",
      "  self.rpc_methods = self.web3.currentProvider.rpc_methods\n",
      "/home/rbharath/anaconda3/envs/datamined/lib/python3.6/site-packages/eth_abi/abi.py:92: DeprecationWarning: Automatic inference of hex encoded data has been deprecated. Please adjust your code to ensure that the data argument for `decode_single` is a byte string\n",
      "  \"Automatic inference of hex encoded data has been deprecated. \"\n",
      "/home/rbharath/anaconda3/envs/datamined/lib/python3.6/site-packages/eth_utils/functional.py:21: DeprecationWarning: The `compose` function has been deprecated and will be removed in a subsequent release of `ethereum-utils`.  It is recommended that you switch to use a library like `cytoolz` which provides similar functionality through the `cytoolz.functoolz.compose` function.\n",
      "  \"The `compose` function has been deprecated and will be removed in a \"\n"
     ]
    },
    {
     "name": "stdout",
     "output_type": "stream",
     "text": [
      "  1 coins were issued\n",
      "Adding data for miner  84\n",
      "  1 coins were issued\n",
      "Adding data for miner  85\n"
     ]
    },
    {
     "name": "stderr",
     "output_type": "stream",
     "text": [
      "/home/rbharath/anaconda3/envs/datamined/lib/python3.6/site-packages/populus/chain/tester.py:13: DeprecationWarning: currentProvider is deprecated in favor of `providers`, which is now a list\n",
      "  self.rpc_methods = self.web3.currentProvider.rpc_methods\n",
      "/home/rbharath/anaconda3/envs/datamined/lib/python3.6/site-packages/eth_utils/functional.py:21: DeprecationWarning: The `compose` function has been deprecated and will be removed in a subsequent release of `ethereum-utils`.  It is recommended that you switch to use a library like `cytoolz` which provides similar functionality through the `cytoolz.functoolz.compose` function.\n",
      "  \"The `compose` function has been deprecated and will be removed in a \"\n",
      "/home/rbharath/anaconda3/envs/datamined/lib/python3.6/site-packages/populus/chain/tester.py:13: DeprecationWarning: currentProvider is deprecated in favor of `providers`, which is now a list\n",
      "  self.rpc_methods = self.web3.currentProvider.rpc_methods\n",
      "/home/rbharath/anaconda3/envs/datamined/lib/python3.6/site-packages/eth_abi/abi.py:92: DeprecationWarning: Automatic inference of hex encoded data has been deprecated. Please adjust your code to ensure that the data argument for `decode_single` is a byte string\n",
      "  \"Automatic inference of hex encoded data has been deprecated. \"\n",
      "/home/rbharath/anaconda3/envs/datamined/lib/python3.6/site-packages/eth_utils/functional.py:21: DeprecationWarning: The `compose` function has been deprecated and will be removed in a subsequent release of `ethereum-utils`.  It is recommended that you switch to use a library like `cytoolz` which provides similar functionality through the `cytoolz.functoolz.compose` function.\n",
      "  \"The `compose` function has been deprecated and will be removed in a \"\n",
      "/home/rbharath/anaconda3/envs/datamined/lib/python3.6/site-packages/populus/chain/tester.py:13: DeprecationWarning: currentProvider is deprecated in favor of `providers`, which is now a list\n",
      "  self.rpc_methods = self.web3.currentProvider.rpc_methods\n"
     ]
    },
    {
     "name": "stdout",
     "output_type": "stream",
     "text": [
      "  1 coins were issued\n",
      "Adding data for miner  86\n",
      "  1 coins were issued\n",
      "Adding data for miner  87\n"
     ]
    },
    {
     "name": "stderr",
     "output_type": "stream",
     "text": [
      "/home/rbharath/anaconda3/envs/datamined/lib/python3.6/site-packages/eth_utils/functional.py:21: DeprecationWarning: The `compose` function has been deprecated and will be removed in a subsequent release of `ethereum-utils`.  It is recommended that you switch to use a library like `cytoolz` which provides similar functionality through the `cytoolz.functoolz.compose` function.\n",
      "  \"The `compose` function has been deprecated and will be removed in a \"\n",
      "/home/rbharath/anaconda3/envs/datamined/lib/python3.6/site-packages/populus/chain/tester.py:13: DeprecationWarning: currentProvider is deprecated in favor of `providers`, which is now a list\n",
      "  self.rpc_methods = self.web3.currentProvider.rpc_methods\n",
      "/home/rbharath/anaconda3/envs/datamined/lib/python3.6/site-packages/eth_abi/abi.py:92: DeprecationWarning: Automatic inference of hex encoded data has been deprecated. Please adjust your code to ensure that the data argument for `decode_single` is a byte string\n",
      "  \"Automatic inference of hex encoded data has been deprecated. \"\n",
      "/home/rbharath/anaconda3/envs/datamined/lib/python3.6/site-packages/eth_utils/functional.py:21: DeprecationWarning: The `compose` function has been deprecated and will be removed in a subsequent release of `ethereum-utils`.  It is recommended that you switch to use a library like `cytoolz` which provides similar functionality through the `cytoolz.functoolz.compose` function.\n",
      "  \"The `compose` function has been deprecated and will be removed in a \"\n",
      "/home/rbharath/anaconda3/envs/datamined/lib/python3.6/site-packages/populus/chain/tester.py:13: DeprecationWarning: currentProvider is deprecated in favor of `providers`, which is now a list\n",
      "  self.rpc_methods = self.web3.currentProvider.rpc_methods\n",
      "/home/rbharath/anaconda3/envs/datamined/lib/python3.6/site-packages/eth_utils/functional.py:21: DeprecationWarning: The `compose` function has been deprecated and will be removed in a subsequent release of `ethereum-utils`.  It is recommended that you switch to use a library like `cytoolz` which provides similar functionality through the `cytoolz.functoolz.compose` function.\n",
      "  \"The `compose` function has been deprecated and will be removed in a \"\n",
      "/home/rbharath/anaconda3/envs/datamined/lib/python3.6/site-packages/populus/chain/tester.py:13: DeprecationWarning: currentProvider is deprecated in favor of `providers`, which is now a list\n",
      "  self.rpc_methods = self.web3.currentProvider.rpc_methods\n",
      "/home/rbharath/anaconda3/envs/datamined/lib/python3.6/site-packages/eth_abi/abi.py:92: DeprecationWarning: Automatic inference of hex encoded data has been deprecated. Please adjust your code to ensure that the data argument for `decode_single` is a byte string\n",
      "  \"Automatic inference of hex encoded data has been deprecated. \"\n",
      "/home/rbharath/anaconda3/envs/datamined/lib/python3.6/site-packages/eth_utils/functional.py:21: DeprecationWarning: The `compose` function has been deprecated and will be removed in a subsequent release of `ethereum-utils`.  It is recommended that you switch to use a library like `cytoolz` which provides similar functionality through the `cytoolz.functoolz.compose` function.\n",
      "  \"The `compose` function has been deprecated and will be removed in a \"\n",
      "/home/rbharath/anaconda3/envs/datamined/lib/python3.6/site-packages/populus/chain/tester.py:13: DeprecationWarning: currentProvider is deprecated in favor of `providers`, which is now a list\n",
      "  self.rpc_methods = self.web3.currentProvider.rpc_methods\n",
      "/home/rbharath/anaconda3/envs/datamined/lib/python3.6/site-packages/eth_utils/functional.py:21: DeprecationWarning: The `compose` function has been deprecated and will be removed in a subsequent release of `ethereum-utils`.  It is recommended that you switch to use a library like `cytoolz` which provides similar functionality through the `cytoolz.functoolz.compose` function.\n",
      "  \"The `compose` function has been deprecated and will be removed in a \"\n",
      "/home/rbharath/anaconda3/envs/datamined/lib/python3.6/site-packages/populus/chain/tester.py:13: DeprecationWarning: currentProvider is deprecated in favor of `providers`, which is now a list\n",
      "  self.rpc_methods = self.web3.currentProvider.rpc_methods\n",
      "/home/rbharath/anaconda3/envs/datamined/lib/python3.6/site-packages/eth_abi/abi.py:92: DeprecationWarning: Automatic inference of hex encoded data has been deprecated. Please adjust your code to ensure that the data argument for `decode_single` is a byte string\n",
      "  \"Automatic inference of hex encoded data has been deprecated. \"\n",
      "/home/rbharath/anaconda3/envs/datamined/lib/python3.6/site-packages/eth_utils/functional.py:21: DeprecationWarning: The `compose` function has been deprecated and will be removed in a subsequent release of `ethereum-utils`.  It is recommended that you switch to use a library like `cytoolz` which provides similar functionality through the `cytoolz.functoolz.compose` function.\n",
      "  \"The `compose` function has been deprecated and will be removed in a \"\n",
      "/home/rbharath/anaconda3/envs/datamined/lib/python3.6/site-packages/populus/chain/tester.py:13: DeprecationWarning: currentProvider is deprecated in favor of `providers`, which is now a list\n",
      "  self.rpc_methods = self.web3.currentProvider.rpc_methods\n"
     ]
    },
    {
     "name": "stdout",
     "output_type": "stream",
     "text": [
      "  1 coins were issued\n",
      "Adding data for miner  88\n",
      "  1 coins were issued\n",
      "Adding data for miner  89\n"
     ]
    },
    {
     "name": "stderr",
     "output_type": "stream",
     "text": [
      "/home/rbharath/anaconda3/envs/datamined/lib/python3.6/site-packages/eth_utils/functional.py:21: DeprecationWarning: The `compose` function has been deprecated and will be removed in a subsequent release of `ethereum-utils`.  It is recommended that you switch to use a library like `cytoolz` which provides similar functionality through the `cytoolz.functoolz.compose` function.\n",
      "  \"The `compose` function has been deprecated and will be removed in a \"\n",
      "/home/rbharath/anaconda3/envs/datamined/lib/python3.6/site-packages/populus/chain/tester.py:13: DeprecationWarning: currentProvider is deprecated in favor of `providers`, which is now a list\n",
      "  self.rpc_methods = self.web3.currentProvider.rpc_methods\n",
      "/home/rbharath/anaconda3/envs/datamined/lib/python3.6/site-packages/eth_abi/abi.py:92: DeprecationWarning: Automatic inference of hex encoded data has been deprecated. Please adjust your code to ensure that the data argument for `decode_single` is a byte string\n",
      "  \"Automatic inference of hex encoded data has been deprecated. \"\n",
      "/home/rbharath/anaconda3/envs/datamined/lib/python3.6/site-packages/eth_utils/functional.py:21: DeprecationWarning: The `compose` function has been deprecated and will be removed in a subsequent release of `ethereum-utils`.  It is recommended that you switch to use a library like `cytoolz` which provides similar functionality through the `cytoolz.functoolz.compose` function.\n",
      "  \"The `compose` function has been deprecated and will be removed in a \"\n",
      "/home/rbharath/anaconda3/envs/datamined/lib/python3.6/site-packages/populus/chain/tester.py:13: DeprecationWarning: currentProvider is deprecated in favor of `providers`, which is now a list\n",
      "  self.rpc_methods = self.web3.currentProvider.rpc_methods\n",
      "/home/rbharath/anaconda3/envs/datamined/lib/python3.6/site-packages/eth_utils/functional.py:21: DeprecationWarning: The `compose` function has been deprecated and will be removed in a subsequent release of `ethereum-utils`.  It is recommended that you switch to use a library like `cytoolz` which provides similar functionality through the `cytoolz.functoolz.compose` function.\n",
      "  \"The `compose` function has been deprecated and will be removed in a \"\n",
      "/home/rbharath/anaconda3/envs/datamined/lib/python3.6/site-packages/populus/chain/tester.py:13: DeprecationWarning: currentProvider is deprecated in favor of `providers`, which is now a list\n",
      "  self.rpc_methods = self.web3.currentProvider.rpc_methods\n",
      "/home/rbharath/anaconda3/envs/datamined/lib/python3.6/site-packages/eth_abi/abi.py:92: DeprecationWarning: Automatic inference of hex encoded data has been deprecated. Please adjust your code to ensure that the data argument for `decode_single` is a byte string\n",
      "  \"Automatic inference of hex encoded data has been deprecated. \"\n"
     ]
    },
    {
     "name": "stdout",
     "output_type": "stream",
     "text": [
      "  1 coins were issued\n",
      "Adding data for miner  90\n",
      "  1 coins were issued\n",
      "Adding data for miner  91\n"
     ]
    },
    {
     "name": "stderr",
     "output_type": "stream",
     "text": [
      "/home/rbharath/anaconda3/envs/datamined/lib/python3.6/site-packages/eth_utils/functional.py:21: DeprecationWarning: The `compose` function has been deprecated and will be removed in a subsequent release of `ethereum-utils`.  It is recommended that you switch to use a library like `cytoolz` which provides similar functionality through the `cytoolz.functoolz.compose` function.\n",
      "  \"The `compose` function has been deprecated and will be removed in a \"\n",
      "/home/rbharath/anaconda3/envs/datamined/lib/python3.6/site-packages/populus/chain/tester.py:13: DeprecationWarning: currentProvider is deprecated in favor of `providers`, which is now a list\n",
      "  self.rpc_methods = self.web3.currentProvider.rpc_methods\n",
      "/home/rbharath/anaconda3/envs/datamined/lib/python3.6/site-packages/eth_utils/functional.py:21: DeprecationWarning: The `compose` function has been deprecated and will be removed in a subsequent release of `ethereum-utils`.  It is recommended that you switch to use a library like `cytoolz` which provides similar functionality through the `cytoolz.functoolz.compose` function.\n",
      "  \"The `compose` function has been deprecated and will be removed in a \"\n",
      "/home/rbharath/anaconda3/envs/datamined/lib/python3.6/site-packages/populus/chain/tester.py:13: DeprecationWarning: currentProvider is deprecated in favor of `providers`, which is now a list\n",
      "  self.rpc_methods = self.web3.currentProvider.rpc_methods\n",
      "/home/rbharath/anaconda3/envs/datamined/lib/python3.6/site-packages/eth_abi/abi.py:92: DeprecationWarning: Automatic inference of hex encoded data has been deprecated. Please adjust your code to ensure that the data argument for `decode_single` is a byte string\n",
      "  \"Automatic inference of hex encoded data has been deprecated. \"\n",
      "/home/rbharath/anaconda3/envs/datamined/lib/python3.6/site-packages/eth_utils/functional.py:21: DeprecationWarning: The `compose` function has been deprecated and will be removed in a subsequent release of `ethereum-utils`.  It is recommended that you switch to use a library like `cytoolz` which provides similar functionality through the `cytoolz.functoolz.compose` function.\n",
      "  \"The `compose` function has been deprecated and will be removed in a \"\n",
      "/home/rbharath/anaconda3/envs/datamined/lib/python3.6/site-packages/populus/chain/tester.py:13: DeprecationWarning: currentProvider is deprecated in favor of `providers`, which is now a list\n",
      "  self.rpc_methods = self.web3.currentProvider.rpc_methods\n"
     ]
    },
    {
     "name": "stdout",
     "output_type": "stream",
     "text": [
      "  1 coins were issued\n",
      "Adding data for miner  92\n",
      "  1 coins were issued\n",
      "Adding data for miner  93\n"
     ]
    },
    {
     "name": "stderr",
     "output_type": "stream",
     "text": [
      "/home/rbharath/anaconda3/envs/datamined/lib/python3.6/site-packages/eth_utils/functional.py:21: DeprecationWarning: The `compose` function has been deprecated and will be removed in a subsequent release of `ethereum-utils`.  It is recommended that you switch to use a library like `cytoolz` which provides similar functionality through the `cytoolz.functoolz.compose` function.\n",
      "  \"The `compose` function has been deprecated and will be removed in a \"\n",
      "/home/rbharath/anaconda3/envs/datamined/lib/python3.6/site-packages/populus/chain/tester.py:13: DeprecationWarning: currentProvider is deprecated in favor of `providers`, which is now a list\n",
      "  self.rpc_methods = self.web3.currentProvider.rpc_methods\n",
      "/home/rbharath/anaconda3/envs/datamined/lib/python3.6/site-packages/eth_abi/abi.py:92: DeprecationWarning: Automatic inference of hex encoded data has been deprecated. Please adjust your code to ensure that the data argument for `decode_single` is a byte string\n",
      "  \"Automatic inference of hex encoded data has been deprecated. \"\n",
      "/home/rbharath/anaconda3/envs/datamined/lib/python3.6/site-packages/eth_utils/functional.py:21: DeprecationWarning: The `compose` function has been deprecated and will be removed in a subsequent release of `ethereum-utils`.  It is recommended that you switch to use a library like `cytoolz` which provides similar functionality through the `cytoolz.functoolz.compose` function.\n",
      "  \"The `compose` function has been deprecated and will be removed in a \"\n",
      "/home/rbharath/anaconda3/envs/datamined/lib/python3.6/site-packages/populus/chain/tester.py:13: DeprecationWarning: currentProvider is deprecated in favor of `providers`, which is now a list\n",
      "  self.rpc_methods = self.web3.currentProvider.rpc_methods\n",
      "/home/rbharath/anaconda3/envs/datamined/lib/python3.6/site-packages/eth_utils/functional.py:21: DeprecationWarning: The `compose` function has been deprecated and will be removed in a subsequent release of `ethereum-utils`.  It is recommended that you switch to use a library like `cytoolz` which provides similar functionality through the `cytoolz.functoolz.compose` function.\n",
      "  \"The `compose` function has been deprecated and will be removed in a \"\n",
      "/home/rbharath/anaconda3/envs/datamined/lib/python3.6/site-packages/populus/chain/tester.py:13: DeprecationWarning: currentProvider is deprecated in favor of `providers`, which is now a list\n",
      "  self.rpc_methods = self.web3.currentProvider.rpc_methods\n",
      "/home/rbharath/anaconda3/envs/datamined/lib/python3.6/site-packages/eth_abi/abi.py:92: DeprecationWarning: Automatic inference of hex encoded data has been deprecated. Please adjust your code to ensure that the data argument for `decode_single` is a byte string\n",
      "  \"Automatic inference of hex encoded data has been deprecated. \"\n",
      "/home/rbharath/anaconda3/envs/datamined/lib/python3.6/site-packages/eth_utils/functional.py:21: DeprecationWarning: The `compose` function has been deprecated and will be removed in a subsequent release of `ethereum-utils`.  It is recommended that you switch to use a library like `cytoolz` which provides similar functionality through the `cytoolz.functoolz.compose` function.\n",
      "  \"The `compose` function has been deprecated and will be removed in a \"\n",
      "/home/rbharath/anaconda3/envs/datamined/lib/python3.6/site-packages/populus/chain/tester.py:13: DeprecationWarning: currentProvider is deprecated in favor of `providers`, which is now a list\n",
      "  self.rpc_methods = self.web3.currentProvider.rpc_methods\n",
      "/home/rbharath/anaconda3/envs/datamined/lib/python3.6/site-packages/eth_utils/functional.py:21: DeprecationWarning: The `compose` function has been deprecated and will be removed in a subsequent release of `ethereum-utils`.  It is recommended that you switch to use a library like `cytoolz` which provides similar functionality through the `cytoolz.functoolz.compose` function.\n",
      "  \"The `compose` function has been deprecated and will be removed in a \"\n",
      "/home/rbharath/anaconda3/envs/datamined/lib/python3.6/site-packages/populus/chain/tester.py:13: DeprecationWarning: currentProvider is deprecated in favor of `providers`, which is now a list\n",
      "  self.rpc_methods = self.web3.currentProvider.rpc_methods\n",
      "/home/rbharath/anaconda3/envs/datamined/lib/python3.6/site-packages/eth_abi/abi.py:92: DeprecationWarning: Automatic inference of hex encoded data has been deprecated. Please adjust your code to ensure that the data argument for `decode_single` is a byte string\n",
      "  \"Automatic inference of hex encoded data has been deprecated. \"\n",
      "/home/rbharath/anaconda3/envs/datamined/lib/python3.6/site-packages/eth_utils/functional.py:21: DeprecationWarning: The `compose` function has been deprecated and will be removed in a subsequent release of `ethereum-utils`.  It is recommended that you switch to use a library like `cytoolz` which provides similar functionality through the `cytoolz.functoolz.compose` function.\n",
      "  \"The `compose` function has been deprecated and will be removed in a \"\n",
      "/home/rbharath/anaconda3/envs/datamined/lib/python3.6/site-packages/populus/chain/tester.py:13: DeprecationWarning: currentProvider is deprecated in favor of `providers`, which is now a list\n",
      "  self.rpc_methods = self.web3.currentProvider.rpc_methods\n"
     ]
    },
    {
     "name": "stdout",
     "output_type": "stream",
     "text": [
      "  1 coins were issued\n",
      "Adding data for miner  94\n",
      "  1 coins were issued\n",
      "Adding data for miner  95\n"
     ]
    },
    {
     "name": "stderr",
     "output_type": "stream",
     "text": [
      "/home/rbharath/anaconda3/envs/datamined/lib/python3.6/site-packages/eth_utils/functional.py:21: DeprecationWarning: The `compose` function has been deprecated and will be removed in a subsequent release of `ethereum-utils`.  It is recommended that you switch to use a library like `cytoolz` which provides similar functionality through the `cytoolz.functoolz.compose` function.\n",
      "  \"The `compose` function has been deprecated and will be removed in a \"\n",
      "/home/rbharath/anaconda3/envs/datamined/lib/python3.6/site-packages/populus/chain/tester.py:13: DeprecationWarning: currentProvider is deprecated in favor of `providers`, which is now a list\n",
      "  self.rpc_methods = self.web3.currentProvider.rpc_methods\n",
      "/home/rbharath/anaconda3/envs/datamined/lib/python3.6/site-packages/eth_abi/abi.py:92: DeprecationWarning: Automatic inference of hex encoded data has been deprecated. Please adjust your code to ensure that the data argument for `decode_single` is a byte string\n",
      "  \"Automatic inference of hex encoded data has been deprecated. \"\n",
      "/home/rbharath/anaconda3/envs/datamined/lib/python3.6/site-packages/eth_utils/functional.py:21: DeprecationWarning: The `compose` function has been deprecated and will be removed in a subsequent release of `ethereum-utils`.  It is recommended that you switch to use a library like `cytoolz` which provides similar functionality through the `cytoolz.functoolz.compose` function.\n",
      "  \"The `compose` function has been deprecated and will be removed in a \"\n",
      "/home/rbharath/anaconda3/envs/datamined/lib/python3.6/site-packages/populus/chain/tester.py:13: DeprecationWarning: currentProvider is deprecated in favor of `providers`, which is now a list\n",
      "  self.rpc_methods = self.web3.currentProvider.rpc_methods\n",
      "/home/rbharath/anaconda3/envs/datamined/lib/python3.6/site-packages/eth_utils/functional.py:21: DeprecationWarning: The `compose` function has been deprecated and will be removed in a subsequent release of `ethereum-utils`.  It is recommended that you switch to use a library like `cytoolz` which provides similar functionality through the `cytoolz.functoolz.compose` function.\n",
      "  \"The `compose` function has been deprecated and will be removed in a \"\n",
      "/home/rbharath/anaconda3/envs/datamined/lib/python3.6/site-packages/populus/chain/tester.py:13: DeprecationWarning: currentProvider is deprecated in favor of `providers`, which is now a list\n",
      "  self.rpc_methods = self.web3.currentProvider.rpc_methods\n"
     ]
    },
    {
     "name": "stdout",
     "output_type": "stream",
     "text": [
      "  1 coins were issued\n",
      "Adding data for miner  96\n",
      "  1 coins were issued\n",
      "Adding data for miner  97\n"
     ]
    },
    {
     "name": "stderr",
     "output_type": "stream",
     "text": [
      "/home/rbharath/anaconda3/envs/datamined/lib/python3.6/site-packages/eth_abi/abi.py:92: DeprecationWarning: Automatic inference of hex encoded data has been deprecated. Please adjust your code to ensure that the data argument for `decode_single` is a byte string\n",
      "  \"Automatic inference of hex encoded data has been deprecated. \"\n",
      "/home/rbharath/anaconda3/envs/datamined/lib/python3.6/site-packages/eth_utils/functional.py:21: DeprecationWarning: The `compose` function has been deprecated and will be removed in a subsequent release of `ethereum-utils`.  It is recommended that you switch to use a library like `cytoolz` which provides similar functionality through the `cytoolz.functoolz.compose` function.\n",
      "  \"The `compose` function has been deprecated and will be removed in a \"\n",
      "/home/rbharath/anaconda3/envs/datamined/lib/python3.6/site-packages/populus/chain/tester.py:13: DeprecationWarning: currentProvider is deprecated in favor of `providers`, which is now a list\n",
      "  self.rpc_methods = self.web3.currentProvider.rpc_methods\n",
      "/home/rbharath/anaconda3/envs/datamined/lib/python3.6/site-packages/eth_utils/functional.py:21: DeprecationWarning: The `compose` function has been deprecated and will be removed in a subsequent release of `ethereum-utils`.  It is recommended that you switch to use a library like `cytoolz` which provides similar functionality through the `cytoolz.functoolz.compose` function.\n",
      "  \"The `compose` function has been deprecated and will be removed in a \"\n",
      "/home/rbharath/anaconda3/envs/datamined/lib/python3.6/site-packages/populus/chain/tester.py:13: DeprecationWarning: currentProvider is deprecated in favor of `providers`, which is now a list\n",
      "  self.rpc_methods = self.web3.currentProvider.rpc_methods\n",
      "/home/rbharath/anaconda3/envs/datamined/lib/python3.6/site-packages/eth_abi/abi.py:92: DeprecationWarning: Automatic inference of hex encoded data has been deprecated. Please adjust your code to ensure that the data argument for `decode_single` is a byte string\n",
      "  \"Automatic inference of hex encoded data has been deprecated. \"\n",
      "/home/rbharath/anaconda3/envs/datamined/lib/python3.6/site-packages/eth_utils/functional.py:21: DeprecationWarning: The `compose` function has been deprecated and will be removed in a subsequent release of `ethereum-utils`.  It is recommended that you switch to use a library like `cytoolz` which provides similar functionality through the `cytoolz.functoolz.compose` function.\n",
      "  \"The `compose` function has been deprecated and will be removed in a \"\n",
      "/home/rbharath/anaconda3/envs/datamined/lib/python3.6/site-packages/populus/chain/tester.py:13: DeprecationWarning: currentProvider is deprecated in favor of `providers`, which is now a list\n",
      "  self.rpc_methods = self.web3.currentProvider.rpc_methods\n"
     ]
    },
    {
     "name": "stdout",
     "output_type": "stream",
     "text": [
      "  1 coins were issued\n",
      "Adding data for miner  98\n",
      "  1 coins were issued\n",
      "Adding data for miner  99\n"
     ]
    },
    {
     "name": "stderr",
     "output_type": "stream",
     "text": [
      "/home/rbharath/anaconda3/envs/datamined/lib/python3.6/site-packages/eth_utils/functional.py:21: DeprecationWarning: The `compose` function has been deprecated and will be removed in a subsequent release of `ethereum-utils`.  It is recommended that you switch to use a library like `cytoolz` which provides similar functionality through the `cytoolz.functoolz.compose` function.\n",
      "  \"The `compose` function has been deprecated and will be removed in a \"\n",
      "/home/rbharath/anaconda3/envs/datamined/lib/python3.6/site-packages/populus/chain/tester.py:13: DeprecationWarning: currentProvider is deprecated in favor of `providers`, which is now a list\n",
      "  self.rpc_methods = self.web3.currentProvider.rpc_methods\n",
      "/home/rbharath/anaconda3/envs/datamined/lib/python3.6/site-packages/eth_abi/abi.py:92: DeprecationWarning: Automatic inference of hex encoded data has been deprecated. Please adjust your code to ensure that the data argument for `decode_single` is a byte string\n",
      "  \"Automatic inference of hex encoded data has been deprecated. \"\n",
      "/home/rbharath/anaconda3/envs/datamined/lib/python3.6/site-packages/eth_utils/functional.py:21: DeprecationWarning: The `compose` function has been deprecated and will be removed in a subsequent release of `ethereum-utils`.  It is recommended that you switch to use a library like `cytoolz` which provides similar functionality through the `cytoolz.functoolz.compose` function.\n",
      "  \"The `compose` function has been deprecated and will be removed in a \"\n",
      "/home/rbharath/anaconda3/envs/datamined/lib/python3.6/site-packages/populus/chain/tester.py:13: DeprecationWarning: currentProvider is deprecated in favor of `providers`, which is now a list\n",
      "  self.rpc_methods = self.web3.currentProvider.rpc_methods\n",
      "/home/rbharath/anaconda3/envs/datamined/lib/python3.6/site-packages/eth_utils/functional.py:21: DeprecationWarning: The `compose` function has been deprecated and will be removed in a subsequent release of `ethereum-utils`.  It is recommended that you switch to use a library like `cytoolz` which provides similar functionality through the `cytoolz.functoolz.compose` function.\n",
      "  \"The `compose` function has been deprecated and will be removed in a \"\n",
      "/home/rbharath/anaconda3/envs/datamined/lib/python3.6/site-packages/populus/chain/tester.py:13: DeprecationWarning: currentProvider is deprecated in favor of `providers`, which is now a list\n",
      "  self.rpc_methods = self.web3.currentProvider.rpc_methods\n"
     ]
    },
    {
     "name": "stdout",
     "output_type": "stream",
     "text": [
      "  1 coins were issued\n"
     ]
    },
    {
     "name": "stderr",
     "output_type": "stream",
     "text": [
      "/home/rbharath/anaconda3/envs/datamined/lib/python3.6/site-packages/eth_abi/abi.py:92: DeprecationWarning: Automatic inference of hex encoded data has been deprecated. Please adjust your code to ensure that the data argument for `decode_single` is a byte string\n",
      "  \"Automatic inference of hex encoded data has been deprecated. \"\n"
     ]
    }
   ],
   "source": [
    "import random\n",
    "\n",
    "# This simple validator assumes that all provided data is valid.\n",
    "# TODO(rbharath): Swap out this simple validator for a more \n",
    "validator = dm.valid.NaiveGenomicValidator()\n",
    "\n",
    "# TODO(rbharath): The ledgers provide the location of the stored data. This might be an unsightly API\n",
    "# in the long-run and should perhaps be refactored out.\n",
    "ledgers = []\n",
    "for n in range(N_miners):\n",
    "  print(\"Adding data for miner \", n)\n",
    "  miner = miners[n]\n",
    "  miner_data = \"\".join([random.choice([\"A\", \"C\", \"G\", \"T\"]) for _ in range(100)])\n",
    "  ledger = miner.store(miner_data, validator)\n",
    "  coins_issued = miner.get_wallet().get_balance()\n",
    "  print(\"  %d coins were issued\" % coins_issued)\n",
    "  assert coins_issued > 0\n",
    "  ledgers.append(ledger)"
   ]
  },
  {
   "cell_type": "markdown",
   "metadata": {},
   "source": [
    "Now that miners have added data onto the data economy, let's see how to add compute nodes onto the mining economy. The submodule `datamined.compute` provides utilities for creating compute nodes and adding them onto the networ."
   ]
  },
  {
   "cell_type": "code",
   "execution_count": 4,
   "metadata": {},
   "outputs": [
    {
     "name": "stderr",
     "output_type": "stream",
     "text": [
      "/home/rbharath/anaconda3/envs/datamined/lib/python3.6/site-packages/eth_utils/functional.py:21: DeprecationWarning: The `compose` function has been deprecated and will be removed in a subsequent release of `ethereum-utils`.  It is recommended that you switch to use a library like `cytoolz` which provides similar functionality through the `cytoolz.functoolz.compose` function.\n",
      "  \"The `compose` function has been deprecated and will be removed in a \"\n",
      "/home/rbharath/anaconda3/envs/datamined/lib/python3.6/site-packages/populus/chain/tester.py:13: DeprecationWarning: currentProvider is deprecated in favor of `providers`, which is now a list\n",
      "  self.rpc_methods = self.web3.currentProvider.rpc_methods\n",
      "/home/rbharath/anaconda3/envs/datamined/lib/python3.6/site-packages/eth_utils/functional.py:21: DeprecationWarning: The `compose` function has been deprecated and will be removed in a subsequent release of `ethereum-utils`.  It is recommended that you switch to use a library like `cytoolz` which provides similar functionality through the `cytoolz.functoolz.compose` function.\n",
      "  \"The `compose` function has been deprecated and will be removed in a \"\n",
      "/home/rbharath/anaconda3/envs/datamined/lib/python3.6/site-packages/eth_utils/functional.py:21: DeprecationWarning: The `compose` function has been deprecated and will be removed in a subsequent release of `ethereum-utils`.  It is recommended that you switch to use a library like `cytoolz` which provides similar functionality through the `cytoolz.functoolz.compose` function.\n",
      "  \"The `compose` function has been deprecated and will be removed in a \"\n"
     ]
    },
    {
     "name": "stdout",
     "output_type": "stream",
     "text": [
      "Adding compute node  0\n"
     ]
    },
    {
     "name": "stderr",
     "output_type": "stream",
     "text": [
      "/home/rbharath/anaconda3/envs/datamined/lib/python3.6/site-packages/eth_utils/functional.py:21: DeprecationWarning: The `compose` function has been deprecated and will be removed in a subsequent release of `ethereum-utils`.  It is recommended that you switch to use a library like `cytoolz` which provides similar functionality through the `cytoolz.functoolz.compose` function.\n",
      "  \"The `compose` function has been deprecated and will be removed in a \"\n",
      "/home/rbharath/anaconda3/envs/datamined/lib/python3.6/site-packages/populus/project.py:235: DeprecationWarning: project.contracts_source_dir has been replaced by the plural, project.contracts_source_dirs which is an iterable of all source directories populus will search for contracts.  Please update your code accordingly as this API will be removed in a future release\n",
      "  \"project.contracts_source_dir has been replaced by the plural, \"\n",
      "/home/rbharath/anaconda3/envs/datamined/lib/python3.6/site-packages/populus/chain/tester.py:13: DeprecationWarning: currentProvider is deprecated in favor of `providers`, which is now a list\n",
      "  self.rpc_methods = self.web3.currentProvider.rpc_methods\n",
      "/home/rbharath/anaconda3/envs/datamined/lib/python3.6/site-packages/eth_abi/abi.py:92: DeprecationWarning: Automatic inference of hex encoded data has been deprecated. Please adjust your code to ensure that the data argument for `decode_single` is a byte string\n",
      "  \"Automatic inference of hex encoded data has been deprecated. \"\n",
      "/home/rbharath/anaconda3/envs/datamined/lib/python3.6/site-packages/eth_utils/functional.py:21: DeprecationWarning: The `compose` function has been deprecated and will be removed in a subsequent release of `ethereum-utils`.  It is recommended that you switch to use a library like `cytoolz` which provides similar functionality through the `cytoolz.functoolz.compose` function.\n",
      "  \"The `compose` function has been deprecated and will be removed in a \"\n",
      "/home/rbharath/anaconda3/envs/datamined/lib/python3.6/site-packages/populus/chain/tester.py:13: DeprecationWarning: currentProvider is deprecated in favor of `providers`, which is now a list\n",
      "  self.rpc_methods = self.web3.currentProvider.rpc_methods\n"
     ]
    },
    {
     "name": "stdout",
     "output_type": "stream",
     "text": [
      "Adding compute node  1\n"
     ]
    },
    {
     "name": "stderr",
     "output_type": "stream",
     "text": [
      "/home/rbharath/anaconda3/envs/datamined/lib/python3.6/site-packages/eth_utils/functional.py:21: DeprecationWarning: The `compose` function has been deprecated and will be removed in a subsequent release of `ethereum-utils`.  It is recommended that you switch to use a library like `cytoolz` which provides similar functionality through the `cytoolz.functoolz.compose` function.\n",
      "  \"The `compose` function has been deprecated and will be removed in a \"\n",
      "/home/rbharath/anaconda3/envs/datamined/lib/python3.6/site-packages/eth_utils/functional.py:21: DeprecationWarning: The `compose` function has been deprecated and will be removed in a subsequent release of `ethereum-utils`.  It is recommended that you switch to use a library like `cytoolz` which provides similar functionality through the `cytoolz.functoolz.compose` function.\n",
      "  \"The `compose` function has been deprecated and will be removed in a \"\n",
      "/home/rbharath/anaconda3/envs/datamined/lib/python3.6/site-packages/eth_utils/functional.py:21: DeprecationWarning: The `compose` function has been deprecated and will be removed in a subsequent release of `ethereum-utils`.  It is recommended that you switch to use a library like `cytoolz` which provides similar functionality through the `cytoolz.functoolz.compose` function.\n",
      "  \"The `compose` function has been deprecated and will be removed in a \"\n",
      "/home/rbharath/anaconda3/envs/datamined/lib/python3.6/site-packages/populus/project.py:235: DeprecationWarning: project.contracts_source_dir has been replaced by the plural, project.contracts_source_dirs which is an iterable of all source directories populus will search for contracts.  Please update your code accordingly as this API will be removed in a future release\n",
      "  \"project.contracts_source_dir has been replaced by the plural, \"\n",
      "/home/rbharath/anaconda3/envs/datamined/lib/python3.6/site-packages/populus/chain/tester.py:13: DeprecationWarning: currentProvider is deprecated in favor of `providers`, which is now a list\n",
      "  self.rpc_methods = self.web3.currentProvider.rpc_methods\n",
      "/home/rbharath/anaconda3/envs/datamined/lib/python3.6/site-packages/eth_abi/abi.py:92: DeprecationWarning: Automatic inference of hex encoded data has been deprecated. Please adjust your code to ensure that the data argument for `decode_single` is a byte string\n",
      "  \"Automatic inference of hex encoded data has been deprecated. \"\n",
      "/home/rbharath/anaconda3/envs/datamined/lib/python3.6/site-packages/eth_utils/functional.py:21: DeprecationWarning: The `compose` function has been deprecated and will be removed in a subsequent release of `ethereum-utils`.  It is recommended that you switch to use a library like `cytoolz` which provides similar functionality through the `cytoolz.functoolz.compose` function.\n",
      "  \"The `compose` function has been deprecated and will be removed in a \"\n",
      "/home/rbharath/anaconda3/envs/datamined/lib/python3.6/site-packages/populus/chain/tester.py:13: DeprecationWarning: currentProvider is deprecated in favor of `providers`, which is now a list\n",
      "  self.rpc_methods = self.web3.currentProvider.rpc_methods\n",
      "/home/rbharath/anaconda3/envs/datamined/lib/python3.6/site-packages/eth_utils/functional.py:21: DeprecationWarning: The `compose` function has been deprecated and will be removed in a subsequent release of `ethereum-utils`.  It is recommended that you switch to use a library like `cytoolz` which provides similar functionality through the `cytoolz.functoolz.compose` function.\n",
      "  \"The `compose` function has been deprecated and will be removed in a \"\n"
     ]
    },
    {
     "name": "stdout",
     "output_type": "stream",
     "text": [
      "Adding compute node  2\n"
     ]
    },
    {
     "name": "stderr",
     "output_type": "stream",
     "text": [
      "/home/rbharath/anaconda3/envs/datamined/lib/python3.6/site-packages/eth_utils/functional.py:21: DeprecationWarning: The `compose` function has been deprecated and will be removed in a subsequent release of `ethereum-utils`.  It is recommended that you switch to use a library like `cytoolz` which provides similar functionality through the `cytoolz.functoolz.compose` function.\n",
      "  \"The `compose` function has been deprecated and will be removed in a \"\n",
      "/home/rbharath/anaconda3/envs/datamined/lib/python3.6/site-packages/eth_utils/functional.py:21: DeprecationWarning: The `compose` function has been deprecated and will be removed in a subsequent release of `ethereum-utils`.  It is recommended that you switch to use a library like `cytoolz` which provides similar functionality through the `cytoolz.functoolz.compose` function.\n",
      "  \"The `compose` function has been deprecated and will be removed in a \"\n",
      "/home/rbharath/anaconda3/envs/datamined/lib/python3.6/site-packages/populus/project.py:235: DeprecationWarning: project.contracts_source_dir has been replaced by the plural, project.contracts_source_dirs which is an iterable of all source directories populus will search for contracts.  Please update your code accordingly as this API will be removed in a future release\n",
      "  \"project.contracts_source_dir has been replaced by the plural, \"\n",
      "/home/rbharath/anaconda3/envs/datamined/lib/python3.6/site-packages/populus/chain/tester.py:13: DeprecationWarning: currentProvider is deprecated in favor of `providers`, which is now a list\n",
      "  self.rpc_methods = self.web3.currentProvider.rpc_methods\n",
      "/home/rbharath/anaconda3/envs/datamined/lib/python3.6/site-packages/eth_abi/abi.py:92: DeprecationWarning: Automatic inference of hex encoded data has been deprecated. Please adjust your code to ensure that the data argument for `decode_single` is a byte string\n",
      "  \"Automatic inference of hex encoded data has been deprecated. \"\n",
      "/home/rbharath/anaconda3/envs/datamined/lib/python3.6/site-packages/eth_utils/functional.py:21: DeprecationWarning: The `compose` function has been deprecated and will be removed in a subsequent release of `ethereum-utils`.  It is recommended that you switch to use a library like `cytoolz` which provides similar functionality through the `cytoolz.functoolz.compose` function.\n",
      "  \"The `compose` function has been deprecated and will be removed in a \"\n",
      "/home/rbharath/anaconda3/envs/datamined/lib/python3.6/site-packages/populus/chain/tester.py:13: DeprecationWarning: currentProvider is deprecated in favor of `providers`, which is now a list\n",
      "  self.rpc_methods = self.web3.currentProvider.rpc_methods\n",
      "/home/rbharath/anaconda3/envs/datamined/lib/python3.6/site-packages/eth_utils/functional.py:21: DeprecationWarning: The `compose` function has been deprecated and will be removed in a subsequent release of `ethereum-utils`.  It is recommended that you switch to use a library like `cytoolz` which provides similar functionality through the `cytoolz.functoolz.compose` function.\n",
      "  \"The `compose` function has been deprecated and will be removed in a \"\n"
     ]
    },
    {
     "name": "stdout",
     "output_type": "stream",
     "text": [
      "Adding compute node  3\n"
     ]
    },
    {
     "name": "stderr",
     "output_type": "stream",
     "text": [
      "/home/rbharath/anaconda3/envs/datamined/lib/python3.6/site-packages/eth_utils/functional.py:21: DeprecationWarning: The `compose` function has been deprecated and will be removed in a subsequent release of `ethereum-utils`.  It is recommended that you switch to use a library like `cytoolz` which provides similar functionality through the `cytoolz.functoolz.compose` function.\n",
      "  \"The `compose` function has been deprecated and will be removed in a \"\n",
      "/home/rbharath/anaconda3/envs/datamined/lib/python3.6/site-packages/eth_utils/functional.py:21: DeprecationWarning: The `compose` function has been deprecated and will be removed in a subsequent release of `ethereum-utils`.  It is recommended that you switch to use a library like `cytoolz` which provides similar functionality through the `cytoolz.functoolz.compose` function.\n",
      "  \"The `compose` function has been deprecated and will be removed in a \"\n",
      "/home/rbharath/anaconda3/envs/datamined/lib/python3.6/site-packages/populus/project.py:235: DeprecationWarning: project.contracts_source_dir has been replaced by the plural, project.contracts_source_dirs which is an iterable of all source directories populus will search for contracts.  Please update your code accordingly as this API will be removed in a future release\n",
      "  \"project.contracts_source_dir has been replaced by the plural, \"\n",
      "/home/rbharath/anaconda3/envs/datamined/lib/python3.6/site-packages/populus/chain/tester.py:13: DeprecationWarning: currentProvider is deprecated in favor of `providers`, which is now a list\n",
      "  self.rpc_methods = self.web3.currentProvider.rpc_methods\n",
      "/home/rbharath/anaconda3/envs/datamined/lib/python3.6/site-packages/eth_abi/abi.py:92: DeprecationWarning: Automatic inference of hex encoded data has been deprecated. Please adjust your code to ensure that the data argument for `decode_single` is a byte string\n",
      "  \"Automatic inference of hex encoded data has been deprecated. \"\n",
      "/home/rbharath/anaconda3/envs/datamined/lib/python3.6/site-packages/eth_utils/functional.py:21: DeprecationWarning: The `compose` function has been deprecated and will be removed in a subsequent release of `ethereum-utils`.  It is recommended that you switch to use a library like `cytoolz` which provides similar functionality through the `cytoolz.functoolz.compose` function.\n",
      "  \"The `compose` function has been deprecated and will be removed in a \"\n",
      "/home/rbharath/anaconda3/envs/datamined/lib/python3.6/site-packages/populus/chain/tester.py:13: DeprecationWarning: currentProvider is deprecated in favor of `providers`, which is now a list\n",
      "  self.rpc_methods = self.web3.currentProvider.rpc_methods\n",
      "/home/rbharath/anaconda3/envs/datamined/lib/python3.6/site-packages/eth_utils/functional.py:21: DeprecationWarning: The `compose` function has been deprecated and will be removed in a subsequent release of `ethereum-utils`.  It is recommended that you switch to use a library like `cytoolz` which provides similar functionality through the `cytoolz.functoolz.compose` function.\n",
      "  \"The `compose` function has been deprecated and will be removed in a \"\n"
     ]
    },
    {
     "name": "stdout",
     "output_type": "stream",
     "text": [
      "Adding compute node  4\n"
     ]
    },
    {
     "name": "stderr",
     "output_type": "stream",
     "text": [
      "/home/rbharath/anaconda3/envs/datamined/lib/python3.6/site-packages/eth_utils/functional.py:21: DeprecationWarning: The `compose` function has been deprecated and will be removed in a subsequent release of `ethereum-utils`.  It is recommended that you switch to use a library like `cytoolz` which provides similar functionality through the `cytoolz.functoolz.compose` function.\n",
      "  \"The `compose` function has been deprecated and will be removed in a \"\n",
      "/home/rbharath/anaconda3/envs/datamined/lib/python3.6/site-packages/eth_utils/functional.py:21: DeprecationWarning: The `compose` function has been deprecated and will be removed in a subsequent release of `ethereum-utils`.  It is recommended that you switch to use a library like `cytoolz` which provides similar functionality through the `cytoolz.functoolz.compose` function.\n",
      "  \"The `compose` function has been deprecated and will be removed in a \"\n",
      "/home/rbharath/anaconda3/envs/datamined/lib/python3.6/site-packages/populus/project.py:235: DeprecationWarning: project.contracts_source_dir has been replaced by the plural, project.contracts_source_dirs which is an iterable of all source directories populus will search for contracts.  Please update your code accordingly as this API will be removed in a future release\n",
      "  \"project.contracts_source_dir has been replaced by the plural, \"\n",
      "/home/rbharath/anaconda3/envs/datamined/lib/python3.6/site-packages/populus/chain/tester.py:13: DeprecationWarning: currentProvider is deprecated in favor of `providers`, which is now a list\n",
      "  self.rpc_methods = self.web3.currentProvider.rpc_methods\n",
      "/home/rbharath/anaconda3/envs/datamined/lib/python3.6/site-packages/eth_abi/abi.py:92: DeprecationWarning: Automatic inference of hex encoded data has been deprecated. Please adjust your code to ensure that the data argument for `decode_single` is a byte string\n",
      "  \"Automatic inference of hex encoded data has been deprecated. \"\n",
      "/home/rbharath/anaconda3/envs/datamined/lib/python3.6/site-packages/eth_utils/functional.py:21: DeprecationWarning: The `compose` function has been deprecated and will be removed in a subsequent release of `ethereum-utils`.  It is recommended that you switch to use a library like `cytoolz` which provides similar functionality through the `cytoolz.functoolz.compose` function.\n",
      "  \"The `compose` function has been deprecated and will be removed in a \"\n",
      "/home/rbharath/anaconda3/envs/datamined/lib/python3.6/site-packages/populus/chain/tester.py:13: DeprecationWarning: currentProvider is deprecated in favor of `providers`, which is now a list\n",
      "  self.rpc_methods = self.web3.currentProvider.rpc_methods\n",
      "/home/rbharath/anaconda3/envs/datamined/lib/python3.6/site-packages/eth_utils/functional.py:21: DeprecationWarning: The `compose` function has been deprecated and will be removed in a subsequent release of `ethereum-utils`.  It is recommended that you switch to use a library like `cytoolz` which provides similar functionality through the `cytoolz.functoolz.compose` function.\n",
      "  \"The `compose` function has been deprecated and will be removed in a \"\n",
      "/home/rbharath/anaconda3/envs/datamined/lib/python3.6/site-packages/eth_utils/functional.py:21: DeprecationWarning: The `compose` function has been deprecated and will be removed in a subsequent release of `ethereum-utils`.  It is recommended that you switch to use a library like `cytoolz` which provides similar functionality through the `cytoolz.functoolz.compose` function.\n",
      "  \"The `compose` function has been deprecated and will be removed in a \"\n"
     ]
    },
    {
     "name": "stdout",
     "output_type": "stream",
     "text": [
      "Adding compute node  5\n"
     ]
    },
    {
     "name": "stderr",
     "output_type": "stream",
     "text": [
      "/home/rbharath/anaconda3/envs/datamined/lib/python3.6/site-packages/eth_utils/functional.py:21: DeprecationWarning: The `compose` function has been deprecated and will be removed in a subsequent release of `ethereum-utils`.  It is recommended that you switch to use a library like `cytoolz` which provides similar functionality through the `cytoolz.functoolz.compose` function.\n",
      "  \"The `compose` function has been deprecated and will be removed in a \"\n",
      "/home/rbharath/anaconda3/envs/datamined/lib/python3.6/site-packages/populus/project.py:235: DeprecationWarning: project.contracts_source_dir has been replaced by the plural, project.contracts_source_dirs which is an iterable of all source directories populus will search for contracts.  Please update your code accordingly as this API will be removed in a future release\n",
      "  \"project.contracts_source_dir has been replaced by the plural, \"\n",
      "/home/rbharath/anaconda3/envs/datamined/lib/python3.6/site-packages/populus/chain/tester.py:13: DeprecationWarning: currentProvider is deprecated in favor of `providers`, which is now a list\n",
      "  self.rpc_methods = self.web3.currentProvider.rpc_methods\n",
      "/home/rbharath/anaconda3/envs/datamined/lib/python3.6/site-packages/eth_abi/abi.py:92: DeprecationWarning: Automatic inference of hex encoded data has been deprecated. Please adjust your code to ensure that the data argument for `decode_single` is a byte string\n",
      "  \"Automatic inference of hex encoded data has been deprecated. \"\n",
      "/home/rbharath/anaconda3/envs/datamined/lib/python3.6/site-packages/eth_utils/functional.py:21: DeprecationWarning: The `compose` function has been deprecated and will be removed in a subsequent release of `ethereum-utils`.  It is recommended that you switch to use a library like `cytoolz` which provides similar functionality through the `cytoolz.functoolz.compose` function.\n",
      "  \"The `compose` function has been deprecated and will be removed in a \"\n",
      "/home/rbharath/anaconda3/envs/datamined/lib/python3.6/site-packages/populus/chain/tester.py:13: DeprecationWarning: currentProvider is deprecated in favor of `providers`, which is now a list\n",
      "  self.rpc_methods = self.web3.currentProvider.rpc_methods\n",
      "/home/rbharath/anaconda3/envs/datamined/lib/python3.6/site-packages/eth_utils/functional.py:21: DeprecationWarning: The `compose` function has been deprecated and will be removed in a subsequent release of `ethereum-utils`.  It is recommended that you switch to use a library like `cytoolz` which provides similar functionality through the `cytoolz.functoolz.compose` function.\n",
      "  \"The `compose` function has been deprecated and will be removed in a \"\n",
      "/home/rbharath/anaconda3/envs/datamined/lib/python3.6/site-packages/eth_utils/functional.py:21: DeprecationWarning: The `compose` function has been deprecated and will be removed in a subsequent release of `ethereum-utils`.  It is recommended that you switch to use a library like `cytoolz` which provides similar functionality through the `cytoolz.functoolz.compose` function.\n",
      "  \"The `compose` function has been deprecated and will be removed in a \"\n"
     ]
    },
    {
     "name": "stdout",
     "output_type": "stream",
     "text": [
      "Adding compute node  6\n"
     ]
    },
    {
     "name": "stderr",
     "output_type": "stream",
     "text": [
      "/home/rbharath/anaconda3/envs/datamined/lib/python3.6/site-packages/eth_utils/functional.py:21: DeprecationWarning: The `compose` function has been deprecated and will be removed in a subsequent release of `ethereum-utils`.  It is recommended that you switch to use a library like `cytoolz` which provides similar functionality through the `cytoolz.functoolz.compose` function.\n",
      "  \"The `compose` function has been deprecated and will be removed in a \"\n",
      "/home/rbharath/anaconda3/envs/datamined/lib/python3.6/site-packages/populus/project.py:235: DeprecationWarning: project.contracts_source_dir has been replaced by the plural, project.contracts_source_dirs which is an iterable of all source directories populus will search for contracts.  Please update your code accordingly as this API will be removed in a future release\n",
      "  \"project.contracts_source_dir has been replaced by the plural, \"\n",
      "/home/rbharath/anaconda3/envs/datamined/lib/python3.6/site-packages/populus/chain/tester.py:13: DeprecationWarning: currentProvider is deprecated in favor of `providers`, which is now a list\n",
      "  self.rpc_methods = self.web3.currentProvider.rpc_methods\n",
      "/home/rbharath/anaconda3/envs/datamined/lib/python3.6/site-packages/eth_abi/abi.py:92: DeprecationWarning: Automatic inference of hex encoded data has been deprecated. Please adjust your code to ensure that the data argument for `decode_single` is a byte string\n",
      "  \"Automatic inference of hex encoded data has been deprecated. \"\n",
      "/home/rbharath/anaconda3/envs/datamined/lib/python3.6/site-packages/eth_utils/functional.py:21: DeprecationWarning: The `compose` function has been deprecated and will be removed in a subsequent release of `ethereum-utils`.  It is recommended that you switch to use a library like `cytoolz` which provides similar functionality through the `cytoolz.functoolz.compose` function.\n",
      "  \"The `compose` function has been deprecated and will be removed in a \"\n",
      "/home/rbharath/anaconda3/envs/datamined/lib/python3.6/site-packages/populus/chain/tester.py:13: DeprecationWarning: currentProvider is deprecated in favor of `providers`, which is now a list\n",
      "  self.rpc_methods = self.web3.currentProvider.rpc_methods\n",
      "/home/rbharath/anaconda3/envs/datamined/lib/python3.6/site-packages/eth_utils/functional.py:21: DeprecationWarning: The `compose` function has been deprecated and will be removed in a subsequent release of `ethereum-utils`.  It is recommended that you switch to use a library like `cytoolz` which provides similar functionality through the `cytoolz.functoolz.compose` function.\n",
      "  \"The `compose` function has been deprecated and will be removed in a \"\n"
     ]
    },
    {
     "name": "stdout",
     "output_type": "stream",
     "text": [
      "Adding compute node  7\n"
     ]
    },
    {
     "name": "stderr",
     "output_type": "stream",
     "text": [
      "/home/rbharath/anaconda3/envs/datamined/lib/python3.6/site-packages/eth_utils/functional.py:21: DeprecationWarning: The `compose` function has been deprecated and will be removed in a subsequent release of `ethereum-utils`.  It is recommended that you switch to use a library like `cytoolz` which provides similar functionality through the `cytoolz.functoolz.compose` function.\n",
      "  \"The `compose` function has been deprecated and will be removed in a \"\n",
      "/home/rbharath/anaconda3/envs/datamined/lib/python3.6/site-packages/eth_utils/functional.py:21: DeprecationWarning: The `compose` function has been deprecated and will be removed in a subsequent release of `ethereum-utils`.  It is recommended that you switch to use a library like `cytoolz` which provides similar functionality through the `cytoolz.functoolz.compose` function.\n",
      "  \"The `compose` function has been deprecated and will be removed in a \"\n",
      "/home/rbharath/anaconda3/envs/datamined/lib/python3.6/site-packages/populus/project.py:235: DeprecationWarning: project.contracts_source_dir has been replaced by the plural, project.contracts_source_dirs which is an iterable of all source directories populus will search for contracts.  Please update your code accordingly as this API will be removed in a future release\n",
      "  \"project.contracts_source_dir has been replaced by the plural, \"\n",
      "/home/rbharath/anaconda3/envs/datamined/lib/python3.6/site-packages/populus/chain/tester.py:13: DeprecationWarning: currentProvider is deprecated in favor of `providers`, which is now a list\n",
      "  self.rpc_methods = self.web3.currentProvider.rpc_methods\n",
      "/home/rbharath/anaconda3/envs/datamined/lib/python3.6/site-packages/eth_abi/abi.py:92: DeprecationWarning: Automatic inference of hex encoded data has been deprecated. Please adjust your code to ensure that the data argument for `decode_single` is a byte string\n",
      "  \"Automatic inference of hex encoded data has been deprecated. \"\n",
      "/home/rbharath/anaconda3/envs/datamined/lib/python3.6/site-packages/eth_utils/functional.py:21: DeprecationWarning: The `compose` function has been deprecated and will be removed in a subsequent release of `ethereum-utils`.  It is recommended that you switch to use a library like `cytoolz` which provides similar functionality through the `cytoolz.functoolz.compose` function.\n",
      "  \"The `compose` function has been deprecated and will be removed in a \"\n",
      "/home/rbharath/anaconda3/envs/datamined/lib/python3.6/site-packages/populus/chain/tester.py:13: DeprecationWarning: currentProvider is deprecated in favor of `providers`, which is now a list\n",
      "  self.rpc_methods = self.web3.currentProvider.rpc_methods\n",
      "/home/rbharath/anaconda3/envs/datamined/lib/python3.6/site-packages/eth_utils/functional.py:21: DeprecationWarning: The `compose` function has been deprecated and will be removed in a subsequent release of `ethereum-utils`.  It is recommended that you switch to use a library like `cytoolz` which provides similar functionality through the `cytoolz.functoolz.compose` function.\n",
      "  \"The `compose` function has been deprecated and will be removed in a \"\n",
      "/home/rbharath/anaconda3/envs/datamined/lib/python3.6/site-packages/eth_utils/functional.py:21: DeprecationWarning: The `compose` function has been deprecated and will be removed in a subsequent release of `ethereum-utils`.  It is recommended that you switch to use a library like `cytoolz` which provides similar functionality through the `cytoolz.functoolz.compose` function.\n",
      "  \"The `compose` function has been deprecated and will be removed in a \"\n"
     ]
    },
    {
     "name": "stdout",
     "output_type": "stream",
     "text": [
      "Adding compute node  8\n"
     ]
    },
    {
     "name": "stderr",
     "output_type": "stream",
     "text": [
      "/home/rbharath/anaconda3/envs/datamined/lib/python3.6/site-packages/eth_utils/functional.py:21: DeprecationWarning: The `compose` function has been deprecated and will be removed in a subsequent release of `ethereum-utils`.  It is recommended that you switch to use a library like `cytoolz` which provides similar functionality through the `cytoolz.functoolz.compose` function.\n",
      "  \"The `compose` function has been deprecated and will be removed in a \"\n",
      "/home/rbharath/anaconda3/envs/datamined/lib/python3.6/site-packages/populus/project.py:235: DeprecationWarning: project.contracts_source_dir has been replaced by the plural, project.contracts_source_dirs which is an iterable of all source directories populus will search for contracts.  Please update your code accordingly as this API will be removed in a future release\n",
      "  \"project.contracts_source_dir has been replaced by the plural, \"\n",
      "/home/rbharath/anaconda3/envs/datamined/lib/python3.6/site-packages/populus/chain/tester.py:13: DeprecationWarning: currentProvider is deprecated in favor of `providers`, which is now a list\n",
      "  self.rpc_methods = self.web3.currentProvider.rpc_methods\n",
      "/home/rbharath/anaconda3/envs/datamined/lib/python3.6/site-packages/eth_abi/abi.py:92: DeprecationWarning: Automatic inference of hex encoded data has been deprecated. Please adjust your code to ensure that the data argument for `decode_single` is a byte string\n",
      "  \"Automatic inference of hex encoded data has been deprecated. \"\n",
      "/home/rbharath/anaconda3/envs/datamined/lib/python3.6/site-packages/eth_utils/functional.py:21: DeprecationWarning: The `compose` function has been deprecated and will be removed in a subsequent release of `ethereum-utils`.  It is recommended that you switch to use a library like `cytoolz` which provides similar functionality through the `cytoolz.functoolz.compose` function.\n",
      "  \"The `compose` function has been deprecated and will be removed in a \"\n",
      "/home/rbharath/anaconda3/envs/datamined/lib/python3.6/site-packages/populus/chain/tester.py:13: DeprecationWarning: currentProvider is deprecated in favor of `providers`, which is now a list\n",
      "  self.rpc_methods = self.web3.currentProvider.rpc_methods\n",
      "/home/rbharath/anaconda3/envs/datamined/lib/python3.6/site-packages/eth_utils/functional.py:21: DeprecationWarning: The `compose` function has been deprecated and will be removed in a subsequent release of `ethereum-utils`.  It is recommended that you switch to use a library like `cytoolz` which provides similar functionality through the `cytoolz.functoolz.compose` function.\n",
      "  \"The `compose` function has been deprecated and will be removed in a \"\n",
      "/home/rbharath/anaconda3/envs/datamined/lib/python3.6/site-packages/eth_utils/functional.py:21: DeprecationWarning: The `compose` function has been deprecated and will be removed in a subsequent release of `ethereum-utils`.  It is recommended that you switch to use a library like `cytoolz` which provides similar functionality through the `cytoolz.functoolz.compose` function.\n",
      "  \"The `compose` function has been deprecated and will be removed in a \"\n"
     ]
    },
    {
     "name": "stdout",
     "output_type": "stream",
     "text": [
      "Adding compute node  9\n"
     ]
    },
    {
     "name": "stderr",
     "output_type": "stream",
     "text": [
      "/home/rbharath/anaconda3/envs/datamined/lib/python3.6/site-packages/eth_utils/functional.py:21: DeprecationWarning: The `compose` function has been deprecated and will be removed in a subsequent release of `ethereum-utils`.  It is recommended that you switch to use a library like `cytoolz` which provides similar functionality through the `cytoolz.functoolz.compose` function.\n",
      "  \"The `compose` function has been deprecated and will be removed in a \"\n",
      "/home/rbharath/anaconda3/envs/datamined/lib/python3.6/site-packages/populus/project.py:235: DeprecationWarning: project.contracts_source_dir has been replaced by the plural, project.contracts_source_dirs which is an iterable of all source directories populus will search for contracts.  Please update your code accordingly as this API will be removed in a future release\n",
      "  \"project.contracts_source_dir has been replaced by the plural, \"\n",
      "/home/rbharath/anaconda3/envs/datamined/lib/python3.6/site-packages/populus/chain/tester.py:13: DeprecationWarning: currentProvider is deprecated in favor of `providers`, which is now a list\n",
      "  self.rpc_methods = self.web3.currentProvider.rpc_methods\n",
      "/home/rbharath/anaconda3/envs/datamined/lib/python3.6/site-packages/eth_abi/abi.py:92: DeprecationWarning: Automatic inference of hex encoded data has been deprecated. Please adjust your code to ensure that the data argument for `decode_single` is a byte string\n",
      "  \"Automatic inference of hex encoded data has been deprecated. \"\n"
     ]
    }
   ],
   "source": [
    "# At this point, there's currency floating around. This currency\n",
    "# should incentivize the entrace of computational nodes onto the\n",
    "# economy.\n",
    "compute_nodes = []\n",
    "for m in range(N_compute_nodes):\n",
    "  print(\"Adding compute node \", m)\n",
    "  # Create a node wallet\n",
    "  node_wallet = dm.coins.LocalGethWallet()\n",
    "  assert node_wallet.get_balance() == 0\n",
    "\n",
    "  # TODO(rbharath): Add a more complex computation here.\n",
    "  node = dm.compute.GenomicCountInsecureFileNode(node_wallet)\n",
    "  compute_nodes.append(node)"
   ]
  },
  {
   "cell_type": "markdown",
   "metadata": {},
   "source": [
    "Now that both data and compute powers are available on the network, let's see how to enable data customers to perform to perform computation on the network."
   ]
  },
  {
   "cell_type": "code",
   "execution_count": 5,
   "metadata": {},
   "outputs": [
    {
     "name": "stderr",
     "output_type": "stream",
     "text": [
      "/home/rbharath/anaconda3/envs/datamined/lib/python3.6/site-packages/eth_utils/functional.py:21: DeprecationWarning: The `compose` function has been deprecated and will be removed in a subsequent release of `ethereum-utils`.  It is recommended that you switch to use a library like `cytoolz` which provides similar functionality through the `cytoolz.functoolz.compose` function.\n",
      "  \"The `compose` function has been deprecated and will be removed in a \"\n",
      "/home/rbharath/anaconda3/envs/datamined/lib/python3.6/site-packages/populus/chain/tester.py:13: DeprecationWarning: currentProvider is deprecated in favor of `providers`, which is now a list\n",
      "  self.rpc_methods = self.web3.currentProvider.rpc_methods\n",
      "/home/rbharath/anaconda3/envs/datamined/lib/python3.6/site-packages/eth_utils/functional.py:21: DeprecationWarning: The `compose` function has been deprecated and will be removed in a subsequent release of `ethereum-utils`.  It is recommended that you switch to use a library like `cytoolz` which provides similar functionality through the `cytoolz.functoolz.compose` function.\n",
      "  \"The `compose` function has been deprecated and will be removed in a \"\n",
      "/home/rbharath/anaconda3/envs/datamined/lib/python3.6/site-packages/populus/chain/tester.py:13: DeprecationWarning: currentProvider is deprecated in favor of `providers`, which is now a list\n",
      "  self.rpc_methods = self.web3.currentProvider.rpc_methods\n",
      "/home/rbharath/anaconda3/envs/datamined/lib/python3.6/site-packages/eth_utils/functional.py:21: DeprecationWarning: The `compose` function has been deprecated and will be removed in a subsequent release of `ethereum-utils`.  It is recommended that you switch to use a library like `cytoolz` which provides similar functionality through the `cytoolz.functoolz.compose` function.\n",
      "  \"The `compose` function has been deprecated and will be removed in a \"\n",
      "/home/rbharath/anaconda3/envs/datamined/lib/python3.6/site-packages/populus/chain/tester.py:13: DeprecationWarning: currentProvider is deprecated in favor of `providers`, which is now a list\n",
      "  self.rpc_methods = self.web3.currentProvider.rpc_methods\n",
      "/home/rbharath/anaconda3/envs/datamined/lib/python3.6/site-packages/eth_utils/functional.py:21: DeprecationWarning: The `compose` function has been deprecated and will be removed in a subsequent release of `ethereum-utils`.  It is recommended that you switch to use a library like `cytoolz` which provides similar functionality through the `cytoolz.functoolz.compose` function.\n",
      "  \"The `compose` function has been deprecated and will be removed in a \"\n",
      "/home/rbharath/anaconda3/envs/datamined/lib/python3.6/site-packages/populus/chain/tester.py:13: DeprecationWarning: currentProvider is deprecated in favor of `providers`, which is now a list\n",
      "  self.rpc_methods = self.web3.currentProvider.rpc_methods\n",
      "/home/rbharath/anaconda3/envs/datamined/lib/python3.6/site-packages/eth_utils/functional.py:21: DeprecationWarning: The `compose` function has been deprecated and will be removed in a subsequent release of `ethereum-utils`.  It is recommended that you switch to use a library like `cytoolz` which provides similar functionality through the `cytoolz.functoolz.compose` function.\n",
      "  \"The `compose` function has been deprecated and will be removed in a \"\n"
     ]
    },
    {
     "name": "stdout",
     "output_type": "stream",
     "text": [
      "result:  {'A': 30, 'C': 29, 'G': 20, 'T': 21}\n",
      "Node now has 4 DataCoins after payment\n"
     ]
    },
    {
     "name": "stderr",
     "output_type": "stream",
     "text": [
      "/home/rbharath/anaconda3/envs/datamined/lib/python3.6/site-packages/populus/chain/tester.py:13: DeprecationWarning: currentProvider is deprecated in favor of `providers`, which is now a list\n",
      "  self.rpc_methods = self.web3.currentProvider.rpc_methods\n",
      "/home/rbharath/anaconda3/envs/datamined/lib/python3.6/site-packages/eth_abi/abi.py:92: DeprecationWarning: Automatic inference of hex encoded data has been deprecated. Please adjust your code to ensure that the data argument for `decode_single` is a byte string\n",
      "  \"Automatic inference of hex encoded data has been deprecated. \"\n"
     ]
    }
   ],
   "source": [
    "import numpy as np\n",
    "\n",
    "# TODO(rbharath): There isn't currently a way to exchange ethereum for DataCoins directly.\n",
    "# Consequently, only the miners have money on the network and can actually pay for computation.\n",
    "# Fix this so external buyers can join the network.\n",
    "data_customer = miners[0]\n",
    "\n",
    "# Performing computaiton on the network.\n",
    "# Select a random compute node\n",
    "node = compute_nodes[np.random.randint(0, N_compute_nodes)]\n",
    "# Select a random miner (who is not the data_customer)\n",
    "data = miners[np.random.randint(1, N_miners)]\n",
    "ledger = ledgers[np.random.randint(0, N_miners)]\n",
    "# Obtain ledger key\n",
    "ledger_key = data.get_ledger_key(ledger)\n",
    "\n",
    "result = node.compute(ledger, ledger_key, \"count_basepairs\")\n",
    "print(\"result: \", result)\n",
    "\n",
    "# TODO(rbharath): The economy has a hole here where more money is paid than deducted! Plug the hole.\n",
    "final_balance = node.get_wallet().get_balance()\n",
    "print(\"Node now has %d DataCoins after payment\" % final_balance)"
   ]
  }
 ],
 "metadata": {
  "kernelspec": {
   "display_name": "Python 3",
   "language": "python",
   "name": "python3"
  },
  "language_info": {
   "codemirror_mode": {
    "name": "ipython",
    "version": 3
   },
   "file_extension": ".py",
   "mimetype": "text/x-python",
   "name": "python",
   "nbconvert_exporter": "python",
   "pygments_lexer": "ipython3",
   "version": "3.6.2"
  }
 },
 "nbformat": 4,
 "nbformat_minor": 2
}
